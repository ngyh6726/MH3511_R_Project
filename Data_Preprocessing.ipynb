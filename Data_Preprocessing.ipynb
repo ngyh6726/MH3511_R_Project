{
 "cells": [
  {
   "cell_type": "markdown",
   "metadata": {},
   "source": [
    "# Text Data Preprocessing Steps\n",
    "\n",
    "1. **Feature Scaling**: Checked which column needs feature scaling (Company.Size) and scaled it\n",
    "   \n",
    "2. **Split Experience**: Split Experience into Min Experience and Max Experience\n",
    "   \n",
    "3. **Extracted Sector from JSON**: Extracted Sector as a useful feature from Company JSON Datatype\n",
    "   \n",
    "4. **One hot encoding**: One-hot encoded relevant columns (\"Qualifications\", \"Work.Type\", \"Preference\", \"Sector\") and mapped corresponding their corresponding numerical and categorical values below (under variable name **mapping_dict**) \n",
    "\n",
    "<br/><br/>\n",
    "\n",
    "Other Possible Preprocessing Steps: \n",
    "- Text Preprocessing\n",
    "- Extracting Month From Date"
   ]
  },
  {
   "cell_type": "code",
   "execution_count": 1,
   "metadata": {
    "vscode": {
     "languageId": "r"
    }
   },
   "outputs": [
    {
     "name": "stderr",
     "output_type": "stream",
     "text": [
      "Warning message:\n",
      "\"package 'tidyverse' was built under R version 4.3.3\"\n",
      "Warning message:\n",
      "\"package 'ggplot2' was built under R version 4.3.3\"\n",
      "Warning message:\n",
      "\"package 'tibble' was built under R version 4.3.3\"\n",
      "Warning message:\n",
      "\"package 'tidyr' was built under R version 4.3.3\"\n",
      "Warning message:\n",
      "\"package 'readr' was built under R version 4.3.3\"\n",
      "Warning message:\n",
      "\"package 'purrr' was built under R version 4.3.3\"\n",
      "Warning message:\n",
      "\"package 'dplyr' was built under R version 4.3.3\"\n",
      "Warning message:\n",
      "\"package 'stringr' was built under R version 4.3.3\"\n",
      "Warning message:\n",
      "\"package 'forcats' was built under R version 4.3.3\"\n",
      "Warning message:\n",
      "\"package 'lubridate' was built under R version 4.3.3\"\n",
      "── \u001b[1mAttaching core tidyverse packages\u001b[22m ──────────────────────── tidyverse 2.0.0 ──\n",
      "\u001b[32m✔\u001b[39m \u001b[34mdplyr    \u001b[39m 1.1.4     \u001b[32m✔\u001b[39m \u001b[34mreadr    \u001b[39m 2.1.5\n",
      "\u001b[32m✔\u001b[39m \u001b[34mforcats  \u001b[39m 1.0.0     \u001b[32m✔\u001b[39m \u001b[34mstringr  \u001b[39m 1.5.1\n",
      "\u001b[32m✔\u001b[39m \u001b[34mggplot2  \u001b[39m 3.5.0     \u001b[32m✔\u001b[39m \u001b[34mtibble   \u001b[39m 3.2.1\n",
      "\u001b[32m✔\u001b[39m \u001b[34mlubridate\u001b[39m 1.9.3     \u001b[32m✔\u001b[39m \u001b[34mtidyr    \u001b[39m 1.3.1\n",
      "\u001b[32m✔\u001b[39m \u001b[34mpurrr    \u001b[39m 1.0.2     \n",
      "── \u001b[1mConflicts\u001b[22m ────────────────────────────────────────── tidyverse_conflicts() ──\n",
      "\u001b[31m✖\u001b[39m \u001b[34mdplyr\u001b[39m::\u001b[32mfilter()\u001b[39m masks \u001b[34mstats\u001b[39m::filter()\n",
      "\u001b[31m✖\u001b[39m \u001b[34mdplyr\u001b[39m::\u001b[32mlag()\u001b[39m    masks \u001b[34mstats\u001b[39m::lag()\n",
      "\u001b[36mℹ\u001b[39m Use the conflicted package (\u001b[3m\u001b[34m<http://conflicted.r-lib.org/>\u001b[39m\u001b[23m) to force all conflicts to become errors\n",
      "Warning message:\n",
      "\"package 'caret' was built under R version 4.3.3\"\n",
      "Loading required package: lattice\n",
      "\n",
      "\n",
      "Attaching package: 'caret'\n",
      "\n",
      "\n",
      "The following object is masked from 'package:purrr':\n",
      "\n",
      "    lift\n",
      "\n",
      "\n",
      "Warning message:\n",
      "\"package 'jsonlite' was built under R version 4.3.3\"\n",
      "\n",
      "Attaching package: 'jsonlite'\n",
      "\n",
      "\n",
      "The following object is masked from 'package:purrr':\n",
      "\n",
      "    flatten\n",
      "\n",
      "\n"
     ]
    }
   ],
   "source": [
    "df <- read.csv(\"sampled_job_descriptions.csv\", sep=\",\", header=TRUE, fill=TRUE)\n",
    "library(tidyverse)\n",
    "library(lubridate)\n",
    "library(caret) # For scaling\n",
    "library(jsonlite)\n",
    "library(readr)\n",
    "library(dplyr)\n",
    "library(stringr)"
   ]
  },
  {
   "cell_type": "code",
   "execution_count": 2,
   "metadata": {
    "vscode": {
     "languageId": "r"
    }
   },
   "outputs": [
    {
     "name": "stderr",
     "output_type": "stream",
     "text": [
      "extract_numeric() is deprecated: please use readr::parse_number() instead\n",
      "\n",
      "extract_numeric() is deprecated: please use readr::parse_number() instead\n",
      "\n"
     ]
    },
    {
     "name": "stdout",
     "output_type": "stream",
     "text": [
      "  Salary.Range minRange maxRange\n",
      "1  $12K, $128K    12000   128000\n",
      "2   $40K, $90K    40000    90000\n",
      "3  $80K, $150K    80000   150000\n"
     ]
    }
   ],
   "source": [
    "# Example data\n",
    "data <- data.frame(Salary.Range = c(\"$12K-$128K\", \"$40K-$90K\", \"$80K-$150K\"))\n",
    "\n",
    "# Convert Salary.Range to character type if necessary\n",
    "data <- data %>%\n",
    "  mutate(Salary.Range = as.character(Salary.Range)) %>%\n",
    "  # Split the Salary.Range column by \"-\"\n",
    "  mutate(Salary.Range = strsplit(Salary.Range, \"-\")) %>%\n",
    "  # Extract numeric values for minRange and maxRange\n",
    "  mutate(minRange = extract_numeric(sapply(Salary.Range, `[`, 1)) * 1000,\n",
    "         maxRange = extract_numeric(sapply(Salary.Range, `[`, 2)) * 1000)\n",
    "\n",
    "\n",
    "# Print the modified data frame\n",
    "print(data)"
   ]
  },
  {
   "cell_type": "code",
   "execution_count": 3,
   "metadata": {
    "vscode": {
     "languageId": "r"
    }
   },
   "outputs": [
    {
     "name": "stdout",
     "output_type": "stream",
     "text": [
      "     Experience Qualifications Salary.Range          Country Work.Type\n",
      "1 4 to 11 Years          M.Com  $61K, $128K   Macedonia, FYR Temporary\n",
      "2 3 to 10 Years         M.Tech  $65K, $129K        Greenland    Intern\n",
      "3 0 to 15 Years         M.Tech  $56K, $114K         Kiribati Full-Time\n",
      "4 2 to 12 Years            PhD  $57K, $113K Papua New Guinea    Intern\n",
      "5  2 to 9 Years          B.Com  $57K, $110K          Georgia Temporary\n",
      "  Company.Size Job.Posting.Date Preference           Job.Title\n",
      "1        90997       2023-02-08     Female  Landscape Designer\n",
      "2       123218       2023-05-10     Female Structural Engineer\n",
      "3        62356       2023-04-11       Male  Physical Therapist\n",
      "4        61041       2023-07-13       Both           Architect\n",
      "5        84565       2023-08-10       Both      Office Manager\n",
      "                              Role   Job.Portal\n",
      "1 Sustainable Landscape Specialist ZipRecruiter\n",
      "2            Construction Engineer     FlexJobs\n",
      "3     Geriatric Physical Therapist  SimplyHired\n",
      "4    Sustainable Design Specialist Jobs2Careers\n",
      "5               Office Coordinator     Idealist\n",
      "                                                                                                                                                Benefits\n",
      "1                              {'Transportation Benefits, Professional Development, Bonuses and Incentive Programs, Profit-Sharing, Employee Discounts'}\n",
      "2                 {'Health Insurance, Retirement Plans, Flexible Work Arrangements, Employee Assistance Programs (EAP), Bonuses and Incentive Programs'}\n",
      "3   {'Casual Dress Code, Social and Recreational Activities, Employee Referral Programs, Health and Wellness Facilities, Life and Disability Insurance'}\n",
      "4 {'Life and Disability Insurance, Stock Options or Equity Grants, Employee Recognition Programs, Health Insurance, Social and Recreational Activities'}\n",
      "5                             {'Childcare Assistance, Paid Time Off (PTO), Relocation Assistance, Flexible Work Arrangements, Professional Development'}\n",
      "                                                                                                                          skills\n",
      "1 Sustainable landscape design Native plant selection Water conservation Soil health Green building practices LEED certification\n",
      "2                               Construction management Structural design AutoCAD proficiency Project management Site inspection\n",
      "3                                                                  Geriatric rehabilitation Fall prevention Elderly patient care\n",
      "4    Sustainable design principles Energy efficiency LEED certification Green building materials Environmental impact assessment\n",
      "5      Office administration Calendar management Reception duties Communication skills Record keeping Office supplies management\n",
      "                                                                                                                                                                                   Company.Profile\n",
      "1                                            {\"Sector\":\"Oil & Gas\",\"Industry\":\"Oil and Gas\",\"City\":\"London\",\"State\":\"N/A\",\"Zip\":\"N/A\",\"Website\":\"www.bp.com\",\"Ticker\":\"BP\",\"CEO\":\"Bernard Looney\"}\n",
      "2 {\"Sector\":\"Utilities\",\"Industry\":\"Utilities: Gas and Electric\",\"City\":\"King of Prussia\",\"State\":\"Pennsylvania\",\"Zip\":\"19406\",\"Website\":\"www.ugicorp.com\",\"Ticker\":\"UGI\",\"CEO\":\"Roger Perreault\"}\n",
      "3             {\"Sector\":\"Aerospace and Defense\",\"Industry\":\"Aerospace & Defense\",\"City\":\"Reston\",\"State\":\"Virginia\",\"Zip\":\"20190\",\"Website\":\"www.gd.com\",\"Ticker\":\"GD\",\"CEO\":\"Phebe N. Novakovic\"}\n",
      "4    {\"Sector\":\"Automotive\",\"Industry\":\"Automotive Retailing, Services\",\"City\":\"Medford\",\"State\":\"Oregon\",\"Zip\":\"97501\",\"Website\":\"www.lithiadriveway.com\",\"Ticker\":\"LAD\",\"CEO\":\"Bryan B. Deboer\"}\n",
      "5             {\"Sector\":\"Retail\",\"Industry\":\"Automotive Retailing, Services\",\"City\":\"Richmond\",\"State\":\"Virginia\",\"Zip\":\"23238\",\"Website\":\"www.carmax.com\",\"Ticker\":\"KMX\",\"CEO\":\"William D. Nash\"}\n",
      "  minRange maxRange\n",
      "1    61000   128000\n",
      "2    65000   129000\n",
      "3    56000   114000\n",
      "4    57000   113000\n",
      "5    57000   110000\n"
     ]
    }
   ],
   "source": [
    "# Function to extract numeric values\n",
    "extract_numeric <- function(x) {\n",
    "  # Extract numeric part and remove non-numeric characters\n",
    "  numeric_part <- gsub(\"\\\\D\", \"\", x)\n",
    "  # Convert to numeric (handling empty strings)\n",
    "  ifelse(numeric_part == \"\", NA, as.numeric(numeric_part))\n",
    "}\n",
    "\n",
    "# Split the \"Salary.Range\" column by \"-\"\n",
    "df_new <- df %>%\n",
    "  mutate(Salary.Range = strsplit(as.character(Salary.Range), \"-\")) %>%\n",
    "  # Extract minimum and maximum values\n",
    "  mutate(\n",
    "    minRange = extract_numeric(sapply(Salary.Range, `[`, 1)) * 1000,\n",
    "    maxRange = extract_numeric(sapply(Salary.Range, `[`, 2)) * 1000\n",
    "  )\n",
    "\n",
    "# Print the modified data frame\n",
    "print(head(df_new, 5))"
   ]
  },
  {
   "cell_type": "code",
   "execution_count": 4,
   "metadata": {
    "vscode": {
     "languageId": "r"
    }
   },
   "outputs": [
    {
     "name": "stdout",
     "output_type": "stream",
     "text": [
      "[1] \"There are no missing company profiles.\"\n"
     ]
    }
   ],
   "source": [
    "missing_profiles <- sum(is.na(df_new$Company_Profile))\n",
    "\n",
    "# Print the result\n",
    "if (missing_profiles > 0) {\n",
    "  print(paste(\"There are\", missing_profiles, \"missing company profiles.\"))\n",
    "} else {\n",
    "  print(\"There are no missing company profiles.\")\n",
    "}"
   ]
  },
  {
   "cell_type": "code",
   "execution_count": 5,
   "metadata": {
    "vscode": {
     "languageId": "r"
    }
   },
   "outputs": [
    {
     "data": {
      "text/html": [
       "'Company.Size'"
      ],
      "text/latex": [
       "'Company.Size'"
      ],
      "text/markdown": [
       "'Company.Size'"
      ],
      "text/plain": [
       "[1] \"Company.Size\""
      ]
     },
     "metadata": {},
     "output_type": "display_data"
    }
   ],
   "source": [
    "# Check if each column in the data frame is numeric\n",
    "numerical_columns <- sapply(df, is.numeric)\n",
    "\n",
    "# Extract the names of the numerical columns\n",
    "numerical_column_names <- names(numerical_columns[numerical_columns])\n",
    "\n",
    "# Filter the data frame to only include the numerical columns\n",
    "numerical_data <- df[numerical_column_names]\n",
    "\n",
    "# Check the range of values for each numerical feature\n",
    "feature_ranges <- sapply(numerical_data, function(x) c(min = min(x, na.rm = TRUE), max = max(x, na.rm = TRUE)))\n",
    "\n",
    "# Check if the range of values for any feature is significantly different\n",
    "threshold <- 15\n",
    "\n",
    "# Check if the range of values for any feature is greater than the threshold\n",
    "features_to_scale <- names(which(apply(feature_ranges, 2, function(x) diff(x) > threshold)))\n",
    "\n",
    "features_to_scale\n"
   ]
  },
  {
   "cell_type": "code",
   "execution_count": 6,
   "metadata": {
    "vscode": {
     "languageId": "r"
    }
   },
   "outputs": [],
   "source": [
    "preproc <- preProcess(df_new[, \"Company.Size\", drop = FALSE], method = c(\"center\", \"scale\"))\n",
    "df_new$Company_Size_Scaled <- predict(preproc, df_new[, \"Company.Size\", drop = FALSE])$`Company.Size`\n",
    "\n",
    "# df_new"
   ]
  },
  {
   "cell_type": "code",
   "execution_count": 7,
   "metadata": {
    "vscode": {
     "languageId": "r"
    }
   },
   "outputs": [
    {
     "name": "stdout",
     "output_type": "stream",
     "text": [
      "Categorical columns in df_new: \n",
      " [1] \"Experience\"       \"Qualifications\"   \"Country\"          \"Work.Type\"       \n",
      " [5] \"Job.Posting.Date\" \"Preference\"       \"Job.Title\"        \"Role\"            \n",
      " [9] \"Job.Portal\"       \"Benefits\"         \"skills\"           \"Company.Profile\" \n",
      "Experience : \n",
      "4 to 11 Years 3 to 10 Years 0 to 15 Years 2 to 12 Years 2 to 9 Years 4 to 9 Years \n",
      "\n",
      "Qualifications : \n",
      "M.Com M.Tech M.Tech PhD B.Com PhD \n",
      "\n",
      "Country : \n",
      "Macedonia, FYR Greenland Kiribati Papua New Guinea Georgia New Zealand \n",
      "\n",
      "Work.Type : \n",
      "Temporary Intern Full-Time Intern Temporary Intern \n",
      "\n",
      "Job.Posting.Date : \n",
      "2023-02-08 2023-05-10 2023-04-11 2023-07-13 2023-08-10 2023-01-19 \n",
      "\n",
      "Preference : \n",
      "Female Female Male Both Both Female \n",
      "\n",
      "Job.Title : \n",
      "Landscape Designer Structural Engineer Physical Therapist Architect Office Manager Environmental Engineer \n",
      "\n",
      "Role : \n",
      "Sustainable Landscape Specialist Construction Engineer Geriatric Physical Therapist Sustainable Design Specialist Office Coordinator Sustainability Specialist \n",
      "\n",
      "Job.Portal : \n",
      "ZipRecruiter FlexJobs SimplyHired Jobs2Careers Idealist Indeed \n",
      "\n",
      "Benefits : \n",
      "{'Transportation Benefits, Professional Development, Bonuses and Incentive Programs, Profit-Sharing, Employee Discounts'} {'Health Insurance, Retirement Plans, Flexible Work Arrangements, Employee Assistance Programs (EAP), Bonuses and Incentive Programs'} {'Casual Dress Code, Social and Recreational Activities, Employee Referral Programs, Health and Wellness Facilities, Life and Disability Insurance'} {'Life and Disability Insurance, Stock Options or Equity Grants, Employee Recognition Programs, Health Insurance, Social and Recreational Activities'} {'Childcare Assistance, Paid Time Off (PTO), Relocation Assistance, Flexible Work Arrangements, Professional Development'} {'Employee Referral Programs, Financial Counseling, Health and Wellness Facilities, Casual Dress Code, Flexible Spending Accounts (FSAs)'} \n",
      "\n",
      "skills : \n",
      "Sustainable landscape design Native plant selection Water conservation Soil health Green building practices LEED certification Construction management Structural design AutoCAD proficiency Project management Site inspection Geriatric rehabilitation Fall prevention Elderly patient care Sustainable design principles Energy efficiency LEED certification Green building materials Environmental impact assessment Office administration Calendar management Reception duties Communication skills Record keeping Office supplies management Sustainability practices Environmental management systems Green certifications \n",
      "\n",
      "Company.Profile : \n",
      "{\"Sector\":\"Oil & Gas\",\"Industry\":\"Oil and Gas\",\"City\":\"London\",\"State\":\"N/A\",\"Zip\":\"N/A\",\"Website\":\"www.bp.com\",\"Ticker\":\"BP\",\"CEO\":\"Bernard Looney\"} {\"Sector\":\"Utilities\",\"Industry\":\"Utilities: Gas and Electric\",\"City\":\"King of Prussia\",\"State\":\"Pennsylvania\",\"Zip\":\"19406\",\"Website\":\"www.ugicorp.com\",\"Ticker\":\"UGI\",\"CEO\":\"Roger Perreault\"} {\"Sector\":\"Aerospace and Defense\",\"Industry\":\"Aerospace & Defense\",\"City\":\"Reston\",\"State\":\"Virginia\",\"Zip\":\"20190\",\"Website\":\"www.gd.com\",\"Ticker\":\"GD\",\"CEO\":\"Phebe N. Novakovic\"} {\"Sector\":\"Automotive\",\"Industry\":\"Automotive Retailing, Services\",\"City\":\"Medford\",\"State\":\"Oregon\",\"Zip\":\"97501\",\"Website\":\"www.lithiadriveway.com\",\"Ticker\":\"LAD\",\"CEO\":\"Bryan B. Deboer\"} {\"Sector\":\"Retail\",\"Industry\":\"Automotive Retailing, Services\",\"City\":\"Richmond\",\"State\":\"Virginia\",\"Zip\":\"23238\",\"Website\":\"www.carmax.com\",\"Ticker\":\"KMX\",\"CEO\":\"William D. Nash\"} {\"Sector\":\"Healthcare\",\"Industry\":\"Healthcare\",\"City\":\"Sydney\",\"State\":\"NSW\",\"Zip\":\"2000\",\"Website\":\"https://www.sonichealthcare.com/\",\"Ticker\":\"SHL\",\"CEO\":\"Dr. Colin Goldschmidt\"} \n",
      "\n"
     ]
    }
   ],
   "source": [
    "# Create an empty vector to store the names of categorical columns\n",
    "categorical_columns <- c()\n",
    "\n",
    "# Iterate over each column in the data frame\n",
    "for (col in names(df_new)) {\n",
    "  # Check if the column is categorical\n",
    "  if (is.factor(df_new[[col]]) || is.character(df_new[[col]])) {\n",
    "    categorical_columns <- c(categorical_columns, col)\n",
    "  }\n",
    "}\n",
    "\n",
    "cat(\"Categorical columns in df_new:\", \"\\n\")\n",
    "  print(categorical_columns)\n",
    "\n",
    "\n",
    "categorical_head <- list()\n",
    "\n",
    "# Iterate over each categorical column in the data frame\n",
    "for (col in categorical_columns) {\n",
    "  # Convert the column to character if it's a factor\n",
    "  if (is.factor(df_new[[col]])) {\n",
    "    df_new[[col]] <- as.character(df_new[[col]])\n",
    "  }\n",
    "  \n",
    "  # Print the name of the column\n",
    "  cat( col, \":\", \"\\n\")\n",
    "  \n",
    "  # Print the head of the column\n",
    "  cat(head(df_new[[col]]), \"\\n\\n\")\n",
    "}"
   ]
  },
  {
   "cell_type": "code",
   "execution_count": 8,
   "metadata": {
    "vscode": {
     "languageId": "r"
    }
   },
   "outputs": [],
   "source": [
    "# Splitting the string\n",
    "extracted_values <- str_match(df_new$Experience, \"(\\\\d+) to (\\\\d+) Years\")\n",
    "\n",
    "# Extracting min and max experience\n",
    "min_experience <- as.numeric(extracted_values[, 2])\n",
    "max_experience <- as.numeric(extracted_values[, 3])\n",
    "\n",
    "# Creating new columns for minimum and maximum experience\n",
    "df_new$Min_Experience <- min_experience\n",
    "df_new$Max_Experience <- max_experience\n",
    "\n",
    "# Converting Job.Posting.Date to date format\n",
    "df_new$Job.Posting.Date <- as.Date(df_new$Job.Posting.Date)\n",
    "\n"
   ]
  },
  {
   "cell_type": "code",
   "execution_count": 9,
   "metadata": {
    "vscode": {
     "languageId": "r"
    }
   },
   "outputs": [
    {
     "name": "stdout",
     "output_type": "stream",
     "text": [
      "[1] \"Oil & Gas\"\n"
     ]
    }
   ],
   "source": [
    "json_string <- '{\"Sector\":\"Oil & Gas\",\"Industry\":\"Oil and Gas\",\"City\":\"London\",\"State\":\"N/A\",\"Zip\":\"N/A\",\"Website\":\"www.bp.com\",\"Ticker\":\"BP\",\"CEO\":\"Bernard Looney\"}'\n",
    "\n",
    "# Parse the JSON string and extract the \"Sector\"\n",
    "parsed <- fromJSON(json_string, simplifyVector = FALSE)\n",
    "sector <- parsed$Sector\n",
    "\n",
    "# Print the extracted \"Sector\"\n",
    "print(sector)"
   ]
  },
  {
   "cell_type": "code",
   "execution_count": 10,
   "metadata": {
    "vscode": {
     "languageId": "r"
    }
   },
   "outputs": [
    {
     "data": {
      "text/html": [
       "<style>\n",
       ".list-inline {list-style: none; margin:0; padding: 0}\n",
       ".list-inline>li {display: inline-block}\n",
       ".list-inline>li:not(:last-child)::after {content: \"\\00b7\"; padding: 0 .5ex}\n",
       "</style>\n",
       "<ol class=list-inline><li>'Oil &amp; Gas'</li><li>'Utilities'</li><li>'Aerospace and Defense'</li><li>'Automotive'</li><li>'Retail'</li><li>'Healthcare'</li></ol>\n"
      ],
      "text/latex": [
       "\\begin{enumerate*}\n",
       "\\item 'Oil \\& Gas'\n",
       "\\item 'Utilities'\n",
       "\\item 'Aerospace and Defense'\n",
       "\\item 'Automotive'\n",
       "\\item 'Retail'\n",
       "\\item 'Healthcare'\n",
       "\\end{enumerate*}\n"
      ],
      "text/markdown": [
       "1. 'Oil &amp; Gas'\n",
       "2. 'Utilities'\n",
       "3. 'Aerospace and Defense'\n",
       "4. 'Automotive'\n",
       "5. 'Retail'\n",
       "6. 'Healthcare'\n",
       "\n",
       "\n"
      ],
      "text/plain": [
       "[1] \"Oil & Gas\"             \"Utilities\"             \"Aerospace and Defense\"\n",
       "[4] \"Automotive\"            \"Retail\"                \"Healthcare\"           "
      ]
     },
     "metadata": {},
     "output_type": "display_data"
    }
   ],
   "source": [
    "n <- nrow(df_new)\n",
    "sector_values <- vector(\"character\", n) # Pre-allocate a vector to store the extracted sectors\n",
    "\n",
    "for (i in 1:n) {\n",
    "  json_string <- df_new$Company.Profile[i]\n",
    "  \n",
    "  # Try to parse JSON and extract the 'Sector'\n",
    "  tryCatch({\n",
    "    parsed <- fromJSON(json_string, simplifyVector = FALSE)\n",
    "    if (!is.null(parsed$Sector)) {\n",
    "      sector_values[i] <- parsed$Sector\n",
    "    } else {\n",
    "      sector_values[i] <- NA # Assign NA if 'Sector' is not present\n",
    "    }\n",
    "  }, error = function(e) {\n",
    "    sector_values[i] <- NA # Assign NA in case of parsing errors\n",
    "  })\n",
    "}\n",
    "\n",
    "df_new$Sector <- sector_values # Assign the vector of sectors back to the data frame\n",
    "\n",
    "# Check the result\n",
    "head(df_new$Sector)"
   ]
  },
  {
   "cell_type": "code",
   "execution_count": 11,
   "metadata": {
    "vscode": {
     "languageId": "r"
    }
   },
   "outputs": [],
   "source": [
    "unique_encoded_qualifications <- unique(df_new$Qualifications)\n",
    "unique_encoded_work_type <- unique(df_new$Work.Type)\n",
    "unique_encoded_preference <- unique(df_new$Preference)\n",
    "unique_encoded_sector <- unique(df_new$Sector)\n",
    "\n",
    "# unique_encoded_qualifications\n",
    "# unique_encoded_work_type\n",
    "# unique_encoded_preference\n",
    "# unique_encoded_sector"
   ]
  },
  {
   "cell_type": "code",
   "execution_count": 12,
   "metadata": {
    "vscode": {
     "languageId": "r"
    }
   },
   "outputs": [],
   "source": [
    "columns_to_encode <- c(\"Qualifications\", \"Work.Type\", \"Preference\", \"Sector\")\n",
    "\n",
    "for (col in columns_to_encode) {\n",
    "  df_new[[col]] <- as.integer(factor(df_new[[col]]))\n",
    "}\n"
   ]
  },
  {
   "cell_type": "code",
   "execution_count": 13,
   "metadata": {
    "vscode": {
     "languageId": "r"
    }
   },
   "outputs": [],
   "source": [
    "numerical_unique_encoded_qualifications <- unique(df_new$Qualifications)\n",
    "numerical_unique_encoded_work_type <- unique(df_new$Work.Type)\n",
    "numerical_unique_encoded_preference <- unique(df_new$Preference)\n",
    "numerical_unique_encoded_sector <- unique(df_new$Sector)\n",
    "\n",
    "# numerical_unique_encoded_qualifications\n",
    "# numerical_unique_encoded_work_type\n",
    "# numerical_unique_encoded_preference\n",
    "# numerical_unique_encoded_sector"
   ]
  },
  {
   "cell_type": "code",
   "execution_count": 14,
   "metadata": {
    "vscode": {
     "languageId": "r"
    }
   },
   "outputs": [
    {
     "name": "stdout",
     "output_type": "stream",
     "text": [
      "$Qualifications\n",
      "   Categorical Numerical\n",
      "1        M.Com         6\n",
      "2       M.Tech         7\n",
      "3          PhD        10\n",
      "4        B.Com         1\n",
      "5          MBA         8\n",
      "6          BBA         4\n",
      "7          BCA         5\n",
      "8          MCA         9\n",
      "9       B.Tech         2\n",
      "10          BA         3\n",
      "\n",
      "$Work.Type\n",
      "  Categorical Numerical\n",
      "1   Temporary         5\n",
      "2      Intern         3\n",
      "3   Full-Time         2\n",
      "4    Contract         1\n",
      "5   Part-Time         4\n",
      "\n",
      "$Preference\n",
      "  Categorical Numerical\n",
      "1      Female         2\n",
      "2        Male         3\n",
      "3        Both         1\n",
      "\n",
      "$Sector\n",
      "                                 Categorical Numerical\n",
      "1                                  Oil & Gas       137\n",
      "2                                  Utilities       202\n",
      "3                      Aerospace and Defense         5\n",
      "4                                 Automotive        17\n",
      "5                                     Retail       157\n",
      "6                                 Healthcare        93\n",
      "7                                   Airlines        10\n",
      "8                         Telecommunications       184\n",
      "9                                Agriculture         8\n",
      "10                                    Energy        56\n",
      "11                               Real Estate       148\n",
      "12                            Consumer Goods        44\n",
      "13                             Manufacturing       118\n",
      "14                                 Chemicals        33\n",
      "15                       Fashion and Apparel        69\n",
      "16                          Waste Management       203\n",
      "17                        Financial Services        71\n",
      "18                      Electrical Equipment        51\n",
      "19                      Healthcare/Hospitals        96\n",
      "20                   Retail/Home Improvement       159\n",
      "21                         Tools & Equipment       189\n",
      "22              Technology and Entertainment       172\n",
      "23                                Technology       169\n",
      "24                                   Banking        21\n",
      "25                        Travel and Leisure       200\n",
      "26                           Pharmaceuticals       144\n",
      "27                               Oil and Gas       138\n",
      "28                            Infrastructure       110\n",
      "29                                 Insurance       111\n",
      "30                           Telecom & Cable       183\n",
      "31                   Transportation/Airlines       192\n",
      "32                             Biotechnology        28\n",
      "33                      Food & Confectionery        84\n",
      "34                           HVAC/Industrial       102\n",
      "35                       Healthcare Services        94\n",
      "36                              Conglomerate        37\n",
      "37                         Mining and Metals       130\n",
      "38            Building Materials & Equipment        30\n",
      "39                       Aerospace & Defense         4\n",
      "40                    Information Technology       109\n",
      "41                         Home Construction        98\n",
      "42                    Automotive/Motorcycles        19\n",
      "43                  Telecommunications/Radio       185\n",
      "44            Financial Services/Remittances        74\n",
      "45                               Electronics        54\n",
      "46                                 Packaging       141\n",
      "47                         Food and Beverage        86\n",
      "48                                    Mining       128\n",
      "49                       Travel/Cruise Lines       201\n",
      "50                        Building Materials        29\n",
      "51                          Food & Beverages        83\n",
      "52                       Entertainment/Media        65\n",
      "53                           Food & Beverage        82\n",
      "54                      Entertainment/Gaming        64\n",
      "55                  Food and Beverage/Spices        88\n",
      "56            Manufacturing/Building Systems       119\n",
      "57                            Transportation       190\n",
      "58                    Technology/IT Services       180\n",
      "59                   Communication Equipment        35\n",
      "60                             Entertainment        63\n",
      "61                                  Gambling        90\n",
      "62                 Testing and Certification       186\n",
      "63                Construction & Engineering        39\n",
      "64                   Software and Technology       165\n",
      "65                      Engineering Services        62\n",
      "66                               Hospitality        99\n",
      "67                       Gambling and Gaming        91\n",
      "68                                     Media       121\n",
      "69           Mining and Metals/Manufacturing       134\n",
      "70                   Lighting and Technology       115\n",
      "71                      Apparel and Footwear        13\n",
      "72                   Transportation/Railways       196\n",
      "73                       Cement & Aggregates        32\n",
      "74                            Timber & Paper       187\n",
      "75                            Steel & Metals       168\n",
      "76                Transportation/Ridesharing       197\n",
      "77                             Food Services        89\n",
      "78                      Flavors & Fragrances        79\n",
      "79                      Oil and Gas Services       139\n",
      "80                     Publishing and Events       147\n",
      "81                               Diversified        47\n",
      "82           Construction/Building Materials        41\n",
      "83                               Industrials       108\n",
      "84                  Transportation/Logistics       195\n",
      "85                           Postal Services       145\n",
      "86                         Metals and Mining       127\n",
      "87                                    Metals       126\n",
      "88                    Consumer Discretionary        43\n",
      "89                               Fertilizers        70\n",
      "90                               Rental Cars       155\n",
      "91                              Construction        38\n",
      "92               Construction/Infrastructure        42\n",
      "93                     Professional Services       146\n",
      "94  Financial Services/Investment Management        73\n",
      "95                                  Flooring        80\n",
      "96                                                   1\n",
      "97                                E-commerce        48\n",
      "98                                 Logistics       116\n",
      "99                          Beverage/Alcohol        26\n",
      "100                         Automotive Parts        18\n",
      "101                              Engineering        59\n",
      "102        Technology and Telecommunications       178\n",
      "103                               Financials        77\n",
      "104                    Real Estate/Logistics       150\n",
      "105                   Communication Services        36\n",
      "106                      Aviation and Travel        20\n",
      "107                  Retail and Conglomerate       158\n",
      "108                    Technology and Search       175\n",
      "109               Technology/Music Streaming       181\n",
      "110                        Paints & Coatings       142\n",
      "111                                 Aluminum        11\n",
      "112            Hospitality and Entertainment       100\n",
      "113                      Technology/Software       182\n",
      "114                       Wholesale & Retail       205\n",
      "115                                 Beverage        25\n",
      "116                 Real Estate/Construction       149\n",
      "117                       Travel and Booking       199\n",
      "118                    Media & Entertainment       122\n",
      "119                    Flavor and Fragrances        78\n",
      "120                                  Tobacco       188\n",
      "121                  Technology and Security       176\n",
      "122                                   Beauty        23\n",
      "123                            IT Consulting       112\n",
      "124                      Industrial Supplies       107\n",
      "125                     Electrical Wholesale        52\n",
      "126                   Mining and Metals/Coal       132\n",
      "127                    Electrical/Industrial        53\n",
      "128                        Business Services        31\n",
      "129                Advertising and Marketing         3\n",
      "130                        Equipment Rentals        68\n",
      "131               Technology and Electronics       170\n",
      "132                            Agrochemicals         9\n",
      "133                           Semiconductors       161\n",
      "134                                     Food        81\n",
      "135                     Chemicals and Energy        34\n",
      "136                               Appliances        14\n",
      "137                    Technology and Safety       174\n",
      "138                         Asset Management        16\n",
      "139                              IT Services       113\n",
      "140                   Elevators & Escalators        55\n",
      "141                              Restaurants       156\n",
      "142                                  Apparel        12\n",
      "143            Entertainment/Media Streaming        66\n",
      "144                          Medical Devices       124\n",
      "145          Food and Beverage/Confectionery        87\n",
      "146                    Healthcare/Technology        97\n",
      "147                 Industrial Conglomerates       104\n",
      "148                              Natural Gas       136\n",
      "149                  Advertising & Marketing         2\n",
      "150             Construction and Engineering        40\n",
      "151                          Water & Hygiene       204\n",
      "152                               Industrial       103\n",
      "153                       Data and Analytics        46\n",
      "154                         Beauty/Cosmetics        24\n",
      "155                        Mining and Energy       129\n",
      "156                                 Software       164\n",
      "157                  Consumer Goods/Homecare        45\n",
      "158                   Mining and Metals/Gold       133\n",
      "159                       Hospitality/Hotels       101\n",
      "160                                 Staffing       167\n",
      "161                     Industrial Machinery       106\n",
      "162                  Media and Entertainment       123\n",
      "163                  Technology and Software       177\n",
      "164                                Beverages        27\n",
      "165             Engineering and Construction        61\n",
      "166               Aerospace/Building Systems         6\n",
      "167            E-commerce/Online Marketplace        49\n",
      "168                       Energy/Oil and Gas        58\n",
      "169            Financial Technology/Payments        76\n",
      "170    Financial Services/Investment Banking        72\n",
      "171            Transportation/Infrastructure       194\n",
      "172                   Shipping and Logistics       163\n",
      "173                     Food and Agriculture        85\n",
      "174                  Transportation and Rail       191\n",
      "175                            Lab Equipment       114\n",
      "176                     Financial Technology        75\n",
      "177                        Online Job Search       140\n",
      "178                      Technology/Internet       179\n",
      "179                                Materials       120\n",
      "180                        Aerospace/Defense         7\n",
      "181                         Renewable Energy       153\n",
      "182                         Industrial Gases       105\n",
      "183               Mining and Metals/Aluminum       131\n",
      "184                      Specialty Chemicals       166\n",
      "185                              Health Care        92\n",
      "186                    Recreational Vehicles       152\n",
      "187                                 Services       162\n",
      "188                         Equipment Rental        67\n",
      "189         Real Estate/Property Development       151\n",
      "190               Appliances and Electronics        15\n",
      "191               Engineering & Construction        60\n",
      "192                       Medical Technology       125\n",
      "193                    Payroll & HR Services       143\n",
      "194                  Transportation/Airports       193\n",
      "195                               Lubricants       117\n",
      "196                    Healthcare Technology        95\n",
      "197                Rental & Leasing Services       154\n",
      "198                            Semiconductor       160\n",
      "199                         Motion & Control       135\n",
      "200                Technology and Networking       173\n",
      "201                 Education and Technology        50\n",
      "202                    Energy/Infrastructure        57\n",
      "203               Technology and Engineering       171\n",
      "204               Banking/Financial Services        22\n",
      "205                     Travel & Hospitality       198\n",
      "\n"
     ]
    }
   ],
   "source": [
    "mapping_dict <- list(\n",
    "  Qualifications = data.frame(Categorical = unique_encoded_qualifications,\n",
    "                              Numerical = numerical_unique_encoded_qualifications),\n",
    "  Work.Type = data.frame(Categorical = unique_encoded_work_type,\n",
    "                         Numerical = numerical_unique_encoded_work_type),\n",
    "  Preference = data.frame(Categorical = unique_encoded_preference,\n",
    "                          Numerical = numerical_unique_encoded_preference),\n",
    "  Sector = data.frame(Categorical = unique_encoded_sector,\n",
    "                      Numerical = numerical_unique_encoded_sector)\n",
    ")\n",
    "\n",
    "# Display the dictionary\n",
    "print(mapping_dict)"
   ]
  },
  {
   "cell_type": "code",
   "execution_count": 15,
   "metadata": {
    "vscode": {
     "languageId": "r"
    }
   },
   "outputs": [
    {
     "data": {
      "text/html": [
       "<table class=\"dataframe\">\n",
       "<caption>A data.frame: 10 × 20</caption>\n",
       "<thead>\n",
       "\t<tr><th></th><th scope=col>Experience</th><th scope=col>Qualifications</th><th scope=col>Salary.Range</th><th scope=col>Country</th><th scope=col>Work.Type</th><th scope=col>Company.Size</th><th scope=col>Job.Posting.Date</th><th scope=col>Preference</th><th scope=col>Job.Title</th><th scope=col>Role</th><th scope=col>Job.Portal</th><th scope=col>Benefits</th><th scope=col>skills</th><th scope=col>Company.Profile</th><th scope=col>minRange</th><th scope=col>maxRange</th><th scope=col>Company_Size_Scaled</th><th scope=col>Min_Experience</th><th scope=col>Max_Experience</th><th scope=col>Sector</th></tr>\n",
       "\t<tr><th></th><th scope=col>&lt;chr&gt;</th><th scope=col>&lt;int&gt;</th><th scope=col>&lt;list&gt;</th><th scope=col>&lt;chr&gt;</th><th scope=col>&lt;int&gt;</th><th scope=col>&lt;int&gt;</th><th scope=col>&lt;date&gt;</th><th scope=col>&lt;int&gt;</th><th scope=col>&lt;chr&gt;</th><th scope=col>&lt;chr&gt;</th><th scope=col>&lt;chr&gt;</th><th scope=col>&lt;chr&gt;</th><th scope=col>&lt;chr&gt;</th><th scope=col>&lt;chr&gt;</th><th scope=col>&lt;dbl&gt;</th><th scope=col>&lt;dbl&gt;</th><th scope=col>&lt;dbl&gt;</th><th scope=col>&lt;dbl&gt;</th><th scope=col>&lt;dbl&gt;</th><th scope=col>&lt;int&gt;</th></tr>\n",
       "</thead>\n",
       "<tbody>\n",
       "\t<tr><th scope=row>1</th><td>4 to 11 Years</td><td> 6</td><td>$61K , $128K</td><td><span style=white-space:pre-wrap>Macedonia, FYR  </span></td><td>5</td><td> 90997</td><td>2023-02-08</td><td>2</td><td><span style=white-space:pre-wrap>Landscape Designer    </span></td><td>Sustainable Landscape Specialist</td><td><span style=white-space:pre-wrap>ZipRecruiter       </span></td><td><span style=white-space:pre-wrap>{'Transportation Benefits, Professional Development, Bonuses and Incentive Programs, Profit-Sharing, Employee Discounts'}                             </span></td><td><span style=white-space:pre-wrap>Sustainable landscape design Native plant selection Water conservation Soil health Green building practices LEED certification                                                                </span></td><td><span style=white-space:pre-wrap>{\"Sector\":\"Oil &amp; Gas\",\"Industry\":\"Oil and Gas\",\"City\":\"London\",\"State\":\"N/A\",\"Zip\":\"N/A\",\"Website\":\"www.bp.com\",\"Ticker\":\"BP\",\"CEO\":\"Bernard Looney\"}                                                    </span></td><td>61000</td><td>128000</td><td> 0.4895857</td><td>4</td><td>11</td><td>137</td></tr>\n",
       "\t<tr><th scope=row>2</th><td>3 to 10 Years</td><td> 7</td><td>$65K , $129K</td><td>Greenland       </td><td>3</td><td>123218</td><td>2023-05-10</td><td>2</td><td>Structural Engineer   </td><td>Construction Engineer           </td><td>FlexJobs           </td><td>{'Health Insurance, Retirement Plans, Flexible Work Arrangements, Employee Assistance Programs (EAP), Bonuses and Incentive Programs'}                </td><td>Construction management Structural design AutoCAD proficiency Project management Site inspection                                                                                              </td><td>{\"Sector\":\"Utilities\",\"Industry\":\"Utilities: Gas and Electric\",\"City\":\"King of Prussia\",\"State\":\"Pennsylvania\",\"Zip\":\"19406\",\"Website\":\"www.ugicorp.com\",\"Ticker\":\"UGI\",\"CEO\":\"Roger Perreault\"}         </td><td>65000</td><td>129000</td><td> 1.4016207</td><td>3</td><td>10</td><td>202</td></tr>\n",
       "\t<tr><th scope=row>3</th><td>0 to 15 Years</td><td> 7</td><td>$56K , $114K</td><td><span style=white-space:pre-wrap>Kiribati        </span></td><td>2</td><td> 62356</td><td>2023-04-11</td><td>3</td><td><span style=white-space:pre-wrap>Physical Therapist    </span></td><td><span style=white-space:pre-wrap>Geriatric Physical Therapist    </span></td><td><span style=white-space:pre-wrap>SimplyHired        </span></td><td><span style=white-space:pre-wrap>{'Casual Dress Code, Social and Recreational Activities, Employee Referral Programs, Health and Wellness Facilities, Life and Disability Insurance'}  </span></td><td><span style=white-space:pre-wrap>Geriatric rehabilitation Fall prevention Elderly patient care                                                                                                                                 </span></td><td><span style=white-space:pre-wrap>{\"Sector\":\"Aerospace and Defense\",\"Industry\":\"Aerospace &amp; Defense\",\"City\":\"Reston\",\"State\":\"Virginia\",\"Zip\":\"20190\",\"Website\":\"www.gd.com\",\"Ticker\":\"GD\",\"CEO\":\"Phebe N. Novakovic\"}                     </span></td><td>56000</td><td>114000</td><td>-0.3211153</td><td>0</td><td>15</td><td><span style=white-space:pre-wrap>  5</span></td></tr>\n",
       "\t<tr><th scope=row>4</th><td>2 to 12 Years</td><td>10</td><td>$57K , $113K</td><td>Papua New Guinea</td><td>3</td><td> 61041</td><td>2023-07-13</td><td>1</td><td>Architect             </td><td>Sustainable Design Specialist   </td><td>Jobs2Careers       </td><td>{'Life and Disability Insurance, Stock Options or Equity Grants, Employee Recognition Programs, Health Insurance, Social and Recreational Activities'}</td><td>Sustainable design principles Energy efficiency LEED certification Green building materials Environmental impact assessment                                                                   </td><td>{\"Sector\":\"Automotive\",\"Industry\":\"Automotive Retailing, Services\",\"City\":\"Medford\",\"State\":\"Oregon\",\"Zip\":\"97501\",\"Website\":\"www.lithiadriveway.com\",\"Ticker\":\"LAD\",\"CEO\":\"Bryan B. Deboer\"}            </td><td>57000</td><td>113000</td><td>-0.3583372</td><td>2</td><td>12</td><td> 17</td></tr>\n",
       "\t<tr><th scope=row>5</th><td>2 to 9 Years </td><td> 1</td><td>$57K , $110K</td><td>Georgia         </td><td>5</td><td> 84565</td><td>2023-08-10</td><td>1</td><td>Office Manager        </td><td>Office Coordinator              </td><td>Idealist           </td><td>{'Childcare Assistance, Paid Time Off (PTO), Relocation Assistance, Flexible Work Arrangements, Professional Development'}                            </td><td>Office administration Calendar management Reception duties Communication skills Record keeping Office supplies management                                                                     </td><td>{\"Sector\":\"Retail\",\"Industry\":\"Automotive Retailing, Services\",\"City\":\"Richmond\",\"State\":\"Virginia\",\"Zip\":\"23238\",\"Website\":\"www.carmax.com\",\"Ticker\":\"KMX\",\"CEO\":\"William D. Nash\"}                     </td><td>57000</td><td>110000</td><td> 0.3075240</td><td>2</td><td> 9</td><td>157</td></tr>\n",
       "\t<tr><th scope=row>6</th><td>4 to 9 Years </td><td>10</td><td>$57K, $81K</td><td>New Zealand     </td><td>3</td><td> 99068</td><td>2023-01-19</td><td>2</td><td>Environmental Engineer</td><td>Sustainability Specialist       </td><td>Indeed             </td><td>{'Employee Referral Programs, Financial Counseling, Health and Wellness Facilities, Casual Dress Code, Flexible Spending Accounts (FSAs)'}            </td><td>Sustainability practices Environmental management systems Green certifications                                                                                                                </td><td>{\"Sector\":\"Healthcare\",\"Industry\":\"Healthcare\",\"City\":\"Sydney\",\"State\":\"NSW\",\"Zip\":\"2000\",\"Website\":\"https://www.sonichealthcare.com/\",\"Ticker\":\"SHL\",\"CEO\":\"Dr. Colin Goldschmidt\"}                     </td><td>57000</td><td> 81000</td><td> 0.7180402</td><td>4</td><td> 9</td><td> 93</td></tr>\n",
       "\t<tr><th scope=row>7</th><td>3 to 10 Years</td><td> 8</td><td>$62K , $128K</td><td>USA             </td><td>1</td><td> 26842</td><td>2023-06-09</td><td>3</td><td>Research Scientist    </td><td>Senior Researcher               </td><td>Internships.com    </td><td>{'Life and Disability Insurance, Stock Options or Equity Grants, Employee Recognition Programs, Health Insurance, Social and Recreational Activities'}</td><td>Research methodologies and data analysis Literature review and synthesis Statistical analysis software (e.g., SPSS, R) Research proposal development Strong communication and reporting skills</td><td>{\"Sector\":\"Airlines\",\"Industry\":\"Airlines\",\"City\":\"Dallas\",\"State\":\"Texas\",\"Zip\":\"75235\",\"Website\":\"www.southwest.com\",\"Ticker\":\"LUV\",\"CEO\":\"Robert E. Jordan\"}                                          </td><td>62000</td><td>128000</td><td>-1.3263608</td><td>3</td><td>10</td><td> 10</td></tr>\n",
       "\t<tr><th scope=row>8</th><td>2 to 11 Years</td><td> 4</td><td>$57K , $119K</td><td>Brazil          </td><td>3</td><td> 21673</td><td>2023-05-10</td><td>2</td><td>Architect             </td><td>Project Architect               </td><td>Monster            </td><td>{'Health Insurance, Retirement Plans, Paid Time Off (PTO), Flexible Work Arrangements, Employee Assistance Programs (EAP)'}                           </td><td>Architectural project management Construction documents Building systems Design coordination Client communication                                                                             </td><td>{\"Sector\":\"Telecommunications\",\"Industry\":\"Telecommunications\",\"City\":\"Beijing\",\"State\":\"Beijing\",\"Zip\":\"100033\",\"Website\":\"https://www.hk.chinamobile.com/en/\",\"Ticker\":\"600029.SS\",\"CEO\":\"Li Huiliang\"}</td><td>57000</td><td>119000</td><td>-1.4726725</td><td>2</td><td>11</td><td>184</td></tr>\n",
       "\t<tr><th scope=row>9</th><td>5 to 14 Years</td><td> 5</td><td>$62K, $86K</td><td>Mongolia        </td><td>5</td><td> 24518</td><td>2023-02-14</td><td>3</td><td>Financial Controller  </td><td>Finance Manager                 </td><td>USAJOBS            </td><td>{'Tuition Reimbursement, Stock Options or Equity Grants, Parental Leave, Wellness Programs, Childcare Assistance'}                                    </td><td>Financial management Budgeting Financial analysis Financial reporting Risk management Financial software (e.g., Excel, QuickBooks) Strategic planning                                         </td><td>{\"Sector\":\"Agriculture\",\"Industry\":\"Construction and Farm Machinery\",\"City\":\"Duluth\",\"State\":\"Georgia\",\"Zip\":\"30096\",\"Website\":\"www.agcocorp.com\",\"Ticker\":\"AGCO\",\"CEO\":\"Eric P. Hansotia\"}              </td><td>62000</td><td> 86000</td><td>-1.3921431</td><td>5</td><td>14</td><td>  8</td></tr>\n",
       "\t<tr><th scope=row>10</th><td>2 to 15 Years</td><td> 9</td><td>$59K , $105K</td><td><span style=white-space:pre-wrap>Austria         </span></td><td>3</td><td> 13604</td><td>2023-06-08</td><td>1</td><td><span style=white-space:pre-wrap>Sales Representative  </span></td><td><span style=white-space:pre-wrap>Inside Sales Representative     </span></td><td>Stack Overflow Jobs</td><td><span style=white-space:pre-wrap>{'Flexible Spending Accounts (FSAs), Relocation Assistance, Legal Assistance, Employee Recognition Programs, Financial Counseling'}                   </span></td><td><span style=white-space:pre-wrap>Sales prospecting and lead generation Sales presentation and communication CRM software (e.g., Salesforce) Sales negotiation and closing techniques Product knowledge Relationship building   </span></td><td><span style=white-space:pre-wrap>{\"Sector\":\"Automotive\",\"Industry\":\"Motor Vehicles &amp; Parts\",\"City\":\"Bellevue\",\"State\":\"Washington\",\"Zip\":\"98004\",\"Website\":\"www.paccar.com\",\"Ticker\":\"PCAR\",\"CEO\":\"Preston Feight\"}                       </span></td><td>59000</td><td>105000</td><td>-1.7010705</td><td>2</td><td>15</td><td> 17</td></tr>\n",
       "</tbody>\n",
       "</table>\n"
      ],
      "text/latex": [
       "A data.frame: 10 × 20\n",
       "\\begin{tabular}{r|llllllllllllllllllll}\n",
       "  & Experience & Qualifications & Salary.Range & Country & Work.Type & Company.Size & Job.Posting.Date & Preference & Job.Title & Role & Job.Portal & Benefits & skills & Company.Profile & minRange & maxRange & Company\\_Size\\_Scaled & Min\\_Experience & Max\\_Experience & Sector\\\\\n",
       "  & <chr> & <int> & <list> & <chr> & <int> & <int> & <date> & <int> & <chr> & <chr> & <chr> & <chr> & <chr> & <chr> & <dbl> & <dbl> & <dbl> & <dbl> & <dbl> & <int>\\\\\n",
       "\\hline\n",
       "\t1 & 4 to 11 Years &  6 & \\$61K , \\$128K & Macedonia, FYR   & 5 &  90997 & 2023-02-08 & 2 & Landscape Designer     & Sustainable Landscape Specialist & ZipRecruiter        & \\{'Transportation Benefits, Professional Development, Bonuses and Incentive Programs, Profit-Sharing, Employee Discounts'\\}                              & Sustainable landscape design Native plant selection Water conservation Soil health Green building practices LEED certification                                                                 & \\{\"Sector\":\"Oil \\& Gas\",\"Industry\":\"Oil and Gas\",\"City\":\"London\",\"State\":\"N/A\",\"Zip\":\"N/A\",\"Website\":\"www.bp.com\",\"Ticker\":\"BP\",\"CEO\":\"Bernard Looney\"\\}                                                     & 61000 & 128000 &  0.4895857 & 4 & 11 & 137\\\\\n",
       "\t2 & 3 to 10 Years &  7 & \\$65K , \\$129K & Greenland        & 3 & 123218 & 2023-05-10 & 2 & Structural Engineer    & Construction Engineer            & FlexJobs            & \\{'Health Insurance, Retirement Plans, Flexible Work Arrangements, Employee Assistance Programs (EAP), Bonuses and Incentive Programs'\\}                 & Construction management Structural design AutoCAD proficiency Project management Site inspection                                                                                               & \\{\"Sector\":\"Utilities\",\"Industry\":\"Utilities: Gas and Electric\",\"City\":\"King of Prussia\",\"State\":\"Pennsylvania\",\"Zip\":\"19406\",\"Website\":\"www.ugicorp.com\",\"Ticker\":\"UGI\",\"CEO\":\"Roger Perreault\"\\}          & 65000 & 129000 &  1.4016207 & 3 & 10 & 202\\\\\n",
       "\t3 & 0 to 15 Years &  7 & \\$56K , \\$114K & Kiribati         & 2 &  62356 & 2023-04-11 & 3 & Physical Therapist     & Geriatric Physical Therapist     & SimplyHired         & \\{'Casual Dress Code, Social and Recreational Activities, Employee Referral Programs, Health and Wellness Facilities, Life and Disability Insurance'\\}   & Geriatric rehabilitation Fall prevention Elderly patient care                                                                                                                                  & \\{\"Sector\":\"Aerospace and Defense\",\"Industry\":\"Aerospace \\& Defense\",\"City\":\"Reston\",\"State\":\"Virginia\",\"Zip\":\"20190\",\"Website\":\"www.gd.com\",\"Ticker\":\"GD\",\"CEO\":\"Phebe N. Novakovic\"\\}                      & 56000 & 114000 & -0.3211153 & 0 & 15 &   5\\\\\n",
       "\t4 & 2 to 12 Years & 10 & \\$57K , \\$113K & Papua New Guinea & 3 &  61041 & 2023-07-13 & 1 & Architect              & Sustainable Design Specialist    & Jobs2Careers        & \\{'Life and Disability Insurance, Stock Options or Equity Grants, Employee Recognition Programs, Health Insurance, Social and Recreational Activities'\\} & Sustainable design principles Energy efficiency LEED certification Green building materials Environmental impact assessment                                                                    & \\{\"Sector\":\"Automotive\",\"Industry\":\"Automotive Retailing, Services\",\"City\":\"Medford\",\"State\":\"Oregon\",\"Zip\":\"97501\",\"Website\":\"www.lithiadriveway.com\",\"Ticker\":\"LAD\",\"CEO\":\"Bryan B. Deboer\"\\}             & 57000 & 113000 & -0.3583372 & 2 & 12 &  17\\\\\n",
       "\t5 & 2 to 9 Years  &  1 & \\$57K , \\$110K & Georgia          & 5 &  84565 & 2023-08-10 & 1 & Office Manager         & Office Coordinator               & Idealist            & \\{'Childcare Assistance, Paid Time Off (PTO), Relocation Assistance, Flexible Work Arrangements, Professional Development'\\}                             & Office administration Calendar management Reception duties Communication skills Record keeping Office supplies management                                                                      & \\{\"Sector\":\"Retail\",\"Industry\":\"Automotive Retailing, Services\",\"City\":\"Richmond\",\"State\":\"Virginia\",\"Zip\":\"23238\",\"Website\":\"www.carmax.com\",\"Ticker\":\"KMX\",\"CEO\":\"William D. Nash\"\\}                      & 57000 & 110000 &  0.3075240 & 2 &  9 & 157\\\\\n",
       "\t6 & 4 to 9 Years  & 10 & \\$57K, \\$81K & New Zealand      & 3 &  99068 & 2023-01-19 & 2 & Environmental Engineer & Sustainability Specialist        & Indeed              & \\{'Employee Referral Programs, Financial Counseling, Health and Wellness Facilities, Casual Dress Code, Flexible Spending Accounts (FSAs)'\\}             & Sustainability practices Environmental management systems Green certifications                                                                                                                 & \\{\"Sector\":\"Healthcare\",\"Industry\":\"Healthcare\",\"City\":\"Sydney\",\"State\":\"NSW\",\"Zip\":\"2000\",\"Website\":\"https://www.sonichealthcare.com/\",\"Ticker\":\"SHL\",\"CEO\":\"Dr. Colin Goldschmidt\"\\}                      & 57000 &  81000 &  0.7180402 & 4 &  9 &  93\\\\\n",
       "\t7 & 3 to 10 Years &  8 & \\$62K , \\$128K & USA              & 1 &  26842 & 2023-06-09 & 3 & Research Scientist     & Senior Researcher                & Internships.com     & \\{'Life and Disability Insurance, Stock Options or Equity Grants, Employee Recognition Programs, Health Insurance, Social and Recreational Activities'\\} & Research methodologies and data analysis Literature review and synthesis Statistical analysis software (e.g., SPSS, R) Research proposal development Strong communication and reporting skills & \\{\"Sector\":\"Airlines\",\"Industry\":\"Airlines\",\"City\":\"Dallas\",\"State\":\"Texas\",\"Zip\":\"75235\",\"Website\":\"www.southwest.com\",\"Ticker\":\"LUV\",\"CEO\":\"Robert E. Jordan\"\\}                                           & 62000 & 128000 & -1.3263608 & 3 & 10 &  10\\\\\n",
       "\t8 & 2 to 11 Years &  4 & \\$57K , \\$119K & Brazil           & 3 &  21673 & 2023-05-10 & 2 & Architect              & Project Architect                & Monster             & \\{'Health Insurance, Retirement Plans, Paid Time Off (PTO), Flexible Work Arrangements, Employee Assistance Programs (EAP)'\\}                            & Architectural project management Construction documents Building systems Design coordination Client communication                                                                              & \\{\"Sector\":\"Telecommunications\",\"Industry\":\"Telecommunications\",\"City\":\"Beijing\",\"State\":\"Beijing\",\"Zip\":\"100033\",\"Website\":\"https://www.hk.chinamobile.com/en/\",\"Ticker\":\"600029.SS\",\"CEO\":\"Li Huiliang\"\\} & 57000 & 119000 & -1.4726725 & 2 & 11 & 184\\\\\n",
       "\t9 & 5 to 14 Years &  5 & \\$62K, \\$86K & Mongolia         & 5 &  24518 & 2023-02-14 & 3 & Financial Controller   & Finance Manager                  & USAJOBS             & \\{'Tuition Reimbursement, Stock Options or Equity Grants, Parental Leave, Wellness Programs, Childcare Assistance'\\}                                     & Financial management Budgeting Financial analysis Financial reporting Risk management Financial software (e.g., Excel, QuickBooks) Strategic planning                                          & \\{\"Sector\":\"Agriculture\",\"Industry\":\"Construction and Farm Machinery\",\"City\":\"Duluth\",\"State\":\"Georgia\",\"Zip\":\"30096\",\"Website\":\"www.agcocorp.com\",\"Ticker\":\"AGCO\",\"CEO\":\"Eric P. Hansotia\"\\}               & 62000 &  86000 & -1.3921431 & 5 & 14 &   8\\\\\n",
       "\t10 & 2 to 15 Years &  9 & \\$59K , \\$105K & Austria          & 3 &  13604 & 2023-06-08 & 1 & Sales Representative   & Inside Sales Representative      & Stack Overflow Jobs & \\{'Flexible Spending Accounts (FSAs), Relocation Assistance, Legal Assistance, Employee Recognition Programs, Financial Counseling'\\}                    & Sales prospecting and lead generation Sales presentation and communication CRM software (e.g., Salesforce) Sales negotiation and closing techniques Product knowledge Relationship building    & \\{\"Sector\":\"Automotive\",\"Industry\":\"Motor Vehicles \\& Parts\",\"City\":\"Bellevue\",\"State\":\"Washington\",\"Zip\":\"98004\",\"Website\":\"www.paccar.com\",\"Ticker\":\"PCAR\",\"CEO\":\"Preston Feight\"\\}                        & 59000 & 105000 & -1.7010705 & 2 & 15 &  17\\\\\n",
       "\\end{tabular}\n"
      ],
      "text/markdown": [
       "\n",
       "A data.frame: 10 × 20\n",
       "\n",
       "| <!--/--> | Experience &lt;chr&gt; | Qualifications &lt;int&gt; | Salary.Range &lt;list&gt; | Country &lt;chr&gt; | Work.Type &lt;int&gt; | Company.Size &lt;int&gt; | Job.Posting.Date &lt;date&gt; | Preference &lt;int&gt; | Job.Title &lt;chr&gt; | Role &lt;chr&gt; | Job.Portal &lt;chr&gt; | Benefits &lt;chr&gt; | skills &lt;chr&gt; | Company.Profile &lt;chr&gt; | minRange &lt;dbl&gt; | maxRange &lt;dbl&gt; | Company_Size_Scaled &lt;dbl&gt; | Min_Experience &lt;dbl&gt; | Max_Experience &lt;dbl&gt; | Sector &lt;int&gt; |\n",
       "|---|---|---|---|---|---|---|---|---|---|---|---|---|---|---|---|---|---|---|---|---|\n",
       "| 1 | 4 to 11 Years |  6 | $61K , $128K | Macedonia, FYR   | 5 |  90997 | 2023-02-08 | 2 | Landscape Designer     | Sustainable Landscape Specialist | ZipRecruiter        | {'Transportation Benefits, Professional Development, Bonuses and Incentive Programs, Profit-Sharing, Employee Discounts'}                              | Sustainable landscape design Native plant selection Water conservation Soil health Green building practices LEED certification                                                                 | {\"Sector\":\"Oil &amp; Gas\",\"Industry\":\"Oil and Gas\",\"City\":\"London\",\"State\":\"N/A\",\"Zip\":\"N/A\",\"Website\":\"www.bp.com\",\"Ticker\":\"BP\",\"CEO\":\"Bernard Looney\"}                                                     | 61000 | 128000 |  0.4895857 | 4 | 11 | 137 |\n",
       "| 2 | 3 to 10 Years |  7 | $65K , $129K | Greenland        | 3 | 123218 | 2023-05-10 | 2 | Structural Engineer    | Construction Engineer            | FlexJobs            | {'Health Insurance, Retirement Plans, Flexible Work Arrangements, Employee Assistance Programs (EAP), Bonuses and Incentive Programs'}                 | Construction management Structural design AutoCAD proficiency Project management Site inspection                                                                                               | {\"Sector\":\"Utilities\",\"Industry\":\"Utilities: Gas and Electric\",\"City\":\"King of Prussia\",\"State\":\"Pennsylvania\",\"Zip\":\"19406\",\"Website\":\"www.ugicorp.com\",\"Ticker\":\"UGI\",\"CEO\":\"Roger Perreault\"}          | 65000 | 129000 |  1.4016207 | 3 | 10 | 202 |\n",
       "| 3 | 0 to 15 Years |  7 | $56K , $114K | Kiribati         | 2 |  62356 | 2023-04-11 | 3 | Physical Therapist     | Geriatric Physical Therapist     | SimplyHired         | {'Casual Dress Code, Social and Recreational Activities, Employee Referral Programs, Health and Wellness Facilities, Life and Disability Insurance'}   | Geriatric rehabilitation Fall prevention Elderly patient care                                                                                                                                  | {\"Sector\":\"Aerospace and Defense\",\"Industry\":\"Aerospace &amp; Defense\",\"City\":\"Reston\",\"State\":\"Virginia\",\"Zip\":\"20190\",\"Website\":\"www.gd.com\",\"Ticker\":\"GD\",\"CEO\":\"Phebe N. Novakovic\"}                      | 56000 | 114000 | -0.3211153 | 0 | 15 |   5 |\n",
       "| 4 | 2 to 12 Years | 10 | $57K , $113K | Papua New Guinea | 3 |  61041 | 2023-07-13 | 1 | Architect              | Sustainable Design Specialist    | Jobs2Careers        | {'Life and Disability Insurance, Stock Options or Equity Grants, Employee Recognition Programs, Health Insurance, Social and Recreational Activities'} | Sustainable design principles Energy efficiency LEED certification Green building materials Environmental impact assessment                                                                    | {\"Sector\":\"Automotive\",\"Industry\":\"Automotive Retailing, Services\",\"City\":\"Medford\",\"State\":\"Oregon\",\"Zip\":\"97501\",\"Website\":\"www.lithiadriveway.com\",\"Ticker\":\"LAD\",\"CEO\":\"Bryan B. Deboer\"}             | 57000 | 113000 | -0.3583372 | 2 | 12 |  17 |\n",
       "| 5 | 2 to 9 Years  |  1 | $57K , $110K | Georgia          | 5 |  84565 | 2023-08-10 | 1 | Office Manager         | Office Coordinator               | Idealist            | {'Childcare Assistance, Paid Time Off (PTO), Relocation Assistance, Flexible Work Arrangements, Professional Development'}                             | Office administration Calendar management Reception duties Communication skills Record keeping Office supplies management                                                                      | {\"Sector\":\"Retail\",\"Industry\":\"Automotive Retailing, Services\",\"City\":\"Richmond\",\"State\":\"Virginia\",\"Zip\":\"23238\",\"Website\":\"www.carmax.com\",\"Ticker\":\"KMX\",\"CEO\":\"William D. Nash\"}                      | 57000 | 110000 |  0.3075240 | 2 |  9 | 157 |\n",
       "| 6 | 4 to 9 Years  | 10 | $57K, $81K | New Zealand      | 3 |  99068 | 2023-01-19 | 2 | Environmental Engineer | Sustainability Specialist        | Indeed              | {'Employee Referral Programs, Financial Counseling, Health and Wellness Facilities, Casual Dress Code, Flexible Spending Accounts (FSAs)'}             | Sustainability practices Environmental management systems Green certifications                                                                                                                 | {\"Sector\":\"Healthcare\",\"Industry\":\"Healthcare\",\"City\":\"Sydney\",\"State\":\"NSW\",\"Zip\":\"2000\",\"Website\":\"https://www.sonichealthcare.com/\",\"Ticker\":\"SHL\",\"CEO\":\"Dr. Colin Goldschmidt\"}                      | 57000 |  81000 |  0.7180402 | 4 |  9 |  93 |\n",
       "| 7 | 3 to 10 Years |  8 | $62K , $128K | USA              | 1 |  26842 | 2023-06-09 | 3 | Research Scientist     | Senior Researcher                | Internships.com     | {'Life and Disability Insurance, Stock Options or Equity Grants, Employee Recognition Programs, Health Insurance, Social and Recreational Activities'} | Research methodologies and data analysis Literature review and synthesis Statistical analysis software (e.g., SPSS, R) Research proposal development Strong communication and reporting skills | {\"Sector\":\"Airlines\",\"Industry\":\"Airlines\",\"City\":\"Dallas\",\"State\":\"Texas\",\"Zip\":\"75235\",\"Website\":\"www.southwest.com\",\"Ticker\":\"LUV\",\"CEO\":\"Robert E. Jordan\"}                                           | 62000 | 128000 | -1.3263608 | 3 | 10 |  10 |\n",
       "| 8 | 2 to 11 Years |  4 | $57K , $119K | Brazil           | 3 |  21673 | 2023-05-10 | 2 | Architect              | Project Architect                | Monster             | {'Health Insurance, Retirement Plans, Paid Time Off (PTO), Flexible Work Arrangements, Employee Assistance Programs (EAP)'}                            | Architectural project management Construction documents Building systems Design coordination Client communication                                                                              | {\"Sector\":\"Telecommunications\",\"Industry\":\"Telecommunications\",\"City\":\"Beijing\",\"State\":\"Beijing\",\"Zip\":\"100033\",\"Website\":\"https://www.hk.chinamobile.com/en/\",\"Ticker\":\"600029.SS\",\"CEO\":\"Li Huiliang\"} | 57000 | 119000 | -1.4726725 | 2 | 11 | 184 |\n",
       "| 9 | 5 to 14 Years |  5 | $62K, $86K | Mongolia         | 5 |  24518 | 2023-02-14 | 3 | Financial Controller   | Finance Manager                  | USAJOBS             | {'Tuition Reimbursement, Stock Options or Equity Grants, Parental Leave, Wellness Programs, Childcare Assistance'}                                     | Financial management Budgeting Financial analysis Financial reporting Risk management Financial software (e.g., Excel, QuickBooks) Strategic planning                                          | {\"Sector\":\"Agriculture\",\"Industry\":\"Construction and Farm Machinery\",\"City\":\"Duluth\",\"State\":\"Georgia\",\"Zip\":\"30096\",\"Website\":\"www.agcocorp.com\",\"Ticker\":\"AGCO\",\"CEO\":\"Eric P. Hansotia\"}               | 62000 |  86000 | -1.3921431 | 5 | 14 |   8 |\n",
       "| 10 | 2 to 15 Years |  9 | $59K , $105K | Austria          | 3 |  13604 | 2023-06-08 | 1 | Sales Representative   | Inside Sales Representative      | Stack Overflow Jobs | {'Flexible Spending Accounts (FSAs), Relocation Assistance, Legal Assistance, Employee Recognition Programs, Financial Counseling'}                    | Sales prospecting and lead generation Sales presentation and communication CRM software (e.g., Salesforce) Sales negotiation and closing techniques Product knowledge Relationship building    | {\"Sector\":\"Automotive\",\"Industry\":\"Motor Vehicles &amp; Parts\",\"City\":\"Bellevue\",\"State\":\"Washington\",\"Zip\":\"98004\",\"Website\":\"www.paccar.com\",\"Ticker\":\"PCAR\",\"CEO\":\"Preston Feight\"}                        | 59000 | 105000 | -1.7010705 | 2 | 15 |  17 |\n",
       "\n"
      ],
      "text/plain": [
       "   Experience    Qualifications Salary.Range Country          Work.Type\n",
       "1  4 to 11 Years  6             $61K , $128K Macedonia, FYR   5        \n",
       "2  3 to 10 Years  7             $65K , $129K Greenland        3        \n",
       "3  0 to 15 Years  7             $56K , $114K Kiribati         2        \n",
       "4  2 to 12 Years 10             $57K , $113K Papua New Guinea 3        \n",
       "5  2 to 9 Years   1             $57K , $110K Georgia          5        \n",
       "6  4 to 9 Years  10             $57K, $81K   New Zealand      3        \n",
       "7  3 to 10 Years  8             $62K , $128K USA              1        \n",
       "8  2 to 11 Years  4             $57K , $119K Brazil           3        \n",
       "9  5 to 14 Years  5             $62K, $86K   Mongolia         5        \n",
       "10 2 to 15 Years  9             $59K , $105K Austria          3        \n",
       "   Company.Size Job.Posting.Date Preference Job.Title             \n",
       "1   90997       2023-02-08       2          Landscape Designer    \n",
       "2  123218       2023-05-10       2          Structural Engineer   \n",
       "3   62356       2023-04-11       3          Physical Therapist    \n",
       "4   61041       2023-07-13       1          Architect             \n",
       "5   84565       2023-08-10       1          Office Manager        \n",
       "6   99068       2023-01-19       2          Environmental Engineer\n",
       "7   26842       2023-06-09       3          Research Scientist    \n",
       "8   21673       2023-05-10       2          Architect             \n",
       "9   24518       2023-02-14       3          Financial Controller  \n",
       "10  13604       2023-06-08       1          Sales Representative  \n",
       "   Role                             Job.Portal         \n",
       "1  Sustainable Landscape Specialist ZipRecruiter       \n",
       "2  Construction Engineer            FlexJobs           \n",
       "3  Geriatric Physical Therapist     SimplyHired        \n",
       "4  Sustainable Design Specialist    Jobs2Careers       \n",
       "5  Office Coordinator               Idealist           \n",
       "6  Sustainability Specialist        Indeed             \n",
       "7  Senior Researcher                Internships.com    \n",
       "8  Project Architect                Monster            \n",
       "9  Finance Manager                  USAJOBS            \n",
       "10 Inside Sales Representative      Stack Overflow Jobs\n",
       "   Benefits                                                                                                                                              \n",
       "1  {'Transportation Benefits, Professional Development, Bonuses and Incentive Programs, Profit-Sharing, Employee Discounts'}                             \n",
       "2  {'Health Insurance, Retirement Plans, Flexible Work Arrangements, Employee Assistance Programs (EAP), Bonuses and Incentive Programs'}                \n",
       "3  {'Casual Dress Code, Social and Recreational Activities, Employee Referral Programs, Health and Wellness Facilities, Life and Disability Insurance'}  \n",
       "4  {'Life and Disability Insurance, Stock Options or Equity Grants, Employee Recognition Programs, Health Insurance, Social and Recreational Activities'}\n",
       "5  {'Childcare Assistance, Paid Time Off (PTO), Relocation Assistance, Flexible Work Arrangements, Professional Development'}                            \n",
       "6  {'Employee Referral Programs, Financial Counseling, Health and Wellness Facilities, Casual Dress Code, Flexible Spending Accounts (FSAs)'}            \n",
       "7  {'Life and Disability Insurance, Stock Options or Equity Grants, Employee Recognition Programs, Health Insurance, Social and Recreational Activities'}\n",
       "8  {'Health Insurance, Retirement Plans, Paid Time Off (PTO), Flexible Work Arrangements, Employee Assistance Programs (EAP)'}                           \n",
       "9  {'Tuition Reimbursement, Stock Options or Equity Grants, Parental Leave, Wellness Programs, Childcare Assistance'}                                    \n",
       "10 {'Flexible Spending Accounts (FSAs), Relocation Assistance, Legal Assistance, Employee Recognition Programs, Financial Counseling'}                   \n",
       "   skills                                                                                                                                                                                        \n",
       "1  Sustainable landscape design Native plant selection Water conservation Soil health Green building practices LEED certification                                                                \n",
       "2  Construction management Structural design AutoCAD proficiency Project management Site inspection                                                                                              \n",
       "3  Geriatric rehabilitation Fall prevention Elderly patient care                                                                                                                                 \n",
       "4  Sustainable design principles Energy efficiency LEED certification Green building materials Environmental impact assessment                                                                   \n",
       "5  Office administration Calendar management Reception duties Communication skills Record keeping Office supplies management                                                                     \n",
       "6  Sustainability practices Environmental management systems Green certifications                                                                                                                \n",
       "7  Research methodologies and data analysis Literature review and synthesis Statistical analysis software (e.g., SPSS, R) Research proposal development Strong communication and reporting skills\n",
       "8  Architectural project management Construction documents Building systems Design coordination Client communication                                                                             \n",
       "9  Financial management Budgeting Financial analysis Financial reporting Risk management Financial software (e.g., Excel, QuickBooks) Strategic planning                                         \n",
       "10 Sales prospecting and lead generation Sales presentation and communication CRM software (e.g., Salesforce) Sales negotiation and closing techniques Product knowledge Relationship building   \n",
       "   Company.Profile                                                                                                                                                                                          \n",
       "1  {\"Sector\":\"Oil & Gas\",\"Industry\":\"Oil and Gas\",\"City\":\"London\",\"State\":\"N/A\",\"Zip\":\"N/A\",\"Website\":\"www.bp.com\",\"Ticker\":\"BP\",\"CEO\":\"Bernard Looney\"}                                                    \n",
       "2  {\"Sector\":\"Utilities\",\"Industry\":\"Utilities: Gas and Electric\",\"City\":\"King of Prussia\",\"State\":\"Pennsylvania\",\"Zip\":\"19406\",\"Website\":\"www.ugicorp.com\",\"Ticker\":\"UGI\",\"CEO\":\"Roger Perreault\"}         \n",
       "3  {\"Sector\":\"Aerospace and Defense\",\"Industry\":\"Aerospace & Defense\",\"City\":\"Reston\",\"State\":\"Virginia\",\"Zip\":\"20190\",\"Website\":\"www.gd.com\",\"Ticker\":\"GD\",\"CEO\":\"Phebe N. Novakovic\"}                     \n",
       "4  {\"Sector\":\"Automotive\",\"Industry\":\"Automotive Retailing, Services\",\"City\":\"Medford\",\"State\":\"Oregon\",\"Zip\":\"97501\",\"Website\":\"www.lithiadriveway.com\",\"Ticker\":\"LAD\",\"CEO\":\"Bryan B. Deboer\"}            \n",
       "5  {\"Sector\":\"Retail\",\"Industry\":\"Automotive Retailing, Services\",\"City\":\"Richmond\",\"State\":\"Virginia\",\"Zip\":\"23238\",\"Website\":\"www.carmax.com\",\"Ticker\":\"KMX\",\"CEO\":\"William D. Nash\"}                     \n",
       "6  {\"Sector\":\"Healthcare\",\"Industry\":\"Healthcare\",\"City\":\"Sydney\",\"State\":\"NSW\",\"Zip\":\"2000\",\"Website\":\"https://www.sonichealthcare.com/\",\"Ticker\":\"SHL\",\"CEO\":\"Dr. Colin Goldschmidt\"}                     \n",
       "7  {\"Sector\":\"Airlines\",\"Industry\":\"Airlines\",\"City\":\"Dallas\",\"State\":\"Texas\",\"Zip\":\"75235\",\"Website\":\"www.southwest.com\",\"Ticker\":\"LUV\",\"CEO\":\"Robert E. Jordan\"}                                          \n",
       "8  {\"Sector\":\"Telecommunications\",\"Industry\":\"Telecommunications\",\"City\":\"Beijing\",\"State\":\"Beijing\",\"Zip\":\"100033\",\"Website\":\"https://www.hk.chinamobile.com/en/\",\"Ticker\":\"600029.SS\",\"CEO\":\"Li Huiliang\"}\n",
       "9  {\"Sector\":\"Agriculture\",\"Industry\":\"Construction and Farm Machinery\",\"City\":\"Duluth\",\"State\":\"Georgia\",\"Zip\":\"30096\",\"Website\":\"www.agcocorp.com\",\"Ticker\":\"AGCO\",\"CEO\":\"Eric P. Hansotia\"}              \n",
       "10 {\"Sector\":\"Automotive\",\"Industry\":\"Motor Vehicles & Parts\",\"City\":\"Bellevue\",\"State\":\"Washington\",\"Zip\":\"98004\",\"Website\":\"www.paccar.com\",\"Ticker\":\"PCAR\",\"CEO\":\"Preston Feight\"}                       \n",
       "   minRange maxRange Company_Size_Scaled Min_Experience Max_Experience Sector\n",
       "1  61000    128000    0.4895857          4              11             137   \n",
       "2  65000    129000    1.4016207          3              10             202   \n",
       "3  56000    114000   -0.3211153          0              15               5   \n",
       "4  57000    113000   -0.3583372          2              12              17   \n",
       "5  57000    110000    0.3075240          2               9             157   \n",
       "6  57000     81000    0.7180402          4               9              93   \n",
       "7  62000    128000   -1.3263608          3              10              10   \n",
       "8  57000    119000   -1.4726725          2              11             184   \n",
       "9  62000     86000   -1.3921431          5              14               8   \n",
       "10 59000    105000   -1.7010705          2              15              17   "
      ]
     },
     "metadata": {},
     "output_type": "display_data"
    }
   ],
   "source": [
    "head(df_new, 10)"
   ]
  },
  {
   "cell_type": "code",
   "execution_count": 16,
   "metadata": {
    "vscode": {
     "languageId": "r"
    }
   },
   "outputs": [],
   "source": [
    "# Convert the date column to Date format\n",
    "df_new$Job.Posting.Date <- as.Date(df_new$Job.Posting.Date)\n",
    "\n",
    "# Extract the month from the date column\n",
    "df_new$Job.Posting.Month <- month(df_new$Job.Posting.Date)"
   ]
  },
  {
   "cell_type": "code",
   "execution_count": 17,
   "metadata": {
    "vscode": {
     "languageId": "r"
    }
   },
   "outputs": [
    {
     "data": {
      "text/html": [
       "<table class=\"dataframe\">\n",
       "<caption>A data.frame: 6 × 21</caption>\n",
       "<thead>\n",
       "\t<tr><th></th><th scope=col>Experience</th><th scope=col>Qualifications</th><th scope=col>Salary.Range</th><th scope=col>Country</th><th scope=col>Work.Type</th><th scope=col>Company.Size</th><th scope=col>Job.Posting.Date</th><th scope=col>Preference</th><th scope=col>Job.Title</th><th scope=col>Role</th><th scope=col>⋯</th><th scope=col>Benefits</th><th scope=col>skills</th><th scope=col>Company.Profile</th><th scope=col>minRange</th><th scope=col>maxRange</th><th scope=col>Company_Size_Scaled</th><th scope=col>Min_Experience</th><th scope=col>Max_Experience</th><th scope=col>Sector</th><th scope=col>Job.Posting.Month</th></tr>\n",
       "\t<tr><th></th><th scope=col>&lt;chr&gt;</th><th scope=col>&lt;int&gt;</th><th scope=col>&lt;list&gt;</th><th scope=col>&lt;chr&gt;</th><th scope=col>&lt;int&gt;</th><th scope=col>&lt;int&gt;</th><th scope=col>&lt;date&gt;</th><th scope=col>&lt;int&gt;</th><th scope=col>&lt;chr&gt;</th><th scope=col>&lt;chr&gt;</th><th scope=col>⋯</th><th scope=col>&lt;chr&gt;</th><th scope=col>&lt;chr&gt;</th><th scope=col>&lt;chr&gt;</th><th scope=col>&lt;dbl&gt;</th><th scope=col>&lt;dbl&gt;</th><th scope=col>&lt;dbl&gt;</th><th scope=col>&lt;dbl&gt;</th><th scope=col>&lt;dbl&gt;</th><th scope=col>&lt;int&gt;</th><th scope=col>&lt;dbl&gt;</th></tr>\n",
       "</thead>\n",
       "<tbody>\n",
       "\t<tr><th scope=row>1</th><td>4 to 11 Years</td><td> 6</td><td>$61K , $128K</td><td><span style=white-space:pre-wrap>Macedonia, FYR  </span></td><td>5</td><td> 90997</td><td>2023-02-08</td><td>2</td><td><span style=white-space:pre-wrap>Landscape Designer    </span></td><td>Sustainable Landscape Specialist</td><td>⋯</td><td><span style=white-space:pre-wrap>{'Transportation Benefits, Professional Development, Bonuses and Incentive Programs, Profit-Sharing, Employee Discounts'}                             </span></td><td>Sustainable landscape design Native plant selection Water conservation Soil health Green building practices LEED certification</td><td><span style=white-space:pre-wrap>{\"Sector\":\"Oil &amp; Gas\",\"Industry\":\"Oil and Gas\",\"City\":\"London\",\"State\":\"N/A\",\"Zip\":\"N/A\",\"Website\":\"www.bp.com\",\"Ticker\":\"BP\",\"CEO\":\"Bernard Looney\"}                                           </span></td><td>61000</td><td>128000</td><td> 0.4895857</td><td>4</td><td>11</td><td>137</td><td>2</td></tr>\n",
       "\t<tr><th scope=row>2</th><td>3 to 10 Years</td><td> 7</td><td>$65K , $129K</td><td>Greenland       </td><td>3</td><td>123218</td><td>2023-05-10</td><td>2</td><td>Structural Engineer   </td><td>Construction Engineer           </td><td>⋯</td><td>{'Health Insurance, Retirement Plans, Flexible Work Arrangements, Employee Assistance Programs (EAP), Bonuses and Incentive Programs'}                </td><td>Construction management Structural design AutoCAD proficiency Project management Site inspection                              </td><td>{\"Sector\":\"Utilities\",\"Industry\":\"Utilities: Gas and Electric\",\"City\":\"King of Prussia\",\"State\":\"Pennsylvania\",\"Zip\":\"19406\",\"Website\":\"www.ugicorp.com\",\"Ticker\":\"UGI\",\"CEO\":\"Roger Perreault\"}</td><td>65000</td><td>129000</td><td> 1.4016207</td><td>3</td><td>10</td><td>202</td><td>5</td></tr>\n",
       "\t<tr><th scope=row>3</th><td>0 to 15 Years</td><td> 7</td><td>$56K , $114K</td><td><span style=white-space:pre-wrap>Kiribati        </span></td><td>2</td><td> 62356</td><td>2023-04-11</td><td>3</td><td><span style=white-space:pre-wrap>Physical Therapist    </span></td><td><span style=white-space:pre-wrap>Geriatric Physical Therapist    </span></td><td>⋯</td><td><span style=white-space:pre-wrap>{'Casual Dress Code, Social and Recreational Activities, Employee Referral Programs, Health and Wellness Facilities, Life and Disability Insurance'}  </span></td><td><span style=white-space:pre-wrap>Geriatric rehabilitation Fall prevention Elderly patient care                                                                 </span></td><td><span style=white-space:pre-wrap>{\"Sector\":\"Aerospace and Defense\",\"Industry\":\"Aerospace &amp; Defense\",\"City\":\"Reston\",\"State\":\"Virginia\",\"Zip\":\"20190\",\"Website\":\"www.gd.com\",\"Ticker\":\"GD\",\"CEO\":\"Phebe N. Novakovic\"}            </span></td><td>56000</td><td>114000</td><td>-0.3211153</td><td>0</td><td>15</td><td><span style=white-space:pre-wrap>  5</span></td><td>4</td></tr>\n",
       "\t<tr><th scope=row>4</th><td>2 to 12 Years</td><td>10</td><td>$57K , $113K</td><td>Papua New Guinea</td><td>3</td><td> 61041</td><td>2023-07-13</td><td>1</td><td>Architect             </td><td>Sustainable Design Specialist   </td><td>⋯</td><td>{'Life and Disability Insurance, Stock Options or Equity Grants, Employee Recognition Programs, Health Insurance, Social and Recreational Activities'}</td><td>Sustainable design principles Energy efficiency LEED certification Green building materials Environmental impact assessment   </td><td>{\"Sector\":\"Automotive\",\"Industry\":\"Automotive Retailing, Services\",\"City\":\"Medford\",\"State\":\"Oregon\",\"Zip\":\"97501\",\"Website\":\"www.lithiadriveway.com\",\"Ticker\":\"LAD\",\"CEO\":\"Bryan B. Deboer\"}   </td><td>57000</td><td>113000</td><td>-0.3583372</td><td>2</td><td>12</td><td> 17</td><td>7</td></tr>\n",
       "\t<tr><th scope=row>5</th><td>2 to 9 Years </td><td> 1</td><td>$57K , $110K</td><td>Georgia         </td><td>5</td><td> 84565</td><td>2023-08-10</td><td>1</td><td>Office Manager        </td><td>Office Coordinator              </td><td>⋯</td><td>{'Childcare Assistance, Paid Time Off (PTO), Relocation Assistance, Flexible Work Arrangements, Professional Development'}                            </td><td>Office administration Calendar management Reception duties Communication skills Record keeping Office supplies management     </td><td>{\"Sector\":\"Retail\",\"Industry\":\"Automotive Retailing, Services\",\"City\":\"Richmond\",\"State\":\"Virginia\",\"Zip\":\"23238\",\"Website\":\"www.carmax.com\",\"Ticker\":\"KMX\",\"CEO\":\"William D. Nash\"}            </td><td>57000</td><td>110000</td><td> 0.3075240</td><td>2</td><td> 9</td><td>157</td><td>8</td></tr>\n",
       "\t<tr><th scope=row>6</th><td>4 to 9 Years </td><td>10</td><td>$57K, $81K</td><td>New Zealand     </td><td>3</td><td> 99068</td><td>2023-01-19</td><td>2</td><td>Environmental Engineer</td><td>Sustainability Specialist       </td><td>⋯</td><td>{'Employee Referral Programs, Financial Counseling, Health and Wellness Facilities, Casual Dress Code, Flexible Spending Accounts (FSAs)'}            </td><td>Sustainability practices Environmental management systems Green certifications                                                </td><td>{\"Sector\":\"Healthcare\",\"Industry\":\"Healthcare\",\"City\":\"Sydney\",\"State\":\"NSW\",\"Zip\":\"2000\",\"Website\":\"https://www.sonichealthcare.com/\",\"Ticker\":\"SHL\",\"CEO\":\"Dr. Colin Goldschmidt\"}            </td><td>57000</td><td> 81000</td><td> 0.7180402</td><td>4</td><td> 9</td><td> 93</td><td>1</td></tr>\n",
       "</tbody>\n",
       "</table>\n"
      ],
      "text/latex": [
       "A data.frame: 6 × 21\n",
       "\\begin{tabular}{r|lllllllllllllllllllll}\n",
       "  & Experience & Qualifications & Salary.Range & Country & Work.Type & Company.Size & Job.Posting.Date & Preference & Job.Title & Role & ⋯ & Benefits & skills & Company.Profile & minRange & maxRange & Company\\_Size\\_Scaled & Min\\_Experience & Max\\_Experience & Sector & Job.Posting.Month\\\\\n",
       "  & <chr> & <int> & <list> & <chr> & <int> & <int> & <date> & <int> & <chr> & <chr> & ⋯ & <chr> & <chr> & <chr> & <dbl> & <dbl> & <dbl> & <dbl> & <dbl> & <int> & <dbl>\\\\\n",
       "\\hline\n",
       "\t1 & 4 to 11 Years &  6 & \\$61K , \\$128K & Macedonia, FYR   & 5 &  90997 & 2023-02-08 & 2 & Landscape Designer     & Sustainable Landscape Specialist & ⋯ & \\{'Transportation Benefits, Professional Development, Bonuses and Incentive Programs, Profit-Sharing, Employee Discounts'\\}                              & Sustainable landscape design Native plant selection Water conservation Soil health Green building practices LEED certification & \\{\"Sector\":\"Oil \\& Gas\",\"Industry\":\"Oil and Gas\",\"City\":\"London\",\"State\":\"N/A\",\"Zip\":\"N/A\",\"Website\":\"www.bp.com\",\"Ticker\":\"BP\",\"CEO\":\"Bernard Looney\"\\}                                            & 61000 & 128000 &  0.4895857 & 4 & 11 & 137 & 2\\\\\n",
       "\t2 & 3 to 10 Years &  7 & \\$65K , \\$129K & Greenland        & 3 & 123218 & 2023-05-10 & 2 & Structural Engineer    & Construction Engineer            & ⋯ & \\{'Health Insurance, Retirement Plans, Flexible Work Arrangements, Employee Assistance Programs (EAP), Bonuses and Incentive Programs'\\}                 & Construction management Structural design AutoCAD proficiency Project management Site inspection                               & \\{\"Sector\":\"Utilities\",\"Industry\":\"Utilities: Gas and Electric\",\"City\":\"King of Prussia\",\"State\":\"Pennsylvania\",\"Zip\":\"19406\",\"Website\":\"www.ugicorp.com\",\"Ticker\":\"UGI\",\"CEO\":\"Roger Perreault\"\\} & 65000 & 129000 &  1.4016207 & 3 & 10 & 202 & 5\\\\\n",
       "\t3 & 0 to 15 Years &  7 & \\$56K , \\$114K & Kiribati         & 2 &  62356 & 2023-04-11 & 3 & Physical Therapist     & Geriatric Physical Therapist     & ⋯ & \\{'Casual Dress Code, Social and Recreational Activities, Employee Referral Programs, Health and Wellness Facilities, Life and Disability Insurance'\\}   & Geriatric rehabilitation Fall prevention Elderly patient care                                                                  & \\{\"Sector\":\"Aerospace and Defense\",\"Industry\":\"Aerospace \\& Defense\",\"City\":\"Reston\",\"State\":\"Virginia\",\"Zip\":\"20190\",\"Website\":\"www.gd.com\",\"Ticker\":\"GD\",\"CEO\":\"Phebe N. Novakovic\"\\}             & 56000 & 114000 & -0.3211153 & 0 & 15 &   5 & 4\\\\\n",
       "\t4 & 2 to 12 Years & 10 & \\$57K , \\$113K & Papua New Guinea & 3 &  61041 & 2023-07-13 & 1 & Architect              & Sustainable Design Specialist    & ⋯ & \\{'Life and Disability Insurance, Stock Options or Equity Grants, Employee Recognition Programs, Health Insurance, Social and Recreational Activities'\\} & Sustainable design principles Energy efficiency LEED certification Green building materials Environmental impact assessment    & \\{\"Sector\":\"Automotive\",\"Industry\":\"Automotive Retailing, Services\",\"City\":\"Medford\",\"State\":\"Oregon\",\"Zip\":\"97501\",\"Website\":\"www.lithiadriveway.com\",\"Ticker\":\"LAD\",\"CEO\":\"Bryan B. Deboer\"\\}    & 57000 & 113000 & -0.3583372 & 2 & 12 &  17 & 7\\\\\n",
       "\t5 & 2 to 9 Years  &  1 & \\$57K , \\$110K & Georgia          & 5 &  84565 & 2023-08-10 & 1 & Office Manager         & Office Coordinator               & ⋯ & \\{'Childcare Assistance, Paid Time Off (PTO), Relocation Assistance, Flexible Work Arrangements, Professional Development'\\}                             & Office administration Calendar management Reception duties Communication skills Record keeping Office supplies management      & \\{\"Sector\":\"Retail\",\"Industry\":\"Automotive Retailing, Services\",\"City\":\"Richmond\",\"State\":\"Virginia\",\"Zip\":\"23238\",\"Website\":\"www.carmax.com\",\"Ticker\":\"KMX\",\"CEO\":\"William D. Nash\"\\}             & 57000 & 110000 &  0.3075240 & 2 &  9 & 157 & 8\\\\\n",
       "\t6 & 4 to 9 Years  & 10 & \\$57K, \\$81K & New Zealand      & 3 &  99068 & 2023-01-19 & 2 & Environmental Engineer & Sustainability Specialist        & ⋯ & \\{'Employee Referral Programs, Financial Counseling, Health and Wellness Facilities, Casual Dress Code, Flexible Spending Accounts (FSAs)'\\}             & Sustainability practices Environmental management systems Green certifications                                                 & \\{\"Sector\":\"Healthcare\",\"Industry\":\"Healthcare\",\"City\":\"Sydney\",\"State\":\"NSW\",\"Zip\":\"2000\",\"Website\":\"https://www.sonichealthcare.com/\",\"Ticker\":\"SHL\",\"CEO\":\"Dr. Colin Goldschmidt\"\\}             & 57000 &  81000 &  0.7180402 & 4 &  9 &  93 & 1\\\\\n",
       "\\end{tabular}\n"
      ],
      "text/markdown": [
       "\n",
       "A data.frame: 6 × 21\n",
       "\n",
       "| <!--/--> | Experience &lt;chr&gt; | Qualifications &lt;int&gt; | Salary.Range &lt;list&gt; | Country &lt;chr&gt; | Work.Type &lt;int&gt; | Company.Size &lt;int&gt; | Job.Posting.Date &lt;date&gt; | Preference &lt;int&gt; | Job.Title &lt;chr&gt; | Role &lt;chr&gt; | ⋯ ⋯ | Benefits &lt;chr&gt; | skills &lt;chr&gt; | Company.Profile &lt;chr&gt; | minRange &lt;dbl&gt; | maxRange &lt;dbl&gt; | Company_Size_Scaled &lt;dbl&gt; | Min_Experience &lt;dbl&gt; | Max_Experience &lt;dbl&gt; | Sector &lt;int&gt; | Job.Posting.Month &lt;dbl&gt; |\n",
       "|---|---|---|---|---|---|---|---|---|---|---|---|---|---|---|---|---|---|---|---|---|---|\n",
       "| 1 | 4 to 11 Years |  6 | $61K , $128K | Macedonia, FYR   | 5 |  90997 | 2023-02-08 | 2 | Landscape Designer     | Sustainable Landscape Specialist | ⋯ | {'Transportation Benefits, Professional Development, Bonuses and Incentive Programs, Profit-Sharing, Employee Discounts'}                              | Sustainable landscape design Native plant selection Water conservation Soil health Green building practices LEED certification | {\"Sector\":\"Oil &amp; Gas\",\"Industry\":\"Oil and Gas\",\"City\":\"London\",\"State\":\"N/A\",\"Zip\":\"N/A\",\"Website\":\"www.bp.com\",\"Ticker\":\"BP\",\"CEO\":\"Bernard Looney\"}                                            | 61000 | 128000 |  0.4895857 | 4 | 11 | 137 | 2 |\n",
       "| 2 | 3 to 10 Years |  7 | $65K , $129K | Greenland        | 3 | 123218 | 2023-05-10 | 2 | Structural Engineer    | Construction Engineer            | ⋯ | {'Health Insurance, Retirement Plans, Flexible Work Arrangements, Employee Assistance Programs (EAP), Bonuses and Incentive Programs'}                 | Construction management Structural design AutoCAD proficiency Project management Site inspection                               | {\"Sector\":\"Utilities\",\"Industry\":\"Utilities: Gas and Electric\",\"City\":\"King of Prussia\",\"State\":\"Pennsylvania\",\"Zip\":\"19406\",\"Website\":\"www.ugicorp.com\",\"Ticker\":\"UGI\",\"CEO\":\"Roger Perreault\"} | 65000 | 129000 |  1.4016207 | 3 | 10 | 202 | 5 |\n",
       "| 3 | 0 to 15 Years |  7 | $56K , $114K | Kiribati         | 2 |  62356 | 2023-04-11 | 3 | Physical Therapist     | Geriatric Physical Therapist     | ⋯ | {'Casual Dress Code, Social and Recreational Activities, Employee Referral Programs, Health and Wellness Facilities, Life and Disability Insurance'}   | Geriatric rehabilitation Fall prevention Elderly patient care                                                                  | {\"Sector\":\"Aerospace and Defense\",\"Industry\":\"Aerospace &amp; Defense\",\"City\":\"Reston\",\"State\":\"Virginia\",\"Zip\":\"20190\",\"Website\":\"www.gd.com\",\"Ticker\":\"GD\",\"CEO\":\"Phebe N. Novakovic\"}             | 56000 | 114000 | -0.3211153 | 0 | 15 |   5 | 4 |\n",
       "| 4 | 2 to 12 Years | 10 | $57K , $113K | Papua New Guinea | 3 |  61041 | 2023-07-13 | 1 | Architect              | Sustainable Design Specialist    | ⋯ | {'Life and Disability Insurance, Stock Options or Equity Grants, Employee Recognition Programs, Health Insurance, Social and Recreational Activities'} | Sustainable design principles Energy efficiency LEED certification Green building materials Environmental impact assessment    | {\"Sector\":\"Automotive\",\"Industry\":\"Automotive Retailing, Services\",\"City\":\"Medford\",\"State\":\"Oregon\",\"Zip\":\"97501\",\"Website\":\"www.lithiadriveway.com\",\"Ticker\":\"LAD\",\"CEO\":\"Bryan B. Deboer\"}    | 57000 | 113000 | -0.3583372 | 2 | 12 |  17 | 7 |\n",
       "| 5 | 2 to 9 Years  |  1 | $57K , $110K | Georgia          | 5 |  84565 | 2023-08-10 | 1 | Office Manager         | Office Coordinator               | ⋯ | {'Childcare Assistance, Paid Time Off (PTO), Relocation Assistance, Flexible Work Arrangements, Professional Development'}                             | Office administration Calendar management Reception duties Communication skills Record keeping Office supplies management      | {\"Sector\":\"Retail\",\"Industry\":\"Automotive Retailing, Services\",\"City\":\"Richmond\",\"State\":\"Virginia\",\"Zip\":\"23238\",\"Website\":\"www.carmax.com\",\"Ticker\":\"KMX\",\"CEO\":\"William D. Nash\"}             | 57000 | 110000 |  0.3075240 | 2 |  9 | 157 | 8 |\n",
       "| 6 | 4 to 9 Years  | 10 | $57K, $81K | New Zealand      | 3 |  99068 | 2023-01-19 | 2 | Environmental Engineer | Sustainability Specialist        | ⋯ | {'Employee Referral Programs, Financial Counseling, Health and Wellness Facilities, Casual Dress Code, Flexible Spending Accounts (FSAs)'}             | Sustainability practices Environmental management systems Green certifications                                                 | {\"Sector\":\"Healthcare\",\"Industry\":\"Healthcare\",\"City\":\"Sydney\",\"State\":\"NSW\",\"Zip\":\"2000\",\"Website\":\"https://www.sonichealthcare.com/\",\"Ticker\":\"SHL\",\"CEO\":\"Dr. Colin Goldschmidt\"}             | 57000 |  81000 |  0.7180402 | 4 |  9 |  93 | 1 |\n",
       "\n"
      ],
      "text/plain": [
       "  Experience    Qualifications Salary.Range Country          Work.Type\n",
       "1 4 to 11 Years  6             $61K , $128K Macedonia, FYR   5        \n",
       "2 3 to 10 Years  7             $65K , $129K Greenland        3        \n",
       "3 0 to 15 Years  7             $56K , $114K Kiribati         2        \n",
       "4 2 to 12 Years 10             $57K , $113K Papua New Guinea 3        \n",
       "5 2 to 9 Years   1             $57K , $110K Georgia          5        \n",
       "6 4 to 9 Years  10             $57K, $81K   New Zealand      3        \n",
       "  Company.Size Job.Posting.Date Preference Job.Title             \n",
       "1  90997       2023-02-08       2          Landscape Designer    \n",
       "2 123218       2023-05-10       2          Structural Engineer   \n",
       "3  62356       2023-04-11       3          Physical Therapist    \n",
       "4  61041       2023-07-13       1          Architect             \n",
       "5  84565       2023-08-10       1          Office Manager        \n",
       "6  99068       2023-01-19       2          Environmental Engineer\n",
       "  Role                             ⋯\n",
       "1 Sustainable Landscape Specialist ⋯\n",
       "2 Construction Engineer            ⋯\n",
       "3 Geriatric Physical Therapist     ⋯\n",
       "4 Sustainable Design Specialist    ⋯\n",
       "5 Office Coordinator               ⋯\n",
       "6 Sustainability Specialist        ⋯\n",
       "  Benefits                                                                                                                                              \n",
       "1 {'Transportation Benefits, Professional Development, Bonuses and Incentive Programs, Profit-Sharing, Employee Discounts'}                             \n",
       "2 {'Health Insurance, Retirement Plans, Flexible Work Arrangements, Employee Assistance Programs (EAP), Bonuses and Incentive Programs'}                \n",
       "3 {'Casual Dress Code, Social and Recreational Activities, Employee Referral Programs, Health and Wellness Facilities, Life and Disability Insurance'}  \n",
       "4 {'Life and Disability Insurance, Stock Options or Equity Grants, Employee Recognition Programs, Health Insurance, Social and Recreational Activities'}\n",
       "5 {'Childcare Assistance, Paid Time Off (PTO), Relocation Assistance, Flexible Work Arrangements, Professional Development'}                            \n",
       "6 {'Employee Referral Programs, Financial Counseling, Health and Wellness Facilities, Casual Dress Code, Flexible Spending Accounts (FSAs)'}            \n",
       "  skills                                                                                                                        \n",
       "1 Sustainable landscape design Native plant selection Water conservation Soil health Green building practices LEED certification\n",
       "2 Construction management Structural design AutoCAD proficiency Project management Site inspection                              \n",
       "3 Geriatric rehabilitation Fall prevention Elderly patient care                                                                 \n",
       "4 Sustainable design principles Energy efficiency LEED certification Green building materials Environmental impact assessment   \n",
       "5 Office administration Calendar management Reception duties Communication skills Record keeping Office supplies management     \n",
       "6 Sustainability practices Environmental management systems Green certifications                                                \n",
       "  Company.Profile                                                                                                                                                                                 \n",
       "1 {\"Sector\":\"Oil & Gas\",\"Industry\":\"Oil and Gas\",\"City\":\"London\",\"State\":\"N/A\",\"Zip\":\"N/A\",\"Website\":\"www.bp.com\",\"Ticker\":\"BP\",\"CEO\":\"Bernard Looney\"}                                           \n",
       "2 {\"Sector\":\"Utilities\",\"Industry\":\"Utilities: Gas and Electric\",\"City\":\"King of Prussia\",\"State\":\"Pennsylvania\",\"Zip\":\"19406\",\"Website\":\"www.ugicorp.com\",\"Ticker\":\"UGI\",\"CEO\":\"Roger Perreault\"}\n",
       "3 {\"Sector\":\"Aerospace and Defense\",\"Industry\":\"Aerospace & Defense\",\"City\":\"Reston\",\"State\":\"Virginia\",\"Zip\":\"20190\",\"Website\":\"www.gd.com\",\"Ticker\":\"GD\",\"CEO\":\"Phebe N. Novakovic\"}            \n",
       "4 {\"Sector\":\"Automotive\",\"Industry\":\"Automotive Retailing, Services\",\"City\":\"Medford\",\"State\":\"Oregon\",\"Zip\":\"97501\",\"Website\":\"www.lithiadriveway.com\",\"Ticker\":\"LAD\",\"CEO\":\"Bryan B. Deboer\"}   \n",
       "5 {\"Sector\":\"Retail\",\"Industry\":\"Automotive Retailing, Services\",\"City\":\"Richmond\",\"State\":\"Virginia\",\"Zip\":\"23238\",\"Website\":\"www.carmax.com\",\"Ticker\":\"KMX\",\"CEO\":\"William D. Nash\"}            \n",
       "6 {\"Sector\":\"Healthcare\",\"Industry\":\"Healthcare\",\"City\":\"Sydney\",\"State\":\"NSW\",\"Zip\":\"2000\",\"Website\":\"https://www.sonichealthcare.com/\",\"Ticker\":\"SHL\",\"CEO\":\"Dr. Colin Goldschmidt\"}            \n",
       "  minRange maxRange Company_Size_Scaled Min_Experience Max_Experience Sector\n",
       "1 61000    128000    0.4895857          4              11             137   \n",
       "2 65000    129000    1.4016207          3              10             202   \n",
       "3 56000    114000   -0.3211153          0              15               5   \n",
       "4 57000    113000   -0.3583372          2              12              17   \n",
       "5 57000    110000    0.3075240          2               9             157   \n",
       "6 57000     81000    0.7180402          4               9              93   \n",
       "  Job.Posting.Month\n",
       "1 2                \n",
       "2 5                \n",
       "3 4                \n",
       "4 7                \n",
       "5 8                \n",
       "6 1                "
      ]
     },
     "metadata": {},
     "output_type": "display_data"
    }
   ],
   "source": [
    "head(df_new)"
   ]
  },
  {
   "cell_type": "code",
   "execution_count": 18,
   "metadata": {
    "vscode": {
     "languageId": "r"
    }
   },
   "outputs": [
    {
     "data": {
      "text/html": [
       "<table class=\"dataframe\">\n",
       "<caption>A data.frame: 6 × 21</caption>\n",
       "<thead>\n",
       "\t<tr><th></th><th scope=col>Experience</th><th scope=col>Qualifications</th><th scope=col>Salary.Range</th><th scope=col>Country</th><th scope=col>Work.Type</th><th scope=col>Company.Size</th><th scope=col>Job.Posting.Date</th><th scope=col>Preference</th><th scope=col>Job.Title</th><th scope=col>Role</th><th scope=col>⋯</th><th scope=col>Benefits</th><th scope=col>skills</th><th scope=col>Company.Profile</th><th scope=col>minRange</th><th scope=col>maxRange</th><th scope=col>Company_Size_Scaled</th><th scope=col>Min_Experience</th><th scope=col>Max_Experience</th><th scope=col>Sector</th><th scope=col>Job.Posting.Month</th></tr>\n",
       "\t<tr><th></th><th scope=col>&lt;chr&gt;</th><th scope=col>&lt;int&gt;</th><th scope=col>&lt;list&gt;</th><th scope=col>&lt;chr&gt;</th><th scope=col>&lt;int&gt;</th><th scope=col>&lt;int&gt;</th><th scope=col>&lt;date&gt;</th><th scope=col>&lt;int&gt;</th><th scope=col>&lt;chr&gt;</th><th scope=col>&lt;chr&gt;</th><th scope=col>⋯</th><th scope=col>&lt;chr&gt;</th><th scope=col>&lt;chr&gt;</th><th scope=col>&lt;chr&gt;</th><th scope=col>&lt;dbl&gt;</th><th scope=col>&lt;dbl&gt;</th><th scope=col>&lt;dbl&gt;</th><th scope=col>&lt;dbl&gt;</th><th scope=col>&lt;dbl&gt;</th><th scope=col>&lt;int&gt;</th><th scope=col>&lt;dbl&gt;</th></tr>\n",
       "</thead>\n",
       "<tbody>\n",
       "\t<tr><th scope=row>1</th><td>4 to 11 Years</td><td> 6</td><td>$61K , $128K</td><td><span style=white-space:pre-wrap>Macedonia, FYR  </span></td><td>5</td><td> 90997</td><td>2023-02-08</td><td>2</td><td><span style=white-space:pre-wrap>Landscape Designer    </span></td><td>Sustainable Landscape Specialist</td><td>⋯</td><td><span style=white-space:pre-wrap>{'Transportation Benefits, Professional Development, Bonuses and Incentive Programs, Profit-Sharing, Employee Discounts'}                             </span></td><td>Sustainable landscape design,Native plant selection,Water conservation,Soil health,Green building practices,LEED certification</td><td><span style=white-space:pre-wrap>{\"Sector\":\"Oil &amp; Gas\",\"Industry\":\"Oil and Gas\",\"City\":\"London\",\"State\":\"N/A\",\"Zip\":\"N/A\",\"Website\":\"www.bp.com\",\"Ticker\":\"BP\",\"CEO\":\"Bernard Looney\"}                                           </span></td><td>61000</td><td>128000</td><td> 0.4895857</td><td>4</td><td>11</td><td>137</td><td>2</td></tr>\n",
       "\t<tr><th scope=row>2</th><td>3 to 10 Years</td><td> 7</td><td>$65K , $129K</td><td>Greenland       </td><td>3</td><td>123218</td><td>2023-05-10</td><td>2</td><td>Structural Engineer   </td><td>Construction Engineer           </td><td>⋯</td><td>{'Health Insurance, Retirement Plans, Flexible Work Arrangements, Employee Assistance Programs (EAP), Bonuses and Incentive Programs'}                </td><td>Construction management,Structural design,AutoCAD proficiency,Project management,Site inspection                              </td><td>{\"Sector\":\"Utilities\",\"Industry\":\"Utilities: Gas and Electric\",\"City\":\"King of Prussia\",\"State\":\"Pennsylvania\",\"Zip\":\"19406\",\"Website\":\"www.ugicorp.com\",\"Ticker\":\"UGI\",\"CEO\":\"Roger Perreault\"}</td><td>65000</td><td>129000</td><td> 1.4016207</td><td>3</td><td>10</td><td>202</td><td>5</td></tr>\n",
       "\t<tr><th scope=row>3</th><td>0 to 15 Years</td><td> 7</td><td>$56K , $114K</td><td><span style=white-space:pre-wrap>Kiribati        </span></td><td>2</td><td> 62356</td><td>2023-04-11</td><td>3</td><td><span style=white-space:pre-wrap>Physical Therapist    </span></td><td><span style=white-space:pre-wrap>Geriatric Physical Therapist    </span></td><td>⋯</td><td><span style=white-space:pre-wrap>{'Casual Dress Code, Social and Recreational Activities, Employee Referral Programs, Health and Wellness Facilities, Life and Disability Insurance'}  </span></td><td><span style=white-space:pre-wrap>Geriatric rehabilitation,Fall prevention,Elderly patient care                                                                 </span></td><td><span style=white-space:pre-wrap>{\"Sector\":\"Aerospace and Defense\",\"Industry\":\"Aerospace &amp; Defense\",\"City\":\"Reston\",\"State\":\"Virginia\",\"Zip\":\"20190\",\"Website\":\"www.gd.com\",\"Ticker\":\"GD\",\"CEO\":\"Phebe N. Novakovic\"}            </span></td><td>56000</td><td>114000</td><td>-0.3211153</td><td>0</td><td>15</td><td><span style=white-space:pre-wrap>  5</span></td><td>4</td></tr>\n",
       "\t<tr><th scope=row>4</th><td>2 to 12 Years</td><td>10</td><td>$57K , $113K</td><td>Papua New Guinea</td><td>3</td><td> 61041</td><td>2023-07-13</td><td>1</td><td>Architect             </td><td>Sustainable Design Specialist   </td><td>⋯</td><td>{'Life and Disability Insurance, Stock Options or Equity Grants, Employee Recognition Programs, Health Insurance, Social and Recreational Activities'}</td><td>Sustainable design principles,Energy efficiency,LEED certification,Green building materials,Environmental impact assessment   </td><td>{\"Sector\":\"Automotive\",\"Industry\":\"Automotive Retailing, Services\",\"City\":\"Medford\",\"State\":\"Oregon\",\"Zip\":\"97501\",\"Website\":\"www.lithiadriveway.com\",\"Ticker\":\"LAD\",\"CEO\":\"Bryan B. Deboer\"}   </td><td>57000</td><td>113000</td><td>-0.3583372</td><td>2</td><td>12</td><td> 17</td><td>7</td></tr>\n",
       "\t<tr><th scope=row>5</th><td>2 to 9 Years </td><td> 1</td><td>$57K , $110K</td><td>Georgia         </td><td>5</td><td> 84565</td><td>2023-08-10</td><td>1</td><td>Office Manager        </td><td>Office Coordinator              </td><td>⋯</td><td>{'Childcare Assistance, Paid Time Off (PTO), Relocation Assistance, Flexible Work Arrangements, Professional Development'}                            </td><td>Office administration,Calendar management,Reception duties,Communication skills,Record keeping,Office supplies management     </td><td>{\"Sector\":\"Retail\",\"Industry\":\"Automotive Retailing, Services\",\"City\":\"Richmond\",\"State\":\"Virginia\",\"Zip\":\"23238\",\"Website\":\"www.carmax.com\",\"Ticker\":\"KMX\",\"CEO\":\"William D. Nash\"}            </td><td>57000</td><td>110000</td><td> 0.3075240</td><td>2</td><td> 9</td><td>157</td><td>8</td></tr>\n",
       "\t<tr><th scope=row>6</th><td>4 to 9 Years </td><td>10</td><td>$57K, $81K</td><td>New Zealand     </td><td>3</td><td> 99068</td><td>2023-01-19</td><td>2</td><td>Environmental Engineer</td><td>Sustainability Specialist       </td><td>⋯</td><td>{'Employee Referral Programs, Financial Counseling, Health and Wellness Facilities, Casual Dress Code, Flexible Spending Accounts (FSAs)'}            </td><td>Sustainability practices,Environmental management systems,Green certifications                                                </td><td>{\"Sector\":\"Healthcare\",\"Industry\":\"Healthcare\",\"City\":\"Sydney\",\"State\":\"NSW\",\"Zip\":\"2000\",\"Website\":\"https://www.sonichealthcare.com/\",\"Ticker\":\"SHL\",\"CEO\":\"Dr. Colin Goldschmidt\"}            </td><td>57000</td><td> 81000</td><td> 0.7180402</td><td>4</td><td> 9</td><td> 93</td><td>1</td></tr>\n",
       "</tbody>\n",
       "</table>\n"
      ],
      "text/latex": [
       "A data.frame: 6 × 21\n",
       "\\begin{tabular}{r|lllllllllllllllllllll}\n",
       "  & Experience & Qualifications & Salary.Range & Country & Work.Type & Company.Size & Job.Posting.Date & Preference & Job.Title & Role & ⋯ & Benefits & skills & Company.Profile & minRange & maxRange & Company\\_Size\\_Scaled & Min\\_Experience & Max\\_Experience & Sector & Job.Posting.Month\\\\\n",
       "  & <chr> & <int> & <list> & <chr> & <int> & <int> & <date> & <int> & <chr> & <chr> & ⋯ & <chr> & <chr> & <chr> & <dbl> & <dbl> & <dbl> & <dbl> & <dbl> & <int> & <dbl>\\\\\n",
       "\\hline\n",
       "\t1 & 4 to 11 Years &  6 & \\$61K , \\$128K & Macedonia, FYR   & 5 &  90997 & 2023-02-08 & 2 & Landscape Designer     & Sustainable Landscape Specialist & ⋯ & \\{'Transportation Benefits, Professional Development, Bonuses and Incentive Programs, Profit-Sharing, Employee Discounts'\\}                              & Sustainable landscape design,Native plant selection,Water conservation,Soil health,Green building practices,LEED certification & \\{\"Sector\":\"Oil \\& Gas\",\"Industry\":\"Oil and Gas\",\"City\":\"London\",\"State\":\"N/A\",\"Zip\":\"N/A\",\"Website\":\"www.bp.com\",\"Ticker\":\"BP\",\"CEO\":\"Bernard Looney\"\\}                                            & 61000 & 128000 &  0.4895857 & 4 & 11 & 137 & 2\\\\\n",
       "\t2 & 3 to 10 Years &  7 & \\$65K , \\$129K & Greenland        & 3 & 123218 & 2023-05-10 & 2 & Structural Engineer    & Construction Engineer            & ⋯ & \\{'Health Insurance, Retirement Plans, Flexible Work Arrangements, Employee Assistance Programs (EAP), Bonuses and Incentive Programs'\\}                 & Construction management,Structural design,AutoCAD proficiency,Project management,Site inspection                               & \\{\"Sector\":\"Utilities\",\"Industry\":\"Utilities: Gas and Electric\",\"City\":\"King of Prussia\",\"State\":\"Pennsylvania\",\"Zip\":\"19406\",\"Website\":\"www.ugicorp.com\",\"Ticker\":\"UGI\",\"CEO\":\"Roger Perreault\"\\} & 65000 & 129000 &  1.4016207 & 3 & 10 & 202 & 5\\\\\n",
       "\t3 & 0 to 15 Years &  7 & \\$56K , \\$114K & Kiribati         & 2 &  62356 & 2023-04-11 & 3 & Physical Therapist     & Geriatric Physical Therapist     & ⋯ & \\{'Casual Dress Code, Social and Recreational Activities, Employee Referral Programs, Health and Wellness Facilities, Life and Disability Insurance'\\}   & Geriatric rehabilitation,Fall prevention,Elderly patient care                                                                  & \\{\"Sector\":\"Aerospace and Defense\",\"Industry\":\"Aerospace \\& Defense\",\"City\":\"Reston\",\"State\":\"Virginia\",\"Zip\":\"20190\",\"Website\":\"www.gd.com\",\"Ticker\":\"GD\",\"CEO\":\"Phebe N. Novakovic\"\\}             & 56000 & 114000 & -0.3211153 & 0 & 15 &   5 & 4\\\\\n",
       "\t4 & 2 to 12 Years & 10 & \\$57K , \\$113K & Papua New Guinea & 3 &  61041 & 2023-07-13 & 1 & Architect              & Sustainable Design Specialist    & ⋯ & \\{'Life and Disability Insurance, Stock Options or Equity Grants, Employee Recognition Programs, Health Insurance, Social and Recreational Activities'\\} & Sustainable design principles,Energy efficiency,LEED certification,Green building materials,Environmental impact assessment    & \\{\"Sector\":\"Automotive\",\"Industry\":\"Automotive Retailing, Services\",\"City\":\"Medford\",\"State\":\"Oregon\",\"Zip\":\"97501\",\"Website\":\"www.lithiadriveway.com\",\"Ticker\":\"LAD\",\"CEO\":\"Bryan B. Deboer\"\\}    & 57000 & 113000 & -0.3583372 & 2 & 12 &  17 & 7\\\\\n",
       "\t5 & 2 to 9 Years  &  1 & \\$57K , \\$110K & Georgia          & 5 &  84565 & 2023-08-10 & 1 & Office Manager         & Office Coordinator               & ⋯ & \\{'Childcare Assistance, Paid Time Off (PTO), Relocation Assistance, Flexible Work Arrangements, Professional Development'\\}                             & Office administration,Calendar management,Reception duties,Communication skills,Record keeping,Office supplies management      & \\{\"Sector\":\"Retail\",\"Industry\":\"Automotive Retailing, Services\",\"City\":\"Richmond\",\"State\":\"Virginia\",\"Zip\":\"23238\",\"Website\":\"www.carmax.com\",\"Ticker\":\"KMX\",\"CEO\":\"William D. Nash\"\\}             & 57000 & 110000 &  0.3075240 & 2 &  9 & 157 & 8\\\\\n",
       "\t6 & 4 to 9 Years  & 10 & \\$57K, \\$81K & New Zealand      & 3 &  99068 & 2023-01-19 & 2 & Environmental Engineer & Sustainability Specialist        & ⋯ & \\{'Employee Referral Programs, Financial Counseling, Health and Wellness Facilities, Casual Dress Code, Flexible Spending Accounts (FSAs)'\\}             & Sustainability practices,Environmental management systems,Green certifications                                                 & \\{\"Sector\":\"Healthcare\",\"Industry\":\"Healthcare\",\"City\":\"Sydney\",\"State\":\"NSW\",\"Zip\":\"2000\",\"Website\":\"https://www.sonichealthcare.com/\",\"Ticker\":\"SHL\",\"CEO\":\"Dr. Colin Goldschmidt\"\\}             & 57000 &  81000 &  0.7180402 & 4 &  9 &  93 & 1\\\\\n",
       "\\end{tabular}\n"
      ],
      "text/markdown": [
       "\n",
       "A data.frame: 6 × 21\n",
       "\n",
       "| <!--/--> | Experience &lt;chr&gt; | Qualifications &lt;int&gt; | Salary.Range &lt;list&gt; | Country &lt;chr&gt; | Work.Type &lt;int&gt; | Company.Size &lt;int&gt; | Job.Posting.Date &lt;date&gt; | Preference &lt;int&gt; | Job.Title &lt;chr&gt; | Role &lt;chr&gt; | ⋯ ⋯ | Benefits &lt;chr&gt; | skills &lt;chr&gt; | Company.Profile &lt;chr&gt; | minRange &lt;dbl&gt; | maxRange &lt;dbl&gt; | Company_Size_Scaled &lt;dbl&gt; | Min_Experience &lt;dbl&gt; | Max_Experience &lt;dbl&gt; | Sector &lt;int&gt; | Job.Posting.Month &lt;dbl&gt; |\n",
       "|---|---|---|---|---|---|---|---|---|---|---|---|---|---|---|---|---|---|---|---|---|---|\n",
       "| 1 | 4 to 11 Years |  6 | $61K , $128K | Macedonia, FYR   | 5 |  90997 | 2023-02-08 | 2 | Landscape Designer     | Sustainable Landscape Specialist | ⋯ | {'Transportation Benefits, Professional Development, Bonuses and Incentive Programs, Profit-Sharing, Employee Discounts'}                              | Sustainable landscape design,Native plant selection,Water conservation,Soil health,Green building practices,LEED certification | {\"Sector\":\"Oil &amp; Gas\",\"Industry\":\"Oil and Gas\",\"City\":\"London\",\"State\":\"N/A\",\"Zip\":\"N/A\",\"Website\":\"www.bp.com\",\"Ticker\":\"BP\",\"CEO\":\"Bernard Looney\"}                                            | 61000 | 128000 |  0.4895857 | 4 | 11 | 137 | 2 |\n",
       "| 2 | 3 to 10 Years |  7 | $65K , $129K | Greenland        | 3 | 123218 | 2023-05-10 | 2 | Structural Engineer    | Construction Engineer            | ⋯ | {'Health Insurance, Retirement Plans, Flexible Work Arrangements, Employee Assistance Programs (EAP), Bonuses and Incentive Programs'}                 | Construction management,Structural design,AutoCAD proficiency,Project management,Site inspection                               | {\"Sector\":\"Utilities\",\"Industry\":\"Utilities: Gas and Electric\",\"City\":\"King of Prussia\",\"State\":\"Pennsylvania\",\"Zip\":\"19406\",\"Website\":\"www.ugicorp.com\",\"Ticker\":\"UGI\",\"CEO\":\"Roger Perreault\"} | 65000 | 129000 |  1.4016207 | 3 | 10 | 202 | 5 |\n",
       "| 3 | 0 to 15 Years |  7 | $56K , $114K | Kiribati         | 2 |  62356 | 2023-04-11 | 3 | Physical Therapist     | Geriatric Physical Therapist     | ⋯ | {'Casual Dress Code, Social and Recreational Activities, Employee Referral Programs, Health and Wellness Facilities, Life and Disability Insurance'}   | Geriatric rehabilitation,Fall prevention,Elderly patient care                                                                  | {\"Sector\":\"Aerospace and Defense\",\"Industry\":\"Aerospace &amp; Defense\",\"City\":\"Reston\",\"State\":\"Virginia\",\"Zip\":\"20190\",\"Website\":\"www.gd.com\",\"Ticker\":\"GD\",\"CEO\":\"Phebe N. Novakovic\"}             | 56000 | 114000 | -0.3211153 | 0 | 15 |   5 | 4 |\n",
       "| 4 | 2 to 12 Years | 10 | $57K , $113K | Papua New Guinea | 3 |  61041 | 2023-07-13 | 1 | Architect              | Sustainable Design Specialist    | ⋯ | {'Life and Disability Insurance, Stock Options or Equity Grants, Employee Recognition Programs, Health Insurance, Social and Recreational Activities'} | Sustainable design principles,Energy efficiency,LEED certification,Green building materials,Environmental impact assessment    | {\"Sector\":\"Automotive\",\"Industry\":\"Automotive Retailing, Services\",\"City\":\"Medford\",\"State\":\"Oregon\",\"Zip\":\"97501\",\"Website\":\"www.lithiadriveway.com\",\"Ticker\":\"LAD\",\"CEO\":\"Bryan B. Deboer\"}    | 57000 | 113000 | -0.3583372 | 2 | 12 |  17 | 7 |\n",
       "| 5 | 2 to 9 Years  |  1 | $57K , $110K | Georgia          | 5 |  84565 | 2023-08-10 | 1 | Office Manager         | Office Coordinator               | ⋯ | {'Childcare Assistance, Paid Time Off (PTO), Relocation Assistance, Flexible Work Arrangements, Professional Development'}                             | Office administration,Calendar management,Reception duties,Communication skills,Record keeping,Office supplies management      | {\"Sector\":\"Retail\",\"Industry\":\"Automotive Retailing, Services\",\"City\":\"Richmond\",\"State\":\"Virginia\",\"Zip\":\"23238\",\"Website\":\"www.carmax.com\",\"Ticker\":\"KMX\",\"CEO\":\"William D. Nash\"}             | 57000 | 110000 |  0.3075240 | 2 |  9 | 157 | 8 |\n",
       "| 6 | 4 to 9 Years  | 10 | $57K, $81K | New Zealand      | 3 |  99068 | 2023-01-19 | 2 | Environmental Engineer | Sustainability Specialist        | ⋯ | {'Employee Referral Programs, Financial Counseling, Health and Wellness Facilities, Casual Dress Code, Flexible Spending Accounts (FSAs)'}             | Sustainability practices,Environmental management systems,Green certifications                                                 | {\"Sector\":\"Healthcare\",\"Industry\":\"Healthcare\",\"City\":\"Sydney\",\"State\":\"NSW\",\"Zip\":\"2000\",\"Website\":\"https://www.sonichealthcare.com/\",\"Ticker\":\"SHL\",\"CEO\":\"Dr. Colin Goldschmidt\"}             | 57000 |  81000 |  0.7180402 | 4 |  9 |  93 | 1 |\n",
       "\n"
      ],
      "text/plain": [
       "  Experience    Qualifications Salary.Range Country          Work.Type\n",
       "1 4 to 11 Years  6             $61K , $128K Macedonia, FYR   5        \n",
       "2 3 to 10 Years  7             $65K , $129K Greenland        3        \n",
       "3 0 to 15 Years  7             $56K , $114K Kiribati         2        \n",
       "4 2 to 12 Years 10             $57K , $113K Papua New Guinea 3        \n",
       "5 2 to 9 Years   1             $57K , $110K Georgia          5        \n",
       "6 4 to 9 Years  10             $57K, $81K   New Zealand      3        \n",
       "  Company.Size Job.Posting.Date Preference Job.Title             \n",
       "1  90997       2023-02-08       2          Landscape Designer    \n",
       "2 123218       2023-05-10       2          Structural Engineer   \n",
       "3  62356       2023-04-11       3          Physical Therapist    \n",
       "4  61041       2023-07-13       1          Architect             \n",
       "5  84565       2023-08-10       1          Office Manager        \n",
       "6  99068       2023-01-19       2          Environmental Engineer\n",
       "  Role                             ⋯\n",
       "1 Sustainable Landscape Specialist ⋯\n",
       "2 Construction Engineer            ⋯\n",
       "3 Geriatric Physical Therapist     ⋯\n",
       "4 Sustainable Design Specialist    ⋯\n",
       "5 Office Coordinator               ⋯\n",
       "6 Sustainability Specialist        ⋯\n",
       "  Benefits                                                                                                                                              \n",
       "1 {'Transportation Benefits, Professional Development, Bonuses and Incentive Programs, Profit-Sharing, Employee Discounts'}                             \n",
       "2 {'Health Insurance, Retirement Plans, Flexible Work Arrangements, Employee Assistance Programs (EAP), Bonuses and Incentive Programs'}                \n",
       "3 {'Casual Dress Code, Social and Recreational Activities, Employee Referral Programs, Health and Wellness Facilities, Life and Disability Insurance'}  \n",
       "4 {'Life and Disability Insurance, Stock Options or Equity Grants, Employee Recognition Programs, Health Insurance, Social and Recreational Activities'}\n",
       "5 {'Childcare Assistance, Paid Time Off (PTO), Relocation Assistance, Flexible Work Arrangements, Professional Development'}                            \n",
       "6 {'Employee Referral Programs, Financial Counseling, Health and Wellness Facilities, Casual Dress Code, Flexible Spending Accounts (FSAs)'}            \n",
       "  skills                                                                                                                        \n",
       "1 Sustainable landscape design,Native plant selection,Water conservation,Soil health,Green building practices,LEED certification\n",
       "2 Construction management,Structural design,AutoCAD proficiency,Project management,Site inspection                              \n",
       "3 Geriatric rehabilitation,Fall prevention,Elderly patient care                                                                 \n",
       "4 Sustainable design principles,Energy efficiency,LEED certification,Green building materials,Environmental impact assessment   \n",
       "5 Office administration,Calendar management,Reception duties,Communication skills,Record keeping,Office supplies management     \n",
       "6 Sustainability practices,Environmental management systems,Green certifications                                                \n",
       "  Company.Profile                                                                                                                                                                                 \n",
       "1 {\"Sector\":\"Oil & Gas\",\"Industry\":\"Oil and Gas\",\"City\":\"London\",\"State\":\"N/A\",\"Zip\":\"N/A\",\"Website\":\"www.bp.com\",\"Ticker\":\"BP\",\"CEO\":\"Bernard Looney\"}                                           \n",
       "2 {\"Sector\":\"Utilities\",\"Industry\":\"Utilities: Gas and Electric\",\"City\":\"King of Prussia\",\"State\":\"Pennsylvania\",\"Zip\":\"19406\",\"Website\":\"www.ugicorp.com\",\"Ticker\":\"UGI\",\"CEO\":\"Roger Perreault\"}\n",
       "3 {\"Sector\":\"Aerospace and Defense\",\"Industry\":\"Aerospace & Defense\",\"City\":\"Reston\",\"State\":\"Virginia\",\"Zip\":\"20190\",\"Website\":\"www.gd.com\",\"Ticker\":\"GD\",\"CEO\":\"Phebe N. Novakovic\"}            \n",
       "4 {\"Sector\":\"Automotive\",\"Industry\":\"Automotive Retailing, Services\",\"City\":\"Medford\",\"State\":\"Oregon\",\"Zip\":\"97501\",\"Website\":\"www.lithiadriveway.com\",\"Ticker\":\"LAD\",\"CEO\":\"Bryan B. Deboer\"}   \n",
       "5 {\"Sector\":\"Retail\",\"Industry\":\"Automotive Retailing, Services\",\"City\":\"Richmond\",\"State\":\"Virginia\",\"Zip\":\"23238\",\"Website\":\"www.carmax.com\",\"Ticker\":\"KMX\",\"CEO\":\"William D. Nash\"}            \n",
       "6 {\"Sector\":\"Healthcare\",\"Industry\":\"Healthcare\",\"City\":\"Sydney\",\"State\":\"NSW\",\"Zip\":\"2000\",\"Website\":\"https://www.sonichealthcare.com/\",\"Ticker\":\"SHL\",\"CEO\":\"Dr. Colin Goldschmidt\"}            \n",
       "  minRange maxRange Company_Size_Scaled Min_Experience Max_Experience Sector\n",
       "1 61000    128000    0.4895857          4              11             137   \n",
       "2 65000    129000    1.4016207          3              10             202   \n",
       "3 56000    114000   -0.3211153          0              15               5   \n",
       "4 57000    113000   -0.3583372          2              12              17   \n",
       "5 57000    110000    0.3075240          2               9             157   \n",
       "6 57000     81000    0.7180402          4               9              93   \n",
       "  Job.Posting.Month\n",
       "1 2                \n",
       "2 5                \n",
       "3 4                \n",
       "4 7                \n",
       "5 8                \n",
       "6 1                "
      ]
     },
     "metadata": {},
     "output_type": "display_data"
    }
   ],
   "source": [
    "separate_skills <- function(text) {\n",
    "  # Regular expression to find whitespace followed by uppercase letters\n",
    "  pattern <- \"(\\\\s+)(?=[A-Z])\"\n",
    "  # Replace matching whitespace with comma\n",
    "  replaced_text <- gsub(pattern, \",\", text, perl = TRUE)\n",
    "  return(replaced_text)\n",
    "}\n",
    "\n",
    "# Example usage:\n",
    "text <- df_new$skills\n",
    "df_new$skills <- separate_skills(text)\n",
    "head(df_new)"
   ]
  },
  {
   "cell_type": "code",
   "execution_count": 19,
   "metadata": {
    "vscode": {
     "languageId": "r"
    }
   },
   "outputs": [
    {
     "data": {
      "text/html": [
       "<table class=\"dataframe\">\n",
       "<caption>A data.frame: 6 × 21</caption>\n",
       "<thead>\n",
       "\t<tr><th></th><th scope=col>Experience</th><th scope=col>Qualifications</th><th scope=col>Salary.Range</th><th scope=col>Country</th><th scope=col>Work.Type</th><th scope=col>Company.Size</th><th scope=col>Job.Posting.Date</th><th scope=col>Preference</th><th scope=col>Job.Title</th><th scope=col>Role</th><th scope=col>⋯</th><th scope=col>Benefits</th><th scope=col>skills</th><th scope=col>Company.Profile</th><th scope=col>minRange</th><th scope=col>maxRange</th><th scope=col>Company_Size_Scaled</th><th scope=col>Min_Experience</th><th scope=col>Max_Experience</th><th scope=col>Sector</th><th scope=col>Job.Posting.Month</th></tr>\n",
       "\t<tr><th></th><th scope=col>&lt;chr&gt;</th><th scope=col>&lt;int&gt;</th><th scope=col>&lt;list&gt;</th><th scope=col>&lt;chr&gt;</th><th scope=col>&lt;int&gt;</th><th scope=col>&lt;int&gt;</th><th scope=col>&lt;date&gt;</th><th scope=col>&lt;int&gt;</th><th scope=col>&lt;chr&gt;</th><th scope=col>&lt;chr&gt;</th><th scope=col>⋯</th><th scope=col>&lt;chr&gt;</th><th scope=col>&lt;list&gt;</th><th scope=col>&lt;chr&gt;</th><th scope=col>&lt;dbl&gt;</th><th scope=col>&lt;dbl&gt;</th><th scope=col>&lt;dbl&gt;</th><th scope=col>&lt;dbl&gt;</th><th scope=col>&lt;dbl&gt;</th><th scope=col>&lt;int&gt;</th><th scope=col>&lt;dbl&gt;</th></tr>\n",
       "</thead>\n",
       "<tbody>\n",
       "\t<tr><th scope=row>1</th><td>4 to 11 Years</td><td> 6</td><td>$61K , $128K</td><td><span style=white-space:pre-wrap>Macedonia, FYR  </span></td><td>5</td><td> 90997</td><td>2023-02-08</td><td>2</td><td><span style=white-space:pre-wrap>Landscape Designer    </span></td><td>Sustainable Landscape Specialist</td><td>⋯</td><td><span style=white-space:pre-wrap>{'Transportation Benefits, Professional Development, Bonuses and Incentive Programs, Profit-Sharing, Employee Discounts'}                             </span></td><td><span style=white-space:pre-wrap>Sustainable landscape design, Native plant selection      , Water conservation          , Soil health                 , Green building practices    , LEED certification          </span></td><td><span style=white-space:pre-wrap>{\"Sector\":\"Oil &amp; Gas\",\"Industry\":\"Oil and Gas\",\"City\":\"London\",\"State\":\"N/A\",\"Zip\":\"N/A\",\"Website\":\"www.bp.com\",\"Ticker\":\"BP\",\"CEO\":\"Bernard Looney\"}                                           </span></td><td>61000</td><td>128000</td><td> 0.4895857</td><td>4</td><td>11</td><td>137</td><td>2</td></tr>\n",
       "\t<tr><th scope=row>2</th><td>3 to 10 Years</td><td> 7</td><td>$65K , $129K</td><td>Greenland       </td><td>3</td><td>123218</td><td>2023-05-10</td><td>2</td><td>Structural Engineer   </td><td>Construction Engineer           </td><td>⋯</td><td>{'Health Insurance, Retirement Plans, Flexible Work Arrangements, Employee Assistance Programs (EAP), Bonuses and Incentive Programs'}                </td><td>Construction management, Structural design      , AutoCAD proficiency    , Project management     , Site inspection        </td><td>{\"Sector\":\"Utilities\",\"Industry\":\"Utilities: Gas and Electric\",\"City\":\"King of Prussia\",\"State\":\"Pennsylvania\",\"Zip\":\"19406\",\"Website\":\"www.ugicorp.com\",\"Ticker\":\"UGI\",\"CEO\":\"Roger Perreault\"}</td><td>65000</td><td>129000</td><td> 1.4016207</td><td>3</td><td>10</td><td>202</td><td>5</td></tr>\n",
       "\t<tr><th scope=row>3</th><td>0 to 15 Years</td><td> 7</td><td>$56K , $114K</td><td><span style=white-space:pre-wrap>Kiribati        </span></td><td>2</td><td> 62356</td><td>2023-04-11</td><td>3</td><td><span style=white-space:pre-wrap>Physical Therapist    </span></td><td><span style=white-space:pre-wrap>Geriatric Physical Therapist    </span></td><td>⋯</td><td><span style=white-space:pre-wrap>{'Casual Dress Code, Social and Recreational Activities, Employee Referral Programs, Health and Wellness Facilities, Life and Disability Insurance'}  </span></td><td><span style=white-space:pre-wrap>Geriatric rehabilitation, Fall prevention         , Elderly patient care    </span></td><td><span style=white-space:pre-wrap>{\"Sector\":\"Aerospace and Defense\",\"Industry\":\"Aerospace &amp; Defense\",\"City\":\"Reston\",\"State\":\"Virginia\",\"Zip\":\"20190\",\"Website\":\"www.gd.com\",\"Ticker\":\"GD\",\"CEO\":\"Phebe N. Novakovic\"}            </span></td><td>56000</td><td>114000</td><td>-0.3211153</td><td>0</td><td>15</td><td><span style=white-space:pre-wrap>  5</span></td><td>4</td></tr>\n",
       "\t<tr><th scope=row>4</th><td>2 to 12 Years</td><td>10</td><td>$57K , $113K</td><td>Papua New Guinea</td><td>3</td><td> 61041</td><td>2023-07-13</td><td>1</td><td>Architect             </td><td>Sustainable Design Specialist   </td><td>⋯</td><td>{'Life and Disability Insurance, Stock Options or Equity Grants, Employee Recognition Programs, Health Insurance, Social and Recreational Activities'}</td><td>Sustainable design principles  , Energy efficiency              , LEED certification             , Green building materials       , Environmental impact assessment</td><td>{\"Sector\":\"Automotive\",\"Industry\":\"Automotive Retailing, Services\",\"City\":\"Medford\",\"State\":\"Oregon\",\"Zip\":\"97501\",\"Website\":\"www.lithiadriveway.com\",\"Ticker\":\"LAD\",\"CEO\":\"Bryan B. Deboer\"}   </td><td>57000</td><td>113000</td><td>-0.3583372</td><td>2</td><td>12</td><td> 17</td><td>7</td></tr>\n",
       "\t<tr><th scope=row>5</th><td>2 to 9 Years </td><td> 1</td><td>$57K , $110K</td><td>Georgia         </td><td>5</td><td> 84565</td><td>2023-08-10</td><td>1</td><td>Office Manager        </td><td>Office Coordinator              </td><td>⋯</td><td>{'Childcare Assistance, Paid Time Off (PTO), Relocation Assistance, Flexible Work Arrangements, Professional Development'}                            </td><td>Office administration     , Calendar management       , Reception duties          , Communication skills      , Record keeping            , Office supplies management</td><td>{\"Sector\":\"Retail\",\"Industry\":\"Automotive Retailing, Services\",\"City\":\"Richmond\",\"State\":\"Virginia\",\"Zip\":\"23238\",\"Website\":\"www.carmax.com\",\"Ticker\":\"KMX\",\"CEO\":\"William D. Nash\"}            </td><td>57000</td><td>110000</td><td> 0.3075240</td><td>2</td><td> 9</td><td>157</td><td>8</td></tr>\n",
       "\t<tr><th scope=row>6</th><td>4 to 9 Years </td><td>10</td><td>$57K, $81K</td><td>New Zealand     </td><td>3</td><td> 99068</td><td>2023-01-19</td><td>2</td><td>Environmental Engineer</td><td>Sustainability Specialist       </td><td>⋯</td><td>{'Employee Referral Programs, Financial Counseling, Health and Wellness Facilities, Casual Dress Code, Flexible Spending Accounts (FSAs)'}            </td><td>Sustainability practices        , Environmental management systems, Green certifications            </td><td>{\"Sector\":\"Healthcare\",\"Industry\":\"Healthcare\",\"City\":\"Sydney\",\"State\":\"NSW\",\"Zip\":\"2000\",\"Website\":\"https://www.sonichealthcare.com/\",\"Ticker\":\"SHL\",\"CEO\":\"Dr. Colin Goldschmidt\"}            </td><td>57000</td><td> 81000</td><td> 0.7180402</td><td>4</td><td> 9</td><td> 93</td><td>1</td></tr>\n",
       "</tbody>\n",
       "</table>\n"
      ],
      "text/latex": [
       "A data.frame: 6 × 21\n",
       "\\begin{tabular}{r|lllllllllllllllllllll}\n",
       "  & Experience & Qualifications & Salary.Range & Country & Work.Type & Company.Size & Job.Posting.Date & Preference & Job.Title & Role & ⋯ & Benefits & skills & Company.Profile & minRange & maxRange & Company\\_Size\\_Scaled & Min\\_Experience & Max\\_Experience & Sector & Job.Posting.Month\\\\\n",
       "  & <chr> & <int> & <list> & <chr> & <int> & <int> & <date> & <int> & <chr> & <chr> & ⋯ & <chr> & <list> & <chr> & <dbl> & <dbl> & <dbl> & <dbl> & <dbl> & <int> & <dbl>\\\\\n",
       "\\hline\n",
       "\t1 & 4 to 11 Years &  6 & \\$61K , \\$128K & Macedonia, FYR   & 5 &  90997 & 2023-02-08 & 2 & Landscape Designer     & Sustainable Landscape Specialist & ⋯ & \\{'Transportation Benefits, Professional Development, Bonuses and Incentive Programs, Profit-Sharing, Employee Discounts'\\}                              & Sustainable landscape design, Native plant selection      , Water conservation          , Soil health                 , Green building practices    , LEED certification           & \\{\"Sector\":\"Oil \\& Gas\",\"Industry\":\"Oil and Gas\",\"City\":\"London\",\"State\":\"N/A\",\"Zip\":\"N/A\",\"Website\":\"www.bp.com\",\"Ticker\":\"BP\",\"CEO\":\"Bernard Looney\"\\}                                            & 61000 & 128000 &  0.4895857 & 4 & 11 & 137 & 2\\\\\n",
       "\t2 & 3 to 10 Years &  7 & \\$65K , \\$129K & Greenland        & 3 & 123218 & 2023-05-10 & 2 & Structural Engineer    & Construction Engineer            & ⋯ & \\{'Health Insurance, Retirement Plans, Flexible Work Arrangements, Employee Assistance Programs (EAP), Bonuses and Incentive Programs'\\}                 & Construction management, Structural design      , AutoCAD proficiency    , Project management     , Site inspection         & \\{\"Sector\":\"Utilities\",\"Industry\":\"Utilities: Gas and Electric\",\"City\":\"King of Prussia\",\"State\":\"Pennsylvania\",\"Zip\":\"19406\",\"Website\":\"www.ugicorp.com\",\"Ticker\":\"UGI\",\"CEO\":\"Roger Perreault\"\\} & 65000 & 129000 &  1.4016207 & 3 & 10 & 202 & 5\\\\\n",
       "\t3 & 0 to 15 Years &  7 & \\$56K , \\$114K & Kiribati         & 2 &  62356 & 2023-04-11 & 3 & Physical Therapist     & Geriatric Physical Therapist     & ⋯ & \\{'Casual Dress Code, Social and Recreational Activities, Employee Referral Programs, Health and Wellness Facilities, Life and Disability Insurance'\\}   & Geriatric rehabilitation, Fall prevention         , Elderly patient care     & \\{\"Sector\":\"Aerospace and Defense\",\"Industry\":\"Aerospace \\& Defense\",\"City\":\"Reston\",\"State\":\"Virginia\",\"Zip\":\"20190\",\"Website\":\"www.gd.com\",\"Ticker\":\"GD\",\"CEO\":\"Phebe N. Novakovic\"\\}             & 56000 & 114000 & -0.3211153 & 0 & 15 &   5 & 4\\\\\n",
       "\t4 & 2 to 12 Years & 10 & \\$57K , \\$113K & Papua New Guinea & 3 &  61041 & 2023-07-13 & 1 & Architect              & Sustainable Design Specialist    & ⋯ & \\{'Life and Disability Insurance, Stock Options or Equity Grants, Employee Recognition Programs, Health Insurance, Social and Recreational Activities'\\} & Sustainable design principles  , Energy efficiency              , LEED certification             , Green building materials       , Environmental impact assessment & \\{\"Sector\":\"Automotive\",\"Industry\":\"Automotive Retailing, Services\",\"City\":\"Medford\",\"State\":\"Oregon\",\"Zip\":\"97501\",\"Website\":\"www.lithiadriveway.com\",\"Ticker\":\"LAD\",\"CEO\":\"Bryan B. Deboer\"\\}    & 57000 & 113000 & -0.3583372 & 2 & 12 &  17 & 7\\\\\n",
       "\t5 & 2 to 9 Years  &  1 & \\$57K , \\$110K & Georgia          & 5 &  84565 & 2023-08-10 & 1 & Office Manager         & Office Coordinator               & ⋯ & \\{'Childcare Assistance, Paid Time Off (PTO), Relocation Assistance, Flexible Work Arrangements, Professional Development'\\}                             & Office administration     , Calendar management       , Reception duties          , Communication skills      , Record keeping            , Office supplies management & \\{\"Sector\":\"Retail\",\"Industry\":\"Automotive Retailing, Services\",\"City\":\"Richmond\",\"State\":\"Virginia\",\"Zip\":\"23238\",\"Website\":\"www.carmax.com\",\"Ticker\":\"KMX\",\"CEO\":\"William D. Nash\"\\}             & 57000 & 110000 &  0.3075240 & 2 &  9 & 157 & 8\\\\\n",
       "\t6 & 4 to 9 Years  & 10 & \\$57K, \\$81K & New Zealand      & 3 &  99068 & 2023-01-19 & 2 & Environmental Engineer & Sustainability Specialist        & ⋯ & \\{'Employee Referral Programs, Financial Counseling, Health and Wellness Facilities, Casual Dress Code, Flexible Spending Accounts (FSAs)'\\}             & Sustainability practices        , Environmental management systems, Green certifications             & \\{\"Sector\":\"Healthcare\",\"Industry\":\"Healthcare\",\"City\":\"Sydney\",\"State\":\"NSW\",\"Zip\":\"2000\",\"Website\":\"https://www.sonichealthcare.com/\",\"Ticker\":\"SHL\",\"CEO\":\"Dr. Colin Goldschmidt\"\\}             & 57000 &  81000 &  0.7180402 & 4 &  9 &  93 & 1\\\\\n",
       "\\end{tabular}\n"
      ],
      "text/markdown": [
       "\n",
       "A data.frame: 6 × 21\n",
       "\n",
       "| <!--/--> | Experience &lt;chr&gt; | Qualifications &lt;int&gt; | Salary.Range &lt;list&gt; | Country &lt;chr&gt; | Work.Type &lt;int&gt; | Company.Size &lt;int&gt; | Job.Posting.Date &lt;date&gt; | Preference &lt;int&gt; | Job.Title &lt;chr&gt; | Role &lt;chr&gt; | ⋯ ⋯ | Benefits &lt;chr&gt; | skills &lt;list&gt; | Company.Profile &lt;chr&gt; | minRange &lt;dbl&gt; | maxRange &lt;dbl&gt; | Company_Size_Scaled &lt;dbl&gt; | Min_Experience &lt;dbl&gt; | Max_Experience &lt;dbl&gt; | Sector &lt;int&gt; | Job.Posting.Month &lt;dbl&gt; |\n",
       "|---|---|---|---|---|---|---|---|---|---|---|---|---|---|---|---|---|---|---|---|---|---|\n",
       "| 1 | 4 to 11 Years |  6 | $61K , $128K | Macedonia, FYR   | 5 |  90997 | 2023-02-08 | 2 | Landscape Designer     | Sustainable Landscape Specialist | ⋯ | {'Transportation Benefits, Professional Development, Bonuses and Incentive Programs, Profit-Sharing, Employee Discounts'}                              | Sustainable landscape design, Native plant selection      , Water conservation          , Soil health                 , Green building practices    , LEED certification           | {\"Sector\":\"Oil &amp; Gas\",\"Industry\":\"Oil and Gas\",\"City\":\"London\",\"State\":\"N/A\",\"Zip\":\"N/A\",\"Website\":\"www.bp.com\",\"Ticker\":\"BP\",\"CEO\":\"Bernard Looney\"}                                            | 61000 | 128000 |  0.4895857 | 4 | 11 | 137 | 2 |\n",
       "| 2 | 3 to 10 Years |  7 | $65K , $129K | Greenland        | 3 | 123218 | 2023-05-10 | 2 | Structural Engineer    | Construction Engineer            | ⋯ | {'Health Insurance, Retirement Plans, Flexible Work Arrangements, Employee Assistance Programs (EAP), Bonuses and Incentive Programs'}                 | Construction management, Structural design      , AutoCAD proficiency    , Project management     , Site inspection         | {\"Sector\":\"Utilities\",\"Industry\":\"Utilities: Gas and Electric\",\"City\":\"King of Prussia\",\"State\":\"Pennsylvania\",\"Zip\":\"19406\",\"Website\":\"www.ugicorp.com\",\"Ticker\":\"UGI\",\"CEO\":\"Roger Perreault\"} | 65000 | 129000 |  1.4016207 | 3 | 10 | 202 | 5 |\n",
       "| 3 | 0 to 15 Years |  7 | $56K , $114K | Kiribati         | 2 |  62356 | 2023-04-11 | 3 | Physical Therapist     | Geriatric Physical Therapist     | ⋯ | {'Casual Dress Code, Social and Recreational Activities, Employee Referral Programs, Health and Wellness Facilities, Life and Disability Insurance'}   | Geriatric rehabilitation, Fall prevention         , Elderly patient care     | {\"Sector\":\"Aerospace and Defense\",\"Industry\":\"Aerospace &amp; Defense\",\"City\":\"Reston\",\"State\":\"Virginia\",\"Zip\":\"20190\",\"Website\":\"www.gd.com\",\"Ticker\":\"GD\",\"CEO\":\"Phebe N. Novakovic\"}             | 56000 | 114000 | -0.3211153 | 0 | 15 |   5 | 4 |\n",
       "| 4 | 2 to 12 Years | 10 | $57K , $113K | Papua New Guinea | 3 |  61041 | 2023-07-13 | 1 | Architect              | Sustainable Design Specialist    | ⋯ | {'Life and Disability Insurance, Stock Options or Equity Grants, Employee Recognition Programs, Health Insurance, Social and Recreational Activities'} | Sustainable design principles  , Energy efficiency              , LEED certification             , Green building materials       , Environmental impact assessment | {\"Sector\":\"Automotive\",\"Industry\":\"Automotive Retailing, Services\",\"City\":\"Medford\",\"State\":\"Oregon\",\"Zip\":\"97501\",\"Website\":\"www.lithiadriveway.com\",\"Ticker\":\"LAD\",\"CEO\":\"Bryan B. Deboer\"}    | 57000 | 113000 | -0.3583372 | 2 | 12 |  17 | 7 |\n",
       "| 5 | 2 to 9 Years  |  1 | $57K , $110K | Georgia          | 5 |  84565 | 2023-08-10 | 1 | Office Manager         | Office Coordinator               | ⋯ | {'Childcare Assistance, Paid Time Off (PTO), Relocation Assistance, Flexible Work Arrangements, Professional Development'}                             | Office administration     , Calendar management       , Reception duties          , Communication skills      , Record keeping            , Office supplies management | {\"Sector\":\"Retail\",\"Industry\":\"Automotive Retailing, Services\",\"City\":\"Richmond\",\"State\":\"Virginia\",\"Zip\":\"23238\",\"Website\":\"www.carmax.com\",\"Ticker\":\"KMX\",\"CEO\":\"William D. Nash\"}             | 57000 | 110000 |  0.3075240 | 2 |  9 | 157 | 8 |\n",
       "| 6 | 4 to 9 Years  | 10 | $57K, $81K | New Zealand      | 3 |  99068 | 2023-01-19 | 2 | Environmental Engineer | Sustainability Specialist        | ⋯ | {'Employee Referral Programs, Financial Counseling, Health and Wellness Facilities, Casual Dress Code, Flexible Spending Accounts (FSAs)'}             | Sustainability practices        , Environmental management systems, Green certifications             | {\"Sector\":\"Healthcare\",\"Industry\":\"Healthcare\",\"City\":\"Sydney\",\"State\":\"NSW\",\"Zip\":\"2000\",\"Website\":\"https://www.sonichealthcare.com/\",\"Ticker\":\"SHL\",\"CEO\":\"Dr. Colin Goldschmidt\"}             | 57000 |  81000 |  0.7180402 | 4 |  9 |  93 | 1 |\n",
       "\n"
      ],
      "text/plain": [
       "  Experience    Qualifications Salary.Range Country          Work.Type\n",
       "1 4 to 11 Years  6             $61K , $128K Macedonia, FYR   5        \n",
       "2 3 to 10 Years  7             $65K , $129K Greenland        3        \n",
       "3 0 to 15 Years  7             $56K , $114K Kiribati         2        \n",
       "4 2 to 12 Years 10             $57K , $113K Papua New Guinea 3        \n",
       "5 2 to 9 Years   1             $57K , $110K Georgia          5        \n",
       "6 4 to 9 Years  10             $57K, $81K   New Zealand      3        \n",
       "  Company.Size Job.Posting.Date Preference Job.Title             \n",
       "1  90997       2023-02-08       2          Landscape Designer    \n",
       "2 123218       2023-05-10       2          Structural Engineer   \n",
       "3  62356       2023-04-11       3          Physical Therapist    \n",
       "4  61041       2023-07-13       1          Architect             \n",
       "5  84565       2023-08-10       1          Office Manager        \n",
       "6  99068       2023-01-19       2          Environmental Engineer\n",
       "  Role                             ⋯\n",
       "1 Sustainable Landscape Specialist ⋯\n",
       "2 Construction Engineer            ⋯\n",
       "3 Geriatric Physical Therapist     ⋯\n",
       "4 Sustainable Design Specialist    ⋯\n",
       "5 Office Coordinator               ⋯\n",
       "6 Sustainability Specialist        ⋯\n",
       "  Benefits                                                                                                                                              \n",
       "1 {'Transportation Benefits, Professional Development, Bonuses and Incentive Programs, Profit-Sharing, Employee Discounts'}                             \n",
       "2 {'Health Insurance, Retirement Plans, Flexible Work Arrangements, Employee Assistance Programs (EAP), Bonuses and Incentive Programs'}                \n",
       "3 {'Casual Dress Code, Social and Recreational Activities, Employee Referral Programs, Health and Wellness Facilities, Life and Disability Insurance'}  \n",
       "4 {'Life and Disability Insurance, Stock Options or Equity Grants, Employee Recognition Programs, Health Insurance, Social and Recreational Activities'}\n",
       "5 {'Childcare Assistance, Paid Time Off (PTO), Relocation Assistance, Flexible Work Arrangements, Professional Development'}                            \n",
       "6 {'Employee Referral Programs, Financial Counseling, Health and Wellness Facilities, Casual Dress Code, Flexible Spending Accounts (FSAs)'}            \n",
       "  skills                                                                                                                                                                            \n",
       "1 Sustainable landscape design, Native plant selection      , Water conservation          , Soil health                 , Green building practices    , LEED certification          \n",
       "2 Construction management, Structural design      , AutoCAD proficiency    , Project management     , Site inspection                                                               \n",
       "3 Geriatric rehabilitation, Fall prevention         , Elderly patient care                                                                                                          \n",
       "4 Sustainable design principles  , Energy efficiency              , LEED certification             , Green building materials       , Environmental impact assessment               \n",
       "5 Office administration     , Calendar management       , Reception duties          , Communication skills      , Record keeping            , Office supplies management            \n",
       "6 Sustainability practices        , Environmental management systems, Green certifications                                                                                          \n",
       "  Company.Profile                                                                                                                                                                                 \n",
       "1 {\"Sector\":\"Oil & Gas\",\"Industry\":\"Oil and Gas\",\"City\":\"London\",\"State\":\"N/A\",\"Zip\":\"N/A\",\"Website\":\"www.bp.com\",\"Ticker\":\"BP\",\"CEO\":\"Bernard Looney\"}                                           \n",
       "2 {\"Sector\":\"Utilities\",\"Industry\":\"Utilities: Gas and Electric\",\"City\":\"King of Prussia\",\"State\":\"Pennsylvania\",\"Zip\":\"19406\",\"Website\":\"www.ugicorp.com\",\"Ticker\":\"UGI\",\"CEO\":\"Roger Perreault\"}\n",
       "3 {\"Sector\":\"Aerospace and Defense\",\"Industry\":\"Aerospace & Defense\",\"City\":\"Reston\",\"State\":\"Virginia\",\"Zip\":\"20190\",\"Website\":\"www.gd.com\",\"Ticker\":\"GD\",\"CEO\":\"Phebe N. Novakovic\"}            \n",
       "4 {\"Sector\":\"Automotive\",\"Industry\":\"Automotive Retailing, Services\",\"City\":\"Medford\",\"State\":\"Oregon\",\"Zip\":\"97501\",\"Website\":\"www.lithiadriveway.com\",\"Ticker\":\"LAD\",\"CEO\":\"Bryan B. Deboer\"}   \n",
       "5 {\"Sector\":\"Retail\",\"Industry\":\"Automotive Retailing, Services\",\"City\":\"Richmond\",\"State\":\"Virginia\",\"Zip\":\"23238\",\"Website\":\"www.carmax.com\",\"Ticker\":\"KMX\",\"CEO\":\"William D. Nash\"}            \n",
       "6 {\"Sector\":\"Healthcare\",\"Industry\":\"Healthcare\",\"City\":\"Sydney\",\"State\":\"NSW\",\"Zip\":\"2000\",\"Website\":\"https://www.sonichealthcare.com/\",\"Ticker\":\"SHL\",\"CEO\":\"Dr. Colin Goldschmidt\"}            \n",
       "  minRange maxRange Company_Size_Scaled Min_Experience Max_Experience Sector\n",
       "1 61000    128000    0.4895857          4              11             137   \n",
       "2 65000    129000    1.4016207          3              10             202   \n",
       "3 56000    114000   -0.3211153          0              15               5   \n",
       "4 57000    113000   -0.3583372          2              12              17   \n",
       "5 57000    110000    0.3075240          2               9             157   \n",
       "6 57000     81000    0.7180402          4               9              93   \n",
       "  Job.Posting.Month\n",
       "1 2                \n",
       "2 5                \n",
       "3 4                \n",
       "4 7                \n",
       "5 8                \n",
       "6 1                "
      ]
     },
     "metadata": {},
     "output_type": "display_data"
    }
   ],
   "source": [
    "# Convert the 'skills' column to character format\n",
    "df_new$skills <- as.character(df_new$skills)\n",
    "\n",
    "# Split the comma-separated values into a list\n",
    "skills_list <- strsplit(df_new$skills, \",\")\n",
    "\n",
    "df_new$skills <- skills_list\n",
    "head(df_new)"
   ]
  },
  {
   "cell_type": "code",
   "execution_count": 20,
   "metadata": {
    "vscode": {
     "languageId": "r"
    }
   },
   "outputs": [
    {
     "name": "stdout",
     "output_type": "stream",
     "text": [
      "[1] \"Transportation Benefits,Professional Development,Bonuses and Incentive Programs,Profit-Sharing,Employee Discounts\"\n"
     ]
    },
    {
     "data": {
      "text/html": [
       "<table class=\"dataframe\">\n",
       "<caption>A data.frame: 6 × 21</caption>\n",
       "<thead>\n",
       "\t<tr><th></th><th scope=col>Experience</th><th scope=col>Qualifications</th><th scope=col>Salary.Range</th><th scope=col>Country</th><th scope=col>Work.Type</th><th scope=col>Company.Size</th><th scope=col>Job.Posting.Date</th><th scope=col>Preference</th><th scope=col>Job.Title</th><th scope=col>Role</th><th scope=col>⋯</th><th scope=col>Benefits</th><th scope=col>skills</th><th scope=col>Company.Profile</th><th scope=col>minRange</th><th scope=col>maxRange</th><th scope=col>Company_Size_Scaled</th><th scope=col>Min_Experience</th><th scope=col>Max_Experience</th><th scope=col>Sector</th><th scope=col>Job.Posting.Month</th></tr>\n",
       "\t<tr><th></th><th scope=col>&lt;chr&gt;</th><th scope=col>&lt;int&gt;</th><th scope=col>&lt;list&gt;</th><th scope=col>&lt;chr&gt;</th><th scope=col>&lt;int&gt;</th><th scope=col>&lt;int&gt;</th><th scope=col>&lt;date&gt;</th><th scope=col>&lt;int&gt;</th><th scope=col>&lt;chr&gt;</th><th scope=col>&lt;chr&gt;</th><th scope=col>⋯</th><th scope=col>&lt;list&gt;</th><th scope=col>&lt;list&gt;</th><th scope=col>&lt;chr&gt;</th><th scope=col>&lt;dbl&gt;</th><th scope=col>&lt;dbl&gt;</th><th scope=col>&lt;dbl&gt;</th><th scope=col>&lt;dbl&gt;</th><th scope=col>&lt;dbl&gt;</th><th scope=col>&lt;int&gt;</th><th scope=col>&lt;dbl&gt;</th></tr>\n",
       "</thead>\n",
       "<tbody>\n",
       "\t<tr><th scope=row>1</th><td>4 to 11 Years</td><td> 6</td><td>$61K , $128K</td><td><span style=white-space:pre-wrap>Macedonia, FYR  </span></td><td>5</td><td> 90997</td><td>2023-02-08</td><td>2</td><td><span style=white-space:pre-wrap>Landscape Designer    </span></td><td>Sustainable Landscape Specialist</td><td>⋯</td><td><span style=white-space:pre-wrap>Transportation Benefits       , Professional Development      , Bonuses and Incentive Programs, Profit-Sharing                , Employee Discounts            </span></td><td><span style=white-space:pre-wrap>Sustainable landscape design, Native plant selection      , Water conservation          , Soil health                 , Green building practices    , LEED certification          </span></td><td><span style=white-space:pre-wrap>{\"Sector\":\"Oil &amp; Gas\",\"Industry\":\"Oil and Gas\",\"City\":\"London\",\"State\":\"N/A\",\"Zip\":\"N/A\",\"Website\":\"www.bp.com\",\"Ticker\":\"BP\",\"CEO\":\"Bernard Looney\"}                                           </span></td><td>61000</td><td>128000</td><td> 0.4895857</td><td>4</td><td>11</td><td>137</td><td>2</td></tr>\n",
       "\t<tr><th scope=row>2</th><td>3 to 10 Years</td><td> 7</td><td>$65K , $129K</td><td>Greenland       </td><td>3</td><td>123218</td><td>2023-05-10</td><td>2</td><td>Structural Engineer   </td><td>Construction Engineer           </td><td>⋯</td><td>Health Insurance                  , Retirement Plans                  , Flexible Work Arrangements        , Employee Assistance Programs (EAP), Bonuses and Incentive Programs    </td><td>Construction management, Structural design      , AutoCAD proficiency    , Project management     , Site inspection        </td><td>{\"Sector\":\"Utilities\",\"Industry\":\"Utilities: Gas and Electric\",\"City\":\"King of Prussia\",\"State\":\"Pennsylvania\",\"Zip\":\"19406\",\"Website\":\"www.ugicorp.com\",\"Ticker\":\"UGI\",\"CEO\":\"Roger Perreault\"}</td><td>65000</td><td>129000</td><td> 1.4016207</td><td>3</td><td>10</td><td>202</td><td>5</td></tr>\n",
       "\t<tr><th scope=row>3</th><td>0 to 15 Years</td><td> 7</td><td>$56K , $114K</td><td><span style=white-space:pre-wrap>Kiribati        </span></td><td>2</td><td> 62356</td><td>2023-04-11</td><td>3</td><td><span style=white-space:pre-wrap>Physical Therapist    </span></td><td><span style=white-space:pre-wrap>Geriatric Physical Therapist    </span></td><td>⋯</td><td><span style=white-space:pre-wrap>Casual Dress Code                 , Social and Recreational Activities, Employee Referral Programs        , Health and Wellness Facilities    , Life and Disability Insurance     </span></td><td><span style=white-space:pre-wrap>Geriatric rehabilitation, Fall prevention         , Elderly patient care    </span></td><td><span style=white-space:pre-wrap>{\"Sector\":\"Aerospace and Defense\",\"Industry\":\"Aerospace &amp; Defense\",\"City\":\"Reston\",\"State\":\"Virginia\",\"Zip\":\"20190\",\"Website\":\"www.gd.com\",\"Ticker\":\"GD\",\"CEO\":\"Phebe N. Novakovic\"}            </span></td><td>56000</td><td>114000</td><td>-0.3211153</td><td>0</td><td>15</td><td><span style=white-space:pre-wrap>  5</span></td><td>4</td></tr>\n",
       "\t<tr><th scope=row>4</th><td>2 to 12 Years</td><td>10</td><td>$57K , $113K</td><td>Papua New Guinea</td><td>3</td><td> 61041</td><td>2023-07-13</td><td>1</td><td>Architect             </td><td>Sustainable Design Specialist   </td><td>⋯</td><td>Life and Disability Insurance     , Stock Options or Equity Grants    , Employee Recognition Programs     , Health Insurance                  , Social and Recreational Activities</td><td>Sustainable design principles  , Energy efficiency              , LEED certification             , Green building materials       , Environmental impact assessment</td><td>{\"Sector\":\"Automotive\",\"Industry\":\"Automotive Retailing, Services\",\"City\":\"Medford\",\"State\":\"Oregon\",\"Zip\":\"97501\",\"Website\":\"www.lithiadriveway.com\",\"Ticker\":\"LAD\",\"CEO\":\"Bryan B. Deboer\"}   </td><td>57000</td><td>113000</td><td>-0.3583372</td><td>2</td><td>12</td><td> 17</td><td>7</td></tr>\n",
       "\t<tr><th scope=row>5</th><td>2 to 9 Years </td><td> 1</td><td>$57K , $110K</td><td>Georgia         </td><td>5</td><td> 84565</td><td>2023-08-10</td><td>1</td><td>Office Manager        </td><td>Office Coordinator              </td><td>⋯</td><td>Childcare Assistance      , Paid Time Off (PTO)       , Relocation Assistance     , Flexible Work Arrangements, Professional Development  </td><td>Office administration     , Calendar management       , Reception duties          , Communication skills      , Record keeping            , Office supplies management</td><td>{\"Sector\":\"Retail\",\"Industry\":\"Automotive Retailing, Services\",\"City\":\"Richmond\",\"State\":\"Virginia\",\"Zip\":\"23238\",\"Website\":\"www.carmax.com\",\"Ticker\":\"KMX\",\"CEO\":\"William D. Nash\"}            </td><td>57000</td><td>110000</td><td> 0.3075240</td><td>2</td><td> 9</td><td>157</td><td>8</td></tr>\n",
       "\t<tr><th scope=row>6</th><td>4 to 9 Years </td><td>10</td><td>$57K, $81K</td><td>New Zealand     </td><td>3</td><td> 99068</td><td>2023-01-19</td><td>2</td><td>Environmental Engineer</td><td>Sustainability Specialist       </td><td>⋯</td><td>Employee Referral Programs       , Financial Counseling             , Health and Wellness Facilities   , Casual Dress Code                , Flexible Spending Accounts (FSAs)</td><td>Sustainability practices        , Environmental management systems, Green certifications            </td><td>{\"Sector\":\"Healthcare\",\"Industry\":\"Healthcare\",\"City\":\"Sydney\",\"State\":\"NSW\",\"Zip\":\"2000\",\"Website\":\"https://www.sonichealthcare.com/\",\"Ticker\":\"SHL\",\"CEO\":\"Dr. Colin Goldschmidt\"}            </td><td>57000</td><td> 81000</td><td> 0.7180402</td><td>4</td><td> 9</td><td> 93</td><td>1</td></tr>\n",
       "</tbody>\n",
       "</table>\n"
      ],
      "text/latex": [
       "A data.frame: 6 × 21\n",
       "\\begin{tabular}{r|lllllllllllllllllllll}\n",
       "  & Experience & Qualifications & Salary.Range & Country & Work.Type & Company.Size & Job.Posting.Date & Preference & Job.Title & Role & ⋯ & Benefits & skills & Company.Profile & minRange & maxRange & Company\\_Size\\_Scaled & Min\\_Experience & Max\\_Experience & Sector & Job.Posting.Month\\\\\n",
       "  & <chr> & <int> & <list> & <chr> & <int> & <int> & <date> & <int> & <chr> & <chr> & ⋯ & <list> & <list> & <chr> & <dbl> & <dbl> & <dbl> & <dbl> & <dbl> & <int> & <dbl>\\\\\n",
       "\\hline\n",
       "\t1 & 4 to 11 Years &  6 & \\$61K , \\$128K & Macedonia, FYR   & 5 &  90997 & 2023-02-08 & 2 & Landscape Designer     & Sustainable Landscape Specialist & ⋯ & Transportation Benefits       , Professional Development      , Bonuses and Incentive Programs, Profit-Sharing                , Employee Discounts             & Sustainable landscape design, Native plant selection      , Water conservation          , Soil health                 , Green building practices    , LEED certification           & \\{\"Sector\":\"Oil \\& Gas\",\"Industry\":\"Oil and Gas\",\"City\":\"London\",\"State\":\"N/A\",\"Zip\":\"N/A\",\"Website\":\"www.bp.com\",\"Ticker\":\"BP\",\"CEO\":\"Bernard Looney\"\\}                                            & 61000 & 128000 &  0.4895857 & 4 & 11 & 137 & 2\\\\\n",
       "\t2 & 3 to 10 Years &  7 & \\$65K , \\$129K & Greenland        & 3 & 123218 & 2023-05-10 & 2 & Structural Engineer    & Construction Engineer            & ⋯ & Health Insurance                  , Retirement Plans                  , Flexible Work Arrangements        , Employee Assistance Programs (EAP), Bonuses and Incentive Programs     & Construction management, Structural design      , AutoCAD proficiency    , Project management     , Site inspection         & \\{\"Sector\":\"Utilities\",\"Industry\":\"Utilities: Gas and Electric\",\"City\":\"King of Prussia\",\"State\":\"Pennsylvania\",\"Zip\":\"19406\",\"Website\":\"www.ugicorp.com\",\"Ticker\":\"UGI\",\"CEO\":\"Roger Perreault\"\\} & 65000 & 129000 &  1.4016207 & 3 & 10 & 202 & 5\\\\\n",
       "\t3 & 0 to 15 Years &  7 & \\$56K , \\$114K & Kiribati         & 2 &  62356 & 2023-04-11 & 3 & Physical Therapist     & Geriatric Physical Therapist     & ⋯ & Casual Dress Code                 , Social and Recreational Activities, Employee Referral Programs        , Health and Wellness Facilities    , Life and Disability Insurance      & Geriatric rehabilitation, Fall prevention         , Elderly patient care     & \\{\"Sector\":\"Aerospace and Defense\",\"Industry\":\"Aerospace \\& Defense\",\"City\":\"Reston\",\"State\":\"Virginia\",\"Zip\":\"20190\",\"Website\":\"www.gd.com\",\"Ticker\":\"GD\",\"CEO\":\"Phebe N. Novakovic\"\\}             & 56000 & 114000 & -0.3211153 & 0 & 15 &   5 & 4\\\\\n",
       "\t4 & 2 to 12 Years & 10 & \\$57K , \\$113K & Papua New Guinea & 3 &  61041 & 2023-07-13 & 1 & Architect              & Sustainable Design Specialist    & ⋯ & Life and Disability Insurance     , Stock Options or Equity Grants    , Employee Recognition Programs     , Health Insurance                  , Social and Recreational Activities & Sustainable design principles  , Energy efficiency              , LEED certification             , Green building materials       , Environmental impact assessment & \\{\"Sector\":\"Automotive\",\"Industry\":\"Automotive Retailing, Services\",\"City\":\"Medford\",\"State\":\"Oregon\",\"Zip\":\"97501\",\"Website\":\"www.lithiadriveway.com\",\"Ticker\":\"LAD\",\"CEO\":\"Bryan B. Deboer\"\\}    & 57000 & 113000 & -0.3583372 & 2 & 12 &  17 & 7\\\\\n",
       "\t5 & 2 to 9 Years  &  1 & \\$57K , \\$110K & Georgia          & 5 &  84565 & 2023-08-10 & 1 & Office Manager         & Office Coordinator               & ⋯ & Childcare Assistance      , Paid Time Off (PTO)       , Relocation Assistance     , Flexible Work Arrangements, Professional Development   & Office administration     , Calendar management       , Reception duties          , Communication skills      , Record keeping            , Office supplies management & \\{\"Sector\":\"Retail\",\"Industry\":\"Automotive Retailing, Services\",\"City\":\"Richmond\",\"State\":\"Virginia\",\"Zip\":\"23238\",\"Website\":\"www.carmax.com\",\"Ticker\":\"KMX\",\"CEO\":\"William D. Nash\"\\}             & 57000 & 110000 &  0.3075240 & 2 &  9 & 157 & 8\\\\\n",
       "\t6 & 4 to 9 Years  & 10 & \\$57K, \\$81K & New Zealand      & 3 &  99068 & 2023-01-19 & 2 & Environmental Engineer & Sustainability Specialist        & ⋯ & Employee Referral Programs       , Financial Counseling             , Health and Wellness Facilities   , Casual Dress Code                , Flexible Spending Accounts (FSAs) & Sustainability practices        , Environmental management systems, Green certifications             & \\{\"Sector\":\"Healthcare\",\"Industry\":\"Healthcare\",\"City\":\"Sydney\",\"State\":\"NSW\",\"Zip\":\"2000\",\"Website\":\"https://www.sonichealthcare.com/\",\"Ticker\":\"SHL\",\"CEO\":\"Dr. Colin Goldschmidt\"\\}             & 57000 &  81000 &  0.7180402 & 4 &  9 &  93 & 1\\\\\n",
       "\\end{tabular}\n"
      ],
      "text/markdown": [
       "\n",
       "A data.frame: 6 × 21\n",
       "\n",
       "| <!--/--> | Experience &lt;chr&gt; | Qualifications &lt;int&gt; | Salary.Range &lt;list&gt; | Country &lt;chr&gt; | Work.Type &lt;int&gt; | Company.Size &lt;int&gt; | Job.Posting.Date &lt;date&gt; | Preference &lt;int&gt; | Job.Title &lt;chr&gt; | Role &lt;chr&gt; | ⋯ ⋯ | Benefits &lt;list&gt; | skills &lt;list&gt; | Company.Profile &lt;chr&gt; | minRange &lt;dbl&gt; | maxRange &lt;dbl&gt; | Company_Size_Scaled &lt;dbl&gt; | Min_Experience &lt;dbl&gt; | Max_Experience &lt;dbl&gt; | Sector &lt;int&gt; | Job.Posting.Month &lt;dbl&gt; |\n",
       "|---|---|---|---|---|---|---|---|---|---|---|---|---|---|---|---|---|---|---|---|---|---|\n",
       "| 1 | 4 to 11 Years |  6 | $61K , $128K | Macedonia, FYR   | 5 |  90997 | 2023-02-08 | 2 | Landscape Designer     | Sustainable Landscape Specialist | ⋯ | Transportation Benefits       , Professional Development      , Bonuses and Incentive Programs, Profit-Sharing                , Employee Discounts             | Sustainable landscape design, Native plant selection      , Water conservation          , Soil health                 , Green building practices    , LEED certification           | {\"Sector\":\"Oil &amp; Gas\",\"Industry\":\"Oil and Gas\",\"City\":\"London\",\"State\":\"N/A\",\"Zip\":\"N/A\",\"Website\":\"www.bp.com\",\"Ticker\":\"BP\",\"CEO\":\"Bernard Looney\"}                                            | 61000 | 128000 |  0.4895857 | 4 | 11 | 137 | 2 |\n",
       "| 2 | 3 to 10 Years |  7 | $65K , $129K | Greenland        | 3 | 123218 | 2023-05-10 | 2 | Structural Engineer    | Construction Engineer            | ⋯ | Health Insurance                  , Retirement Plans                  , Flexible Work Arrangements        , Employee Assistance Programs (EAP), Bonuses and Incentive Programs     | Construction management, Structural design      , AutoCAD proficiency    , Project management     , Site inspection         | {\"Sector\":\"Utilities\",\"Industry\":\"Utilities: Gas and Electric\",\"City\":\"King of Prussia\",\"State\":\"Pennsylvania\",\"Zip\":\"19406\",\"Website\":\"www.ugicorp.com\",\"Ticker\":\"UGI\",\"CEO\":\"Roger Perreault\"} | 65000 | 129000 |  1.4016207 | 3 | 10 | 202 | 5 |\n",
       "| 3 | 0 to 15 Years |  7 | $56K , $114K | Kiribati         | 2 |  62356 | 2023-04-11 | 3 | Physical Therapist     | Geriatric Physical Therapist     | ⋯ | Casual Dress Code                 , Social and Recreational Activities, Employee Referral Programs        , Health and Wellness Facilities    , Life and Disability Insurance      | Geriatric rehabilitation, Fall prevention         , Elderly patient care     | {\"Sector\":\"Aerospace and Defense\",\"Industry\":\"Aerospace &amp; Defense\",\"City\":\"Reston\",\"State\":\"Virginia\",\"Zip\":\"20190\",\"Website\":\"www.gd.com\",\"Ticker\":\"GD\",\"CEO\":\"Phebe N. Novakovic\"}             | 56000 | 114000 | -0.3211153 | 0 | 15 |   5 | 4 |\n",
       "| 4 | 2 to 12 Years | 10 | $57K , $113K | Papua New Guinea | 3 |  61041 | 2023-07-13 | 1 | Architect              | Sustainable Design Specialist    | ⋯ | Life and Disability Insurance     , Stock Options or Equity Grants    , Employee Recognition Programs     , Health Insurance                  , Social and Recreational Activities | Sustainable design principles  , Energy efficiency              , LEED certification             , Green building materials       , Environmental impact assessment | {\"Sector\":\"Automotive\",\"Industry\":\"Automotive Retailing, Services\",\"City\":\"Medford\",\"State\":\"Oregon\",\"Zip\":\"97501\",\"Website\":\"www.lithiadriveway.com\",\"Ticker\":\"LAD\",\"CEO\":\"Bryan B. Deboer\"}    | 57000 | 113000 | -0.3583372 | 2 | 12 |  17 | 7 |\n",
       "| 5 | 2 to 9 Years  |  1 | $57K , $110K | Georgia          | 5 |  84565 | 2023-08-10 | 1 | Office Manager         | Office Coordinator               | ⋯ | Childcare Assistance      , Paid Time Off (PTO)       , Relocation Assistance     , Flexible Work Arrangements, Professional Development   | Office administration     , Calendar management       , Reception duties          , Communication skills      , Record keeping            , Office supplies management | {\"Sector\":\"Retail\",\"Industry\":\"Automotive Retailing, Services\",\"City\":\"Richmond\",\"State\":\"Virginia\",\"Zip\":\"23238\",\"Website\":\"www.carmax.com\",\"Ticker\":\"KMX\",\"CEO\":\"William D. Nash\"}             | 57000 | 110000 |  0.3075240 | 2 |  9 | 157 | 8 |\n",
       "| 6 | 4 to 9 Years  | 10 | $57K, $81K | New Zealand      | 3 |  99068 | 2023-01-19 | 2 | Environmental Engineer | Sustainability Specialist        | ⋯ | Employee Referral Programs       , Financial Counseling             , Health and Wellness Facilities   , Casual Dress Code                , Flexible Spending Accounts (FSAs) | Sustainability practices        , Environmental management systems, Green certifications             | {\"Sector\":\"Healthcare\",\"Industry\":\"Healthcare\",\"City\":\"Sydney\",\"State\":\"NSW\",\"Zip\":\"2000\",\"Website\":\"https://www.sonichealthcare.com/\",\"Ticker\":\"SHL\",\"CEO\":\"Dr. Colin Goldschmidt\"}             | 57000 |  81000 |  0.7180402 | 4 |  9 |  93 | 1 |\n",
       "\n"
      ],
      "text/plain": [
       "  Experience    Qualifications Salary.Range Country          Work.Type\n",
       "1 4 to 11 Years  6             $61K , $128K Macedonia, FYR   5        \n",
       "2 3 to 10 Years  7             $65K , $129K Greenland        3        \n",
       "3 0 to 15 Years  7             $56K , $114K Kiribati         2        \n",
       "4 2 to 12 Years 10             $57K , $113K Papua New Guinea 3        \n",
       "5 2 to 9 Years   1             $57K , $110K Georgia          5        \n",
       "6 4 to 9 Years  10             $57K, $81K   New Zealand      3        \n",
       "  Company.Size Job.Posting.Date Preference Job.Title             \n",
       "1  90997       2023-02-08       2          Landscape Designer    \n",
       "2 123218       2023-05-10       2          Structural Engineer   \n",
       "3  62356       2023-04-11       3          Physical Therapist    \n",
       "4  61041       2023-07-13       1          Architect             \n",
       "5  84565       2023-08-10       1          Office Manager        \n",
       "6  99068       2023-01-19       2          Environmental Engineer\n",
       "  Role                             ⋯\n",
       "1 Sustainable Landscape Specialist ⋯\n",
       "2 Construction Engineer            ⋯\n",
       "3 Geriatric Physical Therapist     ⋯\n",
       "4 Sustainable Design Specialist    ⋯\n",
       "5 Office Coordinator               ⋯\n",
       "6 Sustainability Specialist        ⋯\n",
       "  Benefits                                                                                                                                                                          \n",
       "1 Transportation Benefits       , Professional Development      , Bonuses and Incentive Programs, Profit-Sharing                , Employee Discounts                                \n",
       "2 Health Insurance                  , Retirement Plans                  , Flexible Work Arrangements        , Employee Assistance Programs (EAP), Bonuses and Incentive Programs    \n",
       "3 Casual Dress Code                 , Social and Recreational Activities, Employee Referral Programs        , Health and Wellness Facilities    , Life and Disability Insurance     \n",
       "4 Life and Disability Insurance     , Stock Options or Equity Grants    , Employee Recognition Programs     , Health Insurance                  , Social and Recreational Activities\n",
       "5 Childcare Assistance      , Paid Time Off (PTO)       , Relocation Assistance     , Flexible Work Arrangements, Professional Development                                          \n",
       "6 Employee Referral Programs       , Financial Counseling             , Health and Wellness Facilities   , Casual Dress Code                , Flexible Spending Accounts (FSAs)     \n",
       "  skills                                                                                                                                                                            \n",
       "1 Sustainable landscape design, Native plant selection      , Water conservation          , Soil health                 , Green building practices    , LEED certification          \n",
       "2 Construction management, Structural design      , AutoCAD proficiency    , Project management     , Site inspection                                                               \n",
       "3 Geriatric rehabilitation, Fall prevention         , Elderly patient care                                                                                                          \n",
       "4 Sustainable design principles  , Energy efficiency              , LEED certification             , Green building materials       , Environmental impact assessment               \n",
       "5 Office administration     , Calendar management       , Reception duties          , Communication skills      , Record keeping            , Office supplies management            \n",
       "6 Sustainability practices        , Environmental management systems, Green certifications                                                                                          \n",
       "  Company.Profile                                                                                                                                                                                 \n",
       "1 {\"Sector\":\"Oil & Gas\",\"Industry\":\"Oil and Gas\",\"City\":\"London\",\"State\":\"N/A\",\"Zip\":\"N/A\",\"Website\":\"www.bp.com\",\"Ticker\":\"BP\",\"CEO\":\"Bernard Looney\"}                                           \n",
       "2 {\"Sector\":\"Utilities\",\"Industry\":\"Utilities: Gas and Electric\",\"City\":\"King of Prussia\",\"State\":\"Pennsylvania\",\"Zip\":\"19406\",\"Website\":\"www.ugicorp.com\",\"Ticker\":\"UGI\",\"CEO\":\"Roger Perreault\"}\n",
       "3 {\"Sector\":\"Aerospace and Defense\",\"Industry\":\"Aerospace & Defense\",\"City\":\"Reston\",\"State\":\"Virginia\",\"Zip\":\"20190\",\"Website\":\"www.gd.com\",\"Ticker\":\"GD\",\"CEO\":\"Phebe N. Novakovic\"}            \n",
       "4 {\"Sector\":\"Automotive\",\"Industry\":\"Automotive Retailing, Services\",\"City\":\"Medford\",\"State\":\"Oregon\",\"Zip\":\"97501\",\"Website\":\"www.lithiadriveway.com\",\"Ticker\":\"LAD\",\"CEO\":\"Bryan B. Deboer\"}   \n",
       "5 {\"Sector\":\"Retail\",\"Industry\":\"Automotive Retailing, Services\",\"City\":\"Richmond\",\"State\":\"Virginia\",\"Zip\":\"23238\",\"Website\":\"www.carmax.com\",\"Ticker\":\"KMX\",\"CEO\":\"William D. Nash\"}            \n",
       "6 {\"Sector\":\"Healthcare\",\"Industry\":\"Healthcare\",\"City\":\"Sydney\",\"State\":\"NSW\",\"Zip\":\"2000\",\"Website\":\"https://www.sonichealthcare.com/\",\"Ticker\":\"SHL\",\"CEO\":\"Dr. Colin Goldschmidt\"}            \n",
       "  minRange maxRange Company_Size_Scaled Min_Experience Max_Experience Sector\n",
       "1 61000    128000    0.4895857          4              11             137   \n",
       "2 65000    129000    1.4016207          3              10             202   \n",
       "3 56000    114000   -0.3211153          0              15               5   \n",
       "4 57000    113000   -0.3583372          2              12              17   \n",
       "5 57000    110000    0.3075240          2               9             157   \n",
       "6 57000     81000    0.7180402          4               9              93   \n",
       "  Job.Posting.Month\n",
       "1 2                \n",
       "2 5                \n",
       "3 4                \n",
       "4 7                \n",
       "5 8                \n",
       "6 1                "
      ]
     },
     "metadata": {},
     "output_type": "display_data"
    }
   ],
   "source": [
    "# Remove curly brackets and single quotes\n",
    "df_new$Benefits <- as.character(df_new$Benefits)\n",
    "df_new$Benefits <- gsub(\"^\\\\{|\\\\}|'\", \"\", df_new$Benefits)\n",
    "df_new$Benefits <- gsub(\",\\\\s+\", \",\", df_new$Benefits)\n",
    "\n",
    "print(df_new$Benefits[1])\n",
    "\n",
    "# Split the comma-separated values into a list\n",
    "Benefits_list <- strsplit(df_new$Benefits, \",\")\n",
    "\n",
    "df_new$Benefits <- Benefits_list\n",
    "head(df_new)\n"
   ]
  },
  {
   "cell_type": "code",
   "execution_count": 21,
   "metadata": {
    "vscode": {
     "languageId": "r"
    }
   },
   "outputs": [
    {
     "name": "stdout",
     "output_type": "stream",
     "text": [
      "[[1]]\n",
      "[1] \"Transportation Benefits\"        \"Professional Development\"      \n",
      "[3] \"Bonuses and Incentive Programs\" \"Profit-Sharing\"                \n",
      "[5] \"Employee Discounts\"            \n",
      "\n"
     ]
    }
   ],
   "source": [
    "\n",
    "print(df_new$Benefits[1])"
   ]
  }
 ],
 "metadata": {
  "kernelspec": {
   "display_name": "R",
   "language": "R",
   "name": "ir"
  },
  "language_info": {
   "codemirror_mode": "r",
   "file_extension": ".r",
   "mimetype": "text/x-r-source",
   "name": "R",
   "pygments_lexer": "r",
   "version": "4.3.2"
  }
 },
 "nbformat": 4,
 "nbformat_minor": 2
}

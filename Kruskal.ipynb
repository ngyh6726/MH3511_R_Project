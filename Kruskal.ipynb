{
 "cells": [
  {
   "cell_type": "code",
   "execution_count": 1,
   "metadata": {
    "vscode": {
     "languageId": "r"
    }
   },
   "outputs": [
    {
     "name": "stderr",
     "output_type": "stream",
     "text": [
      "Warning message:\n",
      "\"package 'dplyr' was built under R version 4.3.3\"\n",
      "\n",
      "Attaching package: 'dplyr'\n",
      "\n",
      "\n",
      "The following objects are masked from 'package:stats':\n",
      "\n",
      "    filter, lag\n",
      "\n",
      "\n",
      "The following objects are masked from 'package:base':\n",
      "\n",
      "    intersect, setdiff, setequal, union\n",
      "\n",
      "\n"
     ]
    }
   ],
   "source": [
    "library(dplyr)"
   ]
  },
  {
   "cell_type": "code",
   "execution_count": 2,
   "metadata": {
    "vscode": {
     "languageId": "r"
    }
   },
   "outputs": [
    {
     "data": {
      "text/html": [
       "<table class=\"dataframe\">\n",
       "<caption>A data.frame: 5 × 20</caption>\n",
       "<thead>\n",
       "\t<tr><th></th><th scope=col>Job.Title</th><th scope=col>Rating</th><th scope=col>Size</th><th scope=col>Type.of.ownership</th><th scope=col>Sector</th><th scope=col>Revenue</th><th scope=col>min_salary</th><th scope=col>max_salary</th><th scope=col>avg_salary</th><th scope=col>job_state</th><th scope=col>company_age</th><th scope=col>python</th><th scope=col>excel</th><th scope=col>hadoop</th><th scope=col>spark</th><th scope=col>aws</th><th scope=col>tableau</th><th scope=col>big_data</th><th scope=col>job_simp</th><th scope=col>seniority</th></tr>\n",
       "\t<tr><th></th><th scope=col>&lt;chr&gt;</th><th scope=col>&lt;dbl&gt;</th><th scope=col>&lt;chr&gt;</th><th scope=col>&lt;chr&gt;</th><th scope=col>&lt;chr&gt;</th><th scope=col>&lt;chr&gt;</th><th scope=col>&lt;int&gt;</th><th scope=col>&lt;int&gt;</th><th scope=col>&lt;int&gt;</th><th scope=col>&lt;chr&gt;</th><th scope=col>&lt;int&gt;</th><th scope=col>&lt;int&gt;</th><th scope=col>&lt;int&gt;</th><th scope=col>&lt;int&gt;</th><th scope=col>&lt;int&gt;</th><th scope=col>&lt;int&gt;</th><th scope=col>&lt;int&gt;</th><th scope=col>&lt;int&gt;</th><th scope=col>&lt;chr&gt;</th><th scope=col>&lt;chr&gt;</th></tr>\n",
       "</thead>\n",
       "<tbody>\n",
       "\t<tr><th scope=row>1</th><td>Sr Data Scientist</td><td>3.1</td><td>1001 to 5000 employees </td><td>Nonprofit Organization </td><td>Insurance        </td><td>Unknown / Non-Applicable  </td><td>137</td><td>171</td><td>154</td><td> NY</td><td>27</td><td>0</td><td>0</td><td>0</td><td>0</td><td>1</td><td>0</td><td>0</td><td>data scientist</td><td>senior</td></tr>\n",
       "\t<tr><th scope=row>2</th><td>Data Scientist   </td><td>4.2</td><td>5001 to 10000 employees</td><td>Company - Public       </td><td>Business Services</td><td>$1 to $2 billion (USD)    </td><td>137</td><td>171</td><td>154</td><td> VA</td><td>52</td><td>0</td><td>0</td><td>1</td><td>0</td><td>0</td><td>0</td><td>1</td><td>data scientist</td><td>na    </td></tr>\n",
       "\t<tr><th scope=row>3</th><td>Data Scientist   </td><td>3.8</td><td>1001 to 5000 employees </td><td>Private Practice / Firm</td><td>Business Services</td><td>$100 to $500 million (USD)</td><td>137</td><td>171</td><td>154</td><td> MA</td><td>39</td><td>1</td><td>1</td><td>0</td><td>0</td><td>1</td><td>0</td><td>0</td><td>data scientist</td><td>na    </td></tr>\n",
       "\t<tr><th scope=row>4</th><td>Data Scientist   </td><td>3.5</td><td>501 to 1000 employees  </td><td>Company - Public       </td><td>Manufacturing    </td><td>$100 to $500 million (USD)</td><td>137</td><td>171</td><td>154</td><td> MA</td><td>20</td><td>1</td><td>1</td><td>0</td><td>0</td><td>1</td><td>0</td><td>0</td><td>data scientist</td><td>na    </td></tr>\n",
       "\t<tr><th scope=row>5</th><td>Data Scientist   </td><td>2.9</td><td>51 to 200 employees    </td><td>Company - Private      </td><td>Business Services</td><td>Unknown / Non-Applicable  </td><td>137</td><td>171</td><td>154</td><td> NY</td><td>22</td><td>1</td><td>1</td><td>0</td><td>0</td><td>0</td><td>0</td><td>0</td><td>data scientist</td><td>na    </td></tr>\n",
       "</tbody>\n",
       "</table>\n"
      ],
      "text/latex": [
       "A data.frame: 5 × 20\n",
       "\\begin{tabular}{r|llllllllllllllllllll}\n",
       "  & Job.Title & Rating & Size & Type.of.ownership & Sector & Revenue & min\\_salary & max\\_salary & avg\\_salary & job\\_state & company\\_age & python & excel & hadoop & spark & aws & tableau & big\\_data & job\\_simp & seniority\\\\\n",
       "  & <chr> & <dbl> & <chr> & <chr> & <chr> & <chr> & <int> & <int> & <int> & <chr> & <int> & <int> & <int> & <int> & <int> & <int> & <int> & <int> & <chr> & <chr>\\\\\n",
       "\\hline\n",
       "\t1 & Sr Data Scientist & 3.1 & 1001 to 5000 employees  & Nonprofit Organization  & Insurance         & Unknown / Non-Applicable   & 137 & 171 & 154 &  NY & 27 & 0 & 0 & 0 & 0 & 1 & 0 & 0 & data scientist & senior\\\\\n",
       "\t2 & Data Scientist    & 4.2 & 5001 to 10000 employees & Company - Public        & Business Services & \\$1 to \\$2 billion (USD)     & 137 & 171 & 154 &  VA & 52 & 0 & 0 & 1 & 0 & 0 & 0 & 1 & data scientist & na    \\\\\n",
       "\t3 & Data Scientist    & 3.8 & 1001 to 5000 employees  & Private Practice / Firm & Business Services & \\$100 to \\$500 million (USD) & 137 & 171 & 154 &  MA & 39 & 1 & 1 & 0 & 0 & 1 & 0 & 0 & data scientist & na    \\\\\n",
       "\t4 & Data Scientist    & 3.5 & 501 to 1000 employees   & Company - Public        & Manufacturing     & \\$100 to \\$500 million (USD) & 137 & 171 & 154 &  MA & 20 & 1 & 1 & 0 & 0 & 1 & 0 & 0 & data scientist & na    \\\\\n",
       "\t5 & Data Scientist    & 2.9 & 51 to 200 employees     & Company - Private       & Business Services & Unknown / Non-Applicable   & 137 & 171 & 154 &  NY & 22 & 1 & 1 & 0 & 0 & 0 & 0 & 0 & data scientist & na    \\\\\n",
       "\\end{tabular}\n"
      ],
      "text/markdown": [
       "\n",
       "A data.frame: 5 × 20\n",
       "\n",
       "| <!--/--> | Job.Title &lt;chr&gt; | Rating &lt;dbl&gt; | Size &lt;chr&gt; | Type.of.ownership &lt;chr&gt; | Sector &lt;chr&gt; | Revenue &lt;chr&gt; | min_salary &lt;int&gt; | max_salary &lt;int&gt; | avg_salary &lt;int&gt; | job_state &lt;chr&gt; | company_age &lt;int&gt; | python &lt;int&gt; | excel &lt;int&gt; | hadoop &lt;int&gt; | spark &lt;int&gt; | aws &lt;int&gt; | tableau &lt;int&gt; | big_data &lt;int&gt; | job_simp &lt;chr&gt; | seniority &lt;chr&gt; |\n",
       "|---|---|---|---|---|---|---|---|---|---|---|---|---|---|---|---|---|---|---|---|---|\n",
       "| 1 | Sr Data Scientist | 3.1 | 1001 to 5000 employees  | Nonprofit Organization  | Insurance         | Unknown / Non-Applicable   | 137 | 171 | 154 |  NY | 27 | 0 | 0 | 0 | 0 | 1 | 0 | 0 | data scientist | senior |\n",
       "| 2 | Data Scientist    | 4.2 | 5001 to 10000 employees | Company - Public        | Business Services | $1 to $2 billion (USD)     | 137 | 171 | 154 |  VA | 52 | 0 | 0 | 1 | 0 | 0 | 0 | 1 | data scientist | na     |\n",
       "| 3 | Data Scientist    | 3.8 | 1001 to 5000 employees  | Private Practice / Firm | Business Services | $100 to $500 million (USD) | 137 | 171 | 154 |  MA | 39 | 1 | 1 | 0 | 0 | 1 | 0 | 0 | data scientist | na     |\n",
       "| 4 | Data Scientist    | 3.5 | 501 to 1000 employees   | Company - Public        | Manufacturing     | $100 to $500 million (USD) | 137 | 171 | 154 |  MA | 20 | 1 | 1 | 0 | 0 | 1 | 0 | 0 | data scientist | na     |\n",
       "| 5 | Data Scientist    | 2.9 | 51 to 200 employees     | Company - Private       | Business Services | Unknown / Non-Applicable   | 137 | 171 | 154 |  NY | 22 | 1 | 1 | 0 | 0 | 0 | 0 | 0 | data scientist | na     |\n",
       "\n"
      ],
      "text/plain": [
       "  Job.Title         Rating Size                    Type.of.ownership      \n",
       "1 Sr Data Scientist 3.1    1001 to 5000 employees  Nonprofit Organization \n",
       "2 Data Scientist    4.2    5001 to 10000 employees Company - Public       \n",
       "3 Data Scientist    3.8    1001 to 5000 employees  Private Practice / Firm\n",
       "4 Data Scientist    3.5    501 to 1000 employees   Company - Public       \n",
       "5 Data Scientist    2.9    51 to 200 employees     Company - Private      \n",
       "  Sector            Revenue                    min_salary max_salary avg_salary\n",
       "1 Insurance         Unknown / Non-Applicable   137        171        154       \n",
       "2 Business Services $1 to $2 billion (USD)     137        171        154       \n",
       "3 Business Services $100 to $500 million (USD) 137        171        154       \n",
       "4 Manufacturing     $100 to $500 million (USD) 137        171        154       \n",
       "5 Business Services Unknown / Non-Applicable   137        171        154       \n",
       "  job_state company_age python excel hadoop spark aws tableau big_data\n",
       "1  NY       27          0      0     0      0     1   0       0       \n",
       "2  VA       52          0      0     1      0     0   0       1       \n",
       "3  MA       39          1      1     0      0     1   0       0       \n",
       "4  MA       20          1      1     0      0     1   0       0       \n",
       "5  NY       22          1      1     0      0     0   0       0       \n",
       "  job_simp       seniority\n",
       "1 data scientist senior   \n",
       "2 data scientist na       \n",
       "3 data scientist na       \n",
       "4 data scientist na       \n",
       "5 data scientist na       "
      ]
     },
     "metadata": {},
     "output_type": "display_data"
    }
   ],
   "source": [
    "df <- read.csv(\"Cleaned_DS_Jobs.csv\", header=TRUE)\n",
    "df <- df %>% select(-c(\"Salary.Estimate\", \"Job.Description\", \"Company.Name\", \"Industry\", \"Location\", \"Headquarters\", \"same_state\"))\n",
    "\n",
    "head(df, 5)"
   ]
  },
  {
   "cell_type": "code",
   "execution_count": 3,
   "metadata": {
    "vscode": {
     "languageId": "r"
    }
   },
   "outputs": [
    {
     "data": {
      "text/html": [
       "<style>\n",
       ".list-inline {list-style: none; margin:0; padding: 0}\n",
       ".list-inline>li {display: inline-block}\n",
       ".list-inline>li:not(:last-child)::after {content: \"\\00b7\"; padding: 0 .5ex}\n",
       "</style>\n",
       "<ol class=list-inline><li>'Nonprofit Organization'</li><li>'Company - Public'</li><li>'Private Practice / Firm'</li><li>'Company - Private'</li><li>'Government'</li><li>'Subsidiary or Business Segment'</li><li>'Other Organization'</li><li>'-1'</li><li>'Unknown'</li><li>'Hospital'</li><li>'Self-employed'</li><li>'College / University'</li><li>'Contract'</li></ol>\n"
      ],
      "text/latex": [
       "\\begin{enumerate*}\n",
       "\\item 'Nonprofit Organization'\n",
       "\\item 'Company - Public'\n",
       "\\item 'Private Practice / Firm'\n",
       "\\item 'Company - Private'\n",
       "\\item 'Government'\n",
       "\\item 'Subsidiary or Business Segment'\n",
       "\\item 'Other Organization'\n",
       "\\item '-1'\n",
       "\\item 'Unknown'\n",
       "\\item 'Hospital'\n",
       "\\item 'Self-employed'\n",
       "\\item 'College / University'\n",
       "\\item 'Contract'\n",
       "\\end{enumerate*}\n"
      ],
      "text/markdown": [
       "1. 'Nonprofit Organization'\n",
       "2. 'Company - Public'\n",
       "3. 'Private Practice / Firm'\n",
       "4. 'Company - Private'\n",
       "5. 'Government'\n",
       "6. 'Subsidiary or Business Segment'\n",
       "7. 'Other Organization'\n",
       "8. '-1'\n",
       "9. 'Unknown'\n",
       "10. 'Hospital'\n",
       "11. 'Self-employed'\n",
       "12. 'College / University'\n",
       "13. 'Contract'\n",
       "\n",
       "\n"
      ],
      "text/plain": [
       " [1] \"Nonprofit Organization\"         \"Company - Public\"              \n",
       " [3] \"Private Practice / Firm\"        \"Company - Private\"             \n",
       " [5] \"Government\"                     \"Subsidiary or Business Segment\"\n",
       " [7] \"Other Organization\"             \"-1\"                            \n",
       " [9] \"Unknown\"                        \"Hospital\"                      \n",
       "[11] \"Self-employed\"                  \"College / University\"          \n",
       "[13] \"Contract\"                      "
      ]
     },
     "metadata": {},
     "output_type": "display_data"
    }
   ],
   "source": [
    "type <- unique(df$Type.of.ownership)\n",
    "type"
   ]
  },
  {
   "cell_type": "code",
   "execution_count": 4,
   "metadata": {
    "vscode": {
     "languageId": "r"
    }
   },
   "outputs": [
    {
     "ename": "ERROR",
     "evalue": "Error in eval(expr, envir, enclos): object 'df_new' not found\n",
     "output_type": "error",
     "traceback": [
      "Error in eval(expr, envir, enclos): object 'df_new' not found\nTraceback:\n",
      "1. as.data.frame(table(df_new$Type.of.ownership))",
      "2. table(df_new$Type.of.ownership)"
     ]
    }
   ],
   "source": [
    "# Type of ownership\n",
    "owner <- as.data.frame(table(df_new$Type.of.ownership))\n",
    "owner <- owner[order(owner$Freq, decreasing=TRUE), ]\n",
    "owner"
   ]
  },
  {
   "cell_type": "code",
   "execution_count": null,
   "metadata": {
    "vscode": {
     "languageId": "r"
    }
   },
   "outputs": [],
   "source": []
  }
 ],
 "metadata": {
  "kernelspec": {
   "display_name": "R",
   "language": "R",
   "name": "ir"
  },
  "language_info": {
   "codemirror_mode": "r",
   "file_extension": ".r",
   "mimetype": "text/x-r-source",
   "name": "R",
   "pygments_lexer": "r",
   "version": "4.3.2"
  }
 },
 "nbformat": 4,
 "nbformat_minor": 2
}

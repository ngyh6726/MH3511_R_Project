{
 "cells": [
  {
   "cell_type": "markdown",
   "id": "9211edc6-3fa1-4fb3-be09-243e0c0d2b85",
   "metadata": {},
   "source": [
    "# Data Science Job Postings on Glassdoor (Cleaned Dataset)"
   ]
  },
  {
   "cell_type": "markdown",
   "id": "340dc82c-f09a-4190-9ae8-a3ffdea37b51",
   "metadata": {},
   "source": [
    "### Importing Dataset and Data Exploration"
   ]
  },
  {
   "cell_type": "code",
   "execution_count": 1,
   "id": "4d594f66-a094-44b5-a4ab-190c25ca655f",
   "metadata": {
    "vscode": {
     "languageId": "r"
    }
   },
   "outputs": [
    {
     "ename": "ERROR",
     "evalue": "Error: package or namespace load failed for 'dplyr' in loadNamespace(j <- i[[1L]], c(lib.loc, .libPaths()), versionCheck = vI[[j]]):\n there is no package called 'pillar'\n",
     "output_type": "error",
     "traceback": [
      "Error: package or namespace load failed for 'dplyr' in loadNamespace(j <- i[[1L]], c(lib.loc, .libPaths()), versionCheck = vI[[j]]):\n there is no package called 'pillar'\nTraceback:\n",
      "1. library(dplyr)",
      "2. tryCatch({\n .     attr(package, \"LibPath\") <- which.lib.loc\n .     ns <- loadNamespace(package, lib.loc)\n .     env <- attachNamespace(ns, pos = pos, deps, exclude, include.only)\n . }, error = function(e) {\n .     P <- if (!is.null(cc <- conditionCall(e))) \n .         paste(\" in\", deparse(cc)[1L])\n .     else \"\"\n .     msg <- gettextf(\"package or namespace load failed for %s%s:\\n %s\", \n .         sQuote(package), P, conditionMessage(e))\n .     if (logical.return) \n .         message(paste(\"Error:\", msg), domain = NA)\n .     else stop(msg, call. = FALSE, domain = NA)\n . })",
      "3. tryCatchList(expr, classes, parentenv, handlers)",
      "4. tryCatchOne(expr, names, parentenv, handlers[[1L]])",
      "5. value[[3L]](cond)",
      "6. stop(msg, call. = FALSE, domain = NA)"
     ]
    }
   ],
   "source": [
    "library(dplyr)"
   ]
  },
  {
   "cell_type": "code",
   "execution_count": null,
   "id": "13aa7273-e7b7-4c73-8c30-8c470c0d31c7",
   "metadata": {
    "vscode": {
     "languageId": "r"
    }
   },
   "outputs": [],
   "source": [
    "df <- read.csv(\"Cleaned_DS_Jobs.csv\", header=TRUE)"
   ]
  },
  {
   "cell_type": "code",
   "execution_count": null,
   "id": "01795c75-17fc-4f05-8805-18c8e7c5676f",
   "metadata": {
    "vscode": {
     "languageId": "r"
    }
   },
   "outputs": [],
   "source": [
    "df <- df %>% select(-c(\"Salary.Estimate\", \"Job.Description\", \"Company.Name\", \"Industry\", \"Location\", \"Headquarters\", \"same_state\"))\n",
    "\n",
    "df\n"
   ]
  },
  {
   "cell_type": "code",
   "execution_count": null,
   "id": "eb21dec3",
   "metadata": {
    "vscode": {
     "languageId": "r"
    }
   },
   "outputs": [],
   "source": [
    "df <- df[df$Rating != 0.0, ]\n",
    "\n",
    "head(df, 1)"
   ]
  },
  {
   "cell_type": "code",
   "execution_count": null,
   "id": "aa7a6763-869e-4844-8505-aa9a3430dc40",
   "metadata": {
    "vscode": {
     "languageId": "r"
    }
   },
   "outputs": [],
   "source": [
    "dim(df)"
   ]
  },
  {
   "cell_type": "code",
   "execution_count": null,
   "id": "cccf51ae-40da-4434-8526-e557409268d2",
   "metadata": {
    "vscode": {
     "languageId": "r"
    }
   },
   "outputs": [],
   "source": [
    "summary(df)"
   ]
  },
  {
   "cell_type": "code",
   "execution_count": null,
   "id": "10347468",
   "metadata": {
    "vscode": {
     "languageId": "r"
    }
   },
   "outputs": [],
   "source": [
    "hist(df$avg_salary, breaks=20, main=\"Salary Distribution\", xlab=\"Average Salary\", col=\"blue\")"
   ]
  },
  {
   "cell_type": "code",
   "execution_count": null,
   "id": "7976c450",
   "metadata": {
    "vscode": {
     "languageId": "r"
    }
   },
   "outputs": [],
   "source": [
    "df$ln_avg_salary <- log(df$avg_salary)\n",
    "hist(df$ln_avg_salary, breaks=20, main=\"Log-transformed Average Salary Distribution\", xlab=\"Ln(Average Salary)\", col=\"blue\")"
   ]
  },
  {
   "cell_type": "code",
   "execution_count": null,
   "id": "e794a1fa",
   "metadata": {
    "vscode": {
     "languageId": "r"
    }
   },
   "outputs": [],
   "source": [
    "str(df)\n"
   ]
  },
  {
   "cell_type": "markdown",
   "id": "81d9fdce",
   "metadata": {},
   "source": [
    "# Transforming Size to avg_employees"
   ]
  },
  {
   "cell_type": "code",
   "execution_count": null,
   "id": "ce1ef797",
   "metadata": {
    "vscode": {
     "languageId": "r"
    }
   },
   "outputs": [],
   "source": [
    "# Extract minimum and maximum employee numbers\n",
    "df$min_employees <- as.numeric(gsub(\" .*\", \"\", df$Size))\n",
    "df$max_employees <- as.numeric(gsub(\".*to \", \"\", gsub(\" employees\", \"\", df$Size)))\n",
    "\n",
    "# Replace NA values which might occur due to parsing inconsistencies or special cases like \"Unknown\"\n",
    "df$min_employees[is.na(df$min_employees)] <- 0\n",
    "df$max_employees[is.na(df$max_employees)] <- 0\n",
    "\n",
    "df$avg_employees <- (df$min_employees + df$max_employees) / 2"
   ]
  },
  {
   "cell_type": "code",
   "execution_count": null,
   "id": "adb8df9f",
   "metadata": {
    "vscode": {
     "languageId": "r"
    }
   },
   "outputs": [],
   "source": [
    "df$avg_employees[df$avg_employees == 0] <- 10000\n",
    "\n",
    "head(df, 1)"
   ]
  },
  {
   "cell_type": "markdown",
   "id": "bf830657",
   "metadata": {},
   "source": [
    "# One Hot Encoding"
   ]
  },
  {
   "cell_type": "code",
   "execution_count": null,
   "id": "eae06d1c",
   "metadata": {
    "vscode": {
     "languageId": "r"
    }
   },
   "outputs": [],
   "source": [
    "unique(df$Type.of.ownership)\n",
    "unique(df$Revenue)"
   ]
  },
  {
   "cell_type": "code",
   "execution_count": null,
   "id": "cc45f4df",
   "metadata": {
    "vscode": {
     "languageId": "r"
    }
   },
   "outputs": [],
   "source": [
    "columns_to_encode <- c(\"Type.of.ownership\", \"Sector\", \"Revenue\", \"job_state\", \"job_simp\", \"seniority\")\n",
    "\n",
    "\n",
    "for (col in columns_to_encode) {\n",
    "  new_col_name <- paste0(col, \"_encoded\") # Creating a new column name for the encoded version\n",
    "  df[[new_col_name]] <- as.integer(factor(df[[col]])) # Assigning encoded values to the new column\n",
    "}\n",
    "\n",
    "# # One-hot encode the 'Type.of.ownership' column as an example\n",
    "# df <- cbind(df, model.matrix(~ Type.of.ownership - 1, data = df))\n",
    "# df <- cbind(df, model.matrix(~ Sector - 1, data = df))\n",
    "# df <- cbind(df, model.matrix(~ Revenue - 1, data = df))\n",
    "# df <- cbind(df, model.matrix(~ job_state - 1, data = df))\n",
    "# df <- cbind(df, model.matrix(~ job_simp - 1, data = df))\n",
    "# df <- cbind(df, model.matrix(~ seniority - 1, data = df))"
   ]
  },
  {
   "cell_type": "code",
   "execution_count": null,
   "id": "2e3ccc0f",
   "metadata": {
    "vscode": {
     "languageId": "r"
    }
   },
   "outputs": [],
   "source": [
    "numeric_df <- df[sapply(df, is.numeric)]"
   ]
  },
  {
   "cell_type": "code",
   "execution_count": null,
   "id": "e8c8b06d",
   "metadata": {
    "vscode": {
     "languageId": "r"
    }
   },
   "outputs": [],
   "source": [
    "library(ggplot2)\n",
    "library(reshape2)"
   ]
  },
  {
   "cell_type": "code",
   "execution_count": null,
   "id": "8f8bd1c8",
   "metadata": {
    "vscode": {
     "languageId": "r"
    }
   },
   "outputs": [],
   "source": [
    "# Assuming numeric_df is your dataframe with only numerical columns\n",
    "cor_matrix <- cor(numeric_df, use = \"pairwise.complete.obs\")\n",
    "cor_melted <- melt(cor_matrix)"
   ]
  },
  {
   "cell_type": "code",
   "execution_count": null,
   "id": "f10fa56f",
   "metadata": {
    "vscode": {
     "languageId": "r"
    }
   },
   "outputs": [],
   "source": [
    "ggplot(cor_melted, aes(x = Var1, y = Var2, fill = value)) + \n",
    "  geom_tile(color = \"white\") +  # Adds borders to the tiles\n",
    "  geom_text(aes(label = sprintf(\"%.2f\", value)), vjust = 1) +  # Annotates each cell\n",
    "  scale_fill_gradient2(low = \"blue\", mid = \"white\", high = \"red\", midpoint = 0) +  # Color scheme\n",
    "  theme_minimal() +  # Minimal theme\n",
    "  theme(axis.text.x = element_text(angle = 45, hjust = 1),  # Rotate x-axis labels for better readability\n",
    "        axis.title = element_blank(),  # Remove axis titles\n",
    "        panel.grid.major = element_blank(), panel.grid.minor = element_blank())  # Remove gridlines\n"
   ]
  }
 ],
 "metadata": {
  "kernelspec": {
   "display_name": "R",
   "language": "R",
   "name": "ir"
  },
  "language_info": {
   "codemirror_mode": "r",
   "file_extension": ".r",
   "mimetype": "text/x-r-source",
   "name": "R",
   "pygments_lexer": "r",
   "version": "3.6.1"
  }
 },
 "nbformat": 4,
 "nbformat_minor": 5
}

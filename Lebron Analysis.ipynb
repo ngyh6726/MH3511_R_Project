{
 "cells": [
  {
   "cell_type": "markdown",
   "id": "9211edc6-3fa1-4fb3-be09-243e0c0d2b85",
   "metadata": {},
   "source": [
    "# Data Science Job Postings on Glassdoor (Cleaned Dataset)"
   ]
  },
  {
   "cell_type": "markdown",
   "id": "340dc82c-f09a-4190-9ae8-a3ffdea37b51",
   "metadata": {},
   "source": [
    "### Importing Dataset and Data Exploration"
   ]
  },
  {
   "cell_type": "code",
   "execution_count": 1,
   "id": "4d594f66-a094-44b5-a4ab-190c25ca655f",
   "metadata": {
    "vscode": {
     "languageId": "r"
    }
   },
   "outputs": [
    {
     "name": "stderr",
     "output_type": "stream",
     "text": [
      "\n",
      "Attaching package: 'dplyr'\n",
      "\n",
      "\n",
      "The following objects are masked from 'package:stats':\n",
      "\n",
      "    filter, lag\n",
      "\n",
      "\n",
      "The following objects are masked from 'package:base':\n",
      "\n",
      "    intersect, setdiff, setequal, union\n",
      "\n",
      "\n"
     ]
    }
   ],
   "source": [
    "library(dplyr)"
   ]
  },
  {
   "cell_type": "code",
   "execution_count": 2,
   "id": "13aa7273-e7b7-4c73-8c30-8c470c0d31c7",
   "metadata": {
    "vscode": {
     "languageId": "r"
    }
   },
   "outputs": [
    {
     "data": {
      "text/html": [
       "<table class=\"dataframe\">\n",
       "<caption>A data.frame: 5 × 27</caption>\n",
       "<thead>\n",
       "\t<tr><th></th><th scope=col>Job.Title</th><th scope=col>Salary.Estimate</th><th scope=col>Job.Description</th><th scope=col>Rating</th><th scope=col>Company.Name</th><th scope=col>Location</th><th scope=col>Headquarters</th><th scope=col>Size</th><th scope=col>Type.of.ownership</th><th scope=col>Industry</th><th scope=col>⋯</th><th scope=col>company_age</th><th scope=col>python</th><th scope=col>excel</th><th scope=col>hadoop</th><th scope=col>spark</th><th scope=col>aws</th><th scope=col>tableau</th><th scope=col>big_data</th><th scope=col>job_simp</th><th scope=col>seniority</th></tr>\n",
       "\t<tr><th></th><th scope=col>&lt;chr&gt;</th><th scope=col>&lt;chr&gt;</th><th scope=col>&lt;chr&gt;</th><th scope=col>&lt;dbl&gt;</th><th scope=col>&lt;chr&gt;</th><th scope=col>&lt;chr&gt;</th><th scope=col>&lt;chr&gt;</th><th scope=col>&lt;chr&gt;</th><th scope=col>&lt;chr&gt;</th><th scope=col>&lt;chr&gt;</th><th scope=col>⋯</th><th scope=col>&lt;int&gt;</th><th scope=col>&lt;int&gt;</th><th scope=col>&lt;int&gt;</th><th scope=col>&lt;int&gt;</th><th scope=col>&lt;int&gt;</th><th scope=col>&lt;int&gt;</th><th scope=col>&lt;int&gt;</th><th scope=col>&lt;int&gt;</th><th scope=col>&lt;chr&gt;</th><th scope=col>&lt;chr&gt;</th></tr>\n",
       "</thead>\n",
       "<tbody>\n",
       "\t<tr><th scope=row>1</th><td>Sr Data Scientist</td><td>137-171 </td><td><span style=white-space:pre-wrap>Description\n",
       "\n",
       "The Senior Data Scientist is responsible for defining, building, and improving statistical models to improve business processes and outcomes in one or more healthcare domains such as Clinical, Enrollment, Claims, and Finance. As part of the broader analytics team, Data Scientist will gather and analyze data to solve and address complex business problems and evaluate scenarios to make predictions on future outcomes and work with the business to communicate and support decision-making. This position requires strong analytical skills and experience in analytic methods including multivariate regressions, hierarchical linear models, regression trees, clustering methods and other complex statistical techniques.\n",
       "\n",
       "Duties &amp; Responsibilities:\n",
       "\n",
       "• Develops advanced statistical models to predict, quantify or forecast various operational and performance metrics in multiple healthcare domains\n",
       "• Investigates, recommends, and initiates acquisition of new data resources from internal and external sources\n",
       "• Works with multiple teams to support data collection, integration, and retention requirements based on business needs\n",
       "• Identifies critical and emerging technologies that will support and extend quantitative analytic capabilities\n",
       "• Collaborates with business subject matter experts to select relevant sources of information\n",
       "• Develops expertise with multiple machine learning algorithms and data science techniques, such as exploratory data analysis and predictive modeling, graph theory, recommender systems, text analytics and validation\n",
       "• Develops expertise with Healthfirst datasets, data repositories, and data movement processes\n",
       "• Assists on projects/requests and may lead specific tasks within the project scope\n",
       "• Prepares and manipulates data for use in development of statistical models\n",
       "• Other duties as assigned\n",
       "\n",
       "Minimum Qualifications:\n",
       "\n",
       "-Bachelor's Degree\n",
       "\n",
       "Preferred Qualifications:\n",
       "\n",
       "- Master’s degree in Computer Science or Statistics\n",
       "Familiarity with major cloud platforms such as AWS and Azure\n",
       "Healthcare Industry Experience\n",
       "\n",
       "Minimum Qualifications:\n",
       "\n",
       "-Bachelor's Degree\n",
       "\n",
       "Preferred Qualifications:\n",
       "\n",
       "- Master’s degree in Computer Science or Statistics\n",
       "Familiarity with major cloud platforms such as AWS and Azure\n",
       "Healthcare Industry Experience\n",
       "\n",
       "WE ARE AN EQUAL OPPORTUNITY EMPLOYER. Applicants and employees are considered for positions and are evaluated without regard to mental or physical disability, race, color, religion, gender, national origin, age, genetic information, military or veteran status, sexual orientation, marital status or any other protected Federal, State/Province or Local status unrelated to the performance of the work involved.\n",
       "\n",
       "If you have a disability under the Americans with Disability Act or a similar law, and want a reasonable accommodation to assist with your job search or application for employment, please contact us by sending an email to careers@Healthfirst.org or calling 212-519-1798 . In your email please include a description of the accommodation you are requesting and a description of the position for which you are applying. Only reasonable accommodation requests related to applying for a position within Healthfirst Management Services will be reviewed at the e-mail address and phone number supplied. Thank you for considering a career with Healthfirst Management Services.\n",
       "EEO Law Poster and Supplement\n",
       "\n",
       "]]&gt;                                                                                                                                                                                                                                                                                                                                                                                                                                                                                                                                                                                                                                                                                                                                                                                                                                                                                                                                                                                                                                                                                                                                                                                                                                                                                                                                                                                                                                                                                                                                                                                                                                                                                                                                                                                                                                                                                                                                                                                                                                                                                                                                                                                                                                                                                                                                                                                                                                                                                                                                                                                                                                                                                                                                                                                                                                                                                                                                                                                                                                                                                                                                                                                                                                                                                                                                                                                                                                                                                                                                                                                                                                                                                                                                                                                                                                                                                                                                                                                                                                                                                                                                                                                                                                                                                                                                                                                                                                                                                                                                                                                                                                                                                                                                                                                                                                                                                                                                                                                                                                                                                                                                                                                                                                                                                                                                                                                                                                                                                                                                                                                                                                     </span></td><td>3.1</td><td><span style=white-space:pre-wrap>Healthfirst       </span></td><td>New York, NY </td><td><span style=white-space:pre-wrap>New York, NY          </span></td><td>1001 to 5000 employees </td><td>Nonprofit Organization </td><td><span style=white-space:pre-wrap>Insurance Carriers                   </span></td><td>⋯</td><td>27</td><td>0</td><td>0</td><td>0</td><td>0</td><td>1</td><td>0</td><td>0</td><td>data scientist</td><td>senior</td></tr>\n",
       "\t<tr><th scope=row>2</th><td><span style=white-space:pre-wrap>Data Scientist   </span></td><td>137-171 </td><td><span style=white-space:pre-wrap>Secure our Nation, Ignite your Future\n",
       "\n",
       "Join the top Information Technology and Analytic professionals in the industry to make invaluable contributions to our national security on a daily basis. In this innovative, self-contained, Big Data environment, the ManTech team is responsible for everything from infrastructure, to application development, to data science, to advanced analytics and beyond. The team is diverse, the questions are thought-provoking, and the opportunities for growth and advancement are numerous\n",
       "\n",
       "The successful candidate will possess a diverse range of data-focused skills and experience, both technical and analytical. They will have a strong desire and capability for problem solving, data analysis and troubleshooting, analytical thinking, and experimentation.\n",
       "\n",
       "Duties, Tasks &amp; Responsibilities\n",
       "Working with large, complex, and disparate data sets\n",
       "Designing and implementing innovative ways to analyze and exploit the Sponsors data holdings\n",
       "Researching and reporting on a wide variety of Sponsor inquiries\n",
       "Raising proactive inquiries to the Sponsor based on observations and proposed data analysis/exploitation\n",
       "Solving difficult, non-routine problems by applying advanced analytical methodologies, and improving analytic methodologies\n",
       "Developing custom searches\n",
       "Communicating and coordinating with internal and external partners as needed\n",
       "Required Experience, Skills, &amp; Technologies\n",
       "\n",
       "Thorough knowledge of appropriate analytic tools and methodologies in one or more of the following:\n",
       "Applied mathematics (e.g. probability and statistics, formal modeling, computational social sciences)\n",
       "Computer programming (e.g. programming languages, math/statistics packages, computer science, machine learning, scientific computing)\n",
       "Ability to code or script in one or more general programming language\n",
       "Experience with and theoretical understanding of algorithms for classification, regression, clustering, and anomaly detection\n",
       "Knowledge of relational databases, including SQL and large-scale distributed systems (e.g. Hadoop)\n",
       "Expertise with statistical data analysis (e.g. linear models, multivariate analysis, stochastic models, sampling methods)\n",
       "Demonstrated effectiveness in collecting information and accurately representing/visualizing it to non-technical third parties\n",
       "TS/SCI with Polygraph\n",
       "Bachelor of Science or equivalent and 12-15 years related experience, but will consider all levels of experience.\n",
       "Desired Experience, Skills &amp; Technologies\n",
       "Previous investigative experience using a combination of technical and analytic skills\n",
       "#LI-DU1\n",
       "\n",
       "ManTech International Corporation, as well as its subsidiaries proactively fulfills its role as an equal opportunity employer. We do not discriminate against any employee or applicant for employment because of race, color, sex, religion, age, sexual orientation, gender identity and expression, national origin, marital status, physical or mental disability, status as a Disabled Veteran, Recently Separated Veteran, Active Duty Wartime or Campaign Badge Veteran, Armed Forces Services Medal, or any other characteristic protected by law.\n",
       "\n",
       "If you require a reasonable accommodation to apply for a position with ManTech through its online applicant system, please contact ManTech's Corporate EEO Department at (703) 218-6000. ManTech is an affirmative action/equal opportunity employer - minorities, females, disabled and protected veterans are urged to apply. ManTech's utilization of any external recruitment or job placement agency is predicated upon its full compliance with our equal opportunity/affirmative action policies. ManTech does not accept resumes from unsolicited recruiting firms. We pay no fees for unsolicited services.\n",
       "\n",
       "If you are a qualified individual with a disability or a disabled veteran, you have the right to request an accommodation if you are unable or limited in your ability to use or access http://www.mantech.com/careers/Pages/careers.aspx as a result of your disability. To request an accommodation please click careers@mantech.com and provide your name and contact information.                                                                                                                                                                                                                                                                                                                                                                                                                                                                                                                                                                                                                                                                                                                                                                                                                                                                                                                                                                                                                                                                                                                                                                                                                                                                                                                                                                                                                                                                                                                                                                                                                                                                                                                                                                                                                                                                                                                                                                                                                                                                                                                                                                                                                                                                                                                                                                                                                                                                                                                                                                                                                                                                                                                                                                                                                                                                                                                                                                                                                                                                                                                                                                                                                                                                                                                                                                                                                                                                                                                                                                                                                                                                                                                                                                                                                                                                                                                                                                                                                                                                                                                                                                                                                                                                                                                                                                                                                                                                                                                                                                                                                                                                                                                                                                                                                                                                                                                              </span></td><td>4.2</td><td><span style=white-space:pre-wrap>ManTech           </span></td><td>Chantilly, VA</td><td><span style=white-space:pre-wrap>Herndon, VA           </span></td><td>5001 to 10000 employees</td><td><span style=white-space:pre-wrap>Company - Public       </span></td><td><span style=white-space:pre-wrap>Research &amp; Development               </span></td><td>⋯</td><td>52</td><td>0</td><td>0</td><td>1</td><td>0</td><td>0</td><td>0</td><td>1</td><td>data scientist</td><td><span style=white-space:pre-wrap>na    </span></td></tr>\n",
       "\t<tr><th scope=row>3</th><td>Data Scientist   </td><td>137-171 </td><td>Overview\n",
       "\n",
       "\n",
       "Analysis Group is one of the largest international economics consulting firms, with more than 1,000 professionals across 14 offices in North America, Europe, and Asia. Since 1981, we have provided expertise in economics, finance, health care analytics, and strategy to top law firms, Fortune Global 500 companies, and government agencies worldwide. Our internal experts, together with our network of affiliated experts from academia, industry, and government, offer our clients exceptional breadth and depth of expertise.\n",
       "\n",
       "We are currently seeking a Data Scientist to join our team. The ideal candidate should be passionate about working on cutting edge research and analytical services for Fortune 500 companies, global pharma/biotech firms and leaders in industries such as finance, energy and life sciences. The Data Scientist will be a contributing member to client engagements and have the opportunity to work with our network of world-class experts and thought leaders.\n",
       "\n",
       "Job Functions and Responsibilities\n",
       "\n",
       "The candidate Data Scientist will help develop, maintain and teach new tools and methodologies related to data science and high performance computing. This position will also help Analysis Group in maintaining our leadership position in terms of advancing methodology and data analytics. The Data Scientist will be responsible for staying abreast of new developments in technology relating to data science, to share more broadly with Analysis Group.\n",
       "\n",
       "Key responsibilities for this position will include:\n",
       "Working with project teams to address data science/computing challenges\n",
       "Identifying opportunities for technology to enhance service offerings\n",
       "Acting as a resource and participating in client engagements and research as part of the project team\n",
       "Maintaining up-to-date knowledge of computing tools, providing technical training and helping to grow the in-house knowledge base, specifically in a Linux environment\n",
       "Presenting research at selected conferences\n",
       "Examples of activities for the Data Scientist will include:\n",
       "Developing data engineering and machine learning production systems for full stack data science projects\n",
       "Using natural language processing methodologies to work with EMR data, social media data and other unstructured data\n",
       "Optimizing procedures for managing and accessing large databases (e.g., insurance claims, electronic health records, financial transactions)\n",
       "Creating interactive analytics portals and data visualizations (e.g., using R/Shiny, Python/Flask, D3)\n",
       "Building and maintaining high performance computing (HPC) tools on grid and cloud computing environments\n",
       "Developing and reviewing software and packages in R, Python and other Object Oriented Languages\n",
       "Establishing optimized procedures for repetitive or computationally intensive tasks (C, C++, Cuda-C)\n",
       "Qualifications\n",
       "Strong credentials and experience in database management and data visualization\n",
       "Significant experience working within a Linux environment required\n",
       "Background in Statistics/Econometrics or Biostatistics\n",
       "Ideally PhD in Computer Science, Mathematics, Statistics, Economics or other relevant scientific degree with relevant experience. Other candidates with at least one year of experience in the field may also be considered\n",
       "Excellent written and verbal communication skills\n",
       "Project experience with R and/or Python\n",
       "Familiar with online/cloud computing/storage (e.g., AWS)\n",
       "Demonstrated experience working on project teams and collaborating with others\n",
       "SCIENTIFIQUE DES DONNÉES\n",
       "\n",
       "*L’utilisation du genre masculin sert uniquement à alléger le texte et est utilisé ici en tant que genre neutre\n",
       "\n",
       "Survol\n",
       "\n",
       "Groupe d’analyse ltée est l’une des plus grandes firmes de services-conseils en économie, comptant plus de 950 professionnels répartis dans 14 bureaux en Amérique du Nord, en Europe et en Asie. Depuis 1981, nous offrons notre expertise en matière de stratégie, d’économie, de finance et d’analyse dans le domaine des soins de santé aux grands cabinets d’avocats, aux sociétés Fortune Global 500 et aux agences gouvernementales du monde entier. Nos professionnels en poste conjugués à notre réseau de spécialistes affiliés issus d’universités, d’industries spécifiques et d’organismes gouvernementaux procurent à notre clientèle un savoir-faire d’une portée et d’une profondeur exceptionnelles.\n",
       "\n",
       "Nous sommes présentement à la recherche d'un Scientifique des données (« Data Scientist ») pour se joindre à notre équipe. Le candidat idéal devrait être passionné par la recherche de pointe et les services analytiques pour les entreprises Fortune 500, les entreprises pharmaceutiques et biotechnologiques mondiales et les chefs de file dans des secteurs de la finance, l'énergie et les sciences de la vie. Le Scientifique des données sera un membre contributeur aux mandats des clients et aura l'occasion de travailler avec notre réseau d'experts et de leaders d'opinion de classe mondiale.\n",
       "\n",
       "Description du poste et des responsabilités\n",
       "\n",
       "Le scientifique des données aidera à développer, maintenir et enseigner de nouveaux outils et méthodologies liés à la science des données (« Data Science ») et au HPC. Ce poste aidera également le Groupe d'analyse à maintenir sa position de chef de file en ce qui a trait à l'avancement de la méthodologie et de l'analyse des données. Le scientifique des données sera chargé de se tenir au courant des nouveaux développements technologiques liés à la science des données, afin de les partager plus largement avec le Groupe d'analyse.\n",
       "\n",
       "Les principales responsabilités de ce poste comprendront:\n",
       "\n",
       "- Collaborer avec les consultants pour relever les défis de la science des données et de sciences informatiques\n",
       "\n",
       "- Agir à titre de ressource et participer aux mandats et à la recherche en tant que membre de l'équipe de projet\n",
       "\n",
       "- Maintenir à jour les connaissances sur les outils informatiques, fournir une formation technique et aider à développer la base de connaissances interne, notamment dans un environnement Linux\n",
       "\n",
       "- Présenter la recherche à des conférences choisies\n",
       "\n",
       "Exemples de tâches du scientifique des données :\n",
       "\n",
       "- Développement de systèmes de production en ingénierie des données ainsi qu’en apprentissage machine pour des projets de science des données full stack\n",
       "\n",
       "- Utiliser des méthodologies NLP pour travailler avec les données médicales électroniques, les données des médias sociaux et d'autres données non structures\n",
       "\n",
       "- Optimiser les procédures de gestion et d'accès aux grandes bases de données (ex. réclamations d'assurance, dossiers de santé électroniques, transactions financières)\n",
       "\n",
       "- Création de portails d'analyse interactifs et de visualisations de données (par exemple, en utilisant R/Shiny, Python/Flask, D3)\n",
       "\n",
       "- Construire et maintenir des outils de calcul de haute performance (HPC).\n",
       "\n",
       "- Développement et révision de codes en R, Python et autres langages\n",
       "\n",
       "- Mise en place de procédures optimisées pour les tâches répétitives ou intensives en calcul (C, C++, Cuda-C)\n",
       "\n",
       "Qualifications requises\n",
       "\n",
       "- Solides références et expérience dans la gestion de bases de données et de la visualisation de données\n",
       "\n",
       "- Expérience de travail significative dans un environnement Linux requise\n",
       "\n",
       "- Expérience antérieure en statistique/économétrie ou bio-statistique\n",
       "\n",
       "- Idéalement, être titulaire d'un doctorat en sciences informatiques, en mathématiques, en statistique, en économie ou d'un autre diplôme scientifique pertinent et posséder une expérience pertinente. Les candidats ayant au moins un an d'expérience dans le domaine peuvent également être considérés.\n",
       "\n",
       "- Excellentes aptitudes de communication écrite et verbale\n",
       "\n",
       "- Expérience de projet avec R et/ou Python\n",
       "\n",
       "- Familiarité avec l'informatique en ligne/info nuagique et le stockage (AWS)\n",
       "\n",
       "- Expérience de travail démontrée au sein d'équipes de projet et de collaboration avec d'autres personnes\n",
       "\n",
       "­\n",
       "Equal Opportunity Employer/Protected Veterans/Individuals with Disabilities.\n",
       "Please view Equal Employment Opportunity Posters provided by OFCCP here.\n",
       "The contractor will not discharge or in any other manner discriminate against employees or applicants because they have inquired about, discussed, or disclosed their own pay or the pay of another employee or applicant. However, employees who have access to the compensation information of other employees or applicants as a part of their essential job functions cannot disclose the pay of other employees or applicants to individuals who do not otherwise have access to compensation information, unless the disclosure is (a) in response to a formal complaint or charge, (b) in furtherance of an investigation, proceeding, hearing, or action, including an investigation conducted by the employer, or (c) consistent with the contractor's legal duty to furnish information. 41 CFR 60-1.35(c)</td><td>3.8</td><td>Analysis Group    </td><td>Boston, MA   </td><td>Boston, MA            </td><td>1001 to 5000 employees </td><td>Private Practice / Firm</td><td>Consulting                           </td><td>⋯</td><td>39</td><td>1</td><td>1</td><td>0</td><td>0</td><td>1</td><td>0</td><td>0</td><td>data scientist</td><td>na    </td></tr>\n",
       "\t<tr><th scope=row>4</th><td><span style=white-space:pre-wrap>Data Scientist   </span></td><td>137-171 </td><td><span style=white-space:pre-wrap>JOB DESCRIPTION:\n",
       "\n",
       "Do you have a passion for Data and Machine Learning? Do you dream of working with customers on their most forward-looking AI initiatives? Does the challenge of developing modern machine learning solutions to solve real-world manufacturing problems exciting to you?\n",
       "\n",
       "We develop software for monitoring semiconductor manufacturing process and are looking to leverage the latest technologies to address our customer's needs. You will be part of a team that investigates and builds solutions based all the data available in factories, ranging from time series data, to post manufacturing data, to production logs. You will be working side by side with application developers and customers on real world problems with actual manufacturing data.\n",
       "\n",
       "JOB FUNCTION:\n",
       "\n",
       "Basic and applied research in statistical machine learning, deep learning, and data science as well as signal and information processing to advance the state of the art in time series analysis of semiconductor manufacturing data.\n",
       "\n",
       "Responsibilities:\n",
       "Perform data analysis, data pre-processing, and feature engineering in support of advanced machine learning algorithm development. Incorporate physical and operational insights/constraints into statistical models to achieve a high degree of robustness.\n",
       "Prototype algorithms for proof of concept, validation, and software implementation.\n",
       "Support performance evaluations and the transition of algorithms into existing fault detection and classification systems.\n",
       "Convey the results of scientific research to sponsors and the scientific community through briefings, conferences and peer-reviewed publications.\n",
       "Other related functions as assigned.\n",
       "\n",
       "REQUIRED QUALIFICATIONS:\n",
       "Bachelor's degree in computer science or chemical engineering or related technical field.\n",
       "Demonstrated ability in machine learning/artificial intelligence (ML/AI) development and/or scientific modelling and data analysis.\n",
       "Demonstrated ability with python/MATLAB or similar abstract language. Experience with both traditional ML and modern deep learning approaches.\n",
       "Experience with agile development practices and Git version control.\n",
       "Experience with one or more of the DNN frameworks like TensorFlow, PyTorch, Chainer.\n",
       "Experience with SQL, Graph stores, or NoSQL stores.\n",
       "Applicant must have a dynamic skill set, be willing to work with new technologies, be highly organized and capable of planning and coordinating multiple tasks. The position will require attention to detail, effective problem solving skills and excellent judgment. Ability to work independently with sensitive and confidential information, maintain a professional demeanor, work as a team member without daily supervision.\n",
       "\n",
       "COMPENSATION &amp; BENEFITS:\n",
       "\n",
       "Compensation will be commensurate with experience including a competitive base salary, bonus opportunity, competitive benefits package, and relocation assistance.\n",
       "\n",
       "INFICON, is committed to ensuring that our online application process provides an equal opportunity to all job seekers that apply without regard to race, religion, ethnicity, national origin, citizenship, gender, age, protected veteran status, disability status, genetic information, sexual orientation, or any other protected characteristic. A notice describing Federal equal employment opportunity laws is available here and here to reaffirm this commitment.\n",
       "\n",
       "PI120660357                                                                                                                                                                                                                                                                                                                                                                                                                                                                                                                                                                                                                                                                                                                                                                                                                                                                                                                                                                                                                                                                                                                                                                                                                                                                                                                                                                                                                                                                                                                                                                                                                                                                                                                                                                                                                                                                                                                                                                                                                                                                                                                                                                                                                                                                                                                                                                                                                                                                                                                                                                                                                                                                                                                                                                                                                                                                                                                                                                                                                                                                                                                                                                                                                                                                                                                                                                                                                                                                                                                                                                                                                                                                                                                                                                                                                                                                                                                                                                                                                                                                                                                                                                                                                                                                                                                                                                                                                                                                                                                                                                                                                                                                                                                                                                                                                                                                                                                                                                                                                                                                                                                                                                                                                                                                                                                                                                                                                                                                                                                                                                                                                                                                                       </span></td><td>3.5</td><td><span style=white-space:pre-wrap>INFICON           </span></td><td><span style=white-space:pre-wrap>Newton, MA   </span></td><td>Bad Ragaz, Switzerland</td><td><span style=white-space:pre-wrap>501 to 1000 employees  </span></td><td><span style=white-space:pre-wrap>Company - Public       </span></td><td>Electrical &amp; Electronic Manufacturing</td><td>⋯</td><td>20</td><td>1</td><td>1</td><td>0</td><td>0</td><td>1</td><td>0</td><td>0</td><td>data scientist</td><td><span style=white-space:pre-wrap>na    </span></td></tr>\n",
       "\t<tr><th scope=row>5</th><td><span style=white-space:pre-wrap>Data Scientist   </span></td><td>137-171 </td><td><span style=white-space:pre-wrap>Data Scientist\n",
       "Affinity Solutions / Marketing Cloud seeks smart, curious, technically savvy candidates to join our cutting-edge data science team. We hire the best and brightest and give them the opportunity to work on industry-leading technologies.\n",
       "The data sciences team at AFS/Marketing Cloud build models, machine learning algorithms that power all our ad-tech/mar-tech products at scale, develop methodology and tools to precisely and effectively measure market campaign effects, and research in-house and public data sources for consumer spend behavior insights. In this role, you'll have the opportunity to come up with new ideas and solutions that will lead to improvement of our ability to target the right audience, derive insights and provide better measurement methodology for marketing campaigns. You'll access our core data asset and machine learning infrastructure to power your ideas.\n",
       "Duties and Responsibilities\n",
       "· Support all clients model building needs, including maintaining and improving current modeling/scoring methodology and processes,\n",
       "· Provide innovative solutions to customized modeling/scoring/targeting with appropriate ML/statistical tools,\n",
       "· Provide analytical/statistical support such as marketing test design, projection, campaign measurement, market insights to clients and stakeholders.\n",
       "· Mine large consumer datasets in the cloud environment to support ad hoc business and statistical analysis,\n",
       "· Develop and Improve automation capabilities to enable customized delivery of the analytical products to clients,\n",
       "· Communicate the methodologies and the results to the management, clients and none technical stakeholders.\n",
       "Basic Qualifications\n",
       "· Advanced degree in Statistics/Mathematics/Computer Science/Economics or other fields that requires advanced training in data analytics.\n",
       "· Being able to apply basic statistical/ML concepts and reasoning to address and solve business problems such as targeting, test design, KPI projection and performance measurement.\n",
       "· Entrepreneurial, highly self-motivated, collaborative, keen attention to detail, willingness and capable learn quickly, and ability to effectively prioritize and execute tasks in a high pressure environment.\n",
       "· Being flexible to accept different task assignments and able to work on a tight time schedule.\n",
       "· Excellent command of one or more programming languages; preferably Python, SAS or R\n",
       "· Familiar with one of the database technologies such as PostgreSQL, MySQL, can write basic SQL queries\n",
       "· Great communication skills (verbal, written and presentation)\n",
       "Preferred Qualifications\n",
       "· Experience or exposure to large consumer and/or demographic data sets.\n",
       "· Familiarity with data manipulation and cleaning routines and techniques.                                                                                                                                                                                                                                                                                                                                                                                                                                                                                                                                                                                                                                                                                                                                                                                                                                                                                                                                                                                                                                                                                                                                                                                                                                                                                                                                                                                                                                                                                                                                                                                                                                                                                                                                                                                                                                                                                                                                                                                                                                                                                                                                                                                                                                                                                                                                                                                                                                                                                                                                                                                                                                                                                                                                                                                                                                                                                                                                                                                                                                                                                                                                                                                                                                                                                                                                                                                                                                                                                                                                                                                                                                                                                                                                                                                                                                                                                                                                                                                                                                                                                                                                                                                                                                                                                                                                                                                                                                                                                                                                                                                                                                                                                                                                                                                                                                                                                                                                                                                                                                                                                                                                                                                                                                                                                                                                                                                                                                                                                                                                                                                                                                                                                                                                                                                                                                                                                                                                                                                                                                                                                                                                                                                                                                                                                                                                                </span></td><td>2.9</td><td>Affinity Solutions</td><td>New York, NY </td><td><span style=white-space:pre-wrap>New York, NY          </span></td><td><span style=white-space:pre-wrap>51 to 200 employees    </span></td><td><span style=white-space:pre-wrap>Company - Private      </span></td><td><span style=white-space:pre-wrap>Advertising &amp; Marketing              </span></td><td>⋯</td><td>22</td><td>1</td><td>1</td><td>0</td><td>0</td><td>0</td><td>0</td><td>0</td><td>data scientist</td><td><span style=white-space:pre-wrap>na    </span></td></tr>\n",
       "</tbody>\n",
       "</table>\n"
      ],
      "text/latex": [
       "A data.frame: 5 × 27\n",
       "\\begin{tabular}{r|lllllllllllllllllllll}\n",
       "  & Job.Title & Salary.Estimate & Job.Description & Rating & Company.Name & Location & Headquarters & Size & Type.of.ownership & Industry & ⋯ & company\\_age & python & excel & hadoop & spark & aws & tableau & big\\_data & job\\_simp & seniority\\\\\n",
       "  & <chr> & <chr> & <chr> & <dbl> & <chr> & <chr> & <chr> & <chr> & <chr> & <chr> & ⋯ & <int> & <int> & <int> & <int> & <int> & <int> & <int> & <int> & <chr> & <chr>\\\\\n",
       "\\hline\n",
       "\t1 & Sr Data Scientist & 137-171  & Description\n",
       "\n",
       "The Senior Data Scientist is responsible for defining, building, and improving statistical models to improve business processes and outcomes in one or more healthcare domains such as Clinical, Enrollment, Claims, and Finance. As part of the broader analytics team, Data Scientist will gather and analyze data to solve and address complex business problems and evaluate scenarios to make predictions on future outcomes and work with the business to communicate and support decision-making. This position requires strong analytical skills and experience in analytic methods including multivariate regressions, hierarchical linear models, regression trees, clustering methods and other complex statistical techniques.\n",
       "\n",
       "Duties \\& Responsibilities:\n",
       "\n",
       "• Develops advanced statistical models to predict, quantify or forecast various operational and performance metrics in multiple healthcare domains\n",
       "• Investigates, recommends, and initiates acquisition of new data resources from internal and external sources\n",
       "• Works with multiple teams to support data collection, integration, and retention requirements based on business needs\n",
       "• Identifies critical and emerging technologies that will support and extend quantitative analytic capabilities\n",
       "• Collaborates with business subject matter experts to select relevant sources of information\n",
       "• Develops expertise with multiple machine learning algorithms and data science techniques, such as exploratory data analysis and predictive modeling, graph theory, recommender systems, text analytics and validation\n",
       "• Develops expertise with Healthfirst datasets, data repositories, and data movement processes\n",
       "• Assists on projects/requests and may lead specific tasks within the project scope\n",
       "• Prepares and manipulates data for use in development of statistical models\n",
       "• Other duties as assigned\n",
       "\n",
       "Minimum Qualifications:\n",
       "\n",
       "-Bachelor's Degree\n",
       "\n",
       "Preferred Qualifications:\n",
       "\n",
       "- Master’s degree in Computer Science or Statistics\n",
       "Familiarity with major cloud platforms such as AWS and Azure\n",
       "Healthcare Industry Experience\n",
       "\n",
       "Minimum Qualifications:\n",
       "\n",
       "-Bachelor's Degree\n",
       "\n",
       "Preferred Qualifications:\n",
       "\n",
       "- Master’s degree in Computer Science or Statistics\n",
       "Familiarity with major cloud platforms such as AWS and Azure\n",
       "Healthcare Industry Experience\n",
       "\n",
       "WE ARE AN EQUAL OPPORTUNITY EMPLOYER. Applicants and employees are considered for positions and are evaluated without regard to mental or physical disability, race, color, religion, gender, national origin, age, genetic information, military or veteran status, sexual orientation, marital status or any other protected Federal, State/Province or Local status unrelated to the performance of the work involved.\n",
       "\n",
       "If you have a disability under the Americans with Disability Act or a similar law, and want a reasonable accommodation to assist with your job search or application for employment, please contact us by sending an email to careers@Healthfirst.org or calling 212-519-1798 . In your email please include a description of the accommodation you are requesting and a description of the position for which you are applying. Only reasonable accommodation requests related to applying for a position within Healthfirst Management Services will be reviewed at the e-mail address and phone number supplied. Thank you for considering a career with Healthfirst Management Services.\n",
       "EEO Law Poster and Supplement\n",
       "\n",
       "{]}{]}>                                                                                                                                                                                                                                                                                                                                                                                                                                                                                                                                                                                                                                                                                                                                                                                                                                                                                                                                                                                                                                                                                                                                                                                                                                                                                                                                                                                                                                                                                                                                                                                                                                                                                                                                                                                                                                                                                                                                                                                                                                                                                                                                                                                                                                                                                                                                                                                                                                                                                                                                                                                                                                                                                                                                                                                                                                                                                                                                                                                                                                                                                                                                                                                                                                                                                                                                                                                                                                                                                                                                                                                                                                                                                                                                                                                                                                                                                                                                                                                                                                                                                                                                                                                                                                                                                                                                                                                                                                                                                                                                                                                                                                                                                                                                                                                                                                                                                                                                                                                                                                                                                                                                                                                                                                                                                                                                                                                                                                                                                                                                                                                                                                      & 3.1 & Healthfirst        & New York, NY  & New York, NY           & 1001 to 5000 employees  & Nonprofit Organization  & Insurance Carriers                    & ⋯ & 27 & 0 & 0 & 0 & 0 & 1 & 0 & 0 & data scientist & senior\\\\\n",
       "\t2 & Data Scientist    & 137-171  & Secure our Nation, Ignite your Future\n",
       "\n",
       "Join the top Information Technology and Analytic professionals in the industry to make invaluable contributions to our national security on a daily basis. In this innovative, self-contained, Big Data environment, the ManTech team is responsible for everything from infrastructure, to application development, to data science, to advanced analytics and beyond. The team is diverse, the questions are thought-provoking, and the opportunities for growth and advancement are numerous\n",
       "\n",
       "The successful candidate will possess a diverse range of data-focused skills and experience, both technical and analytical. They will have a strong desire and capability for problem solving, data analysis and troubleshooting, analytical thinking, and experimentation.\n",
       "\n",
       "Duties, Tasks \\& Responsibilities\n",
       "Working with large, complex, and disparate data sets\n",
       "Designing and implementing innovative ways to analyze and exploit the Sponsors data holdings\n",
       "Researching and reporting on a wide variety of Sponsor inquiries\n",
       "Raising proactive inquiries to the Sponsor based on observations and proposed data analysis/exploitation\n",
       "Solving difficult, non-routine problems by applying advanced analytical methodologies, and improving analytic methodologies\n",
       "Developing custom searches\n",
       "Communicating and coordinating with internal and external partners as needed\n",
       "Required Experience, Skills, \\& Technologies\n",
       "\n",
       "Thorough knowledge of appropriate analytic tools and methodologies in one or more of the following:\n",
       "Applied mathematics (e.g. probability and statistics, formal modeling, computational social sciences)\n",
       "Computer programming (e.g. programming languages, math/statistics packages, computer science, machine learning, scientific computing)\n",
       "Ability to code or script in one or more general programming language\n",
       "Experience with and theoretical understanding of algorithms for classification, regression, clustering, and anomaly detection\n",
       "Knowledge of relational databases, including SQL and large-scale distributed systems (e.g. Hadoop)\n",
       "Expertise with statistical data analysis (e.g. linear models, multivariate analysis, stochastic models, sampling methods)\n",
       "Demonstrated effectiveness in collecting information and accurately representing/visualizing it to non-technical third parties\n",
       "TS/SCI with Polygraph\n",
       "Bachelor of Science or equivalent and 12-15 years related experience, but will consider all levels of experience.\n",
       "Desired Experience, Skills \\& Technologies\n",
       "Previous investigative experience using a combination of technical and analytic skills\n",
       "\\#LI-DU1\n",
       "\n",
       "ManTech International Corporation, as well as its subsidiaries proactively fulfills its role as an equal opportunity employer. We do not discriminate against any employee or applicant for employment because of race, color, sex, religion, age, sexual orientation, gender identity and expression, national origin, marital status, physical or mental disability, status as a Disabled Veteran, Recently Separated Veteran, Active Duty Wartime or Campaign Badge Veteran, Armed Forces Services Medal, or any other characteristic protected by law.\n",
       "\n",
       "If you require a reasonable accommodation to apply for a position with ManTech through its online applicant system, please contact ManTech's Corporate EEO Department at (703) 218-6000. ManTech is an affirmative action/equal opportunity employer - minorities, females, disabled and protected veterans are urged to apply. ManTech's utilization of any external recruitment or job placement agency is predicated upon its full compliance with our equal opportunity/affirmative action policies. ManTech does not accept resumes from unsolicited recruiting firms. We pay no fees for unsolicited services.\n",
       "\n",
       "If you are a qualified individual with a disability or a disabled veteran, you have the right to request an accommodation if you are unable or limited in your ability to use or access http://www.mantech.com/careers/Pages/careers.aspx as a result of your disability. To request an accommodation please click careers@mantech.com and provide your name and contact information.                                                                                                                                                                                                                                                                                                                                                                                                                                                                                                                                                                                                                                                                                                                                                                                                                                                                                                                                                                                                                                                                                                                                                                                                                                                                                                                                                                                                                                                                                                                                                                                                                                                                                                                                                                                                                                                                                                                                                                                                                                                                                                                                                                                                                                                                                                                                                                                                                                                                                                                                                                                                                                                                                                                                                                                                                                                                                                                                                                                                                                                                                                                                                                                                                                                                                                                                                                                                                                                                                                                                                                                                                                                                                                                                                                                                                                                                                                                                                                                                                                                                                                                                                                                                                                                                                                                                                                                                                                                                                                                                                                                                                                                                                                                                                                                                                                                                                                                               & 4.2 & ManTech            & Chantilly, VA & Herndon, VA            & 5001 to 10000 employees & Company - Public        & Research \\& Development                & ⋯ & 52 & 0 & 0 & 1 & 0 & 0 & 0 & 1 & data scientist & na    \\\\\n",
       "\t3 & Data Scientist    & 137-171  & Overview\n",
       "\n",
       "\n",
       "Analysis Group is one of the largest international economics consulting firms, with more than 1,000 professionals across 14 offices in North America, Europe, and Asia. Since 1981, we have provided expertise in economics, finance, health care analytics, and strategy to top law firms, Fortune Global 500 companies, and government agencies worldwide. Our internal experts, together with our network of affiliated experts from academia, industry, and government, offer our clients exceptional breadth and depth of expertise.\n",
       "\n",
       "We are currently seeking a Data Scientist to join our team. The ideal candidate should be passionate about working on cutting edge research and analytical services for Fortune 500 companies, global pharma/biotech firms and leaders in industries such as finance, energy and life sciences. The Data Scientist will be a contributing member to client engagements and have the opportunity to work with our network of world-class experts and thought leaders.\n",
       "\n",
       "Job Functions and Responsibilities\n",
       "\n",
       "The candidate Data Scientist will help develop, maintain and teach new tools and methodologies related to data science and high performance computing. This position will also help Analysis Group in maintaining our leadership position in terms of advancing methodology and data analytics. The Data Scientist will be responsible for staying abreast of new developments in technology relating to data science, to share more broadly with Analysis Group.\n",
       "\n",
       "Key responsibilities for this position will include:\n",
       "Working with project teams to address data science/computing challenges\n",
       "Identifying opportunities for technology to enhance service offerings\n",
       "Acting as a resource and participating in client engagements and research as part of the project team\n",
       "Maintaining up-to-date knowledge of computing tools, providing technical training and helping to grow the in-house knowledge base, specifically in a Linux environment\n",
       "Presenting research at selected conferences\n",
       "Examples of activities for the Data Scientist will include:\n",
       "Developing data engineering and machine learning production systems for full stack data science projects\n",
       "Using natural language processing methodologies to work with EMR data, social media data and other unstructured data\n",
       "Optimizing procedures for managing and accessing large databases (e.g., insurance claims, electronic health records, financial transactions)\n",
       "Creating interactive analytics portals and data visualizations (e.g., using R/Shiny, Python/Flask, D3)\n",
       "Building and maintaining high performance computing (HPC) tools on grid and cloud computing environments\n",
       "Developing and reviewing software and packages in R, Python and other Object Oriented Languages\n",
       "Establishing optimized procedures for repetitive or computationally intensive tasks (C, C++, Cuda-C)\n",
       "Qualifications\n",
       "Strong credentials and experience in database management and data visualization\n",
       "Significant experience working within a Linux environment required\n",
       "Background in Statistics/Econometrics or Biostatistics\n",
       "Ideally PhD in Computer Science, Mathematics, Statistics, Economics or other relevant scientific degree with relevant experience. Other candidates with at least one year of experience in the field may also be considered\n",
       "Excellent written and verbal communication skills\n",
       "Project experience with R and/or Python\n",
       "Familiar with online/cloud computing/storage (e.g., AWS)\n",
       "Demonstrated experience working on project teams and collaborating with others\n",
       "SCIENTIFIQUE DES DONNÉES\n",
       "\n",
       "*L’utilisation du genre masculin sert uniquement à alléger le texte et est utilisé ici en tant que genre neutre\n",
       "\n",
       "Survol\n",
       "\n",
       "Groupe d’analyse ltée est l’une des plus grandes firmes de services-conseils en économie, comptant plus de 950 professionnels répartis dans 14 bureaux en Amérique du Nord, en Europe et en Asie. Depuis 1981, nous offrons notre expertise en matière de stratégie, d’économie, de finance et d’analyse dans le domaine des soins de santé aux grands cabinets d’avocats, aux sociétés Fortune Global 500 et aux agences gouvernementales du monde entier. Nos professionnels en poste conjugués à notre réseau de spécialistes affiliés issus d’universités, d’industries spécifiques et d’organismes gouvernementaux procurent à notre clientèle un savoir-faire d’une portée et d’une profondeur exceptionnelles.\n",
       "\n",
       "Nous sommes présentement à la recherche d'un Scientifique des données (« Data Scientist ») pour se joindre à notre équipe. Le candidat idéal devrait être passionné par la recherche de pointe et les services analytiques pour les entreprises Fortune 500, les entreprises pharmaceutiques et biotechnologiques mondiales et les chefs de file dans des secteurs de la finance, l'énergie et les sciences de la vie. Le Scientifique des données sera un membre contributeur aux mandats des clients et aura l'occasion de travailler avec notre réseau d'experts et de leaders d'opinion de classe mondiale.\n",
       "\n",
       "Description du poste et des responsabilités\n",
       "\n",
       "Le scientifique des données aidera à développer, maintenir et enseigner de nouveaux outils et méthodologies liés à la science des données (« Data Science ») et au HPC. Ce poste aidera également le Groupe d'analyse à maintenir sa position de chef de file en ce qui a trait à l'avancement de la méthodologie et de l'analyse des données. Le scientifique des données sera chargé de se tenir au courant des nouveaux développements technologiques liés à la science des données, afin de les partager plus largement avec le Groupe d'analyse.\n",
       "\n",
       "Les principales responsabilités de ce poste comprendront:\n",
       "\n",
       "- Collaborer avec les consultants pour relever les défis de la science des données et de sciences informatiques\n",
       "\n",
       "- Agir à titre de ressource et participer aux mandats et à la recherche en tant que membre de l'équipe de projet\n",
       "\n",
       "- Maintenir à jour les connaissances sur les outils informatiques, fournir une formation technique et aider à développer la base de connaissances interne, notamment dans un environnement Linux\n",
       "\n",
       "- Présenter la recherche à des conférences choisies\n",
       "\n",
       "Exemples de tâches du scientifique des données :\n",
       "\n",
       "- Développement de systèmes de production en ingénierie des données ainsi qu’en apprentissage machine pour des projets de science des données full stack\n",
       "\n",
       "- Utiliser des méthodologies NLP pour travailler avec les données médicales électroniques, les données des médias sociaux et d'autres données non structures\n",
       "\n",
       "- Optimiser les procédures de gestion et d'accès aux grandes bases de données (ex. réclamations d'assurance, dossiers de santé électroniques, transactions financières)\n",
       "\n",
       "- Création de portails d'analyse interactifs et de visualisations de données (par exemple, en utilisant R/Shiny, Python/Flask, D3)\n",
       "\n",
       "- Construire et maintenir des outils de calcul de haute performance (HPC).\n",
       "\n",
       "- Développement et révision de codes en R, Python et autres langages\n",
       "\n",
       "- Mise en place de procédures optimisées pour les tâches répétitives ou intensives en calcul (C, C++, Cuda-C)\n",
       "\n",
       "Qualifications requises\n",
       "\n",
       "- Solides références et expérience dans la gestion de bases de données et de la visualisation de données\n",
       "\n",
       "- Expérience de travail significative dans un environnement Linux requise\n",
       "\n",
       "- Expérience antérieure en statistique/économétrie ou bio-statistique\n",
       "\n",
       "- Idéalement, être titulaire d'un doctorat en sciences informatiques, en mathématiques, en statistique, en économie ou d'un autre diplôme scientifique pertinent et posséder une expérience pertinente. Les candidats ayant au moins un an d'expérience dans le domaine peuvent également être considérés.\n",
       "\n",
       "- Excellentes aptitudes de communication écrite et verbale\n",
       "\n",
       "- Expérience de projet avec R et/ou Python\n",
       "\n",
       "- Familiarité avec l'informatique en ligne/info nuagique et le stockage (AWS)\n",
       "\n",
       "- Expérience de travail démontrée au sein d'équipes de projet et de collaboration avec d'autres personnes\n",
       "\n",
       "­\n",
       "Equal Opportunity Employer/Protected Veterans/Individuals with Disabilities.\n",
       "Please view Equal Employment Opportunity Posters provided by OFCCP here.\n",
       "The contractor will not discharge or in any other manner discriminate against employees or applicants because they have inquired about, discussed, or disclosed their own pay or the pay of another employee or applicant. However, employees who have access to the compensation information of other employees or applicants as a part of their essential job functions cannot disclose the pay of other employees or applicants to individuals who do not otherwise have access to compensation information, unless the disclosure is (a) in response to a formal complaint or charge, (b) in furtherance of an investigation, proceeding, hearing, or action, including an investigation conducted by the employer, or (c) consistent with the contractor's legal duty to furnish information. 41 CFR 60-1.35(c) & 3.8 & Analysis Group     & Boston, MA    & Boston, MA             & 1001 to 5000 employees  & Private Practice / Firm & Consulting                            & ⋯ & 39 & 1 & 1 & 0 & 0 & 1 & 0 & 0 & data scientist & na    \\\\\n",
       "\t4 & Data Scientist    & 137-171  & JOB DESCRIPTION:\n",
       "\n",
       "Do you have a passion for Data and Machine Learning? Do you dream of working with customers on their most forward-looking AI initiatives? Does the challenge of developing modern machine learning solutions to solve real-world manufacturing problems exciting to you?\n",
       "\n",
       "We develop software for monitoring semiconductor manufacturing process and are looking to leverage the latest technologies to address our customer's needs. You will be part of a team that investigates and builds solutions based all the data available in factories, ranging from time series data, to post manufacturing data, to production logs. You will be working side by side with application developers and customers on real world problems with actual manufacturing data.\n",
       "\n",
       "JOB FUNCTION:\n",
       "\n",
       "Basic and applied research in statistical machine learning, deep learning, and data science as well as signal and information processing to advance the state of the art in time series analysis of semiconductor manufacturing data.\n",
       "\n",
       "Responsibilities:\n",
       "Perform data analysis, data pre-processing, and feature engineering in support of advanced machine learning algorithm development. Incorporate physical and operational insights/constraints into statistical models to achieve a high degree of robustness.\n",
       "Prototype algorithms for proof of concept, validation, and software implementation.\n",
       "Support performance evaluations and the transition of algorithms into existing fault detection and classification systems.\n",
       "Convey the results of scientific research to sponsors and the scientific community through briefings, conferences and peer-reviewed publications.\n",
       "Other related functions as assigned.\n",
       "\n",
       "REQUIRED QUALIFICATIONS:\n",
       "Bachelor's degree in computer science or chemical engineering or related technical field.\n",
       "Demonstrated ability in machine learning/artificial intelligence (ML/AI) development and/or scientific modelling and data analysis.\n",
       "Demonstrated ability with python/MATLAB or similar abstract language. Experience with both traditional ML and modern deep learning approaches.\n",
       "Experience with agile development practices and Git version control.\n",
       "Experience with one or more of the DNN frameworks like TensorFlow, PyTorch, Chainer.\n",
       "Experience with SQL, Graph stores, or NoSQL stores.\n",
       "Applicant must have a dynamic skill set, be willing to work with new technologies, be highly organized and capable of planning and coordinating multiple tasks. The position will require attention to detail, effective problem solving skills and excellent judgment. Ability to work independently with sensitive and confidential information, maintain a professional demeanor, work as a team member without daily supervision.\n",
       "\n",
       "COMPENSATION \\& BENEFITS:\n",
       "\n",
       "Compensation will be commensurate with experience including a competitive base salary, bonus opportunity, competitive benefits package, and relocation assistance.\n",
       "\n",
       "INFICON, is committed to ensuring that our online application process provides an equal opportunity to all job seekers that apply without regard to race, religion, ethnicity, national origin, citizenship, gender, age, protected veteran status, disability status, genetic information, sexual orientation, or any other protected characteristic. A notice describing Federal equal employment opportunity laws is available here and here to reaffirm this commitment.\n",
       "\n",
       "PI120660357                                                                                                                                                                                                                                                                                                                                                                                                                                                                                                                                                                                                                                                                                                                                                                                                                                                                                                                                                                                                                                                                                                                                                                                                                                                                                                                                                                                                                                                                                                                                                                                                                                                                                                                                                                                                                                                                                                                                                                                                                                                                                                                                                                                                                                                                                                                                                                                                                                                                                                                                                                                                                                                                                                                                                                                                                                                                                                                                                                                                                                                                                                                                                                                                                                                                                                                                                                                                                                                                                                                                                                                                                                                                                                                                                                                                                                                                                                                                                                                                                                                                                                                                                                                                                                                                                                                                                                                                                                                                                                                                                                                                                                                                                                                                                                                                                                                                                                                                                                                                                                                                                                                                                                                                                                                                                                                                                                                                                                                                                                                                                                                                                                                                                        & 3.5 & INFICON            & Newton, MA    & Bad Ragaz, Switzerland & 501 to 1000 employees   & Company - Public        & Electrical \\& Electronic Manufacturing & ⋯ & 20 & 1 & 1 & 0 & 0 & 1 & 0 & 0 & data scientist & na    \\\\\n",
       "\t5 & Data Scientist    & 137-171  & Data Scientist\n",
       "Affinity Solutions / Marketing Cloud seeks smart, curious, technically savvy candidates to join our cutting-edge data science team. We hire the best and brightest and give them the opportunity to work on industry-leading technologies.\n",
       "The data sciences team at AFS/Marketing Cloud build models, machine learning algorithms that power all our ad-tech/mar-tech products at scale, develop methodology and tools to precisely and effectively measure market campaign effects, and research in-house and public data sources for consumer spend behavior insights. In this role, you'll have the opportunity to come up with new ideas and solutions that will lead to improvement of our ability to target the right audience, derive insights and provide better measurement methodology for marketing campaigns. You'll access our core data asset and machine learning infrastructure to power your ideas.\n",
       "Duties and Responsibilities\n",
       "· Support all clients model building needs, including maintaining and improving current modeling/scoring methodology and processes,\n",
       "· Provide innovative solutions to customized modeling/scoring/targeting with appropriate ML/statistical tools,\n",
       "· Provide analytical/statistical support such as marketing test design, projection, campaign measurement, market insights to clients and stakeholders.\n",
       "· Mine large consumer datasets in the cloud environment to support ad hoc business and statistical analysis,\n",
       "· Develop and Improve automation capabilities to enable customized delivery of the analytical products to clients,\n",
       "· Communicate the methodologies and the results to the management, clients and none technical stakeholders.\n",
       "Basic Qualifications\n",
       "· Advanced degree in Statistics/Mathematics/Computer Science/Economics or other fields that requires advanced training in data analytics.\n",
       "· Being able to apply basic statistical/ML concepts and reasoning to address and solve business problems such as targeting, test design, KPI projection and performance measurement.\n",
       "· Entrepreneurial, highly self-motivated, collaborative, keen attention to detail, willingness and capable learn quickly, and ability to effectively prioritize and execute tasks in a high pressure environment.\n",
       "· Being flexible to accept different task assignments and able to work on a tight time schedule.\n",
       "· Excellent command of one or more programming languages; preferably Python, SAS or R\n",
       "· Familiar with one of the database technologies such as PostgreSQL, MySQL, can write basic SQL queries\n",
       "· Great communication skills (verbal, written and presentation)\n",
       "Preferred Qualifications\n",
       "· Experience or exposure to large consumer and/or demographic data sets.\n",
       "· Familiarity with data manipulation and cleaning routines and techniques.                                                                                                                                                                                                                                                                                                                                                                                                                                                                                                                                                                                                                                                                                                                                                                                                                                                                                                                                                                                                                                                                                                                                                                                                                                                                                                                                                                                                                                                                                                                                                                                                                                                                                                                                                                                                                                                                                                                                                                                                                                                                                                                                                                                                                                                                                                                                                                                                                                                                                                                                                                                                                                                                                                                                                                                                                                                                                                                                                                                                                                                                                                                                                                                                                                                                                                                                                                                                                                                                                                                                                                                                                                                                                                                                                                                                                                                                                                                                                                                                                                                                                                                                                                                                                                                                                                                                                                                                                                                                                                                                                                                                                                                                                                                                                                                                                                                                                                                                                                                                                                                                                                                                                                                                                                                                                                                                                                                                                                                                                                                                                                                                                                                                                                                                                                                                                                                                                                                                                                                                                                                                                                                                                                                                                                                                                                                                                 & 2.9 & Affinity Solutions & New York, NY  & New York, NY           & 51 to 200 employees     & Company - Private       & Advertising \\& Marketing               & ⋯ & 22 & 1 & 1 & 0 & 0 & 0 & 0 & 0 & data scientist & na    \\\\\n",
       "\\end{tabular}\n"
      ],
      "text/markdown": [
       "\n",
       "A data.frame: 5 × 27\n",
       "\n",
       "| <!--/--> | Job.Title &lt;chr&gt; | Salary.Estimate &lt;chr&gt; | Job.Description &lt;chr&gt; | Rating &lt;dbl&gt; | Company.Name &lt;chr&gt; | Location &lt;chr&gt; | Headquarters &lt;chr&gt; | Size &lt;chr&gt; | Type.of.ownership &lt;chr&gt; | Industry &lt;chr&gt; | ⋯ ⋯ | company_age &lt;int&gt; | python &lt;int&gt; | excel &lt;int&gt; | hadoop &lt;int&gt; | spark &lt;int&gt; | aws &lt;int&gt; | tableau &lt;int&gt; | big_data &lt;int&gt; | job_simp &lt;chr&gt; | seniority &lt;chr&gt; |\n",
       "|---|---|---|---|---|---|---|---|---|---|---|---|---|---|---|---|---|---|---|---|---|---|\n",
       "| 1 | Sr Data Scientist | 137-171  | Description\n",
       "\n",
       "The Senior Data Scientist is responsible for defining, building, and improving statistical models to improve business processes and outcomes in one or more healthcare domains such as Clinical, Enrollment, Claims, and Finance. As part of the broader analytics team, Data Scientist will gather and analyze data to solve and address complex business problems and evaluate scenarios to make predictions on future outcomes and work with the business to communicate and support decision-making. This position requires strong analytical skills and experience in analytic methods including multivariate regressions, hierarchical linear models, regression trees, clustering methods and other complex statistical techniques.\n",
       "\n",
       "Duties &amp; Responsibilities:\n",
       "\n",
       "• Develops advanced statistical models to predict, quantify or forecast various operational and performance metrics in multiple healthcare domains\n",
       "• Investigates, recommends, and initiates acquisition of new data resources from internal and external sources\n",
       "• Works with multiple teams to support data collection, integration, and retention requirements based on business needs\n",
       "• Identifies critical and emerging technologies that will support and extend quantitative analytic capabilities\n",
       "• Collaborates with business subject matter experts to select relevant sources of information\n",
       "• Develops expertise with multiple machine learning algorithms and data science techniques, such as exploratory data analysis and predictive modeling, graph theory, recommender systems, text analytics and validation\n",
       "• Develops expertise with Healthfirst datasets, data repositories, and data movement processes\n",
       "• Assists on projects/requests and may lead specific tasks within the project scope\n",
       "• Prepares and manipulates data for use in development of statistical models\n",
       "• Other duties as assigned\n",
       "\n",
       "Minimum Qualifications:\n",
       "\n",
       "-Bachelor's Degree\n",
       "\n",
       "Preferred Qualifications:\n",
       "\n",
       "- Master’s degree in Computer Science or Statistics\n",
       "Familiarity with major cloud platforms such as AWS and Azure\n",
       "Healthcare Industry Experience\n",
       "\n",
       "Minimum Qualifications:\n",
       "\n",
       "-Bachelor's Degree\n",
       "\n",
       "Preferred Qualifications:\n",
       "\n",
       "- Master’s degree in Computer Science or Statistics\n",
       "Familiarity with major cloud platforms such as AWS and Azure\n",
       "Healthcare Industry Experience\n",
       "\n",
       "WE ARE AN EQUAL OPPORTUNITY EMPLOYER. Applicants and employees are considered for positions and are evaluated without regard to mental or physical disability, race, color, religion, gender, national origin, age, genetic information, military or veteran status, sexual orientation, marital status or any other protected Federal, State/Province or Local status unrelated to the performance of the work involved.\n",
       "\n",
       "If you have a disability under the Americans with Disability Act or a similar law, and want a reasonable accommodation to assist with your job search or application for employment, please contact us by sending an email to careers@Healthfirst.org or calling 212-519-1798 . In your email please include a description of the accommodation you are requesting and a description of the position for which you are applying. Only reasonable accommodation requests related to applying for a position within Healthfirst Management Services will be reviewed at the e-mail address and phone number supplied. Thank you for considering a career with Healthfirst Management Services.\n",
       "EEO Law Poster and Supplement\n",
       "\n",
       "]]&gt;                                                                                                                                                                                                                                                                                                                                                                                                                                                                                                                                                                                                                                                                                                                                                                                                                                                                                                                                                                                                                                                                                                                                                                                                                                                                                                                                                                                                                                                                                                                                                                                                                                                                                                                                                                                                                                                                                                                                                                                                                                                                                                                                                                                                                                                                                                                                                                                                                                                                                                                                                                                                                                                                                                                                                                                                                                                                                                                                                                                                                                                                                                                                                                                                                                                                                                                                                                                                                                                                                                                                                                                                                                                                                                                                                                                                                                                                                                                                                                                                                                                                                                                                                                                                                                                                                                                                                                                                                                                                                                                                                                                                                                                                                                                                                                                                                                                                                                                                                                                                                                                                                                                                                                                                                                                                                                                                                                                                                                                                                                                                                                                                                                      | 3.1 | Healthfirst        | New York, NY  | New York, NY           | 1001 to 5000 employees  | Nonprofit Organization  | Insurance Carriers                    | ⋯ | 27 | 0 | 0 | 0 | 0 | 1 | 0 | 0 | data scientist | senior |\n",
       "| 2 | Data Scientist    | 137-171  | Secure our Nation, Ignite your Future\n",
       "\n",
       "Join the top Information Technology and Analytic professionals in the industry to make invaluable contributions to our national security on a daily basis. In this innovative, self-contained, Big Data environment, the ManTech team is responsible for everything from infrastructure, to application development, to data science, to advanced analytics and beyond. The team is diverse, the questions are thought-provoking, and the opportunities for growth and advancement are numerous\n",
       "\n",
       "The successful candidate will possess a diverse range of data-focused skills and experience, both technical and analytical. They will have a strong desire and capability for problem solving, data analysis and troubleshooting, analytical thinking, and experimentation.\n",
       "\n",
       "Duties, Tasks &amp; Responsibilities\n",
       "Working with large, complex, and disparate data sets\n",
       "Designing and implementing innovative ways to analyze and exploit the Sponsors data holdings\n",
       "Researching and reporting on a wide variety of Sponsor inquiries\n",
       "Raising proactive inquiries to the Sponsor based on observations and proposed data analysis/exploitation\n",
       "Solving difficult, non-routine problems by applying advanced analytical methodologies, and improving analytic methodologies\n",
       "Developing custom searches\n",
       "Communicating and coordinating with internal and external partners as needed\n",
       "Required Experience, Skills, &amp; Technologies\n",
       "\n",
       "Thorough knowledge of appropriate analytic tools and methodologies in one or more of the following:\n",
       "Applied mathematics (e.g. probability and statistics, formal modeling, computational social sciences)\n",
       "Computer programming (e.g. programming languages, math/statistics packages, computer science, machine learning, scientific computing)\n",
       "Ability to code or script in one or more general programming language\n",
       "Experience with and theoretical understanding of algorithms for classification, regression, clustering, and anomaly detection\n",
       "Knowledge of relational databases, including SQL and large-scale distributed systems (e.g. Hadoop)\n",
       "Expertise with statistical data analysis (e.g. linear models, multivariate analysis, stochastic models, sampling methods)\n",
       "Demonstrated effectiveness in collecting information and accurately representing/visualizing it to non-technical third parties\n",
       "TS/SCI with Polygraph\n",
       "Bachelor of Science or equivalent and 12-15 years related experience, but will consider all levels of experience.\n",
       "Desired Experience, Skills &amp; Technologies\n",
       "Previous investigative experience using a combination of technical and analytic skills\n",
       "#LI-DU1\n",
       "\n",
       "ManTech International Corporation, as well as its subsidiaries proactively fulfills its role as an equal opportunity employer. We do not discriminate against any employee or applicant for employment because of race, color, sex, religion, age, sexual orientation, gender identity and expression, national origin, marital status, physical or mental disability, status as a Disabled Veteran, Recently Separated Veteran, Active Duty Wartime or Campaign Badge Veteran, Armed Forces Services Medal, or any other characteristic protected by law.\n",
       "\n",
       "If you require a reasonable accommodation to apply for a position with ManTech through its online applicant system, please contact ManTech's Corporate EEO Department at (703) 218-6000. ManTech is an affirmative action/equal opportunity employer - minorities, females, disabled and protected veterans are urged to apply. ManTech's utilization of any external recruitment or job placement agency is predicated upon its full compliance with our equal opportunity/affirmative action policies. ManTech does not accept resumes from unsolicited recruiting firms. We pay no fees for unsolicited services.\n",
       "\n",
       "If you are a qualified individual with a disability or a disabled veteran, you have the right to request an accommodation if you are unable or limited in your ability to use or access http://www.mantech.com/careers/Pages/careers.aspx as a result of your disability. To request an accommodation please click careers@mantech.com and provide your name and contact information.                                                                                                                                                                                                                                                                                                                                                                                                                                                                                                                                                                                                                                                                                                                                                                                                                                                                                                                                                                                                                                                                                                                                                                                                                                                                                                                                                                                                                                                                                                                                                                                                                                                                                                                                                                                                                                                                                                                                                                                                                                                                                                                                                                                                                                                                                                                                                                                                                                                                                                                                                                                                                                                                                                                                                                                                                                                                                                                                                                                                                                                                                                                                                                                                                                                                                                                                                                                                                                                                                                                                                                                                                                                                                                                                                                                                                                                                                                                                                                                                                                                                                                                                                                                                                                                                                                                                                                                                                                                                                                                                                                                                                                                                                                                                                                                                                                                                                                                               | 4.2 | ManTech            | Chantilly, VA | Herndon, VA            | 5001 to 10000 employees | Company - Public        | Research &amp; Development                | ⋯ | 52 | 0 | 0 | 1 | 0 | 0 | 0 | 1 | data scientist | na     |\n",
       "| 3 | Data Scientist    | 137-171  | Overview\n",
       "\n",
       "\n",
       "Analysis Group is one of the largest international economics consulting firms, with more than 1,000 professionals across 14 offices in North America, Europe, and Asia. Since 1981, we have provided expertise in economics, finance, health care analytics, and strategy to top law firms, Fortune Global 500 companies, and government agencies worldwide. Our internal experts, together with our network of affiliated experts from academia, industry, and government, offer our clients exceptional breadth and depth of expertise.\n",
       "\n",
       "We are currently seeking a Data Scientist to join our team. The ideal candidate should be passionate about working on cutting edge research and analytical services for Fortune 500 companies, global pharma/biotech firms and leaders in industries such as finance, energy and life sciences. The Data Scientist will be a contributing member to client engagements and have the opportunity to work with our network of world-class experts and thought leaders.\n",
       "\n",
       "Job Functions and Responsibilities\n",
       "\n",
       "The candidate Data Scientist will help develop, maintain and teach new tools and methodologies related to data science and high performance computing. This position will also help Analysis Group in maintaining our leadership position in terms of advancing methodology and data analytics. The Data Scientist will be responsible for staying abreast of new developments in technology relating to data science, to share more broadly with Analysis Group.\n",
       "\n",
       "Key responsibilities for this position will include:\n",
       "Working with project teams to address data science/computing challenges\n",
       "Identifying opportunities for technology to enhance service offerings\n",
       "Acting as a resource and participating in client engagements and research as part of the project team\n",
       "Maintaining up-to-date knowledge of computing tools, providing technical training and helping to grow the in-house knowledge base, specifically in a Linux environment\n",
       "Presenting research at selected conferences\n",
       "Examples of activities for the Data Scientist will include:\n",
       "Developing data engineering and machine learning production systems for full stack data science projects\n",
       "Using natural language processing methodologies to work with EMR data, social media data and other unstructured data\n",
       "Optimizing procedures for managing and accessing large databases (e.g., insurance claims, electronic health records, financial transactions)\n",
       "Creating interactive analytics portals and data visualizations (e.g., using R/Shiny, Python/Flask, D3)\n",
       "Building and maintaining high performance computing (HPC) tools on grid and cloud computing environments\n",
       "Developing and reviewing software and packages in R, Python and other Object Oriented Languages\n",
       "Establishing optimized procedures for repetitive or computationally intensive tasks (C, C++, Cuda-C)\n",
       "Qualifications\n",
       "Strong credentials and experience in database management and data visualization\n",
       "Significant experience working within a Linux environment required\n",
       "Background in Statistics/Econometrics or Biostatistics\n",
       "Ideally PhD in Computer Science, Mathematics, Statistics, Economics or other relevant scientific degree with relevant experience. Other candidates with at least one year of experience in the field may also be considered\n",
       "Excellent written and verbal communication skills\n",
       "Project experience with R and/or Python\n",
       "Familiar with online/cloud computing/storage (e.g., AWS)\n",
       "Demonstrated experience working on project teams and collaborating with others\n",
       "SCIENTIFIQUE DES DONNÉES\n",
       "\n",
       "*L’utilisation du genre masculin sert uniquement à alléger le texte et est utilisé ici en tant que genre neutre\n",
       "\n",
       "Survol\n",
       "\n",
       "Groupe d’analyse ltée est l’une des plus grandes firmes de services-conseils en économie, comptant plus de 950 professionnels répartis dans 14 bureaux en Amérique du Nord, en Europe et en Asie. Depuis 1981, nous offrons notre expertise en matière de stratégie, d’économie, de finance et d’analyse dans le domaine des soins de santé aux grands cabinets d’avocats, aux sociétés Fortune Global 500 et aux agences gouvernementales du monde entier. Nos professionnels en poste conjugués à notre réseau de spécialistes affiliés issus d’universités, d’industries spécifiques et d’organismes gouvernementaux procurent à notre clientèle un savoir-faire d’une portée et d’une profondeur exceptionnelles.\n",
       "\n",
       "Nous sommes présentement à la recherche d'un Scientifique des données (« Data Scientist ») pour se joindre à notre équipe. Le candidat idéal devrait être passionné par la recherche de pointe et les services analytiques pour les entreprises Fortune 500, les entreprises pharmaceutiques et biotechnologiques mondiales et les chefs de file dans des secteurs de la finance, l'énergie et les sciences de la vie. Le Scientifique des données sera un membre contributeur aux mandats des clients et aura l'occasion de travailler avec notre réseau d'experts et de leaders d'opinion de classe mondiale.\n",
       "\n",
       "Description du poste et des responsabilités\n",
       "\n",
       "Le scientifique des données aidera à développer, maintenir et enseigner de nouveaux outils et méthodologies liés à la science des données (« Data Science ») et au HPC. Ce poste aidera également le Groupe d'analyse à maintenir sa position de chef de file en ce qui a trait à l'avancement de la méthodologie et de l'analyse des données. Le scientifique des données sera chargé de se tenir au courant des nouveaux développements technologiques liés à la science des données, afin de les partager plus largement avec le Groupe d'analyse.\n",
       "\n",
       "Les principales responsabilités de ce poste comprendront:\n",
       "\n",
       "- Collaborer avec les consultants pour relever les défis de la science des données et de sciences informatiques\n",
       "\n",
       "- Agir à titre de ressource et participer aux mandats et à la recherche en tant que membre de l'équipe de projet\n",
       "\n",
       "- Maintenir à jour les connaissances sur les outils informatiques, fournir une formation technique et aider à développer la base de connaissances interne, notamment dans un environnement Linux\n",
       "\n",
       "- Présenter la recherche à des conférences choisies\n",
       "\n",
       "Exemples de tâches du scientifique des données :\n",
       "\n",
       "- Développement de systèmes de production en ingénierie des données ainsi qu’en apprentissage machine pour des projets de science des données full stack\n",
       "\n",
       "- Utiliser des méthodologies NLP pour travailler avec les données médicales électroniques, les données des médias sociaux et d'autres données non structures\n",
       "\n",
       "- Optimiser les procédures de gestion et d'accès aux grandes bases de données (ex. réclamations d'assurance, dossiers de santé électroniques, transactions financières)\n",
       "\n",
       "- Création de portails d'analyse interactifs et de visualisations de données (par exemple, en utilisant R/Shiny, Python/Flask, D3)\n",
       "\n",
       "- Construire et maintenir des outils de calcul de haute performance (HPC).\n",
       "\n",
       "- Développement et révision de codes en R, Python et autres langages\n",
       "\n",
       "- Mise en place de procédures optimisées pour les tâches répétitives ou intensives en calcul (C, C++, Cuda-C)\n",
       "\n",
       "Qualifications requises\n",
       "\n",
       "- Solides références et expérience dans la gestion de bases de données et de la visualisation de données\n",
       "\n",
       "- Expérience de travail significative dans un environnement Linux requise\n",
       "\n",
       "- Expérience antérieure en statistique/économétrie ou bio-statistique\n",
       "\n",
       "- Idéalement, être titulaire d'un doctorat en sciences informatiques, en mathématiques, en statistique, en économie ou d'un autre diplôme scientifique pertinent et posséder une expérience pertinente. Les candidats ayant au moins un an d'expérience dans le domaine peuvent également être considérés.\n",
       "\n",
       "- Excellentes aptitudes de communication écrite et verbale\n",
       "\n",
       "- Expérience de projet avec R et/ou Python\n",
       "\n",
       "- Familiarité avec l'informatique en ligne/info nuagique et le stockage (AWS)\n",
       "\n",
       "- Expérience de travail démontrée au sein d'équipes de projet et de collaboration avec d'autres personnes\n",
       "\n",
       "­\n",
       "Equal Opportunity Employer/Protected Veterans/Individuals with Disabilities.\n",
       "Please view Equal Employment Opportunity Posters provided by OFCCP here.\n",
       "The contractor will not discharge or in any other manner discriminate against employees or applicants because they have inquired about, discussed, or disclosed their own pay or the pay of another employee or applicant. However, employees who have access to the compensation information of other employees or applicants as a part of their essential job functions cannot disclose the pay of other employees or applicants to individuals who do not otherwise have access to compensation information, unless the disclosure is (a) in response to a formal complaint or charge, (b) in furtherance of an investigation, proceeding, hearing, or action, including an investigation conducted by the employer, or (c) consistent with the contractor's legal duty to furnish information. 41 CFR 60-1.35(c) | 3.8 | Analysis Group     | Boston, MA    | Boston, MA             | 1001 to 5000 employees  | Private Practice / Firm | Consulting                            | ⋯ | 39 | 1 | 1 | 0 | 0 | 1 | 0 | 0 | data scientist | na     |\n",
       "| 4 | Data Scientist    | 137-171  | JOB DESCRIPTION:\n",
       "\n",
       "Do you have a passion for Data and Machine Learning? Do you dream of working with customers on their most forward-looking AI initiatives? Does the challenge of developing modern machine learning solutions to solve real-world manufacturing problems exciting to you?\n",
       "\n",
       "We develop software for monitoring semiconductor manufacturing process and are looking to leverage the latest technologies to address our customer's needs. You will be part of a team that investigates and builds solutions based all the data available in factories, ranging from time series data, to post manufacturing data, to production logs. You will be working side by side with application developers and customers on real world problems with actual manufacturing data.\n",
       "\n",
       "JOB FUNCTION:\n",
       "\n",
       "Basic and applied research in statistical machine learning, deep learning, and data science as well as signal and information processing to advance the state of the art in time series analysis of semiconductor manufacturing data.\n",
       "\n",
       "Responsibilities:\n",
       "Perform data analysis, data pre-processing, and feature engineering in support of advanced machine learning algorithm development. Incorporate physical and operational insights/constraints into statistical models to achieve a high degree of robustness.\n",
       "Prototype algorithms for proof of concept, validation, and software implementation.\n",
       "Support performance evaluations and the transition of algorithms into existing fault detection and classification systems.\n",
       "Convey the results of scientific research to sponsors and the scientific community through briefings, conferences and peer-reviewed publications.\n",
       "Other related functions as assigned.\n",
       "\n",
       "REQUIRED QUALIFICATIONS:\n",
       "Bachelor's degree in computer science or chemical engineering or related technical field.\n",
       "Demonstrated ability in machine learning/artificial intelligence (ML/AI) development and/or scientific modelling and data analysis.\n",
       "Demonstrated ability with python/MATLAB or similar abstract language. Experience with both traditional ML and modern deep learning approaches.\n",
       "Experience with agile development practices and Git version control.\n",
       "Experience with one or more of the DNN frameworks like TensorFlow, PyTorch, Chainer.\n",
       "Experience with SQL, Graph stores, or NoSQL stores.\n",
       "Applicant must have a dynamic skill set, be willing to work with new technologies, be highly organized and capable of planning and coordinating multiple tasks. The position will require attention to detail, effective problem solving skills and excellent judgment. Ability to work independently with sensitive and confidential information, maintain a professional demeanor, work as a team member without daily supervision.\n",
       "\n",
       "COMPENSATION &amp; BENEFITS:\n",
       "\n",
       "Compensation will be commensurate with experience including a competitive base salary, bonus opportunity, competitive benefits package, and relocation assistance.\n",
       "\n",
       "INFICON, is committed to ensuring that our online application process provides an equal opportunity to all job seekers that apply without regard to race, religion, ethnicity, national origin, citizenship, gender, age, protected veteran status, disability status, genetic information, sexual orientation, or any other protected characteristic. A notice describing Federal equal employment opportunity laws is available here and here to reaffirm this commitment.\n",
       "\n",
       "PI120660357                                                                                                                                                                                                                                                                                                                                                                                                                                                                                                                                                                                                                                                                                                                                                                                                                                                                                                                                                                                                                                                                                                                                                                                                                                                                                                                                                                                                                                                                                                                                                                                                                                                                                                                                                                                                                                                                                                                                                                                                                                                                                                                                                                                                                                                                                                                                                                                                                                                                                                                                                                                                                                                                                                                                                                                                                                                                                                                                                                                                                                                                                                                                                                                                                                                                                                                                                                                                                                                                                                                                                                                                                                                                                                                                                                                                                                                                                                                                                                                                                                                                                                                                                                                                                                                                                                                                                                                                                                                                                                                                                                                                                                                                                                                                                                                                                                                                                                                                                                                                                                                                                                                                                                                                                                                                                                                                                                                                                                                                                                                                                                                                                                                                                        | 3.5 | INFICON            | Newton, MA    | Bad Ragaz, Switzerland | 501 to 1000 employees   | Company - Public        | Electrical &amp; Electronic Manufacturing | ⋯ | 20 | 1 | 1 | 0 | 0 | 1 | 0 | 0 | data scientist | na     |\n",
       "| 5 | Data Scientist    | 137-171  | Data Scientist\n",
       "Affinity Solutions / Marketing Cloud seeks smart, curious, technically savvy candidates to join our cutting-edge data science team. We hire the best and brightest and give them the opportunity to work on industry-leading technologies.\n",
       "The data sciences team at AFS/Marketing Cloud build models, machine learning algorithms that power all our ad-tech/mar-tech products at scale, develop methodology and tools to precisely and effectively measure market campaign effects, and research in-house and public data sources for consumer spend behavior insights. In this role, you'll have the opportunity to come up with new ideas and solutions that will lead to improvement of our ability to target the right audience, derive insights and provide better measurement methodology for marketing campaigns. You'll access our core data asset and machine learning infrastructure to power your ideas.\n",
       "Duties and Responsibilities\n",
       "· Support all clients model building needs, including maintaining and improving current modeling/scoring methodology and processes,\n",
       "· Provide innovative solutions to customized modeling/scoring/targeting with appropriate ML/statistical tools,\n",
       "· Provide analytical/statistical support such as marketing test design, projection, campaign measurement, market insights to clients and stakeholders.\n",
       "· Mine large consumer datasets in the cloud environment to support ad hoc business and statistical analysis,\n",
       "· Develop and Improve automation capabilities to enable customized delivery of the analytical products to clients,\n",
       "· Communicate the methodologies and the results to the management, clients and none technical stakeholders.\n",
       "Basic Qualifications\n",
       "· Advanced degree in Statistics/Mathematics/Computer Science/Economics or other fields that requires advanced training in data analytics.\n",
       "· Being able to apply basic statistical/ML concepts and reasoning to address and solve business problems such as targeting, test design, KPI projection and performance measurement.\n",
       "· Entrepreneurial, highly self-motivated, collaborative, keen attention to detail, willingness and capable learn quickly, and ability to effectively prioritize and execute tasks in a high pressure environment.\n",
       "· Being flexible to accept different task assignments and able to work on a tight time schedule.\n",
       "· Excellent command of one or more programming languages; preferably Python, SAS or R\n",
       "· Familiar with one of the database technologies such as PostgreSQL, MySQL, can write basic SQL queries\n",
       "· Great communication skills (verbal, written and presentation)\n",
       "Preferred Qualifications\n",
       "· Experience or exposure to large consumer and/or demographic data sets.\n",
       "· Familiarity with data manipulation and cleaning routines and techniques.                                                                                                                                                                                                                                                                                                                                                                                                                                                                                                                                                                                                                                                                                                                                                                                                                                                                                                                                                                                                                                                                                                                                                                                                                                                                                                                                                                                                                                                                                                                                                                                                                                                                                                                                                                                                                                                                                                                                                                                                                                                                                                                                                                                                                                                                                                                                                                                                                                                                                                                                                                                                                                                                                                                                                                                                                                                                                                                                                                                                                                                                                                                                                                                                                                                                                                                                                                                                                                                                                                                                                                                                                                                                                                                                                                                                                                                                                                                                                                                                                                                                                                                                                                                                                                                                                                                                                                                                                                                                                                                                                                                                                                                                                                                                                                                                                                                                                                                                                                                                                                                                                                                                                                                                                                                                                                                                                                                                                                                                                                                                                                                                                                                                                                                                                                                                                                                                                                                                                                                                                                                                                                                                                                                                                                                                                                                                                 | 2.9 | Affinity Solutions | New York, NY  | New York, NY           | 51 to 200 employees     | Company - Private       | Advertising &amp; Marketing               | ⋯ | 22 | 1 | 1 | 0 | 0 | 0 | 0 | 0 | data scientist | na     |\n",
       "\n"
      ],
      "text/plain": [
       "  Job.Title         Salary.Estimate\n",
       "1 Sr Data Scientist 137-171        \n",
       "2 Data Scientist    137-171        \n",
       "3 Data Scientist    137-171        \n",
       "4 Data Scientist    137-171        \n",
       "5 Data Scientist    137-171        \n",
       "  Job.Description                                                                                                                                                                                                                                                                                                                                                                                                                                                                                                                                                                                                                                                                                                                                                                                                                                                                                                                                                                                                                                                                                                                                                                                                                                                                                                                                                                                                                                                                                                                                                                                                                                                                                                                                                                                                                                                                                                                                                                                                                                                                                                                                                                                                                                                                                                                                                                                                                                                                                                                                                                                                                                                                                                                                                                                                                                                                                                                                                                                                                                                                                                                                                                                                                                                                                                                                                                                                                                                                                                                                                                                                                                                                                                                                                                                                                                                                                                                                                                                                                                                                                                                                                                                                                                                                                                                                                                                                                                                                                                                                                                                                                                                                                                                                                                                                                                                                                                                                                                                                                                                                                                                                                                                                                                                                                                                                                                                                                                                                                                                                                                                                                                                                                                                                                                                                                                                                                                                                                                                                                                                                                                                                                                                                                                                                                                                                                                                                                                                                                                                                                                                                                                                                                                                                                                                                                                                                                                                                                                                                                                                                                                                                                                                                                                                                                                                                                                                                                                                                                                                                                                                                                                                                                                                                                                                                                                                                                                                                                                                                                                                                                                                                                                                                                                                                                                                                                                                                                                                                                                                                                                                                                                                                                                                                                                                                                                                                                                                                                                                                                                                                                                                                                                                             \n",
       "1 Description\\n\\nThe Senior Data Scientist is responsible for defining, building, and improving statistical models to improve business processes and outcomes in one or more healthcare domains such as Clinical, Enrollment, Claims, and Finance. As part of the broader analytics team, Data Scientist will gather and analyze data to solve and address complex business problems and evaluate scenarios to make predictions on future outcomes and work with the business to communicate and support decision-making. This position requires strong analytical skills and experience in analytic methods including multivariate regressions, hierarchical linear models, regression trees, clustering methods and other complex statistical techniques.\\n\\nDuties & Responsibilities:\\n\\n• Develops advanced statistical models to predict, quantify or forecast various operational and performance metrics in multiple healthcare domains\\n• Investigates, recommends, and initiates acquisition of new data resources from internal and external sources\\n• Works with multiple teams to support data collection, integration, and retention requirements based on business needs\\n• Identifies critical and emerging technologies that will support and extend quantitative analytic capabilities\\n• Collaborates with business subject matter experts to select relevant sources of information\\n• Develops expertise with multiple machine learning algorithms and data science techniques, such as exploratory data analysis and predictive modeling, graph theory, recommender systems, text analytics and validation\\n• Develops expertise with Healthfirst datasets, data repositories, and data movement processes\\n• Assists on projects/requests and may lead specific tasks within the project scope\\n• Prepares and manipulates data for use in development of statistical models\\n• Other duties as assigned\\n\\nMinimum Qualifications:\\n\\n-Bachelor's Degree\\n\\nPreferred Qualifications:\\n\\n- Master’s degree in Computer Science or Statistics\\nFamiliarity with major cloud platforms such as AWS and Azure\\nHealthcare Industry Experience\\n\\nMinimum Qualifications:\\n\\n-Bachelor's Degree\\n\\nPreferred Qualifications:\\n\\n- Master’s degree in Computer Science or Statistics\\nFamiliarity with major cloud platforms such as AWS and Azure\\nHealthcare Industry Experience\\n\\nWE ARE AN EQUAL OPPORTUNITY EMPLOYER. Applicants and employees are considered for positions and are evaluated without regard to mental or physical disability, race, color, religion, gender, national origin, age, genetic information, military or veteran status, sexual orientation, marital status or any other protected Federal, State/Province or Local status unrelated to the performance of the work involved.\\n\\nIf you have a disability under the Americans with Disability Act or a similar law, and want a reasonable accommodation to assist with your job search or application for employment, please contact us by sending an email to careers@Healthfirst.org or calling 212-519-1798 . In your email please include a description of the accommodation you are requesting and a description of the position for which you are applying. Only reasonable accommodation requests related to applying for a position within Healthfirst Management Services will be reviewed at the e-mail address and phone number supplied. Thank you for considering a career with Healthfirst Management Services.\\nEEO Law Poster and Supplement\\n\\n]]>                                                                                                                                                                                                                                                                                                                                                                                                                                                                                                                                                                                                                                                                                                                                                                                                                                                                                                                                                                                                                                                                                                                                                                                                                                                                                                                                                                                                                                                                                                                                                                                                                                                                                                                                                                                                                                                                                                                                                                                                                                                                                                                                                                                                                                                                                                                                                                                                                                                                                                                                                                                                                                                                                                                                                                                                                                                                                                                                                                                                                                                                                                                                                                                                                                                                                                                                                                                                                                                                                                                                                                                                                                                                                                                                                                                                                                                                                                                                                                                                                                                                                                                                                                                                                                                                                                                                                                                                                                                                                                                                                                                                                                                                                                                                                                                                                                                                                                                                                                                                                                                                                                                                                                                                                                                                                                                                                                                                                                                                                                                                                                                                                                     \n",
       "2 Secure our Nation, Ignite your Future\\n\\nJoin the top Information Technology and Analytic professionals in the industry to make invaluable contributions to our national security on a daily basis. In this innovative, self-contained, Big Data environment, the ManTech team is responsible for everything from infrastructure, to application development, to data science, to advanced analytics and beyond. The team is diverse, the questions are thought-provoking, and the opportunities for growth and advancement are numerous\\n\\nThe successful candidate will possess a diverse range of data-focused skills and experience, both technical and analytical. They will have a strong desire and capability for problem solving, data analysis and troubleshooting, analytical thinking, and experimentation.\\n\\nDuties, Tasks & Responsibilities\\nWorking with large, complex, and disparate data sets\\nDesigning and implementing innovative ways to analyze and exploit the Sponsors data holdings\\nResearching and reporting on a wide variety of Sponsor inquiries\\nRaising proactive inquiries to the Sponsor based on observations and proposed data analysis/exploitation\\nSolving difficult, non-routine problems by applying advanced analytical methodologies, and improving analytic methodologies\\nDeveloping custom searches\\nCommunicating and coordinating with internal and external partners as needed\\nRequired Experience, Skills, & Technologies\\n\\nThorough knowledge of appropriate analytic tools and methodologies in one or more of the following:\\nApplied mathematics (e.g. probability and statistics, formal modeling, computational social sciences)\\nComputer programming (e.g. programming languages, math/statistics packages, computer science, machine learning, scientific computing)\\nAbility to code or script in one or more general programming language\\nExperience with and theoretical understanding of algorithms for classification, regression, clustering, and anomaly detection\\nKnowledge of relational databases, including SQL and large-scale distributed systems (e.g. Hadoop)\\nExpertise with statistical data analysis (e.g. linear models, multivariate analysis, stochastic models, sampling methods)\\nDemonstrated effectiveness in collecting information and accurately representing/visualizing it to non-technical third parties\\nTS/SCI with Polygraph\\nBachelor of Science or equivalent and 12-15 years related experience, but will consider all levels of experience.\\nDesired Experience, Skills & Technologies\\nPrevious investigative experience using a combination of technical and analytic skills\\n#LI-DU1\\n\\nManTech International Corporation, as well as its subsidiaries proactively fulfills its role as an equal opportunity employer. We do not discriminate against any employee or applicant for employment because of race, color, sex, religion, age, sexual orientation, gender identity and expression, national origin, marital status, physical or mental disability, status as a Disabled Veteran, Recently Separated Veteran, Active Duty Wartime or Campaign Badge Veteran, Armed Forces Services Medal, or any other characteristic protected by law.\\n\\nIf you require a reasonable accommodation to apply for a position with ManTech through its online applicant system, please contact ManTech's Corporate EEO Department at (703) 218-6000. ManTech is an affirmative action/equal opportunity employer - minorities, females, disabled and protected veterans are urged to apply. ManTech's utilization of any external recruitment or job placement agency is predicated upon its full compliance with our equal opportunity/affirmative action policies. ManTech does not accept resumes from unsolicited recruiting firms. We pay no fees for unsolicited services.\\n\\nIf you are a qualified individual with a disability or a disabled veteran, you have the right to request an accommodation if you are unable or limited in your ability to use or access http://www.mantech.com/careers/Pages/careers.aspx as a result of your disability. To request an accommodation please click careers@mantech.com and provide your name and contact information.                                                                                                                                                                                                                                                                                                                                                                                                                                                                                                                                                                                                                                                                                                                                                                                                                                                                                                                                                                                                                                                                                                                                                                                                                                                                                                                                                                                                                                                                                                                                                                                                                                                                                                                                                                                                                                                                                                                                                                                                                                                                                                                                                                                                                                                                                                                                                                                                                                                                                                                                                                                                                                                                                                                                                                                                                                                                                                                                                                                                                                                                                                                                                                                                                                                                                                                                                                                                                                                                                                                                                                                                                                                                                                                                                                                                                                                                                                                                                                                                                                                                                                                                                                                                                                                                                                                                                                                                                                                                                                                                                                                                                                                                                                                                                                                                                                                                                                                              \n",
       "3 Overview\\n\\n\\nAnalysis Group is one of the largest international economics consulting firms, with more than 1,000 professionals across 14 offices in North America, Europe, and Asia. Since 1981, we have provided expertise in economics, finance, health care analytics, and strategy to top law firms, Fortune Global 500 companies, and government agencies worldwide. Our internal experts, together with our network of affiliated experts from academia, industry, and government, offer our clients exceptional breadth and depth of expertise.\\n\\nWe are currently seeking a Data Scientist to join our team. The ideal candidate should be passionate about working on cutting edge research and analytical services for Fortune 500 companies, global pharma/biotech firms and leaders in industries such as finance, energy and life sciences. The Data Scientist will be a contributing member to client engagements and have the opportunity to work with our network of world-class experts and thought leaders.\\n\\nJob Functions and Responsibilities\\n\\nThe candidate Data Scientist will help develop, maintain and teach new tools and methodologies related to data science and high performance computing. This position will also help Analysis Group in maintaining our leadership position in terms of advancing methodology and data analytics. The Data Scientist will be responsible for staying abreast of new developments in technology relating to data science, to share more broadly with Analysis Group.\\n\\nKey responsibilities for this position will include:\\nWorking with project teams to address data science/computing challenges\\nIdentifying opportunities for technology to enhance service offerings\\nActing as a resource and participating in client engagements and research as part of the project team\\nMaintaining up-to-date knowledge of computing tools, providing technical training and helping to grow the in-house knowledge base, specifically in a Linux environment\\nPresenting research at selected conferences\\nExamples of activities for the Data Scientist will include:\\nDeveloping data engineering and machine learning production systems for full stack data science projects\\nUsing natural language processing methodologies to work with EMR data, social media data and other unstructured data\\nOptimizing procedures for managing and accessing large databases (e.g., insurance claims, electronic health records, financial transactions)\\nCreating interactive analytics portals and data visualizations (e.g., using R/Shiny, Python/Flask, D3)\\nBuilding and maintaining high performance computing (HPC) tools on grid and cloud computing environments\\nDeveloping and reviewing software and packages in R, Python and other Object Oriented Languages\\nEstablishing optimized procedures for repetitive or computationally intensive tasks (C, C++, Cuda-C)\\nQualifications\\nStrong credentials and experience in database management and data visualization\\nSignificant experience working within a Linux environment required\\nBackground in Statistics/Econometrics or Biostatistics\\nIdeally PhD in Computer Science, Mathematics, Statistics, Economics or other relevant scientific degree with relevant experience. Other candidates with at least one year of experience in the field may also be considered\\nExcellent written and verbal communication skills\\nProject experience with R and/or Python\\nFamiliar with online/cloud computing/storage (e.g., AWS)\\nDemonstrated experience working on project teams and collaborating with others\\nSCIENTIFIQUE DES DONNÉES\\n\\n*L’utilisation du genre masculin sert uniquement à alléger le texte et est utilisé ici en tant que genre neutre\\n\\nSurvol\\n\\nGroupe d’analyse ltée est l’une des plus grandes firmes de services-conseils en économie, comptant plus de 950 professionnels répartis dans 14 bureaux en Amérique du Nord, en Europe et en Asie. Depuis 1981, nous offrons notre expertise en matière de stratégie, d’économie, de finance et d’analyse dans le domaine des soins de santé aux grands cabinets d’avocats, aux sociétés Fortune Global 500 et aux agences gouvernementales du monde entier. Nos professionnels en poste conjugués à notre réseau de spécialistes affiliés issus d’universités, d’industries spécifiques et d’organismes gouvernementaux procurent à notre clientèle un savoir-faire d’une portée et d’une profondeur exceptionnelles.\\n\\nNous sommes présentement à la recherche d'un Scientifique des données (« Data Scientist ») pour se joindre à notre équipe. Le candidat idéal devrait être passionné par la recherche de pointe et les services analytiques pour les entreprises Fortune 500, les entreprises pharmaceutiques et biotechnologiques mondiales et les chefs de file dans des secteurs de la finance, l'énergie et les sciences de la vie. Le Scientifique des données sera un membre contributeur aux mandats des clients et aura l'occasion de travailler avec notre réseau d'experts et de leaders d'opinion de classe mondiale.\\n\\nDescription du poste et des responsabilités\\n\\nLe scientifique des données aidera à développer, maintenir et enseigner de nouveaux outils et méthodologies liés à la science des données (« Data Science ») et au HPC. Ce poste aidera également le Groupe d'analyse à maintenir sa position de chef de file en ce qui a trait à l'avancement de la méthodologie et de l'analyse des données. Le scientifique des données sera chargé de se tenir au courant des nouveaux développements technologiques liés à la science des données, afin de les partager plus largement avec le Groupe d'analyse.\\n\\nLes principales responsabilités de ce poste comprendront:\\n\\n- Collaborer avec les consultants pour relever les défis de la science des données et de sciences informatiques\\n\\n- Agir à titre de ressource et participer aux mandats et à la recherche en tant que membre de l'équipe de projet\\n\\n- Maintenir à jour les connaissances sur les outils informatiques, fournir une formation technique et aider à développer la base de connaissances interne, notamment dans un environnement Linux\\n\\n- Présenter la recherche à des conférences choisies\\n\\nExemples de tâches du scientifique des données :\\n\\n- Développement de systèmes de production en ingénierie des données ainsi qu’en apprentissage machine pour des projets de science des données full stack\\n\\n- Utiliser des méthodologies NLP pour travailler avec les données médicales électroniques, les données des médias sociaux et d'autres données non structures\\n\\n- Optimiser les procédures de gestion et d'accès aux grandes bases de données (ex. réclamations d'assurance, dossiers de santé électroniques, transactions financières)\\n\\n- Création de portails d'analyse interactifs et de visualisations de données (par exemple, en utilisant R/Shiny, Python/Flask, D3)\\n\\n- Construire et maintenir des outils de calcul de haute performance (HPC).\\n\\n- Développement et révision de codes en R, Python et autres langages\\n\\n- Mise en place de procédures optimisées pour les tâches répétitives ou intensives en calcul (C, C++, Cuda-C)\\n\\nQualifications requises\\n\\n- Solides références et expérience dans la gestion de bases de données et de la visualisation de données\\n\\n- Expérience de travail significative dans un environnement Linux requise\\n\\n- Expérience antérieure en statistique/économétrie ou bio-statistique\\n\\n- Idéalement, être titulaire d'un doctorat en sciences informatiques, en mathématiques, en statistique, en économie ou d'un autre diplôme scientifique pertinent et posséder une expérience pertinente. Les candidats ayant au moins un an d'expérience dans le domaine peuvent également être considérés.\\n\\n- Excellentes aptitudes de communication écrite et verbale\\n\\n- Expérience de projet avec R et/ou Python\\n\\n- Familiarité avec l'informatique en ligne/info nuagique et le stockage (AWS)\\n\\n- Expérience de travail démontrée au sein d'équipes de projet et de collaboration avec d'autres personnes\\n\\n­\\nEqual Opportunity Employer/Protected Veterans/Individuals with Disabilities.\\nPlease view Equal Employment Opportunity Posters provided by OFCCP here.\\nThe contractor will not discharge or in any other manner discriminate against employees or applicants because they have inquired about, discussed, or disclosed their own pay or the pay of another employee or applicant. However, employees who have access to the compensation information of other employees or applicants as a part of their essential job functions cannot disclose the pay of other employees or applicants to individuals who do not otherwise have access to compensation information, unless the disclosure is (a) in response to a formal complaint or charge, (b) in furtherance of an investigation, proceeding, hearing, or action, including an investigation conducted by the employer, or (c) consistent with the contractor's legal duty to furnish information. 41 CFR 60-1.35(c)\n",
       "4 JOB DESCRIPTION:\\n\\nDo you have a passion for Data and Machine Learning? Do you dream of working with customers on their most forward-looking AI initiatives? Does the challenge of developing modern machine learning solutions to solve real-world manufacturing problems exciting to you?\\n\\nWe develop software for monitoring semiconductor manufacturing process and are looking to leverage the latest technologies to address our customer's needs. You will be part of a team that investigates and builds solutions based all the data available in factories, ranging from time series data, to post manufacturing data, to production logs. You will be working side by side with application developers and customers on real world problems with actual manufacturing data.\\n\\nJOB FUNCTION:\\n\\nBasic and applied research in statistical machine learning, deep learning, and data science as well as signal and information processing to advance the state of the art in time series analysis of semiconductor manufacturing data.\\n\\nResponsibilities:\\nPerform data analysis, data pre-processing, and feature engineering in support of advanced machine learning algorithm development. Incorporate physical and operational insights/constraints into statistical models to achieve a high degree of robustness.\\nPrototype algorithms for proof of concept, validation, and software implementation.\\nSupport performance evaluations and the transition of algorithms into existing fault detection and classification systems.\\nConvey the results of scientific research to sponsors and the scientific community through briefings, conferences and peer-reviewed publications.\\nOther related functions as assigned.\\n\\nREQUIRED QUALIFICATIONS:\\nBachelor's degree in computer science or chemical engineering or related technical field.\\nDemonstrated ability in machine learning/artificial intelligence (ML/AI) development and/or scientific modelling and data analysis.\\nDemonstrated ability with python/MATLAB or similar abstract language. Experience with both traditional ML and modern deep learning approaches.\\nExperience with agile development practices and Git version control.\\nExperience with one or more of the DNN frameworks like TensorFlow, PyTorch, Chainer.\\nExperience with SQL, Graph stores, or NoSQL stores.\\nApplicant must have a dynamic skill set, be willing to work with new technologies, be highly organized and capable of planning and coordinating multiple tasks. The position will require attention to detail, effective problem solving skills and excellent judgment. Ability to work independently with sensitive and confidential information, maintain a professional demeanor, work as a team member without daily supervision.\\n\\nCOMPENSATION & BENEFITS:\\n\\nCompensation will be commensurate with experience including a competitive base salary, bonus opportunity, competitive benefits package, and relocation assistance.\\n\\nINFICON, is committed to ensuring that our online application process provides an equal opportunity to all job seekers that apply without regard to race, religion, ethnicity, national origin, citizenship, gender, age, protected veteran status, disability status, genetic information, sexual orientation, or any other protected characteristic. A notice describing Federal equal employment opportunity laws is available here and here to reaffirm this commitment.\\n\\nPI120660357                                                                                                                                                                                                                                                                                                                                                                                                                                                                                                                                                                                                                                                                                                                                                                                                                                                                                                                                                                                                                                                                                                                                                                                                                                                                                                                                                                                                                                                                                                                                                                                                                                                                                                                                                                                                                                                                                                                                                                                                                                                                                                                                                                                                                                                                                                                                                                                                                                                                                                                                                                                                                                                                                                                                                                                                                                                                                                                                                                                                                                                                                                                                                                                                                                                                                                                                                                                                                                                                                                                                                                                                                                                                                                                                                                                                                                                                                                                                                                                                                                                                                                                                                                                                                                                                                                                                                                                                                                                                                                                                                                                                                                                                                                                                                                                                                                                                                                                                                                                                                                                                                                                                                                                                                                                                                                                                                                                                                                                                                                                                                                                                                                                                                       \n",
       "5 Data Scientist\\nAffinity Solutions / Marketing Cloud seeks smart, curious, technically savvy candidates to join our cutting-edge data science team. We hire the best and brightest and give them the opportunity to work on industry-leading technologies.\\nThe data sciences team at AFS/Marketing Cloud build models, machine learning algorithms that power all our ad-tech/mar-tech products at scale, develop methodology and tools to precisely and effectively measure market campaign effects, and research in-house and public data sources for consumer spend behavior insights. In this role, you'll have the opportunity to come up with new ideas and solutions that will lead to improvement of our ability to target the right audience, derive insights and provide better measurement methodology for marketing campaigns. You'll access our core data asset and machine learning infrastructure to power your ideas.\\nDuties and Responsibilities\\n· Support all clients model building needs, including maintaining and improving current modeling/scoring methodology and processes,\\n· Provide innovative solutions to customized modeling/scoring/targeting with appropriate ML/statistical tools,\\n· Provide analytical/statistical support such as marketing test design, projection, campaign measurement, market insights to clients and stakeholders.\\n· Mine large consumer datasets in the cloud environment to support ad hoc business and statistical analysis,\\n· Develop and Improve automation capabilities to enable customized delivery of the analytical products to clients,\\n· Communicate the methodologies and the results to the management, clients and none technical stakeholders.\\nBasic Qualifications\\n· Advanced degree in Statistics/Mathematics/Computer Science/Economics or other fields that requires advanced training in data analytics.\\n· Being able to apply basic statistical/ML concepts and reasoning to address and solve business problems such as targeting, test design, KPI projection and performance measurement.\\n· Entrepreneurial, highly self-motivated, collaborative, keen attention to detail, willingness and capable learn quickly, and ability to effectively prioritize and execute tasks in a high pressure environment.\\n· Being flexible to accept different task assignments and able to work on a tight time schedule.\\n· Excellent command of one or more programming languages; preferably Python, SAS or R\\n· Familiar with one of the database technologies such as PostgreSQL, MySQL, can write basic SQL queries\\n· Great communication skills (verbal, written and presentation)\\nPreferred Qualifications\\n· Experience or exposure to large consumer and/or demographic data sets.\\n· Familiarity with data manipulation and cleaning routines and techniques.                                                                                                                                                                                                                                                                                                                                                                                                                                                                                                                                                                                                                                                                                                                                                                                                                                                                                                                                                                                                                                                                                                                                                                                                                                                                                                                                                                                                                                                                                                                                                                                                                                                                                                                                                                                                                                                                                                                                                                                                                                                                                                                                                                                                                                                                                                                                                                                                                                                                                                                                                                                                                                                                                                                                                                                                                                                                                                                                                                                                                                                                                                                                                                                                                                                                                                                                                                                                                                                                                                                                                                                                                                                                                                                                                                                                                                                                                                                                                                                                                                                                                                                                                                                                                                                                                                                                                                                                                                                                                                                                                                                                                                                                                                                                                                                                                                                                                                                                                                                                                                                                                                                                                                                                                                                                                                                                                                                                                                                                                                                                                                                                                                                                                                                                                                                                                                                                                                                                                                                                                                                                                                                                                                                                                                                                                                                                                \n",
       "  Rating Company.Name       Location      Headquarters          \n",
       "1 3.1    Healthfirst        New York, NY  New York, NY          \n",
       "2 4.2    ManTech            Chantilly, VA Herndon, VA           \n",
       "3 3.8    Analysis Group     Boston, MA    Boston, MA            \n",
       "4 3.5    INFICON            Newton, MA    Bad Ragaz, Switzerland\n",
       "5 2.9    Affinity Solutions New York, NY  New York, NY          \n",
       "  Size                    Type.of.ownership      \n",
       "1 1001 to 5000 employees  Nonprofit Organization \n",
       "2 5001 to 10000 employees Company - Public       \n",
       "3 1001 to 5000 employees  Private Practice / Firm\n",
       "4 501 to 1000 employees   Company - Public       \n",
       "5 51 to 200 employees     Company - Private      \n",
       "  Industry                              ⋯ company_age python excel hadoop spark\n",
       "1 Insurance Carriers                    ⋯ 27          0      0     0      0    \n",
       "2 Research & Development                ⋯ 52          0      0     1      0    \n",
       "3 Consulting                            ⋯ 39          1      1     0      0    \n",
       "4 Electrical & Electronic Manufacturing ⋯ 20          1      1     0      0    \n",
       "5 Advertising & Marketing               ⋯ 22          1      1     0      0    \n",
       "  aws tableau big_data job_simp       seniority\n",
       "1 1   0       0        data scientist senior   \n",
       "2 0   0       1        data scientist na       \n",
       "3 1   0       0        data scientist na       \n",
       "4 1   0       0        data scientist na       \n",
       "5 0   0       0        data scientist na       "
      ]
     },
     "metadata": {},
     "output_type": "display_data"
    }
   ],
   "source": [
    "df <- read.csv(\"Cleaned_DS_Jobs.csv\", header=TRUE)\n",
    "\n",
    "head(df, 5)"
   ]
  },
  {
   "cell_type": "code",
   "execution_count": 3,
   "id": "48045150",
   "metadata": {
    "vscode": {
     "languageId": "r"
    }
   },
   "outputs": [
    {
     "name": "stdout",
     "output_type": "stream",
     "text": [
      " [1] \"Job.Title\"         \"Salary.Estimate\"   \"Job.Description\"  \n",
      " [4] \"Rating\"            \"Company.Name\"      \"Location\"         \n",
      " [7] \"Headquarters\"      \"Size\"              \"Type.of.ownership\"\n",
      "[10] \"Industry\"          \"Sector\"            \"Revenue\"          \n",
      "[13] \"min_salary\"        \"max_salary\"        \"avg_salary\"       \n",
      "[16] \"job_state\"         \"same_state\"        \"company_age\"      \n",
      "[19] \"python\"            \"excel\"             \"hadoop\"           \n",
      "[22] \"spark\"             \"aws\"               \"tableau\"          \n",
      "[25] \"big_data\"          \"job_simp\"          \"seniority\"        \n"
     ]
    }
   ],
   "source": [
    "# Get the column names\n",
    "column_names <- colnames(df)\n",
    "\n",
    "# Print the column names\n",
    "print(column_names)"
   ]
  },
  {
   "cell_type": "code",
   "execution_count": 4,
   "id": "b984d0d3",
   "metadata": {
    "vscode": {
     "languageId": "r"
    }
   },
   "outputs": [
    {
     "name": "stdout",
     "output_type": "stream",
     "text": [
      "\n",
      "\tOne Sample t-test\n",
      "\n",
      "data:  df$avg_salary\n",
      "t = -0.25046, df = 659, p-value = 0.8023\n",
      "alternative hypothesis: true mean is not equal to 124\n",
      "95 percent confidence interval:\n",
      " 120.5711 126.6531\n",
      "sample estimates:\n",
      "mean of x \n",
      " 123.6121 \n",
      "\n"
     ]
    }
   ],
   "source": [
    "# Hypothesized salary mean\n",
    "hypothesized_mean <- 124\n",
    "\n",
    "# Perform one-sample t-test\n",
    "t_test_result <- t.test(df$avg_salary, mu = hypothesized_mean)\n",
    "\n",
    "# Print the result\n",
    "print(t_test_result)"
   ]
  },
  {
   "cell_type": "code",
   "execution_count": 217,
   "id": "970aed95",
   "metadata": {
    "vscode": {
     "languageId": "r"
    }
   },
   "outputs": [
    {
     "data": {
      "text/html": [
       "482"
      ],
      "text/latex": [
       "482"
      ],
      "text/markdown": [
       "482"
      ],
      "text/plain": [
       "[1] 482"
      ]
     },
     "metadata": {},
     "output_type": "display_data"
    }
   ],
   "source": [
    "# Finding the number of people possessing Python skills\n",
    "num_python_1s <- sum(df$python == 1)\n",
    "num_python_1s"
   ]
  },
  {
   "cell_type": "code",
   "execution_count": 218,
   "id": "faad7656",
   "metadata": {
    "vscode": {
     "languageId": "r"
    }
   },
   "outputs": [
    {
     "data": {
      "text/plain": [
       "\n",
       "\t1-sample proportions test with continuity correction\n",
       "\n",
       "data:  482 out of 660, null probability 0.5\n",
       "X-squared = 139.1, df = 1, p-value < 2.2e-16\n",
       "alternative hypothesis: true p is not equal to 0.5\n",
       "95 percent confidence interval:\n",
       " 0.6944010 0.7634803\n",
       "sample estimates:\n",
       "       p \n",
       "0.730303 \n"
      ]
     },
     "metadata": {},
     "output_type": "display_data"
    }
   ],
   "source": [
    "prop.test(482,660)"
   ]
  },
  {
   "cell_type": "code",
   "execution_count": 219,
   "id": "08538c58",
   "metadata": {
    "vscode": {
     "languageId": "r"
    }
   },
   "outputs": [
    {
     "data": {
      "image/png": "[encoded data removed]",
      "text/plain": [
       "Plot with title \"Boxplot of Ratings\""
      ]
     },
     "metadata": {
      "image/png": {
       "height": 420,
       "width": 420
      }
     },
     "output_type": "display_data"
    }
   ],
   "source": [
    "boxplot(df$Rating, main=\"Boxplot of Ratings\")"
   ]
  },
  {
   "cell_type": "code",
   "execution_count": 220,
   "id": "600499e6",
   "metadata": {
    "vscode": {
     "languageId": "r"
    }
   },
   "outputs": [
    {
     "data": {
      "image/png": "[encoded data removed]",
      "text/plain": [
       "Plot with title \"Boxplot of Average Salary\""
      ]
     },
     "metadata": {
      "image/png": {
       "height": 420,
       "width": 420
      }
     },
     "output_type": "display_data"
    }
   ],
   "source": [
    "boxplot(df$avg_salary, main=\"Boxplot of Average Salary\")"
   ]
  },
  {
   "cell_type": "code",
   "execution_count": 221,
   "id": "ee4ad585",
   "metadata": {
    "vscode": {
     "languageId": "r"
    }
   },
   "outputs": [
    {
     "data": {
      "text/plain": [
       "\n",
       "\tShapiro-Wilk normality test\n",
       "\n",
       "data:  df$min_salary\n",
       "W = 0.90924, p-value < 2.2e-16\n"
      ]
     },
     "metadata": {},
     "output_type": "display_data"
    }
   ],
   "source": [
    "shapiro.test(df$min_salary)"
   ]
  },
  {
   "cell_type": "code",
   "execution_count": 222,
   "id": "01795c75-17fc-4f05-8805-18c8e7c5676f",
   "metadata": {
    "vscode": {
     "languageId": "r"
    }
   },
   "outputs": [
    {
     "data": {
      "text/html": [
       "<table class=\"dataframe\">\n",
       "<caption>A data.frame: 5 × 20</caption>\n",
       "<thead>\n",
       "\t<tr><th></th><th scope=col>Job.Title</th><th scope=col>Rating</th><th scope=col>Size</th><th scope=col>Type.of.ownership</th><th scope=col>Sector</th><th scope=col>Revenue</th><th scope=col>min_salary</th><th scope=col>max_salary</th><th scope=col>avg_salary</th><th scope=col>job_state</th><th scope=col>company_age</th><th scope=col>python</th><th scope=col>excel</th><th scope=col>hadoop</th><th scope=col>spark</th><th scope=col>aws</th><th scope=col>tableau</th><th scope=col>big_data</th><th scope=col>job_simp</th><th scope=col>seniority</th></tr>\n",
       "\t<tr><th></th><th scope=col>&lt;chr&gt;</th><th scope=col>&lt;dbl&gt;</th><th scope=col>&lt;chr&gt;</th><th scope=col>&lt;chr&gt;</th><th scope=col>&lt;chr&gt;</th><th scope=col>&lt;chr&gt;</th><th scope=col>&lt;int&gt;</th><th scope=col>&lt;int&gt;</th><th scope=col>&lt;int&gt;</th><th scope=col>&lt;chr&gt;</th><th scope=col>&lt;int&gt;</th><th scope=col>&lt;int&gt;</th><th scope=col>&lt;int&gt;</th><th scope=col>&lt;int&gt;</th><th scope=col>&lt;int&gt;</th><th scope=col>&lt;int&gt;</th><th scope=col>&lt;int&gt;</th><th scope=col>&lt;int&gt;</th><th scope=col>&lt;chr&gt;</th><th scope=col>&lt;chr&gt;</th></tr>\n",
       "</thead>\n",
       "<tbody>\n",
       "\t<tr><th scope=row>1</th><td>Sr Data Scientist</td><td>3.1</td><td>1001 to 5000 employees </td><td>Nonprofit Organization </td><td>Insurance        </td><td>Unknown / Non-Applicable  </td><td>137</td><td>171</td><td>154</td><td> NY</td><td>27</td><td>0</td><td>0</td><td>0</td><td>0</td><td>1</td><td>0</td><td>0</td><td>data scientist</td><td>senior</td></tr>\n",
       "\t<tr><th scope=row>2</th><td>Data Scientist   </td><td>4.2</td><td>5001 to 10000 employees</td><td>Company - Public       </td><td>Business Services</td><td>$1 to $2 billion (USD)    </td><td>137</td><td>171</td><td>154</td><td> VA</td><td>52</td><td>0</td><td>0</td><td>1</td><td>0</td><td>0</td><td>0</td><td>1</td><td>data scientist</td><td>na    </td></tr>\n",
       "\t<tr><th scope=row>3</th><td>Data Scientist   </td><td>3.8</td><td>1001 to 5000 employees </td><td>Private Practice / Firm</td><td>Business Services</td><td>$100 to $500 million (USD)</td><td>137</td><td>171</td><td>154</td><td> MA</td><td>39</td><td>1</td><td>1</td><td>0</td><td>0</td><td>1</td><td>0</td><td>0</td><td>data scientist</td><td>na    </td></tr>\n",
       "\t<tr><th scope=row>4</th><td>Data Scientist   </td><td>3.5</td><td>501 to 1000 employees  </td><td>Company - Public       </td><td>Manufacturing    </td><td>$100 to $500 million (USD)</td><td>137</td><td>171</td><td>154</td><td> MA</td><td>20</td><td>1</td><td>1</td><td>0</td><td>0</td><td>1</td><td>0</td><td>0</td><td>data scientist</td><td>na    </td></tr>\n",
       "\t<tr><th scope=row>5</th><td>Data Scientist   </td><td>2.9</td><td>51 to 200 employees    </td><td>Company - Private      </td><td>Business Services</td><td>Unknown / Non-Applicable  </td><td>137</td><td>171</td><td>154</td><td> NY</td><td>22</td><td>1</td><td>1</td><td>0</td><td>0</td><td>0</td><td>0</td><td>0</td><td>data scientist</td><td>na    </td></tr>\n",
       "</tbody>\n",
       "</table>\n"
      ],
      "text/latex": [
       "A data.frame: 5 × 20\n",
       "\\begin{tabular}{r|llllllllllllllllllll}\n",
       "  & Job.Title & Rating & Size & Type.of.ownership & Sector & Revenue & min\\_salary & max\\_salary & avg\\_salary & job\\_state & company\\_age & python & excel & hadoop & spark & aws & tableau & big\\_data & job\\_simp & seniority\\\\\n",
       "  & <chr> & <dbl> & <chr> & <chr> & <chr> & <chr> & <int> & <int> & <int> & <chr> & <int> & <int> & <int> & <int> & <int> & <int> & <int> & <int> & <chr> & <chr>\\\\\n",
       "\\hline\n",
       "\t1 & Sr Data Scientist & 3.1 & 1001 to 5000 employees  & Nonprofit Organization  & Insurance         & Unknown / Non-Applicable   & 137 & 171 & 154 &  NY & 27 & 0 & 0 & 0 & 0 & 1 & 0 & 0 & data scientist & senior\\\\\n",
       "\t2 & Data Scientist    & 4.2 & 5001 to 10000 employees & Company - Public        & Business Services & \\$1 to \\$2 billion (USD)     & 137 & 171 & 154 &  VA & 52 & 0 & 0 & 1 & 0 & 0 & 0 & 1 & data scientist & na    \\\\\n",
       "\t3 & Data Scientist    & 3.8 & 1001 to 5000 employees  & Private Practice / Firm & Business Services & \\$100 to \\$500 million (USD) & 137 & 171 & 154 &  MA & 39 & 1 & 1 & 0 & 0 & 1 & 0 & 0 & data scientist & na    \\\\\n",
       "\t4 & Data Scientist    & 3.5 & 501 to 1000 employees   & Company - Public        & Manufacturing     & \\$100 to \\$500 million (USD) & 137 & 171 & 154 &  MA & 20 & 1 & 1 & 0 & 0 & 1 & 0 & 0 & data scientist & na    \\\\\n",
       "\t5 & Data Scientist    & 2.9 & 51 to 200 employees     & Company - Private       & Business Services & Unknown / Non-Applicable   & 137 & 171 & 154 &  NY & 22 & 1 & 1 & 0 & 0 & 0 & 0 & 0 & data scientist & na    \\\\\n",
       "\\end{tabular}\n"
      ],
      "text/markdown": [
       "\n",
       "A data.frame: 5 × 20\n",
       "\n",
       "| <!--/--> | Job.Title &lt;chr&gt; | Rating &lt;dbl&gt; | Size &lt;chr&gt; | Type.of.ownership &lt;chr&gt; | Sector &lt;chr&gt; | Revenue &lt;chr&gt; | min_salary &lt;int&gt; | max_salary &lt;int&gt; | avg_salary &lt;int&gt; | job_state &lt;chr&gt; | company_age &lt;int&gt; | python &lt;int&gt; | excel &lt;int&gt; | hadoop &lt;int&gt; | spark &lt;int&gt; | aws &lt;int&gt; | tableau &lt;int&gt; | big_data &lt;int&gt; | job_simp &lt;chr&gt; | seniority &lt;chr&gt; |\n",
       "|---|---|---|---|---|---|---|---|---|---|---|---|---|---|---|---|---|---|---|---|---|\n",
       "| 1 | Sr Data Scientist | 3.1 | 1001 to 5000 employees  | Nonprofit Organization  | Insurance         | Unknown / Non-Applicable   | 137 | 171 | 154 |  NY | 27 | 0 | 0 | 0 | 0 | 1 | 0 | 0 | data scientist | senior |\n",
       "| 2 | Data Scientist    | 4.2 | 5001 to 10000 employees | Company - Public        | Business Services | $1 to $2 billion (USD)     | 137 | 171 | 154 |  VA | 52 | 0 | 0 | 1 | 0 | 0 | 0 | 1 | data scientist | na     |\n",
       "| 3 | Data Scientist    | 3.8 | 1001 to 5000 employees  | Private Practice / Firm | Business Services | $100 to $500 million (USD) | 137 | 171 | 154 |  MA | 39 | 1 | 1 | 0 | 0 | 1 | 0 | 0 | data scientist | na     |\n",
       "| 4 | Data Scientist    | 3.5 | 501 to 1000 employees   | Company - Public        | Manufacturing     | $100 to $500 million (USD) | 137 | 171 | 154 |  MA | 20 | 1 | 1 | 0 | 0 | 1 | 0 | 0 | data scientist | na     |\n",
       "| 5 | Data Scientist    | 2.9 | 51 to 200 employees     | Company - Private       | Business Services | Unknown / Non-Applicable   | 137 | 171 | 154 |  NY | 22 | 1 | 1 | 0 | 0 | 0 | 0 | 0 | data scientist | na     |\n",
       "\n"
      ],
      "text/plain": [
       "  Job.Title         Rating Size                    Type.of.ownership      \n",
       "1 Sr Data Scientist 3.1    1001 to 5000 employees  Nonprofit Organization \n",
       "2 Data Scientist    4.2    5001 to 10000 employees Company - Public       \n",
       "3 Data Scientist    3.8    1001 to 5000 employees  Private Practice / Firm\n",
       "4 Data Scientist    3.5    501 to 1000 employees   Company - Public       \n",
       "5 Data Scientist    2.9    51 to 200 employees     Company - Private      \n",
       "  Sector            Revenue                    min_salary max_salary avg_salary\n",
       "1 Insurance         Unknown / Non-Applicable   137        171        154       \n",
       "2 Business Services $1 to $2 billion (USD)     137        171        154       \n",
       "3 Business Services $100 to $500 million (USD) 137        171        154       \n",
       "4 Manufacturing     $100 to $500 million (USD) 137        171        154       \n",
       "5 Business Services Unknown / Non-Applicable   137        171        154       \n",
       "  job_state company_age python excel hadoop spark aws tableau big_data\n",
       "1  NY       27          0      0     0      0     1   0       0       \n",
       "2  VA       52          0      0     1      0     0   0       1       \n",
       "3  MA       39          1      1     0      0     1   0       0       \n",
       "4  MA       20          1      1     0      0     1   0       0       \n",
       "5  NY       22          1      1     0      0     0   0       0       \n",
       "  job_simp       seniority\n",
       "1 data scientist senior   \n",
       "2 data scientist na       \n",
       "3 data scientist na       \n",
       "4 data scientist na       \n",
       "5 data scientist na       "
      ]
     },
     "metadata": {},
     "output_type": "display_data"
    }
   ],
   "source": [
    "df_new <- df %>% select(-c(\"Salary.Estimate\", \"Job.Description\", \"Company.Name\", \"Industry\", \"Location\", \"Headquarters\", \"same_state\"))\n",
    "\n",
    "head(df_new, 5)"
   ]
  },
  {
   "cell_type": "code",
   "execution_count": 223,
   "id": "aa7a6763-869e-4844-8505-aa9a3430dc40",
   "metadata": {
    "vscode": {
     "languageId": "r"
    }
   },
   "outputs": [
    {
     "data": {
      "text/html": [
       "<style>\n",
       ".list-inline {list-style: none; margin:0; padding: 0}\n",
       ".list-inline>li {display: inline-block}\n",
       ".list-inline>li:not(:last-child)::after {content: \"\\00b7\"; padding: 0 .5ex}\n",
       "</style>\n",
       "<ol class=list-inline><li>660</li><li>20</li></ol>\n"
      ],
      "text/latex": [
       "\\begin{enumerate*}\n",
       "\\item 660\n",
       "\\item 20\n",
       "\\end{enumerate*}\n"
      ],
      "text/markdown": [
       "1. 660\n",
       "2. 20\n",
       "\n",
       "\n"
      ],
      "text/plain": [
       "[1] 660  20"
      ]
     },
     "metadata": {},
     "output_type": "display_data"
    }
   ],
   "source": [
    "dim(df_new)"
   ]
  },
  {
   "cell_type": "code",
   "execution_count": 224,
   "id": "cccf51ae-40da-4434-8526-e557409268d2",
   "metadata": {
    "vscode": {
     "languageId": "r"
    }
   },
   "outputs": [
    {
     "data": {
      "text/plain": [
       "  Job.Title             Rating          Size           Type.of.ownership \n",
       " Length:660         Min.   :0.000   Length:660         Length:660        \n",
       " Class :character   1st Qu.:3.300   Class :character   Class :character  \n",
       " Mode  :character   Median :3.800   Mode  :character   Mode  :character  \n",
       "                    Mean   :3.587                                        \n",
       "                    3rd Qu.:4.300                                        \n",
       "                    Max.   :5.000                                        \n",
       "    Sector            Revenue            min_salary      max_salary   \n",
       " Length:660         Length:660         Min.   : 31.0   Min.   : 56.0  \n",
       " Class :character   Class :character   1st Qu.: 79.0   1st Qu.:119.0  \n",
       " Mode  :character   Mode  :character   Median : 91.0   Median :133.0  \n",
       "                                       Mean   : 99.3   Mean   :148.3  \n",
       "                                       3rd Qu.:122.0   3rd Qu.:165.0  \n",
       "                                       Max.   :212.0   Max.   :331.0  \n",
       "   avg_salary     job_state          company_age         python      \n",
       " Min.   : 43.0   Length:660         Min.   : -1.00   Min.   :0.0000  \n",
       " 1st Qu.:103.0   Class :character   1st Qu.:  5.00   1st Qu.:0.0000  \n",
       " Median :114.0   Mode  :character   Median : 16.00   Median :1.0000  \n",
       " Mean   :123.6                      Mean   : 29.74   Mean   :0.7303  \n",
       " 3rd Qu.:136.0                      3rd Qu.: 37.25   3rd Qu.:1.0000  \n",
       " Max.   :271.0                      Max.   :239.00   Max.   :1.0000  \n",
       "     excel            hadoop           spark             aws        \n",
       " Min.   :0.0000   Min.   :0.0000   Min.   :0.0000   Min.   :0.0000  \n",
       " 1st Qu.:0.0000   1st Qu.:0.0000   1st Qu.:0.0000   1st Qu.:0.0000  \n",
       " Median :0.0000   Median :0.0000   Median :0.0000   Median :0.0000  \n",
       " Mean   :0.4409   Mean   :0.2121   Mean   :0.2818   Mean   :0.2606  \n",
       " 3rd Qu.:1.0000   3rd Qu.:0.0000   3rd Qu.:1.0000   3rd Qu.:1.0000  \n",
       " Max.   :1.0000   Max.   :1.0000   Max.   :1.0000   Max.   :1.0000  \n",
       "    tableau          big_data        job_simp          seniority        \n",
       " Min.   :0.0000   Min.   :0.0000   Length:660         Length:660        \n",
       " 1st Qu.:0.0000   1st Qu.:0.0000   Class :character   Class :character  \n",
       " Median :0.0000   Median :0.0000   Mode  :character   Mode  :character  \n",
       " Mean   :0.1848   Mean   :0.2061                                        \n",
       " 3rd Qu.:0.0000   3rd Qu.:0.0000                                        \n",
       " Max.   :1.0000   Max.   :1.0000                                        "
      ]
     },
     "metadata": {},
     "output_type": "display_data"
    }
   ],
   "source": [
    "summary(df_new)"
   ]
  },
  {
   "cell_type": "code",
   "execution_count": 225,
   "id": "db2be22c-b597-4913-bd55-0c1e02eb57af",
   "metadata": {
    "vscode": {
     "languageId": "r"
    }
   },
   "outputs": [
    {
     "data": {
      "text/html": [
       "<table class=\"dataframe\">\n",
       "<caption>A data.frame: 168 × 2</caption>\n",
       "<thead>\n",
       "\t<tr><th></th><th scope=col>Var1</th><th scope=col>Freq</th></tr>\n",
       "\t<tr><th></th><th scope=col>&lt;fct&gt;</th><th scope=col>&lt;int&gt;</th></tr>\n",
       "</thead>\n",
       "<tbody>\n",
       "\t<tr><th scope=row>48</th><td>Data Scientist                                                                                  </td><td>333</td></tr>\n",
       "\t<tr><th scope=row>33</th><td>Data Engineer                                                                                   </td><td> 26</td></tr>\n",
       "\t<tr><th scope=row>137</th><td>Senior Data Scientist                                                                           </td><td> 19</td></tr>\n",
       "\t<tr><th scope=row>98</th><td>Machine Learning Engineer                                                                       </td><td> 14</td></tr>\n",
       "\t<tr><th scope=row>26</th><td>Data Analyst                                                                                    </td><td> 12</td></tr>\n",
       "\t<tr><th scope=row>134</th><td>Senior Data Analyst                                                                             </td><td>  6</td></tr>\n",
       "\t<tr><th scope=row>136</th><td>Senior Data Engineer                                                                            </td><td>  5</td></tr>\n",
       "\t<tr><th scope=row>47</th><td>Data Science Software Engineer                                                                  </td><td>  4</td></tr>\n",
       "\t<tr><th scope=row>57</th><td>Data Scientist - TS/SCI FSP or CI Required                                                      </td><td>  4</td></tr>\n",
       "\t<tr><th scope=row>79</th><td>ENGINEER - COMPUTER SCIENTIST - RESEARCH COMPUTER SCIENTIST - SIGNAL PROCESSING - SAN ANTONIO OR</td><td>  4</td></tr>\n",
       "\t<tr><th scope=row>2</th><td>AI Ops Data Scientist                                                                           </td><td>  3</td></tr>\n",
       "\t<tr><th scope=row>4</th><td>Analytics - Business Assurance Data Analyst                                                     </td><td>  3</td></tr>\n",
       "\t<tr><th scope=row>41</th><td>Data Modeler (Analytical Systems)                                                               </td><td>  3</td></tr>\n",
       "\t<tr><th scope=row>58</th><td>Data Scientist - TS/SCI Required                                                                </td><td>  3</td></tr>\n",
       "\t<tr><th scope=row>72</th><td>Decision Scientist                                                                              </td><td>  3</td></tr>\n",
       "\t<tr><th scope=row>96</th><td>Lead Data Scientist                                                                             </td><td>  3</td></tr>\n",
       "\t<tr><th scope=row>111</th><td>Principal Data Scientist                                                                        </td><td>  3</td></tr>\n",
       "\t<tr><th scope=row>131</th><td>Senior Business Intelligence Analyst                                                            </td><td>  3</td></tr>\n",
       "\t<tr><th scope=row>140</th><td>Senior Data Scientist – Image Analytics, Novartis AI Innovation Lab                             </td><td>  3</td></tr>\n",
       "\t<tr><th scope=row>142</th><td>Senior Machine Learning Scientist - Bay Area, CA                                                </td><td>  3</td></tr>\n",
       "\t<tr><th scope=row>157</th><td>Sr. ML/Data Scientist - AI/NLP/Chatbot                                                          </td><td>  3</td></tr>\n",
       "\t<tr><th scope=row>6</th><td>Analytics Manager - Data Mart                                                                   </td><td>  2</td></tr>\n",
       "\t<tr><th scope=row>8</th><td>Applied Computer Scientist                                                                      </td><td>  2</td></tr>\n",
       "\t<tr><th scope=row>10</th><td>Associate Data Scientist                                                                        </td><td>  2</td></tr>\n",
       "\t<tr><th scope=row>14</th><td>Business Intelligence Analyst                                                                   </td><td>  2</td></tr>\n",
       "\t<tr><th scope=row>17</th><td>Cloud Data Engineer (Azure)                                                                     </td><td>  2</td></tr>\n",
       "\t<tr><th scope=row>18</th><td>Computational Behavioral Scientist                                                              </td><td>  2</td></tr>\n",
       "\t<tr><th scope=row>24</th><td>Computer Vision / Deep Learning Scientist                                                       </td><td>  2</td></tr>\n",
       "\t<tr><th scope=row>25</th><td><span style=white-space:pre-wrap>Data &amp; Machine Learning Scientist                                                               </span></td><td><span style=white-space:pre-wrap>  2</span></td></tr>\n",
       "\t<tr><th scope=row>27</th><td>Data Analyst - Unilever Prestige                                                                </td><td>  2</td></tr>\n",
       "\t<tr><th scope=row>⋮</th><td>⋮</td><td>⋮</td></tr>\n",
       "\t<tr><th scope=row>116</th><td>Production Engineer - Statistics/Data Analysis                                          </td><td>1</td></tr>\n",
       "\t<tr><th scope=row>117</th><td>Purification Scientist                                                                  </td><td>1</td></tr>\n",
       "\t<tr><th scope=row>118</th><td>Real World Evidence (RWE) Scientist                                                     </td><td>1</td></tr>\n",
       "\t<tr><th scope=row>120</th><td>Report Writer-Data Analyst                                                              </td><td>1</td></tr>\n",
       "\t<tr><th scope=row>122</th><td>Research Scientist Patient Preferences (Remote)                                         </td><td>1</td></tr>\n",
       "\t<tr><th scope=row>123</th><td>RFP Data Analyst                                                                        </td><td>1</td></tr>\n",
       "\t<tr><th scope=row>124</th><td>Say Business Data Analyst                                                               </td><td>1</td></tr>\n",
       "\t<tr><th scope=row>125</th><td>Scientist - Biomarker and Flow Cytometry                                                </td><td>1</td></tr>\n",
       "\t<tr><th scope=row>127</th><td>Scientist - Molecular Biology                                                           </td><td>1</td></tr>\n",
       "\t<tr><th scope=row>129</th><td>Scientist/Research Associate-Metabolic Engineering                                      </td><td>1</td></tr>\n",
       "\t<tr><th scope=row>132</th><td>Senior Clinical Data Scientist Programmer                                               </td><td>1</td></tr>\n",
       "\t<tr><th scope=row>133</th><td><span style=white-space:pre-wrap>Senior Data &amp; Machine Learning Scientist                                                </span></td><td>1</td></tr>\n",
       "\t<tr><th scope=row>138</th><td>Senior Data Scientist - Algorithms                                                      </td><td>1</td></tr>\n",
       "\t<tr><th scope=row>143</th><td>Senior Principal Data Scientist (Python/R)                                              </td><td>1</td></tr>\n",
       "\t<tr><th scope=row>146</th><td>Software Data Engineer                                                                  </td><td>1</td></tr>\n",
       "\t<tr><th scope=row>147</th><td>Software Engineer - Data Science                                                        </td><td>1</td></tr>\n",
       "\t<tr><th scope=row>148</th><td>Software Engineer - Machine Learning &amp; Data Science (Applied Intelligence Services Team)</td><td>1</td></tr>\n",
       "\t<tr><th scope=row>149</th><td>Software Engineer (Data Scientist, C,C++,Linux,Unix) - SISW - MG                        </td><td>1</td></tr>\n",
       "\t<tr><th scope=row>150</th><td>Sr Data Analyst                                                                         </td><td>1</td></tr>\n",
       "\t<tr><th scope=row>151</th><td>Sr Data Engineer (Sr BI Developer)                                                      </td><td>1</td></tr>\n",
       "\t<tr><th scope=row>153</th><td><span style=white-space:pre-wrap>Sr Scientist - Extractables &amp; Leachables                                                </span></td><td>1</td></tr>\n",
       "\t<tr><th scope=row>154</th><td>Sr. Data Analyst                                                                        </td><td>1</td></tr>\n",
       "\t<tr><th scope=row>158</th><td><span style=white-space:pre-wrap>Sr. Research Associate/ Scientist, NGS prep &amp; Molecular Genomics                        </span></td><td>1</td></tr>\n",
       "\t<tr><th scope=row>159</th><td>Staff BI and Data Engineer                                                              </td><td>1</td></tr>\n",
       "\t<tr><th scope=row>160</th><td>Staff Data Scientist                                                                    </td><td>1</td></tr>\n",
       "\t<tr><th scope=row>162</th><td>Staff Data Scientist - Pricing                                                          </td><td>1</td></tr>\n",
       "\t<tr><th scope=row>163</th><td>Staff Scientist- Upstream PD                                                            </td><td>1</td></tr>\n",
       "\t<tr><th scope=row>164</th><td>Statistical Scientist                                                                   </td><td>1</td></tr>\n",
       "\t<tr><th scope=row>165</th><td>Tableau Data Engineer 20-0117                                                           </td><td>1</td></tr>\n",
       "\t<tr><th scope=row>166</th><td>Vice President, Biometrics and Clinical Data Management                                 </td><td>1</td></tr>\n",
       "</tbody>\n",
       "</table>\n"
      ],
      "text/latex": [
       "A data.frame: 168 × 2\n",
       "\\begin{tabular}{r|ll}\n",
       "  & Var1 & Freq\\\\\n",
       "  & <fct> & <int>\\\\\n",
       "\\hline\n",
       "\t48 & Data Scientist                                                                                   & 333\\\\\n",
       "\t33 & Data Engineer                                                                                    &  26\\\\\n",
       "\t137 & Senior Data Scientist                                                                            &  19\\\\\n",
       "\t98 & Machine Learning Engineer                                                                        &  14\\\\\n",
       "\t26 & Data Analyst                                                                                     &  12\\\\\n",
       "\t134 & Senior Data Analyst                                                                              &   6\\\\\n",
       "\t136 & Senior Data Engineer                                                                             &   5\\\\\n",
       "\t47 & Data Science Software Engineer                                                                   &   4\\\\\n",
       "\t57 & Data Scientist - TS/SCI FSP or CI Required                                                       &   4\\\\\n",
       "\t79 & ENGINEER - COMPUTER SCIENTIST - RESEARCH COMPUTER SCIENTIST - SIGNAL PROCESSING - SAN ANTONIO OR &   4\\\\\n",
       "\t2 & AI Ops Data Scientist                                                                            &   3\\\\\n",
       "\t4 & Analytics - Business Assurance Data Analyst                                                      &   3\\\\\n",
       "\t41 & Data Modeler (Analytical Systems)                                                                &   3\\\\\n",
       "\t58 & Data Scientist - TS/SCI Required                                                                 &   3\\\\\n",
       "\t72 & Decision Scientist                                                                               &   3\\\\\n",
       "\t96 & Lead Data Scientist                                                                              &   3\\\\\n",
       "\t111 & Principal Data Scientist                                                                         &   3\\\\\n",
       "\t131 & Senior Business Intelligence Analyst                                                             &   3\\\\\n",
       "\t140 & Senior Data Scientist – Image Analytics, Novartis AI Innovation Lab                              &   3\\\\\n",
       "\t142 & Senior Machine Learning Scientist - Bay Area, CA                                                 &   3\\\\\n",
       "\t157 & Sr. ML/Data Scientist - AI/NLP/Chatbot                                                           &   3\\\\\n",
       "\t6 & Analytics Manager - Data Mart                                                                    &   2\\\\\n",
       "\t8 & Applied Computer Scientist                                                                       &   2\\\\\n",
       "\t10 & Associate Data Scientist                                                                         &   2\\\\\n",
       "\t14 & Business Intelligence Analyst                                                                    &   2\\\\\n",
       "\t17 & Cloud Data Engineer (Azure)                                                                      &   2\\\\\n",
       "\t18 & Computational Behavioral Scientist                                                               &   2\\\\\n",
       "\t24 & Computer Vision / Deep Learning Scientist                                                        &   2\\\\\n",
       "\t25 & Data \\& Machine Learning Scientist                                                                &   2\\\\\n",
       "\t27 & Data Analyst - Unilever Prestige                                                                 &   2\\\\\n",
       "\t⋮ & ⋮ & ⋮\\\\\n",
       "\t116 & Production Engineer - Statistics/Data Analysis                                           & 1\\\\\n",
       "\t117 & Purification Scientist                                                                   & 1\\\\\n",
       "\t118 & Real World Evidence (RWE) Scientist                                                      & 1\\\\\n",
       "\t120 & Report Writer-Data Analyst                                                               & 1\\\\\n",
       "\t122 & Research Scientist Patient Preferences (Remote)                                          & 1\\\\\n",
       "\t123 & RFP Data Analyst                                                                         & 1\\\\\n",
       "\t124 & Say Business Data Analyst                                                                & 1\\\\\n",
       "\t125 & Scientist - Biomarker and Flow Cytometry                                                 & 1\\\\\n",
       "\t127 & Scientist - Molecular Biology                                                            & 1\\\\\n",
       "\t129 & Scientist/Research Associate-Metabolic Engineering                                       & 1\\\\\n",
       "\t132 & Senior Clinical Data Scientist Programmer                                                & 1\\\\\n",
       "\t133 & Senior Data \\& Machine Learning Scientist                                                 & 1\\\\\n",
       "\t138 & Senior Data Scientist - Algorithms                                                       & 1\\\\\n",
       "\t143 & Senior Principal Data Scientist (Python/R)                                               & 1\\\\\n",
       "\t146 & Software Data Engineer                                                                   & 1\\\\\n",
       "\t147 & Software Engineer - Data Science                                                         & 1\\\\\n",
       "\t148 & Software Engineer - Machine Learning \\& Data Science (Applied Intelligence Services Team) & 1\\\\\n",
       "\t149 & Software Engineer (Data Scientist, C,C++,Linux,Unix) - SISW - MG                         & 1\\\\\n",
       "\t150 & Sr Data Analyst                                                                          & 1\\\\\n",
       "\t151 & Sr Data Engineer (Sr BI Developer)                                                       & 1\\\\\n",
       "\t153 & Sr Scientist - Extractables \\& Leachables                                                 & 1\\\\\n",
       "\t154 & Sr. Data Analyst                                                                         & 1\\\\\n",
       "\t158 & Sr. Research Associate/ Scientist, NGS prep \\& Molecular Genomics                         & 1\\\\\n",
       "\t159 & Staff BI and Data Engineer                                                               & 1\\\\\n",
       "\t160 & Staff Data Scientist                                                                     & 1\\\\\n",
       "\t162 & Staff Data Scientist - Pricing                                                           & 1\\\\\n",
       "\t163 & Staff Scientist- Upstream PD                                                             & 1\\\\\n",
       "\t164 & Statistical Scientist                                                                    & 1\\\\\n",
       "\t165 & Tableau Data Engineer 20-0117                                                            & 1\\\\\n",
       "\t166 & Vice President, Biometrics and Clinical Data Management                                  & 1\\\\\n",
       "\\end{tabular}\n"
      ],
      "text/markdown": [
       "\n",
       "A data.frame: 168 × 2\n",
       "\n",
       "| <!--/--> | Var1 &lt;fct&gt; | Freq &lt;int&gt; |\n",
       "|---|---|---|\n",
       "| 48 | Data Scientist                                                                                   | 333 |\n",
       "| 33 | Data Engineer                                                                                    |  26 |\n",
       "| 137 | Senior Data Scientist                                                                            |  19 |\n",
       "| 98 | Machine Learning Engineer                                                                        |  14 |\n",
       "| 26 | Data Analyst                                                                                     |  12 |\n",
       "| 134 | Senior Data Analyst                                                                              |   6 |\n",
       "| 136 | Senior Data Engineer                                                                             |   5 |\n",
       "| 47 | Data Science Software Engineer                                                                   |   4 |\n",
       "| 57 | Data Scientist - TS/SCI FSP or CI Required                                                       |   4 |\n",
       "| 79 | ENGINEER - COMPUTER SCIENTIST - RESEARCH COMPUTER SCIENTIST - SIGNAL PROCESSING - SAN ANTONIO OR |   4 |\n",
       "| 2 | AI Ops Data Scientist                                                                            |   3 |\n",
       "| 4 | Analytics - Business Assurance Data Analyst                                                      |   3 |\n",
       "| 41 | Data Modeler (Analytical Systems)                                                                |   3 |\n",
       "| 58 | Data Scientist - TS/SCI Required                                                                 |   3 |\n",
       "| 72 | Decision Scientist                                                                               |   3 |\n",
       "| 96 | Lead Data Scientist                                                                              |   3 |\n",
       "| 111 | Principal Data Scientist                                                                         |   3 |\n",
       "| 131 | Senior Business Intelligence Analyst                                                             |   3 |\n",
       "| 140 | Senior Data Scientist – Image Analytics, Novartis AI Innovation Lab                              |   3 |\n",
       "| 142 | Senior Machine Learning Scientist - Bay Area, CA                                                 |   3 |\n",
       "| 157 | Sr. ML/Data Scientist - AI/NLP/Chatbot                                                           |   3 |\n",
       "| 6 | Analytics Manager - Data Mart                                                                    |   2 |\n",
       "| 8 | Applied Computer Scientist                                                                       |   2 |\n",
       "| 10 | Associate Data Scientist                                                                         |   2 |\n",
       "| 14 | Business Intelligence Analyst                                                                    |   2 |\n",
       "| 17 | Cloud Data Engineer (Azure)                                                                      |   2 |\n",
       "| 18 | Computational Behavioral Scientist                                                               |   2 |\n",
       "| 24 | Computer Vision / Deep Learning Scientist                                                        |   2 |\n",
       "| 25 | Data &amp; Machine Learning Scientist                                                                |   2 |\n",
       "| 27 | Data Analyst - Unilever Prestige                                                                 |   2 |\n",
       "| ⋮ | ⋮ | ⋮ |\n",
       "| 116 | Production Engineer - Statistics/Data Analysis                                           | 1 |\n",
       "| 117 | Purification Scientist                                                                   | 1 |\n",
       "| 118 | Real World Evidence (RWE) Scientist                                                      | 1 |\n",
       "| 120 | Report Writer-Data Analyst                                                               | 1 |\n",
       "| 122 | Research Scientist Patient Preferences (Remote)                                          | 1 |\n",
       "| 123 | RFP Data Analyst                                                                         | 1 |\n",
       "| 124 | Say Business Data Analyst                                                                | 1 |\n",
       "| 125 | Scientist - Biomarker and Flow Cytometry                                                 | 1 |\n",
       "| 127 | Scientist - Molecular Biology                                                            | 1 |\n",
       "| 129 | Scientist/Research Associate-Metabolic Engineering                                       | 1 |\n",
       "| 132 | Senior Clinical Data Scientist Programmer                                                | 1 |\n",
       "| 133 | Senior Data &amp; Machine Learning Scientist                                                 | 1 |\n",
       "| 138 | Senior Data Scientist - Algorithms                                                       | 1 |\n",
       "| 143 | Senior Principal Data Scientist (Python/R)                                               | 1 |\n",
       "| 146 | Software Data Engineer                                                                   | 1 |\n",
       "| 147 | Software Engineer - Data Science                                                         | 1 |\n",
       "| 148 | Software Engineer - Machine Learning &amp; Data Science (Applied Intelligence Services Team) | 1 |\n",
       "| 149 | Software Engineer (Data Scientist, C,C++,Linux,Unix) - SISW - MG                         | 1 |\n",
       "| 150 | Sr Data Analyst                                                                          | 1 |\n",
       "| 151 | Sr Data Engineer (Sr BI Developer)                                                       | 1 |\n",
       "| 153 | Sr Scientist - Extractables &amp; Leachables                                                 | 1 |\n",
       "| 154 | Sr. Data Analyst                                                                         | 1 |\n",
       "| 158 | Sr. Research Associate/ Scientist, NGS prep &amp; Molecular Genomics                         | 1 |\n",
       "| 159 | Staff BI and Data Engineer                                                               | 1 |\n",
       "| 160 | Staff Data Scientist                                                                     | 1 |\n",
       "| 162 | Staff Data Scientist - Pricing                                                           | 1 |\n",
       "| 163 | Staff Scientist- Upstream PD                                                             | 1 |\n",
       "| 164 | Statistical Scientist                                                                    | 1 |\n",
       "| 165 | Tableau Data Engineer 20-0117                                                            | 1 |\n",
       "| 166 | Vice President, Biometrics and Clinical Data Management                                  | 1 |\n",
       "\n"
      ],
      "text/plain": [
       "    Var1                                                                                            \n",
       "48  Data Scientist                                                                                  \n",
       "33  Data Engineer                                                                                   \n",
       "137 Senior Data Scientist                                                                           \n",
       "98  Machine Learning Engineer                                                                       \n",
       "26  Data Analyst                                                                                    \n",
       "134 Senior Data Analyst                                                                             \n",
       "136 Senior Data Engineer                                                                            \n",
       "47  Data Science Software Engineer                                                                  \n",
       "57  Data Scientist - TS/SCI FSP or CI Required                                                      \n",
       "79  ENGINEER - COMPUTER SCIENTIST - RESEARCH COMPUTER SCIENTIST - SIGNAL PROCESSING - SAN ANTONIO OR\n",
       "2   AI Ops Data Scientist                                                                           \n",
       "4   Analytics - Business Assurance Data Analyst                                                     \n",
       "41  Data Modeler (Analytical Systems)                                                               \n",
       "58  Data Scientist - TS/SCI Required                                                                \n",
       "72  Decision Scientist                                                                              \n",
       "96  Lead Data Scientist                                                                             \n",
       "111 Principal Data Scientist                                                                        \n",
       "131 Senior Business Intelligence Analyst                                                            \n",
       "140 Senior Data Scientist – Image Analytics, Novartis AI Innovation Lab                             \n",
       "142 Senior Machine Learning Scientist - Bay Area, CA                                                \n",
       "157 Sr. ML/Data Scientist - AI/NLP/Chatbot                                                          \n",
       "6   Analytics Manager - Data Mart                                                                   \n",
       "8   Applied Computer Scientist                                                                      \n",
       "10  Associate Data Scientist                                                                        \n",
       "14  Business Intelligence Analyst                                                                   \n",
       "17  Cloud Data Engineer (Azure)                                                                     \n",
       "18  Computational Behavioral Scientist                                                              \n",
       "24  Computer Vision / Deep Learning Scientist                                                       \n",
       "25  Data & Machine Learning Scientist                                                               \n",
       "27  Data Analyst - Unilever Prestige                                                                \n",
       "⋮   ⋮                                                                                               \n",
       "116 Production Engineer - Statistics/Data Analysis                                                  \n",
       "117 Purification Scientist                                                                          \n",
       "118 Real World Evidence (RWE) Scientist                                                             \n",
       "120 Report Writer-Data Analyst                                                                      \n",
       "122 Research Scientist Patient Preferences (Remote)                                                 \n",
       "123 RFP Data Analyst                                                                                \n",
       "124 Say Business Data Analyst                                                                       \n",
       "125 Scientist - Biomarker and Flow Cytometry                                                        \n",
       "127 Scientist - Molecular Biology                                                                   \n",
       "129 Scientist/Research Associate-Metabolic Engineering                                              \n",
       "132 Senior Clinical Data Scientist Programmer                                                       \n",
       "133 Senior Data & Machine Learning Scientist                                                        \n",
       "138 Senior Data Scientist - Algorithms                                                              \n",
       "143 Senior Principal Data Scientist (Python/R)                                                      \n",
       "146 Software Data Engineer                                                                          \n",
       "147 Software Engineer - Data Science                                                                \n",
       "148 Software Engineer - Machine Learning & Data Science (Applied Intelligence Services Team)        \n",
       "149 Software Engineer (Data Scientist, C,C++,Linux,Unix) - SISW - MG                                \n",
       "150 Sr Data Analyst                                                                                 \n",
       "151 Sr Data Engineer (Sr BI Developer)                                                              \n",
       "153 Sr Scientist - Extractables & Leachables                                                        \n",
       "154 Sr. Data Analyst                                                                                \n",
       "158 Sr. Research Associate/ Scientist, NGS prep & Molecular Genomics                                \n",
       "159 Staff BI and Data Engineer                                                                      \n",
       "160 Staff Data Scientist                                                                            \n",
       "162 Staff Data Scientist - Pricing                                                                  \n",
       "163 Staff Scientist- Upstream PD                                                                    \n",
       "164 Statistical Scientist                                                                           \n",
       "165 Tableau Data Engineer 20-0117                                                                   \n",
       "166 Vice President, Biometrics and Clinical Data Management                                         \n",
       "    Freq\n",
       "48  333 \n",
       "33   26 \n",
       "137  19 \n",
       "98   14 \n",
       "26   12 \n",
       "134   6 \n",
       "136   5 \n",
       "47    4 \n",
       "57    4 \n",
       "79    4 \n",
       "2     3 \n",
       "4     3 \n",
       "41    3 \n",
       "58    3 \n",
       "72    3 \n",
       "96    3 \n",
       "111   3 \n",
       "131   3 \n",
       "140   3 \n",
       "142   3 \n",
       "157   3 \n",
       "6     2 \n",
       "8     2 \n",
       "10    2 \n",
       "14    2 \n",
       "17    2 \n",
       "18    2 \n",
       "24    2 \n",
       "25    2 \n",
       "27    2 \n",
       "⋮   ⋮   \n",
       "116 1   \n",
       "117 1   \n",
       "118 1   \n",
       "120 1   \n",
       "122 1   \n",
       "123 1   \n",
       "124 1   \n",
       "125 1   \n",
       "127 1   \n",
       "129 1   \n",
       "132 1   \n",
       "133 1   \n",
       "138 1   \n",
       "143 1   \n",
       "146 1   \n",
       "147 1   \n",
       "148 1   \n",
       "149 1   \n",
       "150 1   \n",
       "151 1   \n",
       "153 1   \n",
       "154 1   \n",
       "158 1   \n",
       "159 1   \n",
       "160 1   \n",
       "162 1   \n",
       "163 1   \n",
       "164 1   \n",
       "165 1   \n",
       "166 1   "
      ]
     },
     "metadata": {},
     "output_type": "display_data"
    }
   ],
   "source": [
    "# Job Title\n",
    "job_title <- as.data.frame(table(df_new$Job.Title))\n",
    "job_title <- job_title[order(job_title$Freq, decreasing=TRUE), ]\n",
    "job_title"
   ]
  },
  {
   "cell_type": "code",
   "execution_count": 226,
   "id": "052a7dd7-8f64-4238-93e8-e4136cc08356",
   "metadata": {
    "vscode": {
     "languageId": "r"
    }
   },
   "outputs": [
    {
     "data": {
      "image/png": "[encoded data removed]",
      "text/plain": [
       "Plot with title \"Histogram of df_new$Rating\""
      ]
     },
     "metadata": {
      "image/png": {
       "height": 420,
       "width": 420
      }
     },
     "output_type": "display_data"
    }
   ],
   "source": [
    "# Rating\n",
    "par(mfrow=c(1, 2))\n",
    "boxplot(df_new$Rating)\n",
    "hist(df_new$Rating)"
   ]
  },
  {
   "cell_type": "code",
   "execution_count": 227,
   "id": "da923e1d-fa07-4073-b72e-9cb025c7bf23",
   "metadata": {
    "vscode": {
     "languageId": "r"
    }
   },
   "outputs": [
    {
     "name": "stderr",
     "output_type": "stream",
     "text": [
      "Warning message in bplt(at[i], wid = width[i], stats = z$stats[, i], out = z$out[z$group == :\n",
      "\"Outlier (-Inf) in boxplot 1 is not drawn\"\n"
     ]
    },
    {
     "data": {
      "image/png": "[encoded data removed]",
      "text/plain": [
       "Plot with title \"Histogram of ln_rating\""
      ]
     },
     "metadata": {
      "image/png": {
       "height": 420,
       "width": 420
      }
     },
     "output_type": "display_data"
    }
   ],
   "source": [
    "ln_rating <- log(df_new$Rating)\n",
    "par(mfrow=c(1, 2))\n",
    "boxplot(ln_rating)\n",
    "hist(ln_rating)"
   ]
  },
  {
   "cell_type": "code",
   "execution_count": 228,
   "id": "b04ce98c-0e18-436e-a18e-0b0a5c6dacd5",
   "metadata": {
    "vscode": {
     "languageId": "r"
    }
   },
   "outputs": [
    {
     "data": {
      "text/html": [
       "<table class=\"dataframe\">\n",
       "<caption>A data.frame: 9 × 2</caption>\n",
       "<thead>\n",
       "\t<tr><th></th><th scope=col>Var1</th><th scope=col>Freq</th></tr>\n",
       "\t<tr><th></th><th scope=col>&lt;fct&gt;</th><th scope=col>&lt;int&gt;</th></tr>\n",
       "</thead>\n",
       "<tbody>\n",
       "\t<tr><th scope=row>8</th><td>51 to 200 employees    </td><td>128</td></tr>\n",
       "\t<tr><th scope=row>4</th><td>1001 to 5000 employees </td><td>104</td></tr>\n",
       "\t<tr><th scope=row>2</th><td>1 to 50 employees      </td><td> 84</td></tr>\n",
       "\t<tr><th scope=row>5</th><td>201 to 500 employees   </td><td> 83</td></tr>\n",
       "\t<tr><th scope=row>3</th><td>10000+ employees       </td><td> 79</td></tr>\n",
       "\t<tr><th scope=row>7</th><td>501 to 1000 employees  </td><td> 77</td></tr>\n",
       "\t<tr><th scope=row>6</th><td>5001 to 10000 employees</td><td> 61</td></tr>\n",
       "\t<tr><th scope=row>1</th><td>-1                     </td><td> 27</td></tr>\n",
       "\t<tr><th scope=row>9</th><td>Unknown                </td><td> 17</td></tr>\n",
       "</tbody>\n",
       "</table>\n"
      ],
      "text/latex": [
       "A data.frame: 9 × 2\n",
       "\\begin{tabular}{r|ll}\n",
       "  & Var1 & Freq\\\\\n",
       "  & <fct> & <int>\\\\\n",
       "\\hline\n",
       "\t8 & 51 to 200 employees     & 128\\\\\n",
       "\t4 & 1001 to 5000 employees  & 104\\\\\n",
       "\t2 & 1 to 50 employees       &  84\\\\\n",
       "\t5 & 201 to 500 employees    &  83\\\\\n",
       "\t3 & 10000+ employees        &  79\\\\\n",
       "\t7 & 501 to 1000 employees   &  77\\\\\n",
       "\t6 & 5001 to 10000 employees &  61\\\\\n",
       "\t1 & -1                      &  27\\\\\n",
       "\t9 & Unknown                 &  17\\\\\n",
       "\\end{tabular}\n"
      ],
      "text/markdown": [
       "\n",
       "A data.frame: 9 × 2\n",
       "\n",
       "| <!--/--> | Var1 &lt;fct&gt; | Freq &lt;int&gt; |\n",
       "|---|---|---|\n",
       "| 8 | 51 to 200 employees     | 128 |\n",
       "| 4 | 1001 to 5000 employees  | 104 |\n",
       "| 2 | 1 to 50 employees       |  84 |\n",
       "| 5 | 201 to 500 employees    |  83 |\n",
       "| 3 | 10000+ employees        |  79 |\n",
       "| 7 | 501 to 1000 employees   |  77 |\n",
       "| 6 | 5001 to 10000 employees |  61 |\n",
       "| 1 | -1                      |  27 |\n",
       "| 9 | Unknown                 |  17 |\n",
       "\n"
      ],
      "text/plain": [
       "  Var1                    Freq\n",
       "8 51 to 200 employees     128 \n",
       "4 1001 to 5000 employees  104 \n",
       "2 1 to 50 employees        84 \n",
       "5 201 to 500 employees     83 \n",
       "3 10000+ employees         79 \n",
       "7 501 to 1000 employees    77 \n",
       "6 5001 to 10000 employees  61 \n",
       "1 -1                       27 \n",
       "9 Unknown                  17 "
      ]
     },
     "metadata": {},
     "output_type": "display_data"
    }
   ],
   "source": [
    "# Company size\n",
    "size <- as.data.frame(table(df_new$Size))\n",
    "size <- size[order(size$Freq, decreasing=TRUE), ]\n",
    "size"
   ]
  },
  {
   "cell_type": "code",
   "execution_count": 229,
   "id": "f2671a77-47e7-4166-abca-824d55eb09a4",
   "metadata": {
    "vscode": {
     "languageId": "r"
    }
   },
   "outputs": [
    {
     "data": {
      "text/html": [
       "<table class=\"dataframe\">\n",
       "<caption>A data.frame: 7 × 2</caption>\n",
       "<thead>\n",
       "\t<tr><th></th><th scope=col>Var1</th><th scope=col>Freq</th></tr>\n",
       "\t<tr><th></th><th scope=col>&lt;fct&gt;</th><th scope=col>&lt;int&gt;</th></tr>\n",
       "</thead>\n",
       "<tbody>\n",
       "\t<tr><th scope=row>8</th><td>51 to 200 employees    </td><td>128</td></tr>\n",
       "\t<tr><th scope=row>4</th><td>1001 to 5000 employees </td><td>104</td></tr>\n",
       "\t<tr><th scope=row>2</th><td>1 to 50 employees      </td><td> 84</td></tr>\n",
       "\t<tr><th scope=row>5</th><td>201 to 500 employees   </td><td> 83</td></tr>\n",
       "\t<tr><th scope=row>3</th><td>10000+ employees       </td><td> 79</td></tr>\n",
       "\t<tr><th scope=row>7</th><td>501 to 1000 employees  </td><td> 77</td></tr>\n",
       "\t<tr><th scope=row>6</th><td>5001 to 10000 employees</td><td> 61</td></tr>\n",
       "</tbody>\n",
       "</table>\n"
      ],
      "text/latex": [
       "A data.frame: 7 × 2\n",
       "\\begin{tabular}{r|ll}\n",
       "  & Var1 & Freq\\\\\n",
       "  & <fct> & <int>\\\\\n",
       "\\hline\n",
       "\t8 & 51 to 200 employees     & 128\\\\\n",
       "\t4 & 1001 to 5000 employees  & 104\\\\\n",
       "\t2 & 1 to 50 employees       &  84\\\\\n",
       "\t5 & 201 to 500 employees    &  83\\\\\n",
       "\t3 & 10000+ employees        &  79\\\\\n",
       "\t7 & 501 to 1000 employees   &  77\\\\\n",
       "\t6 & 5001 to 10000 employees &  61\\\\\n",
       "\\end{tabular}\n"
      ],
      "text/markdown": [
       "\n",
       "A data.frame: 7 × 2\n",
       "\n",
       "| <!--/--> | Var1 &lt;fct&gt; | Freq &lt;int&gt; |\n",
       "|---|---|---|\n",
       "| 8 | 51 to 200 employees     | 128 |\n",
       "| 4 | 1001 to 5000 employees  | 104 |\n",
       "| 2 | 1 to 50 employees       |  84 |\n",
       "| 5 | 201 to 500 employees    |  83 |\n",
       "| 3 | 10000+ employees        |  79 |\n",
       "| 7 | 501 to 1000 employees   |  77 |\n",
       "| 6 | 5001 to 10000 employees |  61 |\n",
       "\n"
      ],
      "text/plain": [
       "  Var1                    Freq\n",
       "8 51 to 200 employees     128 \n",
       "4 1001 to 5000 employees  104 \n",
       "2 1 to 50 employees        84 \n",
       "5 201 to 500 employees     83 \n",
       "3 10000+ employees         79 \n",
       "7 501 to 1000 employees    77 \n",
       "6 5001 to 10000 employees  61 "
      ]
     },
     "metadata": {},
     "output_type": "display_data"
    }
   ],
   "source": [
    "size <- size[size$Var1!=-1 & size$Var1!=\"Unknown\", ]\n",
    "size"
   ]
  },
  {
   "cell_type": "code",
   "execution_count": 230,
   "id": "e0fdd191-e755-4b7f-9086-5a957fce7990",
   "metadata": {
    "vscode": {
     "languageId": "r"
    }
   },
   "outputs": [
    {
     "data": {
      "text/html": [
       "<table class=\"dataframe\">\n",
       "<caption>A data.frame: 13 × 2</caption>\n",
       "<thead>\n",
       "\t<tr><th></th><th scope=col>Var1</th><th scope=col>Freq</th></tr>\n",
       "\t<tr><th></th><th scope=col>&lt;fct&gt;</th><th scope=col>&lt;int&gt;</th></tr>\n",
       "</thead>\n",
       "<tbody>\n",
       "\t<tr><th scope=row>3</th><td>Company - Private             </td><td>386</td></tr>\n",
       "\t<tr><th scope=row>4</th><td>Company - Public              </td><td>152</td></tr>\n",
       "\t<tr><th scope=row>8</th><td>Nonprofit Organization        </td><td> 36</td></tr>\n",
       "\t<tr><th scope=row>12</th><td>Subsidiary or Business Segment</td><td> 28</td></tr>\n",
       "\t<tr><th scope=row>1</th><td>-1                            </td><td> 27</td></tr>\n",
       "\t<tr><th scope=row>6</th><td>Government                    </td><td> 10</td></tr>\n",
       "\t<tr><th scope=row>9</th><td>Other Organization            </td><td>  5</td></tr>\n",
       "\t<tr><th scope=row>10</th><td>Private Practice / Firm       </td><td>  4</td></tr>\n",
       "\t<tr><th scope=row>13</th><td>Unknown                       </td><td>  4</td></tr>\n",
       "\t<tr><th scope=row>2</th><td>College / University          </td><td>  3</td></tr>\n",
       "\t<tr><th scope=row>5</th><td>Contract                      </td><td>  2</td></tr>\n",
       "\t<tr><th scope=row>11</th><td>Self-employed                 </td><td>  2</td></tr>\n",
       "\t<tr><th scope=row>7</th><td>Hospital                      </td><td>  1</td></tr>\n",
       "</tbody>\n",
       "</table>\n"
      ],
      "text/latex": [
       "A data.frame: 13 × 2\n",
       "\\begin{tabular}{r|ll}\n",
       "  & Var1 & Freq\\\\\n",
       "  & <fct> & <int>\\\\\n",
       "\\hline\n",
       "\t3 & Company - Private              & 386\\\\\n",
       "\t4 & Company - Public               & 152\\\\\n",
       "\t8 & Nonprofit Organization         &  36\\\\\n",
       "\t12 & Subsidiary or Business Segment &  28\\\\\n",
       "\t1 & -1                             &  27\\\\\n",
       "\t6 & Government                     &  10\\\\\n",
       "\t9 & Other Organization             &   5\\\\\n",
       "\t10 & Private Practice / Firm        &   4\\\\\n",
       "\t13 & Unknown                        &   4\\\\\n",
       "\t2 & College / University           &   3\\\\\n",
       "\t5 & Contract                       &   2\\\\\n",
       "\t11 & Self-employed                  &   2\\\\\n",
       "\t7 & Hospital                       &   1\\\\\n",
       "\\end{tabular}\n"
      ],
      "text/markdown": [
       "\n",
       "A data.frame: 13 × 2\n",
       "\n",
       "| <!--/--> | Var1 &lt;fct&gt; | Freq &lt;int&gt; |\n",
       "|---|---|---|\n",
       "| 3 | Company - Private              | 386 |\n",
       "| 4 | Company - Public               | 152 |\n",
       "| 8 | Nonprofit Organization         |  36 |\n",
       "| 12 | Subsidiary or Business Segment |  28 |\n",
       "| 1 | -1                             |  27 |\n",
       "| 6 | Government                     |  10 |\n",
       "| 9 | Other Organization             |   5 |\n",
       "| 10 | Private Practice / Firm        |   4 |\n",
       "| 13 | Unknown                        |   4 |\n",
       "| 2 | College / University           |   3 |\n",
       "| 5 | Contract                       |   2 |\n",
       "| 11 | Self-employed                  |   2 |\n",
       "| 7 | Hospital                       |   1 |\n",
       "\n"
      ],
      "text/plain": [
       "   Var1                           Freq\n",
       "3  Company - Private              386 \n",
       "4  Company - Public               152 \n",
       "8  Nonprofit Organization          36 \n",
       "12 Subsidiary or Business Segment  28 \n",
       "1  -1                              27 \n",
       "6  Government                      10 \n",
       "9  Other Organization               5 \n",
       "10 Private Practice / Firm          4 \n",
       "13 Unknown                          4 \n",
       "2  College / University             3 \n",
       "5  Contract                         2 \n",
       "11 Self-employed                    2 \n",
       "7  Hospital                         1 "
      ]
     },
     "metadata": {},
     "output_type": "display_data"
    }
   ],
   "source": [
    "# Type of ownership\n",
    "owner <- as.data.frame(table(df_new$Type.of.ownership))\n",
    "owner <- owner[order(owner$Freq, decreasing=TRUE), ]\n",
    "owner"
   ]
  },
  {
   "cell_type": "code",
   "execution_count": 231,
   "id": "72473e6a-972c-4918-b2ab-fdc7304c7729",
   "metadata": {
    "vscode": {
     "languageId": "r"
    }
   },
   "outputs": [
    {
     "data": {
      "text/html": [
       "<table class=\"dataframe\">\n",
       "<caption>A data.frame: 23 × 2</caption>\n",
       "<thead>\n",
       "\t<tr><th></th><th scope=col>Var1</th><th scope=col>Freq</th></tr>\n",
       "\t<tr><th></th><th scope=col>&lt;fct&gt;</th><th scope=col>&lt;int&gt;</th></tr>\n",
       "</thead>\n",
       "<tbody>\n",
       "\t<tr><th scope=row>13</th><td>Information Technology            </td><td>178</td></tr>\n",
       "\t<tr><th scope=row>6</th><td>Business Services                 </td><td>120</td></tr>\n",
       "\t<tr><th scope=row>1</th><td>-1                                </td><td> 71</td></tr>\n",
       "\t<tr><th scope=row>5</th><td><span style=white-space:pre-wrap>Biotech &amp; Pharmaceuticals         </span></td><td> 66</td></tr>\n",
       "\t<tr><th scope=row>3</th><td><span style=white-space:pre-wrap>Aerospace &amp; Defense               </span></td><td> 46</td></tr>\n",
       "\t<tr><th scope=row>14</th><td>Insurance                         </td><td> 32</td></tr>\n",
       "\t<tr><th scope=row>10</th><td>Finance                           </td><td> 31</td></tr>\n",
       "\t<tr><th scope=row>15</th><td>Manufacturing                     </td><td> 23</td></tr>\n",
       "\t<tr><th scope=row>12</th><td>Health Care                       </td><td> 21</td></tr>\n",
       "\t<tr><th scope=row>11</th><td>Government                        </td><td> 17</td></tr>\n",
       "\t<tr><th scope=row>18</th><td><span style=white-space:pre-wrap>Oil, Gas, Energy &amp; Utilities      </span></td><td> 10</td></tr>\n",
       "\t<tr><th scope=row>20</th><td>Retail                            </td><td>  7</td></tr>\n",
       "\t<tr><th scope=row>21</th><td>Telecommunications                </td><td>  7</td></tr>\n",
       "\t<tr><th scope=row>22</th><td><span style=white-space:pre-wrap>Transportation &amp; Logistics        </span></td><td><span style=white-space:pre-wrap>  6</span></td></tr>\n",
       "\t<tr><th scope=row>16</th><td>Media                             </td><td>  5</td></tr>\n",
       "\t<tr><th scope=row>2</th><td><span style=white-space:pre-wrap>Accounting &amp; Legal                </span></td><td><span style=white-space:pre-wrap>  3</span></td></tr>\n",
       "\t<tr><th scope=row>4</th><td><span style=white-space:pre-wrap>Agriculture &amp; Forestry            </span></td><td><span style=white-space:pre-wrap>  3</span></td></tr>\n",
       "\t<tr><th scope=row>9</th><td>Education                         </td><td>  3</td></tr>\n",
       "\t<tr><th scope=row>19</th><td>Real Estate                       </td><td>  3</td></tr>\n",
       "\t<tr><th scope=row>23</th><td><span style=white-space:pre-wrap>Travel &amp; Tourism                  </span></td><td><span style=white-space:pre-wrap>  3</span></td></tr>\n",
       "\t<tr><th scope=row>7</th><td>Construction, Repair &amp; Maintenance</td><td><span style=white-space:pre-wrap>  2</span></td></tr>\n",
       "\t<tr><th scope=row>8</th><td>Consumer Services                 </td><td>  2</td></tr>\n",
       "\t<tr><th scope=row>17</th><td>Non-Profit                        </td><td>  1</td></tr>\n",
       "</tbody>\n",
       "</table>\n"
      ],
      "text/latex": [
       "A data.frame: 23 × 2\n",
       "\\begin{tabular}{r|ll}\n",
       "  & Var1 & Freq\\\\\n",
       "  & <fct> & <int>\\\\\n",
       "\\hline\n",
       "\t13 & Information Technology             & 178\\\\\n",
       "\t6 & Business Services                  & 120\\\\\n",
       "\t1 & -1                                 &  71\\\\\n",
       "\t5 & Biotech \\& Pharmaceuticals          &  66\\\\\n",
       "\t3 & Aerospace \\& Defense                &  46\\\\\n",
       "\t14 & Insurance                          &  32\\\\\n",
       "\t10 & Finance                            &  31\\\\\n",
       "\t15 & Manufacturing                      &  23\\\\\n",
       "\t12 & Health Care                        &  21\\\\\n",
       "\t11 & Government                         &  17\\\\\n",
       "\t18 & Oil, Gas, Energy \\& Utilities       &  10\\\\\n",
       "\t20 & Retail                             &   7\\\\\n",
       "\t21 & Telecommunications                 &   7\\\\\n",
       "\t22 & Transportation \\& Logistics         &   6\\\\\n",
       "\t16 & Media                              &   5\\\\\n",
       "\t2 & Accounting \\& Legal                 &   3\\\\\n",
       "\t4 & Agriculture \\& Forestry             &   3\\\\\n",
       "\t9 & Education                          &   3\\\\\n",
       "\t19 & Real Estate                        &   3\\\\\n",
       "\t23 & Travel \\& Tourism                   &   3\\\\\n",
       "\t7 & Construction, Repair \\& Maintenance &   2\\\\\n",
       "\t8 & Consumer Services                  &   2\\\\\n",
       "\t17 & Non-Profit                         &   1\\\\\n",
       "\\end{tabular}\n"
      ],
      "text/markdown": [
       "\n",
       "A data.frame: 23 × 2\n",
       "\n",
       "| <!--/--> | Var1 &lt;fct&gt; | Freq &lt;int&gt; |\n",
       "|---|---|---|\n",
       "| 13 | Information Technology             | 178 |\n",
       "| 6 | Business Services                  | 120 |\n",
       "| 1 | -1                                 |  71 |\n",
       "| 5 | Biotech &amp; Pharmaceuticals          |  66 |\n",
       "| 3 | Aerospace &amp; Defense                |  46 |\n",
       "| 14 | Insurance                          |  32 |\n",
       "| 10 | Finance                            |  31 |\n",
       "| 15 | Manufacturing                      |  23 |\n",
       "| 12 | Health Care                        |  21 |\n",
       "| 11 | Government                         |  17 |\n",
       "| 18 | Oil, Gas, Energy &amp; Utilities       |  10 |\n",
       "| 20 | Retail                             |   7 |\n",
       "| 21 | Telecommunications                 |   7 |\n",
       "| 22 | Transportation &amp; Logistics         |   6 |\n",
       "| 16 | Media                              |   5 |\n",
       "| 2 | Accounting &amp; Legal                 |   3 |\n",
       "| 4 | Agriculture &amp; Forestry             |   3 |\n",
       "| 9 | Education                          |   3 |\n",
       "| 19 | Real Estate                        |   3 |\n",
       "| 23 | Travel &amp; Tourism                   |   3 |\n",
       "| 7 | Construction, Repair &amp; Maintenance |   2 |\n",
       "| 8 | Consumer Services                  |   2 |\n",
       "| 17 | Non-Profit                         |   1 |\n",
       "\n"
      ],
      "text/plain": [
       "   Var1                               Freq\n",
       "13 Information Technology             178 \n",
       "6  Business Services                  120 \n",
       "1  -1                                  71 \n",
       "5  Biotech & Pharmaceuticals           66 \n",
       "3  Aerospace & Defense                 46 \n",
       "14 Insurance                           32 \n",
       "10 Finance                             31 \n",
       "15 Manufacturing                       23 \n",
       "12 Health Care                         21 \n",
       "11 Government                          17 \n",
       "18 Oil, Gas, Energy & Utilities        10 \n",
       "20 Retail                               7 \n",
       "21 Telecommunications                   7 \n",
       "22 Transportation & Logistics           6 \n",
       "16 Media                                5 \n",
       "2  Accounting & Legal                   3 \n",
       "4  Agriculture & Forestry               3 \n",
       "9  Education                            3 \n",
       "19 Real Estate                          3 \n",
       "23 Travel & Tourism                     3 \n",
       "7  Construction, Repair & Maintenance   2 \n",
       "8  Consumer Services                    2 \n",
       "17 Non-Profit                           1 "
      ]
     },
     "metadata": {},
     "output_type": "display_data"
    }
   ],
   "source": [
    "# Sector\n",
    "sector <- as.data.frame(table(df_new$Sector))\n",
    "sector <- sector[order(sector$Freq, decreasing=TRUE), ]\n",
    "sector"
   ]
  },
  {
   "cell_type": "code",
   "execution_count": 232,
   "id": "41d576aa-54f3-4e91-969c-2b831c7626c6",
   "metadata": {
    "vscode": {
     "languageId": "r"
    }
   },
   "outputs": [
    {
     "data": {
      "text/html": [
       "<table class=\"dataframe\">\n",
       "<caption>A data.frame: 14 × 2</caption>\n",
       "<thead>\n",
       "\t<tr><th></th><th scope=col>Var1</th><th scope=col>Freq</th></tr>\n",
       "\t<tr><th></th><th scope=col>&lt;fct&gt;</th><th scope=col>&lt;int&gt;</th></tr>\n",
       "</thead>\n",
       "<tbody>\n",
       "\t<tr><th scope=row>14</th><td>Unknown / Non-Applicable        </td><td>206</td></tr>\n",
       "\t<tr><th scope=row>6</th><td>$100 to $500 million (USD)      </td><td> 94</td></tr>\n",
       "\t<tr><th scope=row>5</th><td>$10+ billion (USD)              </td><td> 62</td></tr>\n",
       "\t<tr><th scope=row>7</th><td>$2 to $5 billion (USD)          </td><td> 45</td></tr>\n",
       "\t<tr><th scope=row>4</th><td>$10 to $25 million (USD)        </td><td> 40</td></tr>\n",
       "\t<tr><th scope=row>2</th><td>$1 to $2 billion (USD)          </td><td> 36</td></tr>\n",
       "\t<tr><th scope=row>8</th><td>$25 to $50 million (USD)        </td><td> 35</td></tr>\n",
       "\t<tr><th scope=row>3</th><td>$1 to $5 million (USD)          </td><td> 31</td></tr>\n",
       "\t<tr><th scope=row>11</th><td>$50 to $100 million (USD)       </td><td> 31</td></tr>\n",
       "\t<tr><th scope=row>1</th><td>-1                              </td><td> 27</td></tr>\n",
       "\t<tr><th scope=row>12</th><td>$500 million to $1 billion (USD)</td><td> 19</td></tr>\n",
       "\t<tr><th scope=row>10</th><td>$5 to $10 million (USD)         </td><td> 14</td></tr>\n",
       "\t<tr><th scope=row>13</th><td>Less than $1 million (USD)      </td><td> 12</td></tr>\n",
       "\t<tr><th scope=row>9</th><td>$5 to $10 billion (USD)         </td><td>  8</td></tr>\n",
       "</tbody>\n",
       "</table>\n"
      ],
      "text/latex": [
       "A data.frame: 14 × 2\n",
       "\\begin{tabular}{r|ll}\n",
       "  & Var1 & Freq\\\\\n",
       "  & <fct> & <int>\\\\\n",
       "\\hline\n",
       "\t14 & Unknown / Non-Applicable         & 206\\\\\n",
       "\t6 & \\$100 to \\$500 million (USD)       &  94\\\\\n",
       "\t5 & \\$10+ billion (USD)               &  62\\\\\n",
       "\t7 & \\$2 to \\$5 billion (USD)           &  45\\\\\n",
       "\t4 & \\$10 to \\$25 million (USD)         &  40\\\\\n",
       "\t2 & \\$1 to \\$2 billion (USD)           &  36\\\\\n",
       "\t8 & \\$25 to \\$50 million (USD)         &  35\\\\\n",
       "\t3 & \\$1 to \\$5 million (USD)           &  31\\\\\n",
       "\t11 & \\$50 to \\$100 million (USD)        &  31\\\\\n",
       "\t1 & -1                               &  27\\\\\n",
       "\t12 & \\$500 million to \\$1 billion (USD) &  19\\\\\n",
       "\t10 & \\$5 to \\$10 million (USD)          &  14\\\\\n",
       "\t13 & Less than \\$1 million (USD)       &  12\\\\\n",
       "\t9 & \\$5 to \\$10 billion (USD)          &   8\\\\\n",
       "\\end{tabular}\n"
      ],
      "text/markdown": [
       "\n",
       "A data.frame: 14 × 2\n",
       "\n",
       "| <!--/--> | Var1 &lt;fct&gt; | Freq &lt;int&gt; |\n",
       "|---|---|---|\n",
       "| 14 | Unknown / Non-Applicable         | 206 |\n",
       "| 6 | $100 to $500 million (USD)       |  94 |\n",
       "| 5 | $10+ billion (USD)               |  62 |\n",
       "| 7 | $2 to $5 billion (USD)           |  45 |\n",
       "| 4 | $10 to $25 million (USD)         |  40 |\n",
       "| 2 | $1 to $2 billion (USD)           |  36 |\n",
       "| 8 | $25 to $50 million (USD)         |  35 |\n",
       "| 3 | $1 to $5 million (USD)           |  31 |\n",
       "| 11 | $50 to $100 million (USD)        |  31 |\n",
       "| 1 | -1                               |  27 |\n",
       "| 12 | $500 million to $1 billion (USD) |  19 |\n",
       "| 10 | $5 to $10 million (USD)          |  14 |\n",
       "| 13 | Less than $1 million (USD)       |  12 |\n",
       "| 9 | $5 to $10 billion (USD)          |   8 |\n",
       "\n"
      ],
      "text/plain": [
       "   Var1                             Freq\n",
       "14 Unknown / Non-Applicable         206 \n",
       "6  $100 to $500 million (USD)        94 \n",
       "5  $10+ billion (USD)                62 \n",
       "7  $2 to $5 billion (USD)            45 \n",
       "4  $10 to $25 million (USD)          40 \n",
       "2  $1 to $2 billion (USD)            36 \n",
       "8  $25 to $50 million (USD)          35 \n",
       "3  $1 to $5 million (USD)            31 \n",
       "11 $50 to $100 million (USD)         31 \n",
       "1  -1                                27 \n",
       "12 $500 million to $1 billion (USD)  19 \n",
       "10 $5 to $10 million (USD)           14 \n",
       "13 Less than $1 million (USD)        12 \n",
       "9  $5 to $10 billion (USD)            8 "
      ]
     },
     "metadata": {},
     "output_type": "display_data"
    }
   ],
   "source": [
    "# Revenue\n",
    "revenue <- as.data.frame(table(df_new$Revenue))\n",
    "revenue <- revenue[order(revenue$Freq, decreasing=TRUE), ]\n",
    "revenue"
   ]
  },
  {
   "cell_type": "code",
   "execution_count": 233,
   "id": "3f5b6523-fa18-4356-abbc-da37693c0c80",
   "metadata": {
    "vscode": {
     "languageId": "r"
    }
   },
   "outputs": [
    {
     "data": {
      "image/png": "[encoded data removed]",
      "text/plain": [
       "Plot with title \"Histogram of df_new$min_salary\""
      ]
     },
     "metadata": {
      "image/png": {
       "height": 420,
       "width": 420
      }
     },
     "output_type": "display_data"
    }
   ],
   "source": [
    "# Min Salary\n",
    "par(mfrow=c(1, 2))\n",
    "boxplot(df_new$min_salary)\n",
    "hist(df_new$min_salary)"
   ]
  },
  {
   "cell_type": "code",
   "execution_count": 234,
   "id": "4953a58e-c98a-4a22-b202-ba78d33aebaa",
   "metadata": {
    "vscode": {
     "languageId": "r"
    }
   },
   "outputs": [
    {
     "data": {
      "image/png": "[encoded data removed]",
      "text/plain": [
       "Plot with title \"Histogram of ln_min_salary\""
      ]
     },
     "metadata": {
      "image/png": {
       "height": 420,
       "width": 420
      }
     },
     "output_type": "display_data"
    }
   ],
   "source": [
    "ln_min_salary <- log(df_new$min_salary)\n",
    "par(mfrow=c(1, 2))\n",
    "boxplot(ln_min_salary)\n",
    "hist(ln_min_salary)"
   ]
  },
  {
   "cell_type": "code",
   "execution_count": 235,
   "id": "0e52b838-2e44-4b1d-b657-2be529f94b5c",
   "metadata": {
    "vscode": {
     "languageId": "r"
    }
   },
   "outputs": [
    {
     "data": {
      "image/png": "[encoded data removed]",
      "text/plain": [
       "Plot with title \"Histogram of df_new$max_salary\""
      ]
     },
     "metadata": {
      "image/png": {
       "height": 420,
       "width": 420
      }
     },
     "output_type": "display_data"
    }
   ],
   "source": [
    "# Max Salary\n",
    "par(mfrow=c(1, 2))\n",
    "boxplot(df_new$max_salary)\n",
    "hist(df_new$max_salary)"
   ]
  },
  {
   "cell_type": "code",
   "execution_count": 236,
   "id": "9ff10acf-de44-405c-953c-adc9b40749ac",
   "metadata": {
    "vscode": {
     "languageId": "r"
    }
   },
   "outputs": [
    {
     "data": {
      "image/png": "[encoded data removed]",
      "text/plain": [
       "Plot with title \"Histogram of ln_max_salary\""
      ]
     },
     "metadata": {
      "image/png": {
       "height": 420,
       "width": 420
      }
     },
     "output_type": "display_data"
    }
   ],
   "source": [
    "ln_max_salary <- log(df_new$max_salary)\n",
    "par(mfrow=c(1, 2))\n",
    "boxplot(ln_max_salary)\n",
    "hist(ln_max_salary)"
   ]
  },
  {
   "cell_type": "code",
   "execution_count": 237,
   "id": "42e2f136-3d14-4112-94d7-e2a0aedcc9d1",
   "metadata": {
    "vscode": {
     "languageId": "r"
    }
   },
   "outputs": [
    {
     "data": {
      "image/png": "[encoded data removed]",
      "text/plain": [
       "Plot with title \"Histogram of df_new$avg_salary\""
      ]
     },
     "metadata": {
      "image/png": {
       "height": 420,
       "width": 420
      }
     },
     "output_type": "display_data"
    }
   ],
   "source": [
    "# Avg Salary\n",
    "par(mfrow=c(1, 2))\n",
    "boxplot(df_new$avg_salary)\n",
    "hist(df_new$avg_salary)"
   ]
  },
  {
   "cell_type": "code",
   "execution_count": 238,
   "id": "b51a9f4c-f269-4cf5-9e14-434ca0086937",
   "metadata": {
    "vscode": {
     "languageId": "r"
    }
   },
   "outputs": [
    {
     "data": {
      "image/png": "[encoded data removed]",
      "text/plain": [
       "Plot with title \"Histogram of ln_avg_salary\""
      ]
     },
     "metadata": {
      "image/png": {
       "height": 420,
       "width": 420
      }
     },
     "output_type": "display_data"
    }
   ],
   "source": [
    "ln_avg_salary <- log(df_new$avg_salary)\n",
    "par(mfrow=c(1, 2))\n",
    "boxplot(ln_avg_salary)\n",
    "hist(ln_avg_salary)"
   ]
  },
  {
   "cell_type": "code",
   "execution_count": 239,
   "id": "b398dcb8-efd6-4acb-98d1-15537aae8d18",
   "metadata": {
    "vscode": {
     "languageId": "r"
    }
   },
   "outputs": [
    {
     "data": {
      "text/html": [
       "<table class=\"dataframe\">\n",
       "<caption>A data.frame: 39 × 2</caption>\n",
       "<thead>\n",
       "\t<tr><th></th><th scope=col>Var1</th><th scope=col>Freq</th></tr>\n",
       "\t<tr><th></th><th scope=col>&lt;fct&gt;</th><th scope=col>&lt;int&gt;</th></tr>\n",
       "</thead>\n",
       "<tbody>\n",
       "\t<tr><th scope=row>3</th><td> CA</td><td>165</td></tr>\n",
       "\t<tr><th scope=row>35</th><td> VA</td><td> 89</td></tr>\n",
       "\t<tr><th scope=row>15</th><td> MA</td><td> 62</td></tr>\n",
       "\t<tr><th scope=row>25</th><td> NY</td><td> 52</td></tr>\n",
       "\t<tr><th scope=row>16</th><td> MD</td><td> 40</td></tr>\n",
       "\t<tr><th scope=row>11</th><td> IL</td><td> 30</td></tr>\n",
       "\t<tr><th scope=row>6</th><td> DC</td><td> 26</td></tr>\n",
       "\t<tr><th scope=row>33</th><td> TX</td><td> 17</td></tr>\n",
       "\t<tr><th scope=row>36</th><td> WA</td><td> 16</td></tr>\n",
       "\t<tr><th scope=row>26</th><td> OH</td><td> 14</td></tr>\n",
       "\t<tr><th scope=row>19</th><td> MO</td><td> 12</td></tr>\n",
       "\t<tr><th scope=row>29</th><td> PA</td><td> 12</td></tr>\n",
       "\t<tr><th scope=row>39</th><td>US </td><td> 11</td></tr>\n",
       "\t<tr><th scope=row>4</th><td> CO</td><td> 10</td></tr>\n",
       "\t<tr><th scope=row>24</th><td> NJ</td><td> 10</td></tr>\n",
       "\t<tr><th scope=row>9</th><td> GA</td><td>  9</td></tr>\n",
       "\t<tr><th scope=row>21</th><td> NC</td><td>  9</td></tr>\n",
       "\t<tr><th scope=row>8</th><td> FL</td><td>  8</td></tr>\n",
       "\t<tr><th scope=row>32</th><td> TN</td><td>  8</td></tr>\n",
       "\t<tr><th scope=row>27</th><td> OK</td><td>  6</td></tr>\n",
       "\t<tr><th scope=row>37</th><td> WI</td><td>  6</td></tr>\n",
       "\t<tr><th scope=row>12</th><td> IN</td><td>  5</td></tr>\n",
       "\t<tr><th scope=row>17</th><td> MI</td><td>  5</td></tr>\n",
       "\t<tr><th scope=row>1</th><td> AL</td><td>  4</td></tr>\n",
       "\t<tr><th scope=row>2</th><td> AZ</td><td>  4</td></tr>\n",
       "\t<tr><th scope=row>5</th><td> CT</td><td>  4</td></tr>\n",
       "\t<tr><th scope=row>18</th><td> MN</td><td>  4</td></tr>\n",
       "\t<tr><th scope=row>10</th><td> IA</td><td>  3</td></tr>\n",
       "\t<tr><th scope=row>22</th><td> NE</td><td>  3</td></tr>\n",
       "\t<tr><th scope=row>34</th><td> UT</td><td>  3</td></tr>\n",
       "\t<tr><th scope=row>23</th><td> NH</td><td>  2</td></tr>\n",
       "\t<tr><th scope=row>28</th><td> OR</td><td>  2</td></tr>\n",
       "\t<tr><th scope=row>30</th><td> RI</td><td>  2</td></tr>\n",
       "\t<tr><th scope=row>31</th><td> SC</td><td>  2</td></tr>\n",
       "\t<tr><th scope=row>7</th><td> DE</td><td>  1</td></tr>\n",
       "\t<tr><th scope=row>13</th><td> KS</td><td>  1</td></tr>\n",
       "\t<tr><th scope=row>14</th><td> LA</td><td>  1</td></tr>\n",
       "\t<tr><th scope=row>20</th><td> MS</td><td>  1</td></tr>\n",
       "\t<tr><th scope=row>38</th><td> WV</td><td>  1</td></tr>\n",
       "</tbody>\n",
       "</table>\n"
      ],
      "text/latex": [
       "A data.frame: 39 × 2\n",
       "\\begin{tabular}{r|ll}\n",
       "  & Var1 & Freq\\\\\n",
       "  & <fct> & <int>\\\\\n",
       "\\hline\n",
       "\t3 &  CA & 165\\\\\n",
       "\t35 &  VA &  89\\\\\n",
       "\t15 &  MA &  62\\\\\n",
       "\t25 &  NY &  52\\\\\n",
       "\t16 &  MD &  40\\\\\n",
       "\t11 &  IL &  30\\\\\n",
       "\t6 &  DC &  26\\\\\n",
       "\t33 &  TX &  17\\\\\n",
       "\t36 &  WA &  16\\\\\n",
       "\t26 &  OH &  14\\\\\n",
       "\t19 &  MO &  12\\\\\n",
       "\t29 &  PA &  12\\\\\n",
       "\t39 & US  &  11\\\\\n",
       "\t4 &  CO &  10\\\\\n",
       "\t24 &  NJ &  10\\\\\n",
       "\t9 &  GA &   9\\\\\n",
       "\t21 &  NC &   9\\\\\n",
       "\t8 &  FL &   8\\\\\n",
       "\t32 &  TN &   8\\\\\n",
       "\t27 &  OK &   6\\\\\n",
       "\t37 &  WI &   6\\\\\n",
       "\t12 &  IN &   5\\\\\n",
       "\t17 &  MI &   5\\\\\n",
       "\t1 &  AL &   4\\\\\n",
       "\t2 &  AZ &   4\\\\\n",
       "\t5 &  CT &   4\\\\\n",
       "\t18 &  MN &   4\\\\\n",
       "\t10 &  IA &   3\\\\\n",
       "\t22 &  NE &   3\\\\\n",
       "\t34 &  UT &   3\\\\\n",
       "\t23 &  NH &   2\\\\\n",
       "\t28 &  OR &   2\\\\\n",
       "\t30 &  RI &   2\\\\\n",
       "\t31 &  SC &   2\\\\\n",
       "\t7 &  DE &   1\\\\\n",
       "\t13 &  KS &   1\\\\\n",
       "\t14 &  LA &   1\\\\\n",
       "\t20 &  MS &   1\\\\\n",
       "\t38 &  WV &   1\\\\\n",
       "\\end{tabular}\n"
      ],
      "text/markdown": [
       "\n",
       "A data.frame: 39 × 2\n",
       "\n",
       "| <!--/--> | Var1 &lt;fct&gt; | Freq &lt;int&gt; |\n",
       "|---|---|---|\n",
       "| 3 |  CA | 165 |\n",
       "| 35 |  VA |  89 |\n",
       "| 15 |  MA |  62 |\n",
       "| 25 |  NY |  52 |\n",
       "| 16 |  MD |  40 |\n",
       "| 11 |  IL |  30 |\n",
       "| 6 |  DC |  26 |\n",
       "| 33 |  TX |  17 |\n",
       "| 36 |  WA |  16 |\n",
       "| 26 |  OH |  14 |\n",
       "| 19 |  MO |  12 |\n",
       "| 29 |  PA |  12 |\n",
       "| 39 | US  |  11 |\n",
       "| 4 |  CO |  10 |\n",
       "| 24 |  NJ |  10 |\n",
       "| 9 |  GA |   9 |\n",
       "| 21 |  NC |   9 |\n",
       "| 8 |  FL |   8 |\n",
       "| 32 |  TN |   8 |\n",
       "| 27 |  OK |   6 |\n",
       "| 37 |  WI |   6 |\n",
       "| 12 |  IN |   5 |\n",
       "| 17 |  MI |   5 |\n",
       "| 1 |  AL |   4 |\n",
       "| 2 |  AZ |   4 |\n",
       "| 5 |  CT |   4 |\n",
       "| 18 |  MN |   4 |\n",
       "| 10 |  IA |   3 |\n",
       "| 22 |  NE |   3 |\n",
       "| 34 |  UT |   3 |\n",
       "| 23 |  NH |   2 |\n",
       "| 28 |  OR |   2 |\n",
       "| 30 |  RI |   2 |\n",
       "| 31 |  SC |   2 |\n",
       "| 7 |  DE |   1 |\n",
       "| 13 |  KS |   1 |\n",
       "| 14 |  LA |   1 |\n",
       "| 20 |  MS |   1 |\n",
       "| 38 |  WV |   1 |\n",
       "\n"
      ],
      "text/plain": [
       "   Var1 Freq\n",
       "3   CA  165 \n",
       "35  VA   89 \n",
       "15  MA   62 \n",
       "25  NY   52 \n",
       "16  MD   40 \n",
       "11  IL   30 \n",
       "6   DC   26 \n",
       "33  TX   17 \n",
       "36  WA   16 \n",
       "26  OH   14 \n",
       "19  MO   12 \n",
       "29  PA   12 \n",
       "39 US    11 \n",
       "4   CO   10 \n",
       "24  NJ   10 \n",
       "9   GA    9 \n",
       "21  NC    9 \n",
       "8   FL    8 \n",
       "32  TN    8 \n",
       "27  OK    6 \n",
       "37  WI    6 \n",
       "12  IN    5 \n",
       "17  MI    5 \n",
       "1   AL    4 \n",
       "2   AZ    4 \n",
       "5   CT    4 \n",
       "18  MN    4 \n",
       "10  IA    3 \n",
       "22  NE    3 \n",
       "34  UT    3 \n",
       "23  NH    2 \n",
       "28  OR    2 \n",
       "30  RI    2 \n",
       "31  SC    2 \n",
       "7   DE    1 \n",
       "13  KS    1 \n",
       "14  LA    1 \n",
       "20  MS    1 \n",
       "38  WV    1 "
      ]
     },
     "metadata": {},
     "output_type": "display_data"
    }
   ],
   "source": [
    "# Job State\n",
    "state <- as.data.frame(table(df_new$job_state))\n",
    "state <- state[order(state$Freq, decreasing=TRUE), ]\n",
    "state"
   ]
  },
  {
   "cell_type": "code",
   "execution_count": 240,
   "id": "ed5af14c-5e12-46c1-9185-42576b03a241",
   "metadata": {
    "vscode": {
     "languageId": "r"
    }
   },
   "outputs": [
    {
     "data": {
      "image/png": "[encoded data removed]",
      "text/plain": [
       "Plot with title \"Histogram of df_new$company_age\""
      ]
     },
     "metadata": {
      "image/png": {
       "height": 420,
       "width": 420
      }
     },
     "output_type": "display_data"
    }
   ],
   "source": [
    "# Company Age\n",
    "par(mfrow=c(1, 2))\n",
    "boxplot(df_new$company_age)\n",
    "hist(df_new$company_age)"
   ]
  },
  {
   "cell_type": "code",
   "execution_count": 241,
   "id": "03e54731-11d6-43f4-a1f0-3d79d1fc5d69",
   "metadata": {
    "vscode": {
     "languageId": "r"
    }
   },
   "outputs": [
    {
     "name": "stderr",
     "output_type": "stream",
     "text": [
      "Warning message in log(df_new$company_age):\n",
      "\"NaNs produced\"\n"
     ]
    },
    {
     "data": {
      "image/png": "[encoded data removed]",
      "text/plain": [
       "Plot with title \"Histogram of ln_age\""
      ]
     },
     "metadata": {
      "image/png": {
       "height": 420,
       "width": 420
      }
     },
     "output_type": "display_data"
    }
   ],
   "source": [
    "ln_age <- log(df_new$company_age)\n",
    "par(mfrow=c(1, 2))\n",
    "boxplot(ln_age)\n",
    "hist(ln_age)"
   ]
  },
  {
   "cell_type": "code",
   "execution_count": 242,
   "id": "345fd0e4-ac6b-433d-bff2-b4e29bfc5354",
   "metadata": {
    "vscode": {
     "languageId": "r"
    }
   },
   "outputs": [
    {
     "data": {
      "image/png": "[encoded data removed]",
      "text/plain": [
       "plot without title"
      ]
     },
     "metadata": {
      "image/png": {
       "height": 420,
       "width": 420
      }
     },
     "output_type": "display_data"
    }
   ],
   "source": [
    "# Python\n",
    "barplot(table(df_new$python), col=\"steelblue\")"
   ]
  },
  {
   "cell_type": "code",
   "execution_count": 243,
   "id": "ceea3dd8-79ce-4042-8517-3e6ea7834059",
   "metadata": {
    "vscode": {
     "languageId": "r"
    }
   },
   "outputs": [
    {
     "data": {
      "image/png": "[encoded data removed]",
      "text/plain": [
       "plot without title"
      ]
     },
     "metadata": {
      "image/png": {
       "height": 420,
       "width": 420
      }
     },
     "output_type": "display_data"
    }
   ],
   "source": [
    "# Excel\n",
    "barplot(table(df_new$excel), col=\"steelblue\")"
   ]
  },
  {
   "cell_type": "code",
   "execution_count": 244,
   "id": "a4424188-8f24-4078-b811-b02b9034b61f",
   "metadata": {
    "vscode": {
     "languageId": "r"
    }
   },
   "outputs": [
    {
     "data": {
      "image/png": "[encoded data removed]",
      "text/plain": [
       "plot without title"
      ]
     },
     "metadata": {
      "image/png": {
       "height": 420,
       "width": 420
      }
     },
     "output_type": "display_data"
    }
   ],
   "source": [
    "# Hadoop\n",
    "barplot(table(df_new$hadoop), col=\"steelblue\")"
   ]
  },
  {
   "cell_type": "code",
   "execution_count": 245,
   "id": "183d2f1f-f4ff-47ba-868b-25d0a1138e64",
   "metadata": {
    "vscode": {
     "languageId": "r"
    }
   },
   "outputs": [
    {
     "data": {
      "image/png": "[encoded data removed]",
      "text/plain": [
       "plot without title"
      ]
     },
     "metadata": {
      "image/png": {
       "height": 420,
       "width": 420
      }
     },
     "output_type": "display_data"
    }
   ],
   "source": [
    "# Spark\n",
    "barplot(table(df_new$spark), col=\"steelblue\")"
   ]
  },
  {
   "cell_type": "code",
   "execution_count": 246,
   "id": "7b7f1dad-1b1e-435e-8db2-e2d432392b8d",
   "metadata": {
    "vscode": {
     "languageId": "r"
    }
   },
   "outputs": [
    {
     "data": {
      "image/png": "[encoded data removed]",
      "text/plain": [
       "plot without title"
      ]
     },
     "metadata": {
      "image/png": {
       "height": 420,
       "width": 420
      }
     },
     "output_type": "display_data"
    }
   ],
   "source": [
    "# AWS\n",
    "barplot(table(df_new$aws), col=\"steelblue\")"
   ]
  },
  {
   "cell_type": "code",
   "execution_count": 247,
   "id": "be17afdb-3a39-4aa5-b3be-33726890add5",
   "metadata": {
    "vscode": {
     "languageId": "r"
    }
   },
   "outputs": [
    {
     "data": {
      "image/png": "[encoded data removed]",
      "text/plain": [
       "plot without title"
      ]
     },
     "metadata": {
      "image/png": {
       "height": 420,
       "width": 420
      }
     },
     "output_type": "display_data"
    }
   ],
   "source": [
    "# Tableau\n",
    "barplot(table(df_new$tableau), col=\"steelblue\")"
   ]
  },
  {
   "cell_type": "code",
   "execution_count": 248,
   "id": "43211c87-f40e-4574-aaf3-0e1f76334f89",
   "metadata": {
    "vscode": {
     "languageId": "r"
    }
   },
   "outputs": [
    {
     "data": {
      "image/png": "[encoded data removed]",
      "text/plain": [
       "plot without title"
      ]
     },
     "metadata": {
      "image/png": {
       "height": 420,
       "width": 420
      }
     },
     "output_type": "display_data"
    }
   ],
   "source": [
    "# Big Data\n",
    "barplot(table(df_new$big_data), col=\"steelblue\")"
   ]
  },
  {
   "cell_type": "code",
   "execution_count": 249,
   "id": "30dbecad-f628-4f68-9e12-0b99ff014a0c",
   "metadata": {
    "vscode": {
     "languageId": "r"
    }
   },
   "outputs": [
    {
     "data": {
      "text/html": [
       "<table class=\"dataframe\">\n",
       "<caption>A data.frame: 7 × 2</caption>\n",
       "<thead>\n",
       "\t<tr><th></th><th scope=col>Var1</th><th scope=col>Freq</th></tr>\n",
       "\t<tr><th></th><th scope=col>&lt;fct&gt;</th><th scope=col>&lt;int&gt;</th></tr>\n",
       "</thead>\n",
       "<tbody>\n",
       "\t<tr><th scope=row>3</th><td>data scientist</td><td>447</td></tr>\n",
       "\t<tr><th scope=row>7</th><td>na            </td><td> 68</td></tr>\n",
       "\t<tr><th scope=row>1</th><td>analyst       </td><td> 55</td></tr>\n",
       "\t<tr><th scope=row>2</th><td>data engineer </td><td> 46</td></tr>\n",
       "\t<tr><th scope=row>6</th><td>mle           </td><td> 34</td></tr>\n",
       "\t<tr><th scope=row>5</th><td>manager       </td><td>  7</td></tr>\n",
       "\t<tr><th scope=row>4</th><td>director      </td><td>  3</td></tr>\n",
       "</tbody>\n",
       "</table>\n"
      ],
      "text/latex": [
       "A data.frame: 7 × 2\n",
       "\\begin{tabular}{r|ll}\n",
       "  & Var1 & Freq\\\\\n",
       "  & <fct> & <int>\\\\\n",
       "\\hline\n",
       "\t3 & data scientist & 447\\\\\n",
       "\t7 & na             &  68\\\\\n",
       "\t1 & analyst        &  55\\\\\n",
       "\t2 & data engineer  &  46\\\\\n",
       "\t6 & mle            &  34\\\\\n",
       "\t5 & manager        &   7\\\\\n",
       "\t4 & director       &   3\\\\\n",
       "\\end{tabular}\n"
      ],
      "text/markdown": [
       "\n",
       "A data.frame: 7 × 2\n",
       "\n",
       "| <!--/--> | Var1 &lt;fct&gt; | Freq &lt;int&gt; |\n",
       "|---|---|---|\n",
       "| 3 | data scientist | 447 |\n",
       "| 7 | na             |  68 |\n",
       "| 1 | analyst        |  55 |\n",
       "| 2 | data engineer  |  46 |\n",
       "| 6 | mle            |  34 |\n",
       "| 5 | manager        |   7 |\n",
       "| 4 | director       |   3 |\n",
       "\n"
      ],
      "text/plain": [
       "  Var1           Freq\n",
       "3 data scientist 447 \n",
       "7 na              68 \n",
       "1 analyst         55 \n",
       "2 data engineer   46 \n",
       "6 mle             34 \n",
       "5 manager          7 \n",
       "4 director         3 "
      ]
     },
     "metadata": {},
     "output_type": "display_data"
    }
   ],
   "source": [
    "# Job Simplified\n",
    "job_simp <- as.data.frame(table(df_new$job_simp))\n",
    "job_simp <- job_simp[order(job_simp$Freq, decreasing=TRUE), ]\n",
    "job_simp"
   ]
  },
  {
   "cell_type": "code",
   "execution_count": 250,
   "id": "819d118a-02d0-4dc5-ac4a-eef8f7892f3a",
   "metadata": {
    "vscode": {
     "languageId": "r"
    }
   },
   "outputs": [
    {
     "data": {
      "image/png": "[encoded data removed]",
      "text/plain": [
       "plot without title"
      ]
     },
     "metadata": {
      "image/png": {
       "height": 420,
       "width": 420
      }
     },
     "output_type": "display_data"
    }
   ],
   "source": [
    "# Seniority\n",
    "barplot(table(df_new$senior))"
   ]
  },
  {
   "cell_type": "code",
   "execution_count": 251,
   "id": "4ba76e44-98be-438c-8361-4710dbc66869",
   "metadata": {
    "vscode": {
     "languageId": "r"
    }
   },
   "outputs": [
    {
     "data": {
      "text/html": [
       "<table class=\"dataframe\">\n",
       "<caption>A data.frame: 3 × 2</caption>\n",
       "<thead>\n",
       "\t<tr><th scope=col>Var1</th><th scope=col>Freq</th></tr>\n",
       "\t<tr><th scope=col>&lt;fct&gt;</th><th scope=col>&lt;int&gt;</th></tr>\n",
       "</thead>\n",
       "<tbody>\n",
       "\t<tr><td>jr    </td><td>  1</td></tr>\n",
       "\t<tr><td>na    </td><td>567</td></tr>\n",
       "\t<tr><td>senior</td><td> 92</td></tr>\n",
       "</tbody>\n",
       "</table>\n"
      ],
      "text/latex": [
       "A data.frame: 3 × 2\n",
       "\\begin{tabular}{ll}\n",
       " Var1 & Freq\\\\\n",
       " <fct> & <int>\\\\\n",
       "\\hline\n",
       "\t jr     &   1\\\\\n",
       "\t na     & 567\\\\\n",
       "\t senior &  92\\\\\n",
       "\\end{tabular}\n"
      ],
      "text/markdown": [
       "\n",
       "A data.frame: 3 × 2\n",
       "\n",
       "| Var1 &lt;fct&gt; | Freq &lt;int&gt; |\n",
       "|---|---|\n",
       "| jr     |   1 |\n",
       "| na     | 567 |\n",
       "| senior |  92 |\n",
       "\n"
      ],
      "text/plain": [
       "  Var1   Freq\n",
       "1 jr       1 \n",
       "2 na     567 \n",
       "3 senior  92 "
      ]
     },
     "metadata": {},
     "output_type": "display_data"
    }
   ],
   "source": [
    "seniority <- as.data.frame(table(df_new$senior))\n",
    "seniority"
   ]
  }
 ],
 "metadata": {
  "kernelspec": {
   "display_name": "R",
   "language": "R",
   "name": "ir"
  },
  "language_info": {
   "codemirror_mode": "r",
   "file_extension": ".r",
   "mimetype": "text/x-r-source",
   "name": "R",
   "pygments_lexer": "r",
   "version": "4.3.2"
  }
 },
 "nbformat": 4,
 "nbformat_minor": 5
}

{
 "cells": [
  {
   "cell_type": "markdown",
   "metadata": {},
   "source": [
    "### Import dataset and data cleaning"
   ]
  },
  {
   "cell_type": "code",
   "execution_count": 37,
   "metadata": {
    "vscode": {
     "languageId": "r"
    }
   },
   "outputs": [
    {
     "name": "stderr",
     "output_type": "stream",
     "text": [
      "Warning message:\n",
      "\"package 'dplyr' was built under R version 4.3.3\"\n",
      "\n",
      "Attaching package: 'dplyr'\n",
      "\n",
      "\n",
      "The following objects are masked from 'package:stats':\n",
      "\n",
      "    filter, lag\n",
      "\n",
      "\n",
      "The following objects are masked from 'package:base':\n",
      "\n",
      "    intersect, setdiff, setequal, union\n",
      "\n",
      "\n"
     ]
    }
   ],
   "source": [
    "library(dplyr)"
   ]
  },
  {
   "cell_type": "code",
   "execution_count": 38,
   "metadata": {
    "vscode": {
     "languageId": "r"
    }
   },
   "outputs": [
    {
     "data": {
      "text/html": [
       "<table class=\"dataframe\">\n",
       "<caption>A data.frame: 5 × 27</caption>\n",
       "<thead>\n",
       "\t<tr><th></th><th scope=col>Job.Title</th><th scope=col>Salary.Estimate</th><th scope=col>Job.Description</th><th scope=col>Rating</th><th scope=col>Company.Name</th><th scope=col>Location</th><th scope=col>Headquarters</th><th scope=col>Size</th><th scope=col>Type.of.ownership</th><th scope=col>Industry</th><th scope=col>⋯</th><th scope=col>company_age</th><th scope=col>python</th><th scope=col>excel</th><th scope=col>hadoop</th><th scope=col>spark</th><th scope=col>aws</th><th scope=col>tableau</th><th scope=col>big_data</th><th scope=col>job_simp</th><th scope=col>seniority</th></tr>\n",
       "\t<tr><th></th><th scope=col>&lt;chr&gt;</th><th scope=col>&lt;chr&gt;</th><th scope=col>&lt;chr&gt;</th><th scope=col>&lt;dbl&gt;</th><th scope=col>&lt;chr&gt;</th><th scope=col>&lt;chr&gt;</th><th scope=col>&lt;chr&gt;</th><th scope=col>&lt;chr&gt;</th><th scope=col>&lt;chr&gt;</th><th scope=col>&lt;chr&gt;</th><th scope=col>⋯</th><th scope=col>&lt;int&gt;</th><th scope=col>&lt;int&gt;</th><th scope=col>&lt;int&gt;</th><th scope=col>&lt;int&gt;</th><th scope=col>&lt;int&gt;</th><th scope=col>&lt;int&gt;</th><th scope=col>&lt;int&gt;</th><th scope=col>&lt;int&gt;</th><th scope=col>&lt;chr&gt;</th><th scope=col>&lt;chr&gt;</th></tr>\n",
       "</thead>\n",
       "<tbody>\n",
       "\t<tr><th scope=row>1</th><td>Sr Data Scientist</td><td>137-171 </td><td><span style=white-space:pre-wrap>Description\n",
       "\n",
       "The Senior Data Scientist is responsible for defining, building, and improving statistical models to improve business processes and outcomes in one or more healthcare domains such as Clinical, Enrollment, Claims, and Finance. As part of the broader analytics team, Data Scientist will gather and analyze data to solve and address complex business problems and evaluate scenarios to make predictions on future outcomes and work with the business to communicate and support decision-making. This position requires strong analytical skills and experience in analytic methods including multivariate regressions, hierarchical linear models, regression trees, clustering methods and other complex statistical techniques.\n",
       "\n",
       "Duties &amp; Responsibilities:\n",
       "\n",
       "• Develops advanced statistical models to predict, quantify or forecast various operational and performance metrics in multiple healthcare domains\n",
       "• Investigates, recommends, and initiates acquisition of new data resources from internal and external sources\n",
       "• Works with multiple teams to support data collection, integration, and retention requirements based on business needs\n",
       "• Identifies critical and emerging technologies that will support and extend quantitative analytic capabilities\n",
       "• Collaborates with business subject matter experts to select relevant sources of information\n",
       "• Develops expertise with multiple machine learning algorithms and data science techniques, such as exploratory data analysis and predictive modeling, graph theory, recommender systems, text analytics and validation\n",
       "• Develops expertise with Healthfirst datasets, data repositories, and data movement processes\n",
       "• Assists on projects/requests and may lead specific tasks within the project scope\n",
       "• Prepares and manipulates data for use in development of statistical models\n",
       "• Other duties as assigned\n",
       "\n",
       "Minimum Qualifications:\n",
       "\n",
       "-Bachelor's Degree\n",
       "\n",
       "Preferred Qualifications:\n",
       "\n",
       "- Master’s degree in Computer Science or Statistics\n",
       "Familiarity with major cloud platforms such as AWS and Azure\n",
       "Healthcare Industry Experience\n",
       "\n",
       "Minimum Qualifications:\n",
       "\n",
       "-Bachelor's Degree\n",
       "\n",
       "Preferred Qualifications:\n",
       "\n",
       "- Master’s degree in Computer Science or Statistics\n",
       "Familiarity with major cloud platforms such as AWS and Azure\n",
       "Healthcare Industry Experience\n",
       "\n",
       "WE ARE AN EQUAL OPPORTUNITY EMPLOYER. Applicants and employees are considered for positions and are evaluated without regard to mental or physical disability, race, color, religion, gender, national origin, age, genetic information, military or veteran status, sexual orientation, marital status or any other protected Federal, State/Province or Local status unrelated to the performance of the work involved.\n",
       "\n",
       "If you have a disability under the Americans with Disability Act or a similar law, and want a reasonable accommodation to assist with your job search or application for employment, please contact us by sending an email to careers@Healthfirst.org or calling 212-519-1798 . In your email please include a description of the accommodation you are requesting and a description of the position for which you are applying. Only reasonable accommodation requests related to applying for a position within Healthfirst Management Services will be reviewed at the e-mail address and phone number supplied. Thank you for considering a career with Healthfirst Management Services.\n",
       "EEO Law Poster and Supplement\n",
       "\n",
       "]]&gt;                                                                                                                                                                                                                                                                                                                                                                                                                                                                                                                                                                                                                                                                                                                                                                                                                                                                                                                                                                                                                                                                                                                                                                                                                                                                                                                                                                                                                                                                                                                                                                                                                                                                                                                                                                                                                                                                                                                                                                                                                                                                                                                                                                                                                                                                                                                                                                                                                                                                                                                                                                                                                                                                                                                                                                                                                                                                                                                                                                                                                                                                                                                                                                                                                                                                                                                                                                                                                                                                                                                                                                                                                                                                                                                                                                                                                                                                                                                                                                                                                                                                                                                                                                                                                                                                                                                                                                                                                                                                                                                                                                                                                                                                                                                                                                                                                                                                                                                                                                                                                                                                                                                                                                                                                                                                                                                                                                                                                                                                                                                                                                                                                                     </span></td><td>3.1</td><td><span style=white-space:pre-wrap>Healthfirst       </span></td><td>New York, NY </td><td><span style=white-space:pre-wrap>New York, NY          </span></td><td>1001 to 5000 employees </td><td>Nonprofit Organization </td><td><span style=white-space:pre-wrap>Insurance Carriers                   </span></td><td>⋯</td><td>27</td><td>0</td><td>0</td><td>0</td><td>0</td><td>1</td><td>0</td><td>0</td><td>data scientist</td><td>senior</td></tr>\n",
       "\t<tr><th scope=row>2</th><td><span style=white-space:pre-wrap>Data Scientist   </span></td><td>137-171 </td><td><span style=white-space:pre-wrap>Secure our Nation, Ignite your Future\n",
       "\n",
       "Join the top Information Technology and Analytic professionals in the industry to make invaluable contributions to our national security on a daily basis. In this innovative, self-contained, Big Data environment, the ManTech team is responsible for everything from infrastructure, to application development, to data science, to advanced analytics and beyond. The team is diverse, the questions are thought-provoking, and the opportunities for growth and advancement are numerous\n",
       "\n",
       "The successful candidate will possess a diverse range of data-focused skills and experience, both technical and analytical. They will have a strong desire and capability for problem solving, data analysis and troubleshooting, analytical thinking, and experimentation.\n",
       "\n",
       "Duties, Tasks &amp; Responsibilities\n",
       "Working with large, complex, and disparate data sets\n",
       "Designing and implementing innovative ways to analyze and exploit the Sponsors data holdings\n",
       "Researching and reporting on a wide variety of Sponsor inquiries\n",
       "Raising proactive inquiries to the Sponsor based on observations and proposed data analysis/exploitation\n",
       "Solving difficult, non-routine problems by applying advanced analytical methodologies, and improving analytic methodologies\n",
       "Developing custom searches\n",
       "Communicating and coordinating with internal and external partners as needed\n",
       "Required Experience, Skills, &amp; Technologies\n",
       "\n",
       "Thorough knowledge of appropriate analytic tools and methodologies in one or more of the following:\n",
       "Applied mathematics (e.g. probability and statistics, formal modeling, computational social sciences)\n",
       "Computer programming (e.g. programming languages, math/statistics packages, computer science, machine learning, scientific computing)\n",
       "Ability to code or script in one or more general programming language\n",
       "Experience with and theoretical understanding of algorithms for classification, regression, clustering, and anomaly detection\n",
       "Knowledge of relational databases, including SQL and large-scale distributed systems (e.g. Hadoop)\n",
       "Expertise with statistical data analysis (e.g. linear models, multivariate analysis, stochastic models, sampling methods)\n",
       "Demonstrated effectiveness in collecting information and accurately representing/visualizing it to non-technical third parties\n",
       "TS/SCI with Polygraph\n",
       "Bachelor of Science or equivalent and 12-15 years related experience, but will consider all levels of experience.\n",
       "Desired Experience, Skills &amp; Technologies\n",
       "Previous investigative experience using a combination of technical and analytic skills\n",
       "#LI-DU1\n",
       "\n",
       "ManTech International Corporation, as well as its subsidiaries proactively fulfills its role as an equal opportunity employer. We do not discriminate against any employee or applicant for employment because of race, color, sex, religion, age, sexual orientation, gender identity and expression, national origin, marital status, physical or mental disability, status as a Disabled Veteran, Recently Separated Veteran, Active Duty Wartime or Campaign Badge Veteran, Armed Forces Services Medal, or any other characteristic protected by law.\n",
       "\n",
       "If you require a reasonable accommodation to apply for a position with ManTech through its online applicant system, please contact ManTech's Corporate EEO Department at (703) 218-6000. ManTech is an affirmative action/equal opportunity employer - minorities, females, disabled and protected veterans are urged to apply. ManTech's utilization of any external recruitment or job placement agency is predicated upon its full compliance with our equal opportunity/affirmative action policies. ManTech does not accept resumes from unsolicited recruiting firms. We pay no fees for unsolicited services.\n",
       "\n",
       "If you are a qualified individual with a disability or a disabled veteran, you have the right to request an accommodation if you are unable or limited in your ability to use or access http://www.mantech.com/careers/Pages/careers.aspx as a result of your disability. To request an accommodation please click careers@mantech.com and provide your name and contact information.                                                                                                                                                                                                                                                                                                                                                                                                                                                                                                                                                                                                                                                                                                                                                                                                                                                                                                                                                                                                                                                                                                                                                                                                                                                                                                                                                                                                                                                                                                                                                                                                                                                                                                                                                                                                                                                                                                                                                                                                                                                                                                                                                                                                                                                                                                                                                                                                                                                                                                                                                                                                                                                                                                                                                                                                                                                                                                                                                                                                                                                                                                                                                                                                                                                                                                                                                                                                                                                                                                                                                                                                                                                                                                                                                                                                                                                                                                                                                                                                                                                                                                                                                                                                                                                                                                                                                                                                                                                                                                                                                                                                                                                                                                                                                                                                                                                                                                                              </span></td><td>4.2</td><td><span style=white-space:pre-wrap>ManTech           </span></td><td>Chantilly, VA</td><td><span style=white-space:pre-wrap>Herndon, VA           </span></td><td>5001 to 10000 employees</td><td><span style=white-space:pre-wrap>Company - Public       </span></td><td><span style=white-space:pre-wrap>Research &amp; Development               </span></td><td>⋯</td><td>52</td><td>0</td><td>0</td><td>1</td><td>0</td><td>0</td><td>0</td><td>1</td><td>data scientist</td><td><span style=white-space:pre-wrap>na    </span></td></tr>\n",
       "\t<tr><th scope=row>3</th><td>Data Scientist   </td><td>137-171 </td><td>Overview\n",
       "\n",
       "\n",
       "Analysis Group is one of the largest international economics consulting firms, with more than 1,000 professionals across 14 offices in North America, Europe, and Asia. Since 1981, we have provided expertise in economics, finance, health care analytics, and strategy to top law firms, Fortune Global 500 companies, and government agencies worldwide. Our internal experts, together with our network of affiliated experts from academia, industry, and government, offer our clients exceptional breadth and depth of expertise.\n",
       "\n",
       "We are currently seeking a Data Scientist to join our team. The ideal candidate should be passionate about working on cutting edge research and analytical services for Fortune 500 companies, global pharma/biotech firms and leaders in industries such as finance, energy and life sciences. The Data Scientist will be a contributing member to client engagements and have the opportunity to work with our network of world-class experts and thought leaders.\n",
       "\n",
       "Job Functions and Responsibilities\n",
       "\n",
       "The candidate Data Scientist will help develop, maintain and teach new tools and methodologies related to data science and high performance computing. This position will also help Analysis Group in maintaining our leadership position in terms of advancing methodology and data analytics. The Data Scientist will be responsible for staying abreast of new developments in technology relating to data science, to share more broadly with Analysis Group.\n",
       "\n",
       "Key responsibilities for this position will include:\n",
       "Working with project teams to address data science/computing challenges\n",
       "Identifying opportunities for technology to enhance service offerings\n",
       "Acting as a resource and participating in client engagements and research as part of the project team\n",
       "Maintaining up-to-date knowledge of computing tools, providing technical training and helping to grow the in-house knowledge base, specifically in a Linux environment\n",
       "Presenting research at selected conferences\n",
       "Examples of activities for the Data Scientist will include:\n",
       "Developing data engineering and machine learning production systems for full stack data science projects\n",
       "Using natural language processing methodologies to work with EMR data, social media data and other unstructured data\n",
       "Optimizing procedures for managing and accessing large databases (e.g., insurance claims, electronic health records, financial transactions)\n",
       "Creating interactive analytics portals and data visualizations (e.g., using R/Shiny, Python/Flask, D3)\n",
       "Building and maintaining high performance computing (HPC) tools on grid and cloud computing environments\n",
       "Developing and reviewing software and packages in R, Python and other Object Oriented Languages\n",
       "Establishing optimized procedures for repetitive or computationally intensive tasks (C, C++, Cuda-C)\n",
       "Qualifications\n",
       "Strong credentials and experience in database management and data visualization\n",
       "Significant experience working within a Linux environment required\n",
       "Background in Statistics/Econometrics or Biostatistics\n",
       "Ideally PhD in Computer Science, Mathematics, Statistics, Economics or other relevant scientific degree with relevant experience. Other candidates with at least one year of experience in the field may also be considered\n",
       "Excellent written and verbal communication skills\n",
       "Project experience with R and/or Python\n",
       "Familiar with online/cloud computing/storage (e.g., AWS)\n",
       "Demonstrated experience working on project teams and collaborating with others\n",
       "SCIENTIFIQUE DES DONNÉES\n",
       "\n",
       "*L’utilisation du genre masculin sert uniquement à alléger le texte et est utilisé ici en tant que genre neutre\n",
       "\n",
       "Survol\n",
       "\n",
       "Groupe d’analyse ltée est l’une des plus grandes firmes de services-conseils en économie, comptant plus de 950 professionnels répartis dans 14 bureaux en Amérique du Nord, en Europe et en Asie. Depuis 1981, nous offrons notre expertise en matière de stratégie, d’économie, de finance et d’analyse dans le domaine des soins de santé aux grands cabinets d’avocats, aux sociétés Fortune Global 500 et aux agences gouvernementales du monde entier. Nos professionnels en poste conjugués à notre réseau de spécialistes affiliés issus d’universités, d’industries spécifiques et d’organismes gouvernementaux procurent à notre clientèle un savoir-faire d’une portée et d’une profondeur exceptionnelles.\n",
       "\n",
       "Nous sommes présentement à la recherche d'un Scientifique des données (« Data Scientist ») pour se joindre à notre équipe. Le candidat idéal devrait être passionné par la recherche de pointe et les services analytiques pour les entreprises Fortune 500, les entreprises pharmaceutiques et biotechnologiques mondiales et les chefs de file dans des secteurs de la finance, l'énergie et les sciences de la vie. Le Scientifique des données sera un membre contributeur aux mandats des clients et aura l'occasion de travailler avec notre réseau d'experts et de leaders d'opinion de classe mondiale.\n",
       "\n",
       "Description du poste et des responsabilités\n",
       "\n",
       "Le scientifique des données aidera à développer, maintenir et enseigner de nouveaux outils et méthodologies liés à la science des données (« Data Science ») et au HPC. Ce poste aidera également le Groupe d'analyse à maintenir sa position de chef de file en ce qui a trait à l'avancement de la méthodologie et de l'analyse des données. Le scientifique des données sera chargé de se tenir au courant des nouveaux développements technologiques liés à la science des données, afin de les partager plus largement avec le Groupe d'analyse.\n",
       "\n",
       "Les principales responsabilités de ce poste comprendront:\n",
       "\n",
       "- Collaborer avec les consultants pour relever les défis de la science des données et de sciences informatiques\n",
       "\n",
       "- Agir à titre de ressource et participer aux mandats et à la recherche en tant que membre de l'équipe de projet\n",
       "\n",
       "- Maintenir à jour les connaissances sur les outils informatiques, fournir une formation technique et aider à développer la base de connaissances interne, notamment dans un environnement Linux\n",
       "\n",
       "- Présenter la recherche à des conférences choisies\n",
       "\n",
       "Exemples de tâches du scientifique des données :\n",
       "\n",
       "- Développement de systèmes de production en ingénierie des données ainsi qu’en apprentissage machine pour des projets de science des données full stack\n",
       "\n",
       "- Utiliser des méthodologies NLP pour travailler avec les données médicales électroniques, les données des médias sociaux et d'autres données non structures\n",
       "\n",
       "- Optimiser les procédures de gestion et d'accès aux grandes bases de données (ex. réclamations d'assurance, dossiers de santé électroniques, transactions financières)\n",
       "\n",
       "- Création de portails d'analyse interactifs et de visualisations de données (par exemple, en utilisant R/Shiny, Python/Flask, D3)\n",
       "\n",
       "- Construire et maintenir des outils de calcul de haute performance (HPC).\n",
       "\n",
       "- Développement et révision de codes en R, Python et autres langages\n",
       "\n",
       "- Mise en place de procédures optimisées pour les tâches répétitives ou intensives en calcul (C, C++, Cuda-C)\n",
       "\n",
       "Qualifications requises\n",
       "\n",
       "- Solides références et expérience dans la gestion de bases de données et de la visualisation de données\n",
       "\n",
       "- Expérience de travail significative dans un environnement Linux requise\n",
       "\n",
       "- Expérience antérieure en statistique/économétrie ou bio-statistique\n",
       "\n",
       "- Idéalement, être titulaire d'un doctorat en sciences informatiques, en mathématiques, en statistique, en économie ou d'un autre diplôme scientifique pertinent et posséder une expérience pertinente. Les candidats ayant au moins un an d'expérience dans le domaine peuvent également être considérés.\n",
       "\n",
       "- Excellentes aptitudes de communication écrite et verbale\n",
       "\n",
       "- Expérience de projet avec R et/ou Python\n",
       "\n",
       "- Familiarité avec l'informatique en ligne/info nuagique et le stockage (AWS)\n",
       "\n",
       "- Expérience de travail démontrée au sein d'équipes de projet et de collaboration avec d'autres personnes\n",
       "\n",
       "­\n",
       "Equal Opportunity Employer/Protected Veterans/Individuals with Disabilities.\n",
       "Please view Equal Employment Opportunity Posters provided by OFCCP here.\n",
       "The contractor will not discharge or in any other manner discriminate against employees or applicants because they have inquired about, discussed, or disclosed their own pay or the pay of another employee or applicant. However, employees who have access to the compensation information of other employees or applicants as a part of their essential job functions cannot disclose the pay of other employees or applicants to individuals who do not otherwise have access to compensation information, unless the disclosure is (a) in response to a formal complaint or charge, (b) in furtherance of an investigation, proceeding, hearing, or action, including an investigation conducted by the employer, or (c) consistent with the contractor's legal duty to furnish information. 41 CFR 60-1.35(c)</td><td>3.8</td><td>Analysis Group    </td><td>Boston, MA   </td><td>Boston, MA            </td><td>1001 to 5000 employees </td><td>Private Practice / Firm</td><td>Consulting                           </td><td>⋯</td><td>39</td><td>1</td><td>1</td><td>0</td><td>0</td><td>1</td><td>0</td><td>0</td><td>data scientist</td><td>na    </td></tr>\n",
       "\t<tr><th scope=row>4</th><td><span style=white-space:pre-wrap>Data Scientist   </span></td><td>137-171 </td><td><span style=white-space:pre-wrap>JOB DESCRIPTION:\n",
       "\n",
       "Do you have a passion for Data and Machine Learning? Do you dream of working with customers on their most forward-looking AI initiatives? Does the challenge of developing modern machine learning solutions to solve real-world manufacturing problems exciting to you?\n",
       "\n",
       "We develop software for monitoring semiconductor manufacturing process and are looking to leverage the latest technologies to address our customer's needs. You will be part of a team that investigates and builds solutions based all the data available in factories, ranging from time series data, to post manufacturing data, to production logs. You will be working side by side with application developers and customers on real world problems with actual manufacturing data.\n",
       "\n",
       "JOB FUNCTION:\n",
       "\n",
       "Basic and applied research in statistical machine learning, deep learning, and data science as well as signal and information processing to advance the state of the art in time series analysis of semiconductor manufacturing data.\n",
       "\n",
       "Responsibilities:\n",
       "Perform data analysis, data pre-processing, and feature engineering in support of advanced machine learning algorithm development. Incorporate physical and operational insights/constraints into statistical models to achieve a high degree of robustness.\n",
       "Prototype algorithms for proof of concept, validation, and software implementation.\n",
       "Support performance evaluations and the transition of algorithms into existing fault detection and classification systems.\n",
       "Convey the results of scientific research to sponsors and the scientific community through briefings, conferences and peer-reviewed publications.\n",
       "Other related functions as assigned.\n",
       "\n",
       "REQUIRED QUALIFICATIONS:\n",
       "Bachelor's degree in computer science or chemical engineering or related technical field.\n",
       "Demonstrated ability in machine learning/artificial intelligence (ML/AI) development and/or scientific modelling and data analysis.\n",
       "Demonstrated ability with python/MATLAB or similar abstract language. Experience with both traditional ML and modern deep learning approaches.\n",
       "Experience with agile development practices and Git version control.\n",
       "Experience with one or more of the DNN frameworks like TensorFlow, PyTorch, Chainer.\n",
       "Experience with SQL, Graph stores, or NoSQL stores.\n",
       "Applicant must have a dynamic skill set, be willing to work with new technologies, be highly organized and capable of planning and coordinating multiple tasks. The position will require attention to detail, effective problem solving skills and excellent judgment. Ability to work independently with sensitive and confidential information, maintain a professional demeanor, work as a team member without daily supervision.\n",
       "\n",
       "COMPENSATION &amp; BENEFITS:\n",
       "\n",
       "Compensation will be commensurate with experience including a competitive base salary, bonus opportunity, competitive benefits package, and relocation assistance.\n",
       "\n",
       "INFICON, is committed to ensuring that our online application process provides an equal opportunity to all job seekers that apply without regard to race, religion, ethnicity, national origin, citizenship, gender, age, protected veteran status, disability status, genetic information, sexual orientation, or any other protected characteristic. A notice describing Federal equal employment opportunity laws is available here and here to reaffirm this commitment.\n",
       "\n",
       "PI120660357                                                                                                                                                                                                                                                                                                                                                                                                                                                                                                                                                                                                                                                                                                                                                                                                                                                                                                                                                                                                                                                                                                                                                                                                                                                                                                                                                                                                                                                                                                                                                                                                                                                                                                                                                                                                                                                                                                                                                                                                                                                                                                                                                                                                                                                                                                                                                                                                                                                                                                                                                                                                                                                                                                                                                                                                                                                                                                                                                                                                                                                                                                                                                                                                                                                                                                                                                                                                                                                                                                                                                                                                                                                                                                                                                                                                                                                                                                                                                                                                                                                                                                                                                                                                                                                                                                                                                                                                                                                                                                                                                                                                                                                                                                                                                                                                                                                                                                                                                                                                                                                                                                                                                                                                                                                                                                                                                                                                                                                                                                                                                                                                                                                                                       </span></td><td>3.5</td><td><span style=white-space:pre-wrap>INFICON           </span></td><td><span style=white-space:pre-wrap>Newton, MA   </span></td><td>Bad Ragaz, Switzerland</td><td><span style=white-space:pre-wrap>501 to 1000 employees  </span></td><td><span style=white-space:pre-wrap>Company - Public       </span></td><td>Electrical &amp; Electronic Manufacturing</td><td>⋯</td><td>20</td><td>1</td><td>1</td><td>0</td><td>0</td><td>1</td><td>0</td><td>0</td><td>data scientist</td><td><span style=white-space:pre-wrap>na    </span></td></tr>\n",
       "\t<tr><th scope=row>5</th><td><span style=white-space:pre-wrap>Data Scientist   </span></td><td>137-171 </td><td><span style=white-space:pre-wrap>Data Scientist\n",
       "Affinity Solutions / Marketing Cloud seeks smart, curious, technically savvy candidates to join our cutting-edge data science team. We hire the best and brightest and give them the opportunity to work on industry-leading technologies.\n",
       "The data sciences team at AFS/Marketing Cloud build models, machine learning algorithms that power all our ad-tech/mar-tech products at scale, develop methodology and tools to precisely and effectively measure market campaign effects, and research in-house and public data sources for consumer spend behavior insights. In this role, you'll have the opportunity to come up with new ideas and solutions that will lead to improvement of our ability to target the right audience, derive insights and provide better measurement methodology for marketing campaigns. You'll access our core data asset and machine learning infrastructure to power your ideas.\n",
       "Duties and Responsibilities\n",
       "· Support all clients model building needs, including maintaining and improving current modeling/scoring methodology and processes,\n",
       "· Provide innovative solutions to customized modeling/scoring/targeting with appropriate ML/statistical tools,\n",
       "· Provide analytical/statistical support such as marketing test design, projection, campaign measurement, market insights to clients and stakeholders.\n",
       "· Mine large consumer datasets in the cloud environment to support ad hoc business and statistical analysis,\n",
       "· Develop and Improve automation capabilities to enable customized delivery of the analytical products to clients,\n",
       "· Communicate the methodologies and the results to the management, clients and none technical stakeholders.\n",
       "Basic Qualifications\n",
       "· Advanced degree in Statistics/Mathematics/Computer Science/Economics or other fields that requires advanced training in data analytics.\n",
       "· Being able to apply basic statistical/ML concepts and reasoning to address and solve business problems such as targeting, test design, KPI projection and performance measurement.\n",
       "· Entrepreneurial, highly self-motivated, collaborative, keen attention to detail, willingness and capable learn quickly, and ability to effectively prioritize and execute tasks in a high pressure environment.\n",
       "· Being flexible to accept different task assignments and able to work on a tight time schedule.\n",
       "· Excellent command of one or more programming languages; preferably Python, SAS or R\n",
       "· Familiar with one of the database technologies such as PostgreSQL, MySQL, can write basic SQL queries\n",
       "· Great communication skills (verbal, written and presentation)\n",
       "Preferred Qualifications\n",
       "· Experience or exposure to large consumer and/or demographic data sets.\n",
       "· Familiarity with data manipulation and cleaning routines and techniques.                                                                                                                                                                                                                                                                                                                                                                                                                                                                                                                                                                                                                                                                                                                                                                                                                                                                                                                                                                                                                                                                                                                                                                                                                                                                                                                                                                                                                                                                                                                                                                                                                                                                                                                                                                                                                                                                                                                                                                                                                                                                                                                                                                                                                                                                                                                                                                                                                                                                                                                                                                                                                                                                                                                                                                                                                                                                                                                                                                                                                                                                                                                                                                                                                                                                                                                                                                                                                                                                                                                                                                                                                                                                                                                                                                                                                                                                                                                                                                                                                                                                                                                                                                                                                                                                                                                                                                                                                                                                                                                                                                                                                                                                                                                                                                                                                                                                                                                                                                                                                                                                                                                                                                                                                                                                                                                                                                                                                                                                                                                                                                                                                                                                                                                                                                                                                                                                                                                                                                                                                                                                                                                                                                                                                                                                                                                                                </span></td><td>2.9</td><td>Affinity Solutions</td><td>New York, NY </td><td><span style=white-space:pre-wrap>New York, NY          </span></td><td><span style=white-space:pre-wrap>51 to 200 employees    </span></td><td><span style=white-space:pre-wrap>Company - Private      </span></td><td><span style=white-space:pre-wrap>Advertising &amp; Marketing              </span></td><td>⋯</td><td>22</td><td>1</td><td>1</td><td>0</td><td>0</td><td>0</td><td>0</td><td>0</td><td>data scientist</td><td><span style=white-space:pre-wrap>na    </span></td></tr>\n",
       "</tbody>\n",
       "</table>\n"
      ],
      "text/latex": [
       "A data.frame: 5 × 27\n",
       "\\begin{tabular}{r|lllllllllllllllllllll}\n",
       "  & Job.Title & Salary.Estimate & Job.Description & Rating & Company.Name & Location & Headquarters & Size & Type.of.ownership & Industry & ⋯ & company\\_age & python & excel & hadoop & spark & aws & tableau & big\\_data & job\\_simp & seniority\\\\\n",
       "  & <chr> & <chr> & <chr> & <dbl> & <chr> & <chr> & <chr> & <chr> & <chr> & <chr> & ⋯ & <int> & <int> & <int> & <int> & <int> & <int> & <int> & <int> & <chr> & <chr>\\\\\n",
       "\\hline\n",
       "\t1 & Sr Data Scientist & 137-171  & Description\n",
       "\n",
       "The Senior Data Scientist is responsible for defining, building, and improving statistical models to improve business processes and outcomes in one or more healthcare domains such as Clinical, Enrollment, Claims, and Finance. As part of the broader analytics team, Data Scientist will gather and analyze data to solve and address complex business problems and evaluate scenarios to make predictions on future outcomes and work with the business to communicate and support decision-making. This position requires strong analytical skills and experience in analytic methods including multivariate regressions, hierarchical linear models, regression trees, clustering methods and other complex statistical techniques.\n",
       "\n",
       "Duties \\& Responsibilities:\n",
       "\n",
       "• Develops advanced statistical models to predict, quantify or forecast various operational and performance metrics in multiple healthcare domains\n",
       "• Investigates, recommends, and initiates acquisition of new data resources from internal and external sources\n",
       "• Works with multiple teams to support data collection, integration, and retention requirements based on business needs\n",
       "• Identifies critical and emerging technologies that will support and extend quantitative analytic capabilities\n",
       "• Collaborates with business subject matter experts to select relevant sources of information\n",
       "• Develops expertise with multiple machine learning algorithms and data science techniques, such as exploratory data analysis and predictive modeling, graph theory, recommender systems, text analytics and validation\n",
       "• Develops expertise with Healthfirst datasets, data repositories, and data movement processes\n",
       "• Assists on projects/requests and may lead specific tasks within the project scope\n",
       "• Prepares and manipulates data for use in development of statistical models\n",
       "• Other duties as assigned\n",
       "\n",
       "Minimum Qualifications:\n",
       "\n",
       "-Bachelor's Degree\n",
       "\n",
       "Preferred Qualifications:\n",
       "\n",
       "- Master’s degree in Computer Science or Statistics\n",
       "Familiarity with major cloud platforms such as AWS and Azure\n",
       "Healthcare Industry Experience\n",
       "\n",
       "Minimum Qualifications:\n",
       "\n",
       "-Bachelor's Degree\n",
       "\n",
       "Preferred Qualifications:\n",
       "\n",
       "- Master’s degree in Computer Science or Statistics\n",
       "Familiarity with major cloud platforms such as AWS and Azure\n",
       "Healthcare Industry Experience\n",
       "\n",
       "WE ARE AN EQUAL OPPORTUNITY EMPLOYER. Applicants and employees are considered for positions and are evaluated without regard to mental or physical disability, race, color, religion, gender, national origin, age, genetic information, military or veteran status, sexual orientation, marital status or any other protected Federal, State/Province or Local status unrelated to the performance of the work involved.\n",
       "\n",
       "If you have a disability under the Americans with Disability Act or a similar law, and want a reasonable accommodation to assist with your job search or application for employment, please contact us by sending an email to careers@Healthfirst.org or calling 212-519-1798 . In your email please include a description of the accommodation you are requesting and a description of the position for which you are applying. Only reasonable accommodation requests related to applying for a position within Healthfirst Management Services will be reviewed at the e-mail address and phone number supplied. Thank you for considering a career with Healthfirst Management Services.\n",
       "EEO Law Poster and Supplement\n",
       "\n",
       "{]}{]}>                                                                                                                                                                                                                                                                                                                                                                                                                                                                                                                                                                                                                                                                                                                                                                                                                                                                                                                                                                                                                                                                                                                                                                                                                                                                                                                                                                                                                                                                                                                                                                                                                                                                                                                                                                                                                                                                                                                                                                                                                                                                                                                                                                                                                                                                                                                                                                                                                                                                                                                                                                                                                                                                                                                                                                                                                                                                                                                                                                                                                                                                                                                                                                                                                                                                                                                                                                                                                                                                                                                                                                                                                                                                                                                                                                                                                                                                                                                                                                                                                                                                                                                                                                                                                                                                                                                                                                                                                                                                                                                                                                                                                                                                                                                                                                                                                                                                                                                                                                                                                                                                                                                                                                                                                                                                                                                                                                                                                                                                                                                                                                                                                                      & 3.1 & Healthfirst        & New York, NY  & New York, NY           & 1001 to 5000 employees  & Nonprofit Organization  & Insurance Carriers                    & ⋯ & 27 & 0 & 0 & 0 & 0 & 1 & 0 & 0 & data scientist & senior\\\\\n",
       "\t2 & Data Scientist    & 137-171  & Secure our Nation, Ignite your Future\n",
       "\n",
       "Join the top Information Technology and Analytic professionals in the industry to make invaluable contributions to our national security on a daily basis. In this innovative, self-contained, Big Data environment, the ManTech team is responsible for everything from infrastructure, to application development, to data science, to advanced analytics and beyond. The team is diverse, the questions are thought-provoking, and the opportunities for growth and advancement are numerous\n",
       "\n",
       "The successful candidate will possess a diverse range of data-focused skills and experience, both technical and analytical. They will have a strong desire and capability for problem solving, data analysis and troubleshooting, analytical thinking, and experimentation.\n",
       "\n",
       "Duties, Tasks \\& Responsibilities\n",
       "Working with large, complex, and disparate data sets\n",
       "Designing and implementing innovative ways to analyze and exploit the Sponsors data holdings\n",
       "Researching and reporting on a wide variety of Sponsor inquiries\n",
       "Raising proactive inquiries to the Sponsor based on observations and proposed data analysis/exploitation\n",
       "Solving difficult, non-routine problems by applying advanced analytical methodologies, and improving analytic methodologies\n",
       "Developing custom searches\n",
       "Communicating and coordinating with internal and external partners as needed\n",
       "Required Experience, Skills, \\& Technologies\n",
       "\n",
       "Thorough knowledge of appropriate analytic tools and methodologies in one or more of the following:\n",
       "Applied mathematics (e.g. probability and statistics, formal modeling, computational social sciences)\n",
       "Computer programming (e.g. programming languages, math/statistics packages, computer science, machine learning, scientific computing)\n",
       "Ability to code or script in one or more general programming language\n",
       "Experience with and theoretical understanding of algorithms for classification, regression, clustering, and anomaly detection\n",
       "Knowledge of relational databases, including SQL and large-scale distributed systems (e.g. Hadoop)\n",
       "Expertise with statistical data analysis (e.g. linear models, multivariate analysis, stochastic models, sampling methods)\n",
       "Demonstrated effectiveness in collecting information and accurately representing/visualizing it to non-technical third parties\n",
       "TS/SCI with Polygraph\n",
       "Bachelor of Science or equivalent and 12-15 years related experience, but will consider all levels of experience.\n",
       "Desired Experience, Skills \\& Technologies\n",
       "Previous investigative experience using a combination of technical and analytic skills\n",
       "\\#LI-DU1\n",
       "\n",
       "ManTech International Corporation, as well as its subsidiaries proactively fulfills its role as an equal opportunity employer. We do not discriminate against any employee or applicant for employment because of race, color, sex, religion, age, sexual orientation, gender identity and expression, national origin, marital status, physical or mental disability, status as a Disabled Veteran, Recently Separated Veteran, Active Duty Wartime or Campaign Badge Veteran, Armed Forces Services Medal, or any other characteristic protected by law.\n",
       "\n",
       "If you require a reasonable accommodation to apply for a position with ManTech through its online applicant system, please contact ManTech's Corporate EEO Department at (703) 218-6000. ManTech is an affirmative action/equal opportunity employer - minorities, females, disabled and protected veterans are urged to apply. ManTech's utilization of any external recruitment or job placement agency is predicated upon its full compliance with our equal opportunity/affirmative action policies. ManTech does not accept resumes from unsolicited recruiting firms. We pay no fees for unsolicited services.\n",
       "\n",
       "If you are a qualified individual with a disability or a disabled veteran, you have the right to request an accommodation if you are unable or limited in your ability to use or access http://www.mantech.com/careers/Pages/careers.aspx as a result of your disability. To request an accommodation please click careers@mantech.com and provide your name and contact information.                                                                                                                                                                                                                                                                                                                                                                                                                                                                                                                                                                                                                                                                                                                                                                                                                                                                                                                                                                                                                                                                                                                                                                                                                                                                                                                                                                                                                                                                                                                                                                                                                                                                                                                                                                                                                                                                                                                                                                                                                                                                                                                                                                                                                                                                                                                                                                                                                                                                                                                                                                                                                                                                                                                                                                                                                                                                                                                                                                                                                                                                                                                                                                                                                                                                                                                                                                                                                                                                                                                                                                                                                                                                                                                                                                                                                                                                                                                                                                                                                                                                                                                                                                                                                                                                                                                                                                                                                                                                                                                                                                                                                                                                                                                                                                                                                                                                                                                               & 4.2 & ManTech            & Chantilly, VA & Herndon, VA            & 5001 to 10000 employees & Company - Public        & Research \\& Development                & ⋯ & 52 & 0 & 0 & 1 & 0 & 0 & 0 & 1 & data scientist & na    \\\\\n",
       "\t3 & Data Scientist    & 137-171  & Overview\n",
       "\n",
       "\n",
       "Analysis Group is one of the largest international economics consulting firms, with more than 1,000 professionals across 14 offices in North America, Europe, and Asia. Since 1981, we have provided expertise in economics, finance, health care analytics, and strategy to top law firms, Fortune Global 500 companies, and government agencies worldwide. Our internal experts, together with our network of affiliated experts from academia, industry, and government, offer our clients exceptional breadth and depth of expertise.\n",
       "\n",
       "We are currently seeking a Data Scientist to join our team. The ideal candidate should be passionate about working on cutting edge research and analytical services for Fortune 500 companies, global pharma/biotech firms and leaders in industries such as finance, energy and life sciences. The Data Scientist will be a contributing member to client engagements and have the opportunity to work with our network of world-class experts and thought leaders.\n",
       "\n",
       "Job Functions and Responsibilities\n",
       "\n",
       "The candidate Data Scientist will help develop, maintain and teach new tools and methodologies related to data science and high performance computing. This position will also help Analysis Group in maintaining our leadership position in terms of advancing methodology and data analytics. The Data Scientist will be responsible for staying abreast of new developments in technology relating to data science, to share more broadly with Analysis Group.\n",
       "\n",
       "Key responsibilities for this position will include:\n",
       "Working with project teams to address data science/computing challenges\n",
       "Identifying opportunities for technology to enhance service offerings\n",
       "Acting as a resource and participating in client engagements and research as part of the project team\n",
       "Maintaining up-to-date knowledge of computing tools, providing technical training and helping to grow the in-house knowledge base, specifically in a Linux environment\n",
       "Presenting research at selected conferences\n",
       "Examples of activities for the Data Scientist will include:\n",
       "Developing data engineering and machine learning production systems for full stack data science projects\n",
       "Using natural language processing methodologies to work with EMR data, social media data and other unstructured data\n",
       "Optimizing procedures for managing and accessing large databases (e.g., insurance claims, electronic health records, financial transactions)\n",
       "Creating interactive analytics portals and data visualizations (e.g., using R/Shiny, Python/Flask, D3)\n",
       "Building and maintaining high performance computing (HPC) tools on grid and cloud computing environments\n",
       "Developing and reviewing software and packages in R, Python and other Object Oriented Languages\n",
       "Establishing optimized procedures for repetitive or computationally intensive tasks (C, C++, Cuda-C)\n",
       "Qualifications\n",
       "Strong credentials and experience in database management and data visualization\n",
       "Significant experience working within a Linux environment required\n",
       "Background in Statistics/Econometrics or Biostatistics\n",
       "Ideally PhD in Computer Science, Mathematics, Statistics, Economics or other relevant scientific degree with relevant experience. Other candidates with at least one year of experience in the field may also be considered\n",
       "Excellent written and verbal communication skills\n",
       "Project experience with R and/or Python\n",
       "Familiar with online/cloud computing/storage (e.g., AWS)\n",
       "Demonstrated experience working on project teams and collaborating with others\n",
       "SCIENTIFIQUE DES DONNÉES\n",
       "\n",
       "*L’utilisation du genre masculin sert uniquement à alléger le texte et est utilisé ici en tant que genre neutre\n",
       "\n",
       "Survol\n",
       "\n",
       "Groupe d’analyse ltée est l’une des plus grandes firmes de services-conseils en économie, comptant plus de 950 professionnels répartis dans 14 bureaux en Amérique du Nord, en Europe et en Asie. Depuis 1981, nous offrons notre expertise en matière de stratégie, d’économie, de finance et d’analyse dans le domaine des soins de santé aux grands cabinets d’avocats, aux sociétés Fortune Global 500 et aux agences gouvernementales du monde entier. Nos professionnels en poste conjugués à notre réseau de spécialistes affiliés issus d’universités, d’industries spécifiques et d’organismes gouvernementaux procurent à notre clientèle un savoir-faire d’une portée et d’une profondeur exceptionnelles.\n",
       "\n",
       "Nous sommes présentement à la recherche d'un Scientifique des données (« Data Scientist ») pour se joindre à notre équipe. Le candidat idéal devrait être passionné par la recherche de pointe et les services analytiques pour les entreprises Fortune 500, les entreprises pharmaceutiques et biotechnologiques mondiales et les chefs de file dans des secteurs de la finance, l'énergie et les sciences de la vie. Le Scientifique des données sera un membre contributeur aux mandats des clients et aura l'occasion de travailler avec notre réseau d'experts et de leaders d'opinion de classe mondiale.\n",
       "\n",
       "Description du poste et des responsabilités\n",
       "\n",
       "Le scientifique des données aidera à développer, maintenir et enseigner de nouveaux outils et méthodologies liés à la science des données (« Data Science ») et au HPC. Ce poste aidera également le Groupe d'analyse à maintenir sa position de chef de file en ce qui a trait à l'avancement de la méthodologie et de l'analyse des données. Le scientifique des données sera chargé de se tenir au courant des nouveaux développements technologiques liés à la science des données, afin de les partager plus largement avec le Groupe d'analyse.\n",
       "\n",
       "Les principales responsabilités de ce poste comprendront:\n",
       "\n",
       "- Collaborer avec les consultants pour relever les défis de la science des données et de sciences informatiques\n",
       "\n",
       "- Agir à titre de ressource et participer aux mandats et à la recherche en tant que membre de l'équipe de projet\n",
       "\n",
       "- Maintenir à jour les connaissances sur les outils informatiques, fournir une formation technique et aider à développer la base de connaissances interne, notamment dans un environnement Linux\n",
       "\n",
       "- Présenter la recherche à des conférences choisies\n",
       "\n",
       "Exemples de tâches du scientifique des données :\n",
       "\n",
       "- Développement de systèmes de production en ingénierie des données ainsi qu’en apprentissage machine pour des projets de science des données full stack\n",
       "\n",
       "- Utiliser des méthodologies NLP pour travailler avec les données médicales électroniques, les données des médias sociaux et d'autres données non structures\n",
       "\n",
       "- Optimiser les procédures de gestion et d'accès aux grandes bases de données (ex. réclamations d'assurance, dossiers de santé électroniques, transactions financières)\n",
       "\n",
       "- Création de portails d'analyse interactifs et de visualisations de données (par exemple, en utilisant R/Shiny, Python/Flask, D3)\n",
       "\n",
       "- Construire et maintenir des outils de calcul de haute performance (HPC).\n",
       "\n",
       "- Développement et révision de codes en R, Python et autres langages\n",
       "\n",
       "- Mise en place de procédures optimisées pour les tâches répétitives ou intensives en calcul (C, C++, Cuda-C)\n",
       "\n",
       "Qualifications requises\n",
       "\n",
       "- Solides références et expérience dans la gestion de bases de données et de la visualisation de données\n",
       "\n",
       "- Expérience de travail significative dans un environnement Linux requise\n",
       "\n",
       "- Expérience antérieure en statistique/économétrie ou bio-statistique\n",
       "\n",
       "- Idéalement, être titulaire d'un doctorat en sciences informatiques, en mathématiques, en statistique, en économie ou d'un autre diplôme scientifique pertinent et posséder une expérience pertinente. Les candidats ayant au moins un an d'expérience dans le domaine peuvent également être considérés.\n",
       "\n",
       "- Excellentes aptitudes de communication écrite et verbale\n",
       "\n",
       "- Expérience de projet avec R et/ou Python\n",
       "\n",
       "- Familiarité avec l'informatique en ligne/info nuagique et le stockage (AWS)\n",
       "\n",
       "- Expérience de travail démontrée au sein d'équipes de projet et de collaboration avec d'autres personnes\n",
       "\n",
       "­\n",
       "Equal Opportunity Employer/Protected Veterans/Individuals with Disabilities.\n",
       "Please view Equal Employment Opportunity Posters provided by OFCCP here.\n",
       "The contractor will not discharge or in any other manner discriminate against employees or applicants because they have inquired about, discussed, or disclosed their own pay or the pay of another employee or applicant. However, employees who have access to the compensation information of other employees or applicants as a part of their essential job functions cannot disclose the pay of other employees or applicants to individuals who do not otherwise have access to compensation information, unless the disclosure is (a) in response to a formal complaint or charge, (b) in furtherance of an investigation, proceeding, hearing, or action, including an investigation conducted by the employer, or (c) consistent with the contractor's legal duty to furnish information. 41 CFR 60-1.35(c) & 3.8 & Analysis Group     & Boston, MA    & Boston, MA             & 1001 to 5000 employees  & Private Practice / Firm & Consulting                            & ⋯ & 39 & 1 & 1 & 0 & 0 & 1 & 0 & 0 & data scientist & na    \\\\\n",
       "\t4 & Data Scientist    & 137-171  & JOB DESCRIPTION:\n",
       "\n",
       "Do you have a passion for Data and Machine Learning? Do you dream of working with customers on their most forward-looking AI initiatives? Does the challenge of developing modern machine learning solutions to solve real-world manufacturing problems exciting to you?\n",
       "\n",
       "We develop software for monitoring semiconductor manufacturing process and are looking to leverage the latest technologies to address our customer's needs. You will be part of a team that investigates and builds solutions based all the data available in factories, ranging from time series data, to post manufacturing data, to production logs. You will be working side by side with application developers and customers on real world problems with actual manufacturing data.\n",
       "\n",
       "JOB FUNCTION:\n",
       "\n",
       "Basic and applied research in statistical machine learning, deep learning, and data science as well as signal and information processing to advance the state of the art in time series analysis of semiconductor manufacturing data.\n",
       "\n",
       "Responsibilities:\n",
       "Perform data analysis, data pre-processing, and feature engineering in support of advanced machine learning algorithm development. Incorporate physical and operational insights/constraints into statistical models to achieve a high degree of robustness.\n",
       "Prototype algorithms for proof of concept, validation, and software implementation.\n",
       "Support performance evaluations and the transition of algorithms into existing fault detection and classification systems.\n",
       "Convey the results of scientific research to sponsors and the scientific community through briefings, conferences and peer-reviewed publications.\n",
       "Other related functions as assigned.\n",
       "\n",
       "REQUIRED QUALIFICATIONS:\n",
       "Bachelor's degree in computer science or chemical engineering or related technical field.\n",
       "Demonstrated ability in machine learning/artificial intelligence (ML/AI) development and/or scientific modelling and data analysis.\n",
       "Demonstrated ability with python/MATLAB or similar abstract language. Experience with both traditional ML and modern deep learning approaches.\n",
       "Experience with agile development practices and Git version control.\n",
       "Experience with one or more of the DNN frameworks like TensorFlow, PyTorch, Chainer.\n",
       "Experience with SQL, Graph stores, or NoSQL stores.\n",
       "Applicant must have a dynamic skill set, be willing to work with new technologies, be highly organized and capable of planning and coordinating multiple tasks. The position will require attention to detail, effective problem solving skills and excellent judgment. Ability to work independently with sensitive and confidential information, maintain a professional demeanor, work as a team member without daily supervision.\n",
       "\n",
       "COMPENSATION \\& BENEFITS:\n",
       "\n",
       "Compensation will be commensurate with experience including a competitive base salary, bonus opportunity, competitive benefits package, and relocation assistance.\n",
       "\n",
       "INFICON, is committed to ensuring that our online application process provides an equal opportunity to all job seekers that apply without regard to race, religion, ethnicity, national origin, citizenship, gender, age, protected veteran status, disability status, genetic information, sexual orientation, or any other protected characteristic. A notice describing Federal equal employment opportunity laws is available here and here to reaffirm this commitment.\n",
       "\n",
       "PI120660357                                                                                                                                                                                                                                                                                                                                                                                                                                                                                                                                                                                                                                                                                                                                                                                                                                                                                                                                                                                                                                                                                                                                                                                                                                                                                                                                                                                                                                                                                                                                                                                                                                                                                                                                                                                                                                                                                                                                                                                                                                                                                                                                                                                                                                                                                                                                                                                                                                                                                                                                                                                                                                                                                                                                                                                                                                                                                                                                                                                                                                                                                                                                                                                                                                                                                                                                                                                                                                                                                                                                                                                                                                                                                                                                                                                                                                                                                                                                                                                                                                                                                                                                                                                                                                                                                                                                                                                                                                                                                                                                                                                                                                                                                                                                                                                                                                                                                                                                                                                                                                                                                                                                                                                                                                                                                                                                                                                                                                                                                                                                                                                                                                                                                        & 3.5 & INFICON            & Newton, MA    & Bad Ragaz, Switzerland & 501 to 1000 employees   & Company - Public        & Electrical \\& Electronic Manufacturing & ⋯ & 20 & 1 & 1 & 0 & 0 & 1 & 0 & 0 & data scientist & na    \\\\\n",
       "\t5 & Data Scientist    & 137-171  & Data Scientist\n",
       "Affinity Solutions / Marketing Cloud seeks smart, curious, technically savvy candidates to join our cutting-edge data science team. We hire the best and brightest and give them the opportunity to work on industry-leading technologies.\n",
       "The data sciences team at AFS/Marketing Cloud build models, machine learning algorithms that power all our ad-tech/mar-tech products at scale, develop methodology and tools to precisely and effectively measure market campaign effects, and research in-house and public data sources for consumer spend behavior insights. In this role, you'll have the opportunity to come up with new ideas and solutions that will lead to improvement of our ability to target the right audience, derive insights and provide better measurement methodology for marketing campaigns. You'll access our core data asset and machine learning infrastructure to power your ideas.\n",
       "Duties and Responsibilities\n",
       "· Support all clients model building needs, including maintaining and improving current modeling/scoring methodology and processes,\n",
       "· Provide innovative solutions to customized modeling/scoring/targeting with appropriate ML/statistical tools,\n",
       "· Provide analytical/statistical support such as marketing test design, projection, campaign measurement, market insights to clients and stakeholders.\n",
       "· Mine large consumer datasets in the cloud environment to support ad hoc business and statistical analysis,\n",
       "· Develop and Improve automation capabilities to enable customized delivery of the analytical products to clients,\n",
       "· Communicate the methodologies and the results to the management, clients and none technical stakeholders.\n",
       "Basic Qualifications\n",
       "· Advanced degree in Statistics/Mathematics/Computer Science/Economics or other fields that requires advanced training in data analytics.\n",
       "· Being able to apply basic statistical/ML concepts and reasoning to address and solve business problems such as targeting, test design, KPI projection and performance measurement.\n",
       "· Entrepreneurial, highly self-motivated, collaborative, keen attention to detail, willingness and capable learn quickly, and ability to effectively prioritize and execute tasks in a high pressure environment.\n",
       "· Being flexible to accept different task assignments and able to work on a tight time schedule.\n",
       "· Excellent command of one or more programming languages; preferably Python, SAS or R\n",
       "· Familiar with one of the database technologies such as PostgreSQL, MySQL, can write basic SQL queries\n",
       "· Great communication skills (verbal, written and presentation)\n",
       "Preferred Qualifications\n",
       "· Experience or exposure to large consumer and/or demographic data sets.\n",
       "· Familiarity with data manipulation and cleaning routines and techniques.                                                                                                                                                                                                                                                                                                                                                                                                                                                                                                                                                                                                                                                                                                                                                                                                                                                                                                                                                                                                                                                                                                                                                                                                                                                                                                                                                                                                                                                                                                                                                                                                                                                                                                                                                                                                                                                                                                                                                                                                                                                                                                                                                                                                                                                                                                                                                                                                                                                                                                                                                                                                                                                                                                                                                                                                                                                                                                                                                                                                                                                                                                                                                                                                                                                                                                                                                                                                                                                                                                                                                                                                                                                                                                                                                                                                                                                                                                                                                                                                                                                                                                                                                                                                                                                                                                                                                                                                                                                                                                                                                                                                                                                                                                                                                                                                                                                                                                                                                                                                                                                                                                                                                                                                                                                                                                                                                                                                                                                                                                                                                                                                                                                                                                                                                                                                                                                                                                                                                                                                                                                                                                                                                                                                                                                                                                                                                 & 2.9 & Affinity Solutions & New York, NY  & New York, NY           & 51 to 200 employees     & Company - Private       & Advertising \\& Marketing               & ⋯ & 22 & 1 & 1 & 0 & 0 & 0 & 0 & 0 & data scientist & na    \\\\\n",
       "\\end{tabular}\n"
      ],
      "text/markdown": [
       "\n",
       "A data.frame: 5 × 27\n",
       "\n",
       "| <!--/--> | Job.Title &lt;chr&gt; | Salary.Estimate &lt;chr&gt; | Job.Description &lt;chr&gt; | Rating &lt;dbl&gt; | Company.Name &lt;chr&gt; | Location &lt;chr&gt; | Headquarters &lt;chr&gt; | Size &lt;chr&gt; | Type.of.ownership &lt;chr&gt; | Industry &lt;chr&gt; | ⋯ ⋯ | company_age &lt;int&gt; | python &lt;int&gt; | excel &lt;int&gt; | hadoop &lt;int&gt; | spark &lt;int&gt; | aws &lt;int&gt; | tableau &lt;int&gt; | big_data &lt;int&gt; | job_simp &lt;chr&gt; | seniority &lt;chr&gt; |\n",
       "|---|---|---|---|---|---|---|---|---|---|---|---|---|---|---|---|---|---|---|---|---|---|\n",
       "| 1 | Sr Data Scientist | 137-171  | Description\n",
       "\n",
       "The Senior Data Scientist is responsible for defining, building, and improving statistical models to improve business processes and outcomes in one or more healthcare domains such as Clinical, Enrollment, Claims, and Finance. As part of the broader analytics team, Data Scientist will gather and analyze data to solve and address complex business problems and evaluate scenarios to make predictions on future outcomes and work with the business to communicate and support decision-making. This position requires strong analytical skills and experience in analytic methods including multivariate regressions, hierarchical linear models, regression trees, clustering methods and other complex statistical techniques.\n",
       "\n",
       "Duties &amp; Responsibilities:\n",
       "\n",
       "• Develops advanced statistical models to predict, quantify or forecast various operational and performance metrics in multiple healthcare domains\n",
       "• Investigates, recommends, and initiates acquisition of new data resources from internal and external sources\n",
       "• Works with multiple teams to support data collection, integration, and retention requirements based on business needs\n",
       "• Identifies critical and emerging technologies that will support and extend quantitative analytic capabilities\n",
       "• Collaborates with business subject matter experts to select relevant sources of information\n",
       "• Develops expertise with multiple machine learning algorithms and data science techniques, such as exploratory data analysis and predictive modeling, graph theory, recommender systems, text analytics and validation\n",
       "• Develops expertise with Healthfirst datasets, data repositories, and data movement processes\n",
       "• Assists on projects/requests and may lead specific tasks within the project scope\n",
       "• Prepares and manipulates data for use in development of statistical models\n",
       "• Other duties as assigned\n",
       "\n",
       "Minimum Qualifications:\n",
       "\n",
       "-Bachelor's Degree\n",
       "\n",
       "Preferred Qualifications:\n",
       "\n",
       "- Master’s degree in Computer Science or Statistics\n",
       "Familiarity with major cloud platforms such as AWS and Azure\n",
       "Healthcare Industry Experience\n",
       "\n",
       "Minimum Qualifications:\n",
       "\n",
       "-Bachelor's Degree\n",
       "\n",
       "Preferred Qualifications:\n",
       "\n",
       "- Master’s degree in Computer Science or Statistics\n",
       "Familiarity with major cloud platforms such as AWS and Azure\n",
       "Healthcare Industry Experience\n",
       "\n",
       "WE ARE AN EQUAL OPPORTUNITY EMPLOYER. Applicants and employees are considered for positions and are evaluated without regard to mental or physical disability, race, color, religion, gender, national origin, age, genetic information, military or veteran status, sexual orientation, marital status or any other protected Federal, State/Province or Local status unrelated to the performance of the work involved.\n",
       "\n",
       "If you have a disability under the Americans with Disability Act or a similar law, and want a reasonable accommodation to assist with your job search or application for employment, please contact us by sending an email to careers@Healthfirst.org or calling 212-519-1798 . In your email please include a description of the accommodation you are requesting and a description of the position for which you are applying. Only reasonable accommodation requests related to applying for a position within Healthfirst Management Services will be reviewed at the e-mail address and phone number supplied. Thank you for considering a career with Healthfirst Management Services.\n",
       "EEO Law Poster and Supplement\n",
       "\n",
       "]]&gt;                                                                                                                                                                                                                                                                                                                                                                                                                                                                                                                                                                                                                                                                                                                                                                                                                                                                                                                                                                                                                                                                                                                                                                                                                                                                                                                                                                                                                                                                                                                                                                                                                                                                                                                                                                                                                                                                                                                                                                                                                                                                                                                                                                                                                                                                                                                                                                                                                                                                                                                                                                                                                                                                                                                                                                                                                                                                                                                                                                                                                                                                                                                                                                                                                                                                                                                                                                                                                                                                                                                                                                                                                                                                                                                                                                                                                                                                                                                                                                                                                                                                                                                                                                                                                                                                                                                                                                                                                                                                                                                                                                                                                                                                                                                                                                                                                                                                                                                                                                                                                                                                                                                                                                                                                                                                                                                                                                                                                                                                                                                                                                                                                                      | 3.1 | Healthfirst        | New York, NY  | New York, NY           | 1001 to 5000 employees  | Nonprofit Organization  | Insurance Carriers                    | ⋯ | 27 | 0 | 0 | 0 | 0 | 1 | 0 | 0 | data scientist | senior |\n",
       "| 2 | Data Scientist    | 137-171  | Secure our Nation, Ignite your Future\n",
       "\n",
       "Join the top Information Technology and Analytic professionals in the industry to make invaluable contributions to our national security on a daily basis. In this innovative, self-contained, Big Data environment, the ManTech team is responsible for everything from infrastructure, to application development, to data science, to advanced analytics and beyond. The team is diverse, the questions are thought-provoking, and the opportunities for growth and advancement are numerous\n",
       "\n",
       "The successful candidate will possess a diverse range of data-focused skills and experience, both technical and analytical. They will have a strong desire and capability for problem solving, data analysis and troubleshooting, analytical thinking, and experimentation.\n",
       "\n",
       "Duties, Tasks &amp; Responsibilities\n",
       "Working with large, complex, and disparate data sets\n",
       "Designing and implementing innovative ways to analyze and exploit the Sponsors data holdings\n",
       "Researching and reporting on a wide variety of Sponsor inquiries\n",
       "Raising proactive inquiries to the Sponsor based on observations and proposed data analysis/exploitation\n",
       "Solving difficult, non-routine problems by applying advanced analytical methodologies, and improving analytic methodologies\n",
       "Developing custom searches\n",
       "Communicating and coordinating with internal and external partners as needed\n",
       "Required Experience, Skills, &amp; Technologies\n",
       "\n",
       "Thorough knowledge of appropriate analytic tools and methodologies in one or more of the following:\n",
       "Applied mathematics (e.g. probability and statistics, formal modeling, computational social sciences)\n",
       "Computer programming (e.g. programming languages, math/statistics packages, computer science, machine learning, scientific computing)\n",
       "Ability to code or script in one or more general programming language\n",
       "Experience with and theoretical understanding of algorithms for classification, regression, clustering, and anomaly detection\n",
       "Knowledge of relational databases, including SQL and large-scale distributed systems (e.g. Hadoop)\n",
       "Expertise with statistical data analysis (e.g. linear models, multivariate analysis, stochastic models, sampling methods)\n",
       "Demonstrated effectiveness in collecting information and accurately representing/visualizing it to non-technical third parties\n",
       "TS/SCI with Polygraph\n",
       "Bachelor of Science or equivalent and 12-15 years related experience, but will consider all levels of experience.\n",
       "Desired Experience, Skills &amp; Technologies\n",
       "Previous investigative experience using a combination of technical and analytic skills\n",
       "#LI-DU1\n",
       "\n",
       "ManTech International Corporation, as well as its subsidiaries proactively fulfills its role as an equal opportunity employer. We do not discriminate against any employee or applicant for employment because of race, color, sex, religion, age, sexual orientation, gender identity and expression, national origin, marital status, physical or mental disability, status as a Disabled Veteran, Recently Separated Veteran, Active Duty Wartime or Campaign Badge Veteran, Armed Forces Services Medal, or any other characteristic protected by law.\n",
       "\n",
       "If you require a reasonable accommodation to apply for a position with ManTech through its online applicant system, please contact ManTech's Corporate EEO Department at (703) 218-6000. ManTech is an affirmative action/equal opportunity employer - minorities, females, disabled and protected veterans are urged to apply. ManTech's utilization of any external recruitment or job placement agency is predicated upon its full compliance with our equal opportunity/affirmative action policies. ManTech does not accept resumes from unsolicited recruiting firms. We pay no fees for unsolicited services.\n",
       "\n",
       "If you are a qualified individual with a disability or a disabled veteran, you have the right to request an accommodation if you are unable or limited in your ability to use or access http://www.mantech.com/careers/Pages/careers.aspx as a result of your disability. To request an accommodation please click careers@mantech.com and provide your name and contact information.                                                                                                                                                                                                                                                                                                                                                                                                                                                                                                                                                                                                                                                                                                                                                                                                                                                                                                                                                                                                                                                                                                                                                                                                                                                                                                                                                                                                                                                                                                                                                                                                                                                                                                                                                                                                                                                                                                                                                                                                                                                                                                                                                                                                                                                                                                                                                                                                                                                                                                                                                                                                                                                                                                                                                                                                                                                                                                                                                                                                                                                                                                                                                                                                                                                                                                                                                                                                                                                                                                                                                                                                                                                                                                                                                                                                                                                                                                                                                                                                                                                                                                                                                                                                                                                                                                                                                                                                                                                                                                                                                                                                                                                                                                                                                                                                                                                                                                                               | 4.2 | ManTech            | Chantilly, VA | Herndon, VA            | 5001 to 10000 employees | Company - Public        | Research &amp; Development                | ⋯ | 52 | 0 | 0 | 1 | 0 | 0 | 0 | 1 | data scientist | na     |\n",
       "| 3 | Data Scientist    | 137-171  | Overview\n",
       "\n",
       "\n",
       "Analysis Group is one of the largest international economics consulting firms, with more than 1,000 professionals across 14 offices in North America, Europe, and Asia. Since 1981, we have provided expertise in economics, finance, health care analytics, and strategy to top law firms, Fortune Global 500 companies, and government agencies worldwide. Our internal experts, together with our network of affiliated experts from academia, industry, and government, offer our clients exceptional breadth and depth of expertise.\n",
       "\n",
       "We are currently seeking a Data Scientist to join our team. The ideal candidate should be passionate about working on cutting edge research and analytical services for Fortune 500 companies, global pharma/biotech firms and leaders in industries such as finance, energy and life sciences. The Data Scientist will be a contributing member to client engagements and have the opportunity to work with our network of world-class experts and thought leaders.\n",
       "\n",
       "Job Functions and Responsibilities\n",
       "\n",
       "The candidate Data Scientist will help develop, maintain and teach new tools and methodologies related to data science and high performance computing. This position will also help Analysis Group in maintaining our leadership position in terms of advancing methodology and data analytics. The Data Scientist will be responsible for staying abreast of new developments in technology relating to data science, to share more broadly with Analysis Group.\n",
       "\n",
       "Key responsibilities for this position will include:\n",
       "Working with project teams to address data science/computing challenges\n",
       "Identifying opportunities for technology to enhance service offerings\n",
       "Acting as a resource and participating in client engagements and research as part of the project team\n",
       "Maintaining up-to-date knowledge of computing tools, providing technical training and helping to grow the in-house knowledge base, specifically in a Linux environment\n",
       "Presenting research at selected conferences\n",
       "Examples of activities for the Data Scientist will include:\n",
       "Developing data engineering and machine learning production systems for full stack data science projects\n",
       "Using natural language processing methodologies to work with EMR data, social media data and other unstructured data\n",
       "Optimizing procedures for managing and accessing large databases (e.g., insurance claims, electronic health records, financial transactions)\n",
       "Creating interactive analytics portals and data visualizations (e.g., using R/Shiny, Python/Flask, D3)\n",
       "Building and maintaining high performance computing (HPC) tools on grid and cloud computing environments\n",
       "Developing and reviewing software and packages in R, Python and other Object Oriented Languages\n",
       "Establishing optimized procedures for repetitive or computationally intensive tasks (C, C++, Cuda-C)\n",
       "Qualifications\n",
       "Strong credentials and experience in database management and data visualization\n",
       "Significant experience working within a Linux environment required\n",
       "Background in Statistics/Econometrics or Biostatistics\n",
       "Ideally PhD in Computer Science, Mathematics, Statistics, Economics or other relevant scientific degree with relevant experience. Other candidates with at least one year of experience in the field may also be considered\n",
       "Excellent written and verbal communication skills\n",
       "Project experience with R and/or Python\n",
       "Familiar with online/cloud computing/storage (e.g., AWS)\n",
       "Demonstrated experience working on project teams and collaborating with others\n",
       "SCIENTIFIQUE DES DONNÉES\n",
       "\n",
       "*L’utilisation du genre masculin sert uniquement à alléger le texte et est utilisé ici en tant que genre neutre\n",
       "\n",
       "Survol\n",
       "\n",
       "Groupe d’analyse ltée est l’une des plus grandes firmes de services-conseils en économie, comptant plus de 950 professionnels répartis dans 14 bureaux en Amérique du Nord, en Europe et en Asie. Depuis 1981, nous offrons notre expertise en matière de stratégie, d’économie, de finance et d’analyse dans le domaine des soins de santé aux grands cabinets d’avocats, aux sociétés Fortune Global 500 et aux agences gouvernementales du monde entier. Nos professionnels en poste conjugués à notre réseau de spécialistes affiliés issus d’universités, d’industries spécifiques et d’organismes gouvernementaux procurent à notre clientèle un savoir-faire d’une portée et d’une profondeur exceptionnelles.\n",
       "\n",
       "Nous sommes présentement à la recherche d'un Scientifique des données (« Data Scientist ») pour se joindre à notre équipe. Le candidat idéal devrait être passionné par la recherche de pointe et les services analytiques pour les entreprises Fortune 500, les entreprises pharmaceutiques et biotechnologiques mondiales et les chefs de file dans des secteurs de la finance, l'énergie et les sciences de la vie. Le Scientifique des données sera un membre contributeur aux mandats des clients et aura l'occasion de travailler avec notre réseau d'experts et de leaders d'opinion de classe mondiale.\n",
       "\n",
       "Description du poste et des responsabilités\n",
       "\n",
       "Le scientifique des données aidera à développer, maintenir et enseigner de nouveaux outils et méthodologies liés à la science des données (« Data Science ») et au HPC. Ce poste aidera également le Groupe d'analyse à maintenir sa position de chef de file en ce qui a trait à l'avancement de la méthodologie et de l'analyse des données. Le scientifique des données sera chargé de se tenir au courant des nouveaux développements technologiques liés à la science des données, afin de les partager plus largement avec le Groupe d'analyse.\n",
       "\n",
       "Les principales responsabilités de ce poste comprendront:\n",
       "\n",
       "- Collaborer avec les consultants pour relever les défis de la science des données et de sciences informatiques\n",
       "\n",
       "- Agir à titre de ressource et participer aux mandats et à la recherche en tant que membre de l'équipe de projet\n",
       "\n",
       "- Maintenir à jour les connaissances sur les outils informatiques, fournir une formation technique et aider à développer la base de connaissances interne, notamment dans un environnement Linux\n",
       "\n",
       "- Présenter la recherche à des conférences choisies\n",
       "\n",
       "Exemples de tâches du scientifique des données :\n",
       "\n",
       "- Développement de systèmes de production en ingénierie des données ainsi qu’en apprentissage machine pour des projets de science des données full stack\n",
       "\n",
       "- Utiliser des méthodologies NLP pour travailler avec les données médicales électroniques, les données des médias sociaux et d'autres données non structures\n",
       "\n",
       "- Optimiser les procédures de gestion et d'accès aux grandes bases de données (ex. réclamations d'assurance, dossiers de santé électroniques, transactions financières)\n",
       "\n",
       "- Création de portails d'analyse interactifs et de visualisations de données (par exemple, en utilisant R/Shiny, Python/Flask, D3)\n",
       "\n",
       "- Construire et maintenir des outils de calcul de haute performance (HPC).\n",
       "\n",
       "- Développement et révision de codes en R, Python et autres langages\n",
       "\n",
       "- Mise en place de procédures optimisées pour les tâches répétitives ou intensives en calcul (C, C++, Cuda-C)\n",
       "\n",
       "Qualifications requises\n",
       "\n",
       "- Solides références et expérience dans la gestion de bases de données et de la visualisation de données\n",
       "\n",
       "- Expérience de travail significative dans un environnement Linux requise\n",
       "\n",
       "- Expérience antérieure en statistique/économétrie ou bio-statistique\n",
       "\n",
       "- Idéalement, être titulaire d'un doctorat en sciences informatiques, en mathématiques, en statistique, en économie ou d'un autre diplôme scientifique pertinent et posséder une expérience pertinente. Les candidats ayant au moins un an d'expérience dans le domaine peuvent également être considérés.\n",
       "\n",
       "- Excellentes aptitudes de communication écrite et verbale\n",
       "\n",
       "- Expérience de projet avec R et/ou Python\n",
       "\n",
       "- Familiarité avec l'informatique en ligne/info nuagique et le stockage (AWS)\n",
       "\n",
       "- Expérience de travail démontrée au sein d'équipes de projet et de collaboration avec d'autres personnes\n",
       "\n",
       "­\n",
       "Equal Opportunity Employer/Protected Veterans/Individuals with Disabilities.\n",
       "Please view Equal Employment Opportunity Posters provided by OFCCP here.\n",
       "The contractor will not discharge or in any other manner discriminate against employees or applicants because they have inquired about, discussed, or disclosed their own pay or the pay of another employee or applicant. However, employees who have access to the compensation information of other employees or applicants as a part of their essential job functions cannot disclose the pay of other employees or applicants to individuals who do not otherwise have access to compensation information, unless the disclosure is (a) in response to a formal complaint or charge, (b) in furtherance of an investigation, proceeding, hearing, or action, including an investigation conducted by the employer, or (c) consistent with the contractor's legal duty to furnish information. 41 CFR 60-1.35(c) | 3.8 | Analysis Group     | Boston, MA    | Boston, MA             | 1001 to 5000 employees  | Private Practice / Firm | Consulting                            | ⋯ | 39 | 1 | 1 | 0 | 0 | 1 | 0 | 0 | data scientist | na     |\n",
       "| 4 | Data Scientist    | 137-171  | JOB DESCRIPTION:\n",
       "\n",
       "Do you have a passion for Data and Machine Learning? Do you dream of working with customers on their most forward-looking AI initiatives? Does the challenge of developing modern machine learning solutions to solve real-world manufacturing problems exciting to you?\n",
       "\n",
       "We develop software for monitoring semiconductor manufacturing process and are looking to leverage the latest technologies to address our customer's needs. You will be part of a team that investigates and builds solutions based all the data available in factories, ranging from time series data, to post manufacturing data, to production logs. You will be working side by side with application developers and customers on real world problems with actual manufacturing data.\n",
       "\n",
       "JOB FUNCTION:\n",
       "\n",
       "Basic and applied research in statistical machine learning, deep learning, and data science as well as signal and information processing to advance the state of the art in time series analysis of semiconductor manufacturing data.\n",
       "\n",
       "Responsibilities:\n",
       "Perform data analysis, data pre-processing, and feature engineering in support of advanced machine learning algorithm development. Incorporate physical and operational insights/constraints into statistical models to achieve a high degree of robustness.\n",
       "Prototype algorithms for proof of concept, validation, and software implementation.\n",
       "Support performance evaluations and the transition of algorithms into existing fault detection and classification systems.\n",
       "Convey the results of scientific research to sponsors and the scientific community through briefings, conferences and peer-reviewed publications.\n",
       "Other related functions as assigned.\n",
       "\n",
       "REQUIRED QUALIFICATIONS:\n",
       "Bachelor's degree in computer science or chemical engineering or related technical field.\n",
       "Demonstrated ability in machine learning/artificial intelligence (ML/AI) development and/or scientific modelling and data analysis.\n",
       "Demonstrated ability with python/MATLAB or similar abstract language. Experience with both traditional ML and modern deep learning approaches.\n",
       "Experience with agile development practices and Git version control.\n",
       "Experience with one or more of the DNN frameworks like TensorFlow, PyTorch, Chainer.\n",
       "Experience with SQL, Graph stores, or NoSQL stores.\n",
       "Applicant must have a dynamic skill set, be willing to work with new technologies, be highly organized and capable of planning and coordinating multiple tasks. The position will require attention to detail, effective problem solving skills and excellent judgment. Ability to work independently with sensitive and confidential information, maintain a professional demeanor, work as a team member without daily supervision.\n",
       "\n",
       "COMPENSATION &amp; BENEFITS:\n",
       "\n",
       "Compensation will be commensurate with experience including a competitive base salary, bonus opportunity, competitive benefits package, and relocation assistance.\n",
       "\n",
       "INFICON, is committed to ensuring that our online application process provides an equal opportunity to all job seekers that apply without regard to race, religion, ethnicity, national origin, citizenship, gender, age, protected veteran status, disability status, genetic information, sexual orientation, or any other protected characteristic. A notice describing Federal equal employment opportunity laws is available here and here to reaffirm this commitment.\n",
       "\n",
       "PI120660357                                                                                                                                                                                                                                                                                                                                                                                                                                                                                                                                                                                                                                                                                                                                                                                                                                                                                                                                                                                                                                                                                                                                                                                                                                                                                                                                                                                                                                                                                                                                                                                                                                                                                                                                                                                                                                                                                                                                                                                                                                                                                                                                                                                                                                                                                                                                                                                                                                                                                                                                                                                                                                                                                                                                                                                                                                                                                                                                                                                                                                                                                                                                                                                                                                                                                                                                                                                                                                                                                                                                                                                                                                                                                                                                                                                                                                                                                                                                                                                                                                                                                                                                                                                                                                                                                                                                                                                                                                                                                                                                                                                                                                                                                                                                                                                                                                                                                                                                                                                                                                                                                                                                                                                                                                                                                                                                                                                                                                                                                                                                                                                                                                                                                        | 3.5 | INFICON            | Newton, MA    | Bad Ragaz, Switzerland | 501 to 1000 employees   | Company - Public        | Electrical &amp; Electronic Manufacturing | ⋯ | 20 | 1 | 1 | 0 | 0 | 1 | 0 | 0 | data scientist | na     |\n",
       "| 5 | Data Scientist    | 137-171  | Data Scientist\n",
       "Affinity Solutions / Marketing Cloud seeks smart, curious, technically savvy candidates to join our cutting-edge data science team. We hire the best and brightest and give them the opportunity to work on industry-leading technologies.\n",
       "The data sciences team at AFS/Marketing Cloud build models, machine learning algorithms that power all our ad-tech/mar-tech products at scale, develop methodology and tools to precisely and effectively measure market campaign effects, and research in-house and public data sources for consumer spend behavior insights. In this role, you'll have the opportunity to come up with new ideas and solutions that will lead to improvement of our ability to target the right audience, derive insights and provide better measurement methodology for marketing campaigns. You'll access our core data asset and machine learning infrastructure to power your ideas.\n",
       "Duties and Responsibilities\n",
       "· Support all clients model building needs, including maintaining and improving current modeling/scoring methodology and processes,\n",
       "· Provide innovative solutions to customized modeling/scoring/targeting with appropriate ML/statistical tools,\n",
       "· Provide analytical/statistical support such as marketing test design, projection, campaign measurement, market insights to clients and stakeholders.\n",
       "· Mine large consumer datasets in the cloud environment to support ad hoc business and statistical analysis,\n",
       "· Develop and Improve automation capabilities to enable customized delivery of the analytical products to clients,\n",
       "· Communicate the methodologies and the results to the management, clients and none technical stakeholders.\n",
       "Basic Qualifications\n",
       "· Advanced degree in Statistics/Mathematics/Computer Science/Economics or other fields that requires advanced training in data analytics.\n",
       "· Being able to apply basic statistical/ML concepts and reasoning to address and solve business problems such as targeting, test design, KPI projection and performance measurement.\n",
       "· Entrepreneurial, highly self-motivated, collaborative, keen attention to detail, willingness and capable learn quickly, and ability to effectively prioritize and execute tasks in a high pressure environment.\n",
       "· Being flexible to accept different task assignments and able to work on a tight time schedule.\n",
       "· Excellent command of one or more programming languages; preferably Python, SAS or R\n",
       "· Familiar with one of the database technologies such as PostgreSQL, MySQL, can write basic SQL queries\n",
       "· Great communication skills (verbal, written and presentation)\n",
       "Preferred Qualifications\n",
       "· Experience or exposure to large consumer and/or demographic data sets.\n",
       "· Familiarity with data manipulation and cleaning routines and techniques.                                                                                                                                                                                                                                                                                                                                                                                                                                                                                                                                                                                                                                                                                                                                                                                                                                                                                                                                                                                                                                                                                                                                                                                                                                                                                                                                                                                                                                                                                                                                                                                                                                                                                                                                                                                                                                                                                                                                                                                                                                                                                                                                                                                                                                                                                                                                                                                                                                                                                                                                                                                                                                                                                                                                                                                                                                                                                                                                                                                                                                                                                                                                                                                                                                                                                                                                                                                                                                                                                                                                                                                                                                                                                                                                                                                                                                                                                                                                                                                                                                                                                                                                                                                                                                                                                                                                                                                                                                                                                                                                                                                                                                                                                                                                                                                                                                                                                                                                                                                                                                                                                                                                                                                                                                                                                                                                                                                                                                                                                                                                                                                                                                                                                                                                                                                                                                                                                                                                                                                                                                                                                                                                                                                                                                                                                                                                                 | 2.9 | Affinity Solutions | New York, NY  | New York, NY           | 51 to 200 employees     | Company - Private       | Advertising &amp; Marketing               | ⋯ | 22 | 1 | 1 | 0 | 0 | 0 | 0 | 0 | data scientist | na     |\n",
       "\n"
      ],
      "text/plain": [
       "  Job.Title         Salary.Estimate\n",
       "1 Sr Data Scientist 137-171        \n",
       "2 Data Scientist    137-171        \n",
       "3 Data Scientist    137-171        \n",
       "4 Data Scientist    137-171        \n",
       "5 Data Scientist    137-171        \n",
       "  Job.Description                                                                                                                                                                                                                                                                                                                                                                                                                                                                                                                                                                                                                                                                                                                                                                                                                                                                                                                                                                                                                                                                                                                                                                                                                                                                                                                                                                                                                                                                                                                                                                                                                                                                                                                                                                                                                                                                                                                                                                                                                                                                                                                                                                                                                                                                                                                                                                                                                                                                                                                                                                                                                                                                                                                                                                                                                                                                                                                                                                                                                                                                                                                                                                                                                                                                                                                                                                                                                                                                                                                                                                                                                                                                                                                                                                                                                                                                                                                                                                                                                                                                                                                                                                                                                                                                                                                                                                                                                                                                                                                                                                                                                                                                                                                                                                                                                                                                                                                                                                                                                                                                                                                                                                                                                                                                                                                                                                                                                                                                                                                                                                                                                                                                                                                                                                                                                                                                                                                                                                                                                                                                                                                                                                                                                                                                                                                                                                                                                                                                                                                                                                                                                                                                                                                                                                                                                                                                                                                                                                                                                                                                                                                                                                                                                                                                                                                                                                                                                                                                                                                                                                                                                                                                                                                                                                                                                                                                                                                                                                                                                                                                                                                                                                                                                                                                                                                                                                                                                                                                                                                                                                                                                                                                                                                                                                                                                                                                                                                                                                                                                                                                                                                                                                                             \n",
       "1 Description\\n\\nThe Senior Data Scientist is responsible for defining, building, and improving statistical models to improve business processes and outcomes in one or more healthcare domains such as Clinical, Enrollment, Claims, and Finance. As part of the broader analytics team, Data Scientist will gather and analyze data to solve and address complex business problems and evaluate scenarios to make predictions on future outcomes and work with the business to communicate and support decision-making. This position requires strong analytical skills and experience in analytic methods including multivariate regressions, hierarchical linear models, regression trees, clustering methods and other complex statistical techniques.\\n\\nDuties & Responsibilities:\\n\\n• Develops advanced statistical models to predict, quantify or forecast various operational and performance metrics in multiple healthcare domains\\n• Investigates, recommends, and initiates acquisition of new data resources from internal and external sources\\n• Works with multiple teams to support data collection, integration, and retention requirements based on business needs\\n• Identifies critical and emerging technologies that will support and extend quantitative analytic capabilities\\n• Collaborates with business subject matter experts to select relevant sources of information\\n• Develops expertise with multiple machine learning algorithms and data science techniques, such as exploratory data analysis and predictive modeling, graph theory, recommender systems, text analytics and validation\\n• Develops expertise with Healthfirst datasets, data repositories, and data movement processes\\n• Assists on projects/requests and may lead specific tasks within the project scope\\n• Prepares and manipulates data for use in development of statistical models\\n• Other duties as assigned\\n\\nMinimum Qualifications:\\n\\n-Bachelor's Degree\\n\\nPreferred Qualifications:\\n\\n- Master’s degree in Computer Science or Statistics\\nFamiliarity with major cloud platforms such as AWS and Azure\\nHealthcare Industry Experience\\n\\nMinimum Qualifications:\\n\\n-Bachelor's Degree\\n\\nPreferred Qualifications:\\n\\n- Master’s degree in Computer Science or Statistics\\nFamiliarity with major cloud platforms such as AWS and Azure\\nHealthcare Industry Experience\\n\\nWE ARE AN EQUAL OPPORTUNITY EMPLOYER. Applicants and employees are considered for positions and are evaluated without regard to mental or physical disability, race, color, religion, gender, national origin, age, genetic information, military or veteran status, sexual orientation, marital status or any other protected Federal, State/Province or Local status unrelated to the performance of the work involved.\\n\\nIf you have a disability under the Americans with Disability Act or a similar law, and want a reasonable accommodation to assist with your job search or application for employment, please contact us by sending an email to careers@Healthfirst.org or calling 212-519-1798 . In your email please include a description of the accommodation you are requesting and a description of the position for which you are applying. Only reasonable accommodation requests related to applying for a position within Healthfirst Management Services will be reviewed at the e-mail address and phone number supplied. Thank you for considering a career with Healthfirst Management Services.\\nEEO Law Poster and Supplement\\n\\n]]>                                                                                                                                                                                                                                                                                                                                                                                                                                                                                                                                                                                                                                                                                                                                                                                                                                                                                                                                                                                                                                                                                                                                                                                                                                                                                                                                                                                                                                                                                                                                                                                                                                                                                                                                                                                                                                                                                                                                                                                                                                                                                                                                                                                                                                                                                                                                                                                                                                                                                                                                                                                                                                                                                                                                                                                                                                                                                                                                                                                                                                                                                                                                                                                                                                                                                                                                                                                                                                                                                                                                                                                                                                                                                                                                                                                                                                                                                                                                                                                                                                                                                                                                                                                                                                                                                                                                                                                                                                                                                                                                                                                                                                                                                                                                                                                                                                                                                                                                                                                                                                                                                                                                                                                                                                                                                                                                                                                                                                                                                                                                                                                                                                     \n",
       "2 Secure our Nation, Ignite your Future\\n\\nJoin the top Information Technology and Analytic professionals in the industry to make invaluable contributions to our national security on a daily basis. In this innovative, self-contained, Big Data environment, the ManTech team is responsible for everything from infrastructure, to application development, to data science, to advanced analytics and beyond. The team is diverse, the questions are thought-provoking, and the opportunities for growth and advancement are numerous\\n\\nThe successful candidate will possess a diverse range of data-focused skills and experience, both technical and analytical. They will have a strong desire and capability for problem solving, data analysis and troubleshooting, analytical thinking, and experimentation.\\n\\nDuties, Tasks & Responsibilities\\nWorking with large, complex, and disparate data sets\\nDesigning and implementing innovative ways to analyze and exploit the Sponsors data holdings\\nResearching and reporting on a wide variety of Sponsor inquiries\\nRaising proactive inquiries to the Sponsor based on observations and proposed data analysis/exploitation\\nSolving difficult, non-routine problems by applying advanced analytical methodologies, and improving analytic methodologies\\nDeveloping custom searches\\nCommunicating and coordinating with internal and external partners as needed\\nRequired Experience, Skills, & Technologies\\n\\nThorough knowledge of appropriate analytic tools and methodologies in one or more of the following:\\nApplied mathematics (e.g. probability and statistics, formal modeling, computational social sciences)\\nComputer programming (e.g. programming languages, math/statistics packages, computer science, machine learning, scientific computing)\\nAbility to code or script in one or more general programming language\\nExperience with and theoretical understanding of algorithms for classification, regression, clustering, and anomaly detection\\nKnowledge of relational databases, including SQL and large-scale distributed systems (e.g. Hadoop)\\nExpertise with statistical data analysis (e.g. linear models, multivariate analysis, stochastic models, sampling methods)\\nDemonstrated effectiveness in collecting information and accurately representing/visualizing it to non-technical third parties\\nTS/SCI with Polygraph\\nBachelor of Science or equivalent and 12-15 years related experience, but will consider all levels of experience.\\nDesired Experience, Skills & Technologies\\nPrevious investigative experience using a combination of technical and analytic skills\\n#LI-DU1\\n\\nManTech International Corporation, as well as its subsidiaries proactively fulfills its role as an equal opportunity employer. We do not discriminate against any employee or applicant for employment because of race, color, sex, religion, age, sexual orientation, gender identity and expression, national origin, marital status, physical or mental disability, status as a Disabled Veteran, Recently Separated Veteran, Active Duty Wartime or Campaign Badge Veteran, Armed Forces Services Medal, or any other characteristic protected by law.\\n\\nIf you require a reasonable accommodation to apply for a position with ManTech through its online applicant system, please contact ManTech's Corporate EEO Department at (703) 218-6000. ManTech is an affirmative action/equal opportunity employer - minorities, females, disabled and protected veterans are urged to apply. ManTech's utilization of any external recruitment or job placement agency is predicated upon its full compliance with our equal opportunity/affirmative action policies. ManTech does not accept resumes from unsolicited recruiting firms. We pay no fees for unsolicited services.\\n\\nIf you are a qualified individual with a disability or a disabled veteran, you have the right to request an accommodation if you are unable or limited in your ability to use or access http://www.mantech.com/careers/Pages/careers.aspx as a result of your disability. To request an accommodation please click careers@mantech.com and provide your name and contact information.                                                                                                                                                                                                                                                                                                                                                                                                                                                                                                                                                                                                                                                                                                                                                                                                                                                                                                                                                                                                                                                                                                                                                                                                                                                                                                                                                                                                                                                                                                                                                                                                                                                                                                                                                                                                                                                                                                                                                                                                                                                                                                                                                                                                                                                                                                                                                                                                                                                                                                                                                                                                                                                                                                                                                                                                                                                                                                                                                                                                                                                                                                                                                                                                                                                                                                                                                                                                                                                                                                                                                                                                                                                                                                                                                                                                                                                                                                                                                                                                                                                                                                                                                                                                                                                                                                                                                                                                                                                                                                                                                                                                                                                                                                                                                                                                                                                                                                                              \n",
       "3 Overview\\n\\n\\nAnalysis Group is one of the largest international economics consulting firms, with more than 1,000 professionals across 14 offices in North America, Europe, and Asia. Since 1981, we have provided expertise in economics, finance, health care analytics, and strategy to top law firms, Fortune Global 500 companies, and government agencies worldwide. Our internal experts, together with our network of affiliated experts from academia, industry, and government, offer our clients exceptional breadth and depth of expertise.\\n\\nWe are currently seeking a Data Scientist to join our team. The ideal candidate should be passionate about working on cutting edge research and analytical services for Fortune 500 companies, global pharma/biotech firms and leaders in industries such as finance, energy and life sciences. The Data Scientist will be a contributing member to client engagements and have the opportunity to work with our network of world-class experts and thought leaders.\\n\\nJob Functions and Responsibilities\\n\\nThe candidate Data Scientist will help develop, maintain and teach new tools and methodologies related to data science and high performance computing. This position will also help Analysis Group in maintaining our leadership position in terms of advancing methodology and data analytics. The Data Scientist will be responsible for staying abreast of new developments in technology relating to data science, to share more broadly with Analysis Group.\\n\\nKey responsibilities for this position will include:\\nWorking with project teams to address data science/computing challenges\\nIdentifying opportunities for technology to enhance service offerings\\nActing as a resource and participating in client engagements and research as part of the project team\\nMaintaining up-to-date knowledge of computing tools, providing technical training and helping to grow the in-house knowledge base, specifically in a Linux environment\\nPresenting research at selected conferences\\nExamples of activities for the Data Scientist will include:\\nDeveloping data engineering and machine learning production systems for full stack data science projects\\nUsing natural language processing methodologies to work with EMR data, social media data and other unstructured data\\nOptimizing procedures for managing and accessing large databases (e.g., insurance claims, electronic health records, financial transactions)\\nCreating interactive analytics portals and data visualizations (e.g., using R/Shiny, Python/Flask, D3)\\nBuilding and maintaining high performance computing (HPC) tools on grid and cloud computing environments\\nDeveloping and reviewing software and packages in R, Python and other Object Oriented Languages\\nEstablishing optimized procedures for repetitive or computationally intensive tasks (C, C++, Cuda-C)\\nQualifications\\nStrong credentials and experience in database management and data visualization\\nSignificant experience working within a Linux environment required\\nBackground in Statistics/Econometrics or Biostatistics\\nIdeally PhD in Computer Science, Mathematics, Statistics, Economics or other relevant scientific degree with relevant experience. Other candidates with at least one year of experience in the field may also be considered\\nExcellent written and verbal communication skills\\nProject experience with R and/or Python\\nFamiliar with online/cloud computing/storage (e.g., AWS)\\nDemonstrated experience working on project teams and collaborating with others\\nSCIENTIFIQUE DES DONNÉES\\n\\n*L’utilisation du genre masculin sert uniquement à alléger le texte et est utilisé ici en tant que genre neutre\\n\\nSurvol\\n\\nGroupe d’analyse ltée est l’une des plus grandes firmes de services-conseils en économie, comptant plus de 950 professionnels répartis dans 14 bureaux en Amérique du Nord, en Europe et en Asie. Depuis 1981, nous offrons notre expertise en matière de stratégie, d’économie, de finance et d’analyse dans le domaine des soins de santé aux grands cabinets d’avocats, aux sociétés Fortune Global 500 et aux agences gouvernementales du monde entier. Nos professionnels en poste conjugués à notre réseau de spécialistes affiliés issus d’universités, d’industries spécifiques et d’organismes gouvernementaux procurent à notre clientèle un savoir-faire d’une portée et d’une profondeur exceptionnelles.\\n\\nNous sommes présentement à la recherche d'un Scientifique des données (« Data Scientist ») pour se joindre à notre équipe. Le candidat idéal devrait être passionné par la recherche de pointe et les services analytiques pour les entreprises Fortune 500, les entreprises pharmaceutiques et biotechnologiques mondiales et les chefs de file dans des secteurs de la finance, l'énergie et les sciences de la vie. Le Scientifique des données sera un membre contributeur aux mandats des clients et aura l'occasion de travailler avec notre réseau d'experts et de leaders d'opinion de classe mondiale.\\n\\nDescription du poste et des responsabilités\\n\\nLe scientifique des données aidera à développer, maintenir et enseigner de nouveaux outils et méthodologies liés à la science des données (« Data Science ») et au HPC. Ce poste aidera également le Groupe d'analyse à maintenir sa position de chef de file en ce qui a trait à l'avancement de la méthodologie et de l'analyse des données. Le scientifique des données sera chargé de se tenir au courant des nouveaux développements technologiques liés à la science des données, afin de les partager plus largement avec le Groupe d'analyse.\\n\\nLes principales responsabilités de ce poste comprendront:\\n\\n- Collaborer avec les consultants pour relever les défis de la science des données et de sciences informatiques\\n\\n- Agir à titre de ressource et participer aux mandats et à la recherche en tant que membre de l'équipe de projet\\n\\n- Maintenir à jour les connaissances sur les outils informatiques, fournir une formation technique et aider à développer la base de connaissances interne, notamment dans un environnement Linux\\n\\n- Présenter la recherche à des conférences choisies\\n\\nExemples de tâches du scientifique des données :\\n\\n- Développement de systèmes de production en ingénierie des données ainsi qu’en apprentissage machine pour des projets de science des données full stack\\n\\n- Utiliser des méthodologies NLP pour travailler avec les données médicales électroniques, les données des médias sociaux et d'autres données non structures\\n\\n- Optimiser les procédures de gestion et d'accès aux grandes bases de données (ex. réclamations d'assurance, dossiers de santé électroniques, transactions financières)\\n\\n- Création de portails d'analyse interactifs et de visualisations de données (par exemple, en utilisant R/Shiny, Python/Flask, D3)\\n\\n- Construire et maintenir des outils de calcul de haute performance (HPC).\\n\\n- Développement et révision de codes en R, Python et autres langages\\n\\n- Mise en place de procédures optimisées pour les tâches répétitives ou intensives en calcul (C, C++, Cuda-C)\\n\\nQualifications requises\\n\\n- Solides références et expérience dans la gestion de bases de données et de la visualisation de données\\n\\n- Expérience de travail significative dans un environnement Linux requise\\n\\n- Expérience antérieure en statistique/économétrie ou bio-statistique\\n\\n- Idéalement, être titulaire d'un doctorat en sciences informatiques, en mathématiques, en statistique, en économie ou d'un autre diplôme scientifique pertinent et posséder une expérience pertinente. Les candidats ayant au moins un an d'expérience dans le domaine peuvent également être considérés.\\n\\n- Excellentes aptitudes de communication écrite et verbale\\n\\n- Expérience de projet avec R et/ou Python\\n\\n- Familiarité avec l'informatique en ligne/info nuagique et le stockage (AWS)\\n\\n- Expérience de travail démontrée au sein d'équipes de projet et de collaboration avec d'autres personnes\\n\\n­\\nEqual Opportunity Employer/Protected Veterans/Individuals with Disabilities.\\nPlease view Equal Employment Opportunity Posters provided by OFCCP here.\\nThe contractor will not discharge or in any other manner discriminate against employees or applicants because they have inquired about, discussed, or disclosed their own pay or the pay of another employee or applicant. However, employees who have access to the compensation information of other employees or applicants as a part of their essential job functions cannot disclose the pay of other employees or applicants to individuals who do not otherwise have access to compensation information, unless the disclosure is (a) in response to a formal complaint or charge, (b) in furtherance of an investigation, proceeding, hearing, or action, including an investigation conducted by the employer, or (c) consistent with the contractor's legal duty to furnish information. 41 CFR 60-1.35(c)\n",
       "4 JOB DESCRIPTION:\\n\\nDo you have a passion for Data and Machine Learning? Do you dream of working with customers on their most forward-looking AI initiatives? Does the challenge of developing modern machine learning solutions to solve real-world manufacturing problems exciting to you?\\n\\nWe develop software for monitoring semiconductor manufacturing process and are looking to leverage the latest technologies to address our customer's needs. You will be part of a team that investigates and builds solutions based all the data available in factories, ranging from time series data, to post manufacturing data, to production logs. You will be working side by side with application developers and customers on real world problems with actual manufacturing data.\\n\\nJOB FUNCTION:\\n\\nBasic and applied research in statistical machine learning, deep learning, and data science as well as signal and information processing to advance the state of the art in time series analysis of semiconductor manufacturing data.\\n\\nResponsibilities:\\nPerform data analysis, data pre-processing, and feature engineering in support of advanced machine learning algorithm development. Incorporate physical and operational insights/constraints into statistical models to achieve a high degree of robustness.\\nPrototype algorithms for proof of concept, validation, and software implementation.\\nSupport performance evaluations and the transition of algorithms into existing fault detection and classification systems.\\nConvey the results of scientific research to sponsors and the scientific community through briefings, conferences and peer-reviewed publications.\\nOther related functions as assigned.\\n\\nREQUIRED QUALIFICATIONS:\\nBachelor's degree in computer science or chemical engineering or related technical field.\\nDemonstrated ability in machine learning/artificial intelligence (ML/AI) development and/or scientific modelling and data analysis.\\nDemonstrated ability with python/MATLAB or similar abstract language. Experience with both traditional ML and modern deep learning approaches.\\nExperience with agile development practices and Git version control.\\nExperience with one or more of the DNN frameworks like TensorFlow, PyTorch, Chainer.\\nExperience with SQL, Graph stores, or NoSQL stores.\\nApplicant must have a dynamic skill set, be willing to work with new technologies, be highly organized and capable of planning and coordinating multiple tasks. The position will require attention to detail, effective problem solving skills and excellent judgment. Ability to work independently with sensitive and confidential information, maintain a professional demeanor, work as a team member without daily supervision.\\n\\nCOMPENSATION & BENEFITS:\\n\\nCompensation will be commensurate with experience including a competitive base salary, bonus opportunity, competitive benefits package, and relocation assistance.\\n\\nINFICON, is committed to ensuring that our online application process provides an equal opportunity to all job seekers that apply without regard to race, religion, ethnicity, national origin, citizenship, gender, age, protected veteran status, disability status, genetic information, sexual orientation, or any other protected characteristic. A notice describing Federal equal employment opportunity laws is available here and here to reaffirm this commitment.\\n\\nPI120660357                                                                                                                                                                                                                                                                                                                                                                                                                                                                                                                                                                                                                                                                                                                                                                                                                                                                                                                                                                                                                                                                                                                                                                                                                                                                                                                                                                                                                                                                                                                                                                                                                                                                                                                                                                                                                                                                                                                                                                                                                                                                                                                                                                                                                                                                                                                                                                                                                                                                                                                                                                                                                                                                                                                                                                                                                                                                                                                                                                                                                                                                                                                                                                                                                                                                                                                                                                                                                                                                                                                                                                                                                                                                                                                                                                                                                                                                                                                                                                                                                                                                                                                                                                                                                                                                                                                                                                                                                                                                                                                                                                                                                                                                                                                                                                                                                                                                                                                                                                                                                                                                                                                                                                                                                                                                                                                                                                                                                                                                                                                                                                                                                                                                                       \n",
       "5 Data Scientist\\nAffinity Solutions / Marketing Cloud seeks smart, curious, technically savvy candidates to join our cutting-edge data science team. We hire the best and brightest and give them the opportunity to work on industry-leading technologies.\\nThe data sciences team at AFS/Marketing Cloud build models, machine learning algorithms that power all our ad-tech/mar-tech products at scale, develop methodology and tools to precisely and effectively measure market campaign effects, and research in-house and public data sources for consumer spend behavior insights. In this role, you'll have the opportunity to come up with new ideas and solutions that will lead to improvement of our ability to target the right audience, derive insights and provide better measurement methodology for marketing campaigns. You'll access our core data asset and machine learning infrastructure to power your ideas.\\nDuties and Responsibilities\\n· Support all clients model building needs, including maintaining and improving current modeling/scoring methodology and processes,\\n· Provide innovative solutions to customized modeling/scoring/targeting with appropriate ML/statistical tools,\\n· Provide analytical/statistical support such as marketing test design, projection, campaign measurement, market insights to clients and stakeholders.\\n· Mine large consumer datasets in the cloud environment to support ad hoc business and statistical analysis,\\n· Develop and Improve automation capabilities to enable customized delivery of the analytical products to clients,\\n· Communicate the methodologies and the results to the management, clients and none technical stakeholders.\\nBasic Qualifications\\n· Advanced degree in Statistics/Mathematics/Computer Science/Economics or other fields that requires advanced training in data analytics.\\n· Being able to apply basic statistical/ML concepts and reasoning to address and solve business problems such as targeting, test design, KPI projection and performance measurement.\\n· Entrepreneurial, highly self-motivated, collaborative, keen attention to detail, willingness and capable learn quickly, and ability to effectively prioritize and execute tasks in a high pressure environment.\\n· Being flexible to accept different task assignments and able to work on a tight time schedule.\\n· Excellent command of one or more programming languages; preferably Python, SAS or R\\n· Familiar with one of the database technologies such as PostgreSQL, MySQL, can write basic SQL queries\\n· Great communication skills (verbal, written and presentation)\\nPreferred Qualifications\\n· Experience or exposure to large consumer and/or demographic data sets.\\n· Familiarity with data manipulation and cleaning routines and techniques.                                                                                                                                                                                                                                                                                                                                                                                                                                                                                                                                                                                                                                                                                                                                                                                                                                                                                                                                                                                                                                                                                                                                                                                                                                                                                                                                                                                                                                                                                                                                                                                                                                                                                                                                                                                                                                                                                                                                                                                                                                                                                                                                                                                                                                                                                                                                                                                                                                                                                                                                                                                                                                                                                                                                                                                                                                                                                                                                                                                                                                                                                                                                                                                                                                                                                                                                                                                                                                                                                                                                                                                                                                                                                                                                                                                                                                                                                                                                                                                                                                                                                                                                                                                                                                                                                                                                                                                                                                                                                                                                                                                                                                                                                                                                                                                                                                                                                                                                                                                                                                                                                                                                                                                                                                                                                                                                                                                                                                                                                                                                                                                                                                                                                                                                                                                                                                                                                                                                                                                                                                                                                                                                                                                                                                                                                                                                                \n",
       "  Rating Company.Name       Location      Headquarters          \n",
       "1 3.1    Healthfirst        New York, NY  New York, NY          \n",
       "2 4.2    ManTech            Chantilly, VA Herndon, VA           \n",
       "3 3.8    Analysis Group     Boston, MA    Boston, MA            \n",
       "4 3.5    INFICON            Newton, MA    Bad Ragaz, Switzerland\n",
       "5 2.9    Affinity Solutions New York, NY  New York, NY          \n",
       "  Size                    Type.of.ownership      \n",
       "1 1001 to 5000 employees  Nonprofit Organization \n",
       "2 5001 to 10000 employees Company - Public       \n",
       "3 1001 to 5000 employees  Private Practice / Firm\n",
       "4 501 to 1000 employees   Company - Public       \n",
       "5 51 to 200 employees     Company - Private      \n",
       "  Industry                              ⋯ company_age python excel hadoop spark\n",
       "1 Insurance Carriers                    ⋯ 27          0      0     0      0    \n",
       "2 Research & Development                ⋯ 52          0      0     1      0    \n",
       "3 Consulting                            ⋯ 39          1      1     0      0    \n",
       "4 Electrical & Electronic Manufacturing ⋯ 20          1      1     0      0    \n",
       "5 Advertising & Marketing               ⋯ 22          1      1     0      0    \n",
       "  aws tableau big_data job_simp       seniority\n",
       "1 1   0       0        data scientist senior   \n",
       "2 0   0       1        data scientist na       \n",
       "3 1   0       0        data scientist na       \n",
       "4 1   0       0        data scientist na       \n",
       "5 0   0       0        data scientist na       "
      ]
     },
     "metadata": {},
     "output_type": "display_data"
    }
   ],
   "source": [
    "df <- read.csv(\"Cleaned_DS_Jobs.csv\", header=TRUE)\n",
    "\n",
    "head(df, 5)"
   ]
  },
  {
   "cell_type": "code",
   "execution_count": 39,
   "metadata": {
    "vscode": {
     "languageId": "r"
    }
   },
   "outputs": [
    {
     "data": {
      "text/html": [
       "<table class=\"dataframe\">\n",
       "<caption>A data.frame: 23 × 2</caption>\n",
       "<thead>\n",
       "\t<tr><th></th><th scope=col>Var1</th><th scope=col>Freq</th></tr>\n",
       "\t<tr><th></th><th scope=col>&lt;fct&gt;</th><th scope=col>&lt;int&gt;</th></tr>\n",
       "</thead>\n",
       "<tbody>\n",
       "\t<tr><th scope=row>13</th><td>Information Technology            </td><td>178</td></tr>\n",
       "\t<tr><th scope=row>6</th><td>Business Services                 </td><td>120</td></tr>\n",
       "\t<tr><th scope=row>1</th><td>-1                                </td><td> 71</td></tr>\n",
       "\t<tr><th scope=row>5</th><td><span style=white-space:pre-wrap>Biotech &amp; Pharmaceuticals         </span></td><td> 66</td></tr>\n",
       "\t<tr><th scope=row>3</th><td><span style=white-space:pre-wrap>Aerospace &amp; Defense               </span></td><td> 46</td></tr>\n",
       "\t<tr><th scope=row>14</th><td>Insurance                         </td><td> 32</td></tr>\n",
       "\t<tr><th scope=row>10</th><td>Finance                           </td><td> 31</td></tr>\n",
       "\t<tr><th scope=row>15</th><td>Manufacturing                     </td><td> 23</td></tr>\n",
       "\t<tr><th scope=row>12</th><td>Health Care                       </td><td> 21</td></tr>\n",
       "\t<tr><th scope=row>11</th><td>Government                        </td><td> 17</td></tr>\n",
       "\t<tr><th scope=row>18</th><td><span style=white-space:pre-wrap>Oil, Gas, Energy &amp; Utilities      </span></td><td> 10</td></tr>\n",
       "\t<tr><th scope=row>20</th><td>Retail                            </td><td>  7</td></tr>\n",
       "\t<tr><th scope=row>21</th><td>Telecommunications                </td><td>  7</td></tr>\n",
       "\t<tr><th scope=row>22</th><td><span style=white-space:pre-wrap>Transportation &amp; Logistics        </span></td><td><span style=white-space:pre-wrap>  6</span></td></tr>\n",
       "\t<tr><th scope=row>16</th><td>Media                             </td><td>  5</td></tr>\n",
       "\t<tr><th scope=row>2</th><td><span style=white-space:pre-wrap>Accounting &amp; Legal                </span></td><td><span style=white-space:pre-wrap>  3</span></td></tr>\n",
       "\t<tr><th scope=row>4</th><td><span style=white-space:pre-wrap>Agriculture &amp; Forestry            </span></td><td><span style=white-space:pre-wrap>  3</span></td></tr>\n",
       "\t<tr><th scope=row>9</th><td>Education                         </td><td>  3</td></tr>\n",
       "\t<tr><th scope=row>19</th><td>Real Estate                       </td><td>  3</td></tr>\n",
       "\t<tr><th scope=row>23</th><td><span style=white-space:pre-wrap>Travel &amp; Tourism                  </span></td><td><span style=white-space:pre-wrap>  3</span></td></tr>\n",
       "\t<tr><th scope=row>7</th><td>Construction, Repair &amp; Maintenance</td><td><span style=white-space:pre-wrap>  2</span></td></tr>\n",
       "\t<tr><th scope=row>8</th><td>Consumer Services                 </td><td>  2</td></tr>\n",
       "\t<tr><th scope=row>17</th><td>Non-Profit                        </td><td>  1</td></tr>\n",
       "</tbody>\n",
       "</table>\n"
      ],
      "text/latex": [
       "A data.frame: 23 × 2\n",
       "\\begin{tabular}{r|ll}\n",
       "  & Var1 & Freq\\\\\n",
       "  & <fct> & <int>\\\\\n",
       "\\hline\n",
       "\t13 & Information Technology             & 178\\\\\n",
       "\t6 & Business Services                  & 120\\\\\n",
       "\t1 & -1                                 &  71\\\\\n",
       "\t5 & Biotech \\& Pharmaceuticals          &  66\\\\\n",
       "\t3 & Aerospace \\& Defense                &  46\\\\\n",
       "\t14 & Insurance                          &  32\\\\\n",
       "\t10 & Finance                            &  31\\\\\n",
       "\t15 & Manufacturing                      &  23\\\\\n",
       "\t12 & Health Care                        &  21\\\\\n",
       "\t11 & Government                         &  17\\\\\n",
       "\t18 & Oil, Gas, Energy \\& Utilities       &  10\\\\\n",
       "\t20 & Retail                             &   7\\\\\n",
       "\t21 & Telecommunications                 &   7\\\\\n",
       "\t22 & Transportation \\& Logistics         &   6\\\\\n",
       "\t16 & Media                              &   5\\\\\n",
       "\t2 & Accounting \\& Legal                 &   3\\\\\n",
       "\t4 & Agriculture \\& Forestry             &   3\\\\\n",
       "\t9 & Education                          &   3\\\\\n",
       "\t19 & Real Estate                        &   3\\\\\n",
       "\t23 & Travel \\& Tourism                   &   3\\\\\n",
       "\t7 & Construction, Repair \\& Maintenance &   2\\\\\n",
       "\t8 & Consumer Services                  &   2\\\\\n",
       "\t17 & Non-Profit                         &   1\\\\\n",
       "\\end{tabular}\n"
      ],
      "text/markdown": [
       "\n",
       "A data.frame: 23 × 2\n",
       "\n",
       "| <!--/--> | Var1 &lt;fct&gt; | Freq &lt;int&gt; |\n",
       "|---|---|---|\n",
       "| 13 | Information Technology             | 178 |\n",
       "| 6 | Business Services                  | 120 |\n",
       "| 1 | -1                                 |  71 |\n",
       "| 5 | Biotech &amp; Pharmaceuticals          |  66 |\n",
       "| 3 | Aerospace &amp; Defense                |  46 |\n",
       "| 14 | Insurance                          |  32 |\n",
       "| 10 | Finance                            |  31 |\n",
       "| 15 | Manufacturing                      |  23 |\n",
       "| 12 | Health Care                        |  21 |\n",
       "| 11 | Government                         |  17 |\n",
       "| 18 | Oil, Gas, Energy &amp; Utilities       |  10 |\n",
       "| 20 | Retail                             |   7 |\n",
       "| 21 | Telecommunications                 |   7 |\n",
       "| 22 | Transportation &amp; Logistics         |   6 |\n",
       "| 16 | Media                              |   5 |\n",
       "| 2 | Accounting &amp; Legal                 |   3 |\n",
       "| 4 | Agriculture &amp; Forestry             |   3 |\n",
       "| 9 | Education                          |   3 |\n",
       "| 19 | Real Estate                        |   3 |\n",
       "| 23 | Travel &amp; Tourism                   |   3 |\n",
       "| 7 | Construction, Repair &amp; Maintenance |   2 |\n",
       "| 8 | Consumer Services                  |   2 |\n",
       "| 17 | Non-Profit                         |   1 |\n",
       "\n"
      ],
      "text/plain": [
       "   Var1                               Freq\n",
       "13 Information Technology             178 \n",
       "6  Business Services                  120 \n",
       "1  -1                                  71 \n",
       "5  Biotech & Pharmaceuticals           66 \n",
       "3  Aerospace & Defense                 46 \n",
       "14 Insurance                           32 \n",
       "10 Finance                             31 \n",
       "15 Manufacturing                       23 \n",
       "12 Health Care                         21 \n",
       "11 Government                          17 \n",
       "18 Oil, Gas, Energy & Utilities        10 \n",
       "20 Retail                               7 \n",
       "21 Telecommunications                   7 \n",
       "22 Transportation & Logistics           6 \n",
       "16 Media                                5 \n",
       "2  Accounting & Legal                   3 \n",
       "4  Agriculture & Forestry               3 \n",
       "9  Education                            3 \n",
       "19 Real Estate                          3 \n",
       "23 Travel & Tourism                     3 \n",
       "7  Construction, Repair & Maintenance   2 \n",
       "8  Consumer Services                    2 \n",
       "17 Non-Profit                           1 "
      ]
     },
     "metadata": {},
     "output_type": "display_data"
    }
   ],
   "source": [
    "sector <- as.data.frame(table(df$Sector))\n",
    "sector <- sector[order(sector$Freq, decreasing=TRUE),]\n",
    "sector"
   ]
  },
  {
   "cell_type": "markdown",
   "metadata": {},
   "source": [
    "### Drop the row with Sector -1"
   ]
  },
  {
   "cell_type": "code",
   "execution_count": 40,
   "metadata": {
    "vscode": {
     "languageId": "r"
    }
   },
   "outputs": [
    {
     "data": {
      "text/html": [
       "<table class=\"dataframe\">\n",
       "<caption>A data.frame: 22 × 2</caption>\n",
       "<thead>\n",
       "\t<tr><th></th><th scope=col>Var1</th><th scope=col>Freq</th></tr>\n",
       "\t<tr><th></th><th scope=col>&lt;fct&gt;</th><th scope=col>&lt;int&gt;</th></tr>\n",
       "</thead>\n",
       "<tbody>\n",
       "\t<tr><th scope=row>12</th><td>Information Technology            </td><td>178</td></tr>\n",
       "\t<tr><th scope=row>5</th><td>Business Services                 </td><td>120</td></tr>\n",
       "\t<tr><th scope=row>4</th><td><span style=white-space:pre-wrap>Biotech &amp; Pharmaceuticals         </span></td><td> 66</td></tr>\n",
       "\t<tr><th scope=row>2</th><td><span style=white-space:pre-wrap>Aerospace &amp; Defense               </span></td><td> 46</td></tr>\n",
       "\t<tr><th scope=row>13</th><td>Insurance                         </td><td> 32</td></tr>\n",
       "\t<tr><th scope=row>9</th><td>Finance                           </td><td> 31</td></tr>\n",
       "\t<tr><th scope=row>14</th><td>Manufacturing                     </td><td> 23</td></tr>\n",
       "\t<tr><th scope=row>11</th><td>Health Care                       </td><td> 21</td></tr>\n",
       "\t<tr><th scope=row>10</th><td>Government                        </td><td> 17</td></tr>\n",
       "\t<tr><th scope=row>17</th><td><span style=white-space:pre-wrap>Oil, Gas, Energy &amp; Utilities      </span></td><td> 10</td></tr>\n",
       "\t<tr><th scope=row>19</th><td>Retail                            </td><td>  7</td></tr>\n",
       "\t<tr><th scope=row>20</th><td>Telecommunications                </td><td>  7</td></tr>\n",
       "\t<tr><th scope=row>21</th><td><span style=white-space:pre-wrap>Transportation &amp; Logistics        </span></td><td><span style=white-space:pre-wrap>  6</span></td></tr>\n",
       "\t<tr><th scope=row>15</th><td>Media                             </td><td>  5</td></tr>\n",
       "\t<tr><th scope=row>1</th><td><span style=white-space:pre-wrap>Accounting &amp; Legal                </span></td><td><span style=white-space:pre-wrap>  3</span></td></tr>\n",
       "\t<tr><th scope=row>3</th><td><span style=white-space:pre-wrap>Agriculture &amp; Forestry            </span></td><td><span style=white-space:pre-wrap>  3</span></td></tr>\n",
       "\t<tr><th scope=row>8</th><td>Education                         </td><td>  3</td></tr>\n",
       "\t<tr><th scope=row>18</th><td>Real Estate                       </td><td>  3</td></tr>\n",
       "\t<tr><th scope=row>22</th><td><span style=white-space:pre-wrap>Travel &amp; Tourism                  </span></td><td><span style=white-space:pre-wrap>  3</span></td></tr>\n",
       "\t<tr><th scope=row>6</th><td>Construction, Repair &amp; Maintenance</td><td><span style=white-space:pre-wrap>  2</span></td></tr>\n",
       "\t<tr><th scope=row>7</th><td>Consumer Services                 </td><td>  2</td></tr>\n",
       "\t<tr><th scope=row>16</th><td>Non-Profit                        </td><td>  1</td></tr>\n",
       "</tbody>\n",
       "</table>\n"
      ],
      "text/latex": [
       "A data.frame: 22 × 2\n",
       "\\begin{tabular}{r|ll}\n",
       "  & Var1 & Freq\\\\\n",
       "  & <fct> & <int>\\\\\n",
       "\\hline\n",
       "\t12 & Information Technology             & 178\\\\\n",
       "\t5 & Business Services                  & 120\\\\\n",
       "\t4 & Biotech \\& Pharmaceuticals          &  66\\\\\n",
       "\t2 & Aerospace \\& Defense                &  46\\\\\n",
       "\t13 & Insurance                          &  32\\\\\n",
       "\t9 & Finance                            &  31\\\\\n",
       "\t14 & Manufacturing                      &  23\\\\\n",
       "\t11 & Health Care                        &  21\\\\\n",
       "\t10 & Government                         &  17\\\\\n",
       "\t17 & Oil, Gas, Energy \\& Utilities       &  10\\\\\n",
       "\t19 & Retail                             &   7\\\\\n",
       "\t20 & Telecommunications                 &   7\\\\\n",
       "\t21 & Transportation \\& Logistics         &   6\\\\\n",
       "\t15 & Media                              &   5\\\\\n",
       "\t1 & Accounting \\& Legal                 &   3\\\\\n",
       "\t3 & Agriculture \\& Forestry             &   3\\\\\n",
       "\t8 & Education                          &   3\\\\\n",
       "\t18 & Real Estate                        &   3\\\\\n",
       "\t22 & Travel \\& Tourism                   &   3\\\\\n",
       "\t6 & Construction, Repair \\& Maintenance &   2\\\\\n",
       "\t7 & Consumer Services                  &   2\\\\\n",
       "\t16 & Non-Profit                         &   1\\\\\n",
       "\\end{tabular}\n"
      ],
      "text/markdown": [
       "\n",
       "A data.frame: 22 × 2\n",
       "\n",
       "| <!--/--> | Var1 &lt;fct&gt; | Freq &lt;int&gt; |\n",
       "|---|---|---|\n",
       "| 12 | Information Technology             | 178 |\n",
       "| 5 | Business Services                  | 120 |\n",
       "| 4 | Biotech &amp; Pharmaceuticals          |  66 |\n",
       "| 2 | Aerospace &amp; Defense                |  46 |\n",
       "| 13 | Insurance                          |  32 |\n",
       "| 9 | Finance                            |  31 |\n",
       "| 14 | Manufacturing                      |  23 |\n",
       "| 11 | Health Care                        |  21 |\n",
       "| 10 | Government                         |  17 |\n",
       "| 17 | Oil, Gas, Energy &amp; Utilities       |  10 |\n",
       "| 19 | Retail                             |   7 |\n",
       "| 20 | Telecommunications                 |   7 |\n",
       "| 21 | Transportation &amp; Logistics         |   6 |\n",
       "| 15 | Media                              |   5 |\n",
       "| 1 | Accounting &amp; Legal                 |   3 |\n",
       "| 3 | Agriculture &amp; Forestry             |   3 |\n",
       "| 8 | Education                          |   3 |\n",
       "| 18 | Real Estate                        |   3 |\n",
       "| 22 | Travel &amp; Tourism                   |   3 |\n",
       "| 6 | Construction, Repair &amp; Maintenance |   2 |\n",
       "| 7 | Consumer Services                  |   2 |\n",
       "| 16 | Non-Profit                         |   1 |\n",
       "\n"
      ],
      "text/plain": [
       "   Var1                               Freq\n",
       "12 Information Technology             178 \n",
       "5  Business Services                  120 \n",
       "4  Biotech & Pharmaceuticals           66 \n",
       "2  Aerospace & Defense                 46 \n",
       "13 Insurance                           32 \n",
       "9  Finance                             31 \n",
       "14 Manufacturing                       23 \n",
       "11 Health Care                         21 \n",
       "10 Government                          17 \n",
       "17 Oil, Gas, Energy & Utilities        10 \n",
       "19 Retail                               7 \n",
       "20 Telecommunications                   7 \n",
       "21 Transportation & Logistics           6 \n",
       "15 Media                                5 \n",
       "1  Accounting & Legal                   3 \n",
       "3  Agriculture & Forestry               3 \n",
       "8  Education                            3 \n",
       "18 Real Estate                          3 \n",
       "22 Travel & Tourism                     3 \n",
       "6  Construction, Repair & Maintenance   2 \n",
       "7  Consumer Services                    2 \n",
       "16 Non-Profit                           1 "
      ]
     },
     "metadata": {},
     "output_type": "display_data"
    }
   ],
   "source": [
    "df <- subset(df, Sector != \"-1\")\n",
    "\n",
    "sector <- as.data.frame(table(df$Sector))\n",
    "sector <- sector[order(sector$Freq, decreasing=TRUE), ]\n",
    "sector"
   ]
  },
  {
   "cell_type": "code",
   "execution_count": 41,
   "metadata": {
    "vscode": {
     "languageId": "r"
    }
   },
   "outputs": [
    {
     "name": "stdout",
     "output_type": "stream",
     "text": [
      " [1] \"Job.Title\"         \"Salary.Estimate\"   \"Job.Description\"  \n",
      " [4] \"Rating\"            \"Company.Name\"      \"Location\"         \n",
      " [7] \"Headquarters\"      \"Size\"              \"Type.of.ownership\"\n",
      "[10] \"Industry\"          \"Sector\"            \"Revenue\"          \n",
      "[13] \"min_salary\"        \"max_salary\"        \"avg_salary\"       \n",
      "[16] \"job_state\"         \"same_state\"        \"company_age\"      \n",
      "[19] \"python\"            \"excel\"             \"hadoop\"           \n",
      "[22] \"spark\"             \"aws\"               \"tableau\"          \n",
      "[25] \"big_data\"          \"job_simp\"          \"seniority\"        \n"
     ]
    }
   ],
   "source": [
    "# Get the column names\n",
    "column_names <- colnames(df)\n",
    "\n",
    "# Print the column names\n",
    "print(column_names)"
   ]
  },
  {
   "cell_type": "markdown",
   "metadata": {},
   "source": [
    "Normality Test"
   ]
  },
  {
   "cell_type": "code",
   "execution_count": 42,
   "metadata": {
    "vscode": {
     "languageId": "r"
    }
   },
   "outputs": [
    {
     "data": {
      "image/png": "[encoded data removed]",
      "text/plain": [
       "Plot with title \"Normal Q-Q Plot\""
      ]
     },
     "metadata": {
      "image/png": {
       "height": 420,
       "width": 420
      }
     },
     "output_type": "display_data"
    }
   ],
   "source": [
    "sector_numeric <- sector$Freq  # Extract the numeric column\n",
    "qqnorm(sector_numeric)\n",
    "qqline(sector_numeric)"
   ]
  },
  {
   "cell_type": "code",
   "execution_count": 43,
   "metadata": {
    "vscode": {
     "languageId": "r"
    }
   },
   "outputs": [
    {
     "data": {
      "image/png": "[encoded data removed]",
      "text/plain": [
       "plot without title"
      ]
     },
     "metadata": {
      "image/png": {
       "height": 420,
       "width": 420
      }
     },
     "output_type": "display_data"
    }
   ],
   "source": [
    "# Set the margin and plot size\n",
    "par(mar=c(5, 13, 1, 1))  # Adjust the margin if needed\n",
    "par(cex.axis = 0.9)\n",
    "boxplot(avg_salary~Sector, data=df, xlab=\"Average Salary\",las = 1, horizontal=TRUE, ylab=\" \")\n",
    "abline(v=mean(df$avg_salary), col=\"red\")"
   ]
  },
  {
   "cell_type": "code",
   "execution_count": 44,
   "metadata": {
    "vscode": {
     "languageId": "r"
    }
   },
   "outputs": [
    {
     "data": {
      "text/html": [
       "<table class=\"dataframe\">\n",
       "<caption>A data.frame: 22 × 2</caption>\n",
       "<thead>\n",
       "\t<tr><th scope=col>Group.1</th><th scope=col>x</th></tr>\n",
       "\t<tr><th scope=col>&lt;chr&gt;</th><th scope=col>&lt;dbl[,6]&gt;</th></tr>\n",
       "</thead>\n",
       "<tbody>\n",
       "\t<tr><td><span style=white-space:pre-wrap>Accounting &amp; Legal                </span></td><td>106, 106.50, 107.0, 124.6667, 134.00, 161</td></tr>\n",
       "\t<tr><td><span style=white-space:pre-wrap>Aerospace &amp; Defense               </span></td><td> 43, 113.00, 123.0, 132.4783, 148.00, 271</td></tr>\n",
       "\t<tr><td><span style=white-space:pre-wrap>Agriculture &amp; Forestry            </span></td><td><span style=white-space:pre-wrap> 92,  99.00, 106.0, 103.6667, 109.50, 113</span></td></tr>\n",
       "\t<tr><td><span style=white-space:pre-wrap>Biotech &amp; Pharmaceuticals         </span></td><td><span style=white-space:pre-wrap> 43,  99.00, 106.5, 122.6212, 136.00, 271</span></td></tr>\n",
       "\t<tr><td>Business Services                 </td><td> 43, 105.00, 114.0, 129.8833, 149.50, 271</td></tr>\n",
       "\t<tr><td>Construction, Repair &amp; Maintenance</td><td><span style=white-space:pre-wrap> 43,  58.75,  74.5,  74.5000,  90.25, 106</span></td></tr>\n",
       "\t<tr><td>Consumer Services                 </td><td>136, 169.75, 203.5, 203.5000, 237.25, 271</td></tr>\n",
       "\t<tr><td>Education                         </td><td> 92, 102.50, 113.0, 117.6667, 130.50, 148</td></tr>\n",
       "\t<tr><td>Finance                           </td><td> 43,  98.00, 113.0, 115.6774, 134.50, 185</td></tr>\n",
       "\t<tr><td>Government                        </td><td> 76, 106.00, 136.0, 134.2941, 154.00, 185</td></tr>\n",
       "\t<tr><td>Health Care                       </td><td> 76, 105.00, 114.0, 119.5714, 136.00, 185</td></tr>\n",
       "\t<tr><td>Information Technology            </td><td> 43, 103.00, 113.0, 118.8090, 134.00, 271</td></tr>\n",
       "\t<tr><td>Insurance                         </td><td> 43,  97.00, 106.0, 111.1250, 123.00, 185</td></tr>\n",
       "\t<tr><td>Manufacturing                     </td><td> 43, 102.00, 115.0, 123.0435, 151.00, 183</td></tr>\n",
       "\t<tr><td>Media                             </td><td> 99, 107.00, 115.0, 155.0000, 183.00, 271</td></tr>\n",
       "\t<tr><td>Non-Profit                        </td><td> 43,  43.00,  43.0,  43.0000,  43.00,  43</td></tr>\n",
       "\t<tr><td><span style=white-space:pre-wrap>Oil, Gas, Energy &amp; Utilities      </span></td><td><span style=white-space:pre-wrap> 43,  89.75, 101.0, 101.0000, 118.50, 154</span></td></tr>\n",
       "\t<tr><td>Real Estate                       </td><td> 97, 108.50, 120.0, 116.6667, 126.50, 133</td></tr>\n",
       "\t<tr><td>Retail                            </td><td>105, 121.50, 154.0, 150.1429, 183.00, 183</td></tr>\n",
       "\t<tr><td>Telecommunications                </td><td> 97,  99.00, 106.0, 112.1429, 124.00, 136</td></tr>\n",
       "\t<tr><td><span style=white-space:pre-wrap>Transportation &amp; Logistics        </span></td><td>103, 106.25, 110.5, 117.6667, 114.75, 161</td></tr>\n",
       "\t<tr><td><span style=white-space:pre-wrap>Travel &amp; Tourism                  </span></td><td> 89, 101.50, 114.0, 128.6667, 148.50, 183</td></tr>\n",
       "</tbody>\n",
       "</table>\n"
      ],
      "text/latex": [
       "A data.frame: 22 × 2\n",
       "\\begin{tabular}{ll}\n",
       " Group.1 & x\\\\\n",
       " <chr> & <dbl{[},6{]}>\\\\\n",
       "\\hline\n",
       "\t Accounting \\& Legal                 & 106, 106.50, 107.0, 124.6667, 134.00, 161\\\\\n",
       "\t Aerospace \\& Defense                &  43, 113.00, 123.0, 132.4783, 148.00, 271\\\\\n",
       "\t Agriculture \\& Forestry             &  92,  99.00, 106.0, 103.6667, 109.50, 113\\\\\n",
       "\t Biotech \\& Pharmaceuticals          &  43,  99.00, 106.5, 122.6212, 136.00, 271\\\\\n",
       "\t Business Services                  &  43, 105.00, 114.0, 129.8833, 149.50, 271\\\\\n",
       "\t Construction, Repair \\& Maintenance &  43,  58.75,  74.5,  74.5000,  90.25, 106\\\\\n",
       "\t Consumer Services                  & 136, 169.75, 203.5, 203.5000, 237.25, 271\\\\\n",
       "\t Education                          &  92, 102.50, 113.0, 117.6667, 130.50, 148\\\\\n",
       "\t Finance                            &  43,  98.00, 113.0, 115.6774, 134.50, 185\\\\\n",
       "\t Government                         &  76, 106.00, 136.0, 134.2941, 154.00, 185\\\\\n",
       "\t Health Care                        &  76, 105.00, 114.0, 119.5714, 136.00, 185\\\\\n",
       "\t Information Technology             &  43, 103.00, 113.0, 118.8090, 134.00, 271\\\\\n",
       "\t Insurance                          &  43,  97.00, 106.0, 111.1250, 123.00, 185\\\\\n",
       "\t Manufacturing                      &  43, 102.00, 115.0, 123.0435, 151.00, 183\\\\\n",
       "\t Media                              &  99, 107.00, 115.0, 155.0000, 183.00, 271\\\\\n",
       "\t Non-Profit                         &  43,  43.00,  43.0,  43.0000,  43.00,  43\\\\\n",
       "\t Oil, Gas, Energy \\& Utilities       &  43,  89.75, 101.0, 101.0000, 118.50, 154\\\\\n",
       "\t Real Estate                        &  97, 108.50, 120.0, 116.6667, 126.50, 133\\\\\n",
       "\t Retail                             & 105, 121.50, 154.0, 150.1429, 183.00, 183\\\\\n",
       "\t Telecommunications                 &  97,  99.00, 106.0, 112.1429, 124.00, 136\\\\\n",
       "\t Transportation \\& Logistics         & 103, 106.25, 110.5, 117.6667, 114.75, 161\\\\\n",
       "\t Travel \\& Tourism                   &  89, 101.50, 114.0, 128.6667, 148.50, 183\\\\\n",
       "\\end{tabular}\n"
      ],
      "text/markdown": [
       "\n",
       "A data.frame: 22 × 2\n",
       "\n",
       "| Group.1 &lt;chr&gt; | x &lt;dbl[,6]&gt; |\n",
       "|---|---|\n",
       "| Accounting &amp; Legal                 | 106, 106.50, 107.0, 124.6667, 134.00, 161 |\n",
       "| Aerospace &amp; Defense                |  43, 113.00, 123.0, 132.4783, 148.00, 271 |\n",
       "| Agriculture &amp; Forestry             |  92,  99.00, 106.0, 103.6667, 109.50, 113 |\n",
       "| Biotech &amp; Pharmaceuticals          |  43,  99.00, 106.5, 122.6212, 136.00, 271 |\n",
       "| Business Services                  |  43, 105.00, 114.0, 129.8833, 149.50, 271 |\n",
       "| Construction, Repair &amp; Maintenance |  43,  58.75,  74.5,  74.5000,  90.25, 106 |\n",
       "| Consumer Services                  | 136, 169.75, 203.5, 203.5000, 237.25, 271 |\n",
       "| Education                          |  92, 102.50, 113.0, 117.6667, 130.50, 148 |\n",
       "| Finance                            |  43,  98.00, 113.0, 115.6774, 134.50, 185 |\n",
       "| Government                         |  76, 106.00, 136.0, 134.2941, 154.00, 185 |\n",
       "| Health Care                        |  76, 105.00, 114.0, 119.5714, 136.00, 185 |\n",
       "| Information Technology             |  43, 103.00, 113.0, 118.8090, 134.00, 271 |\n",
       "| Insurance                          |  43,  97.00, 106.0, 111.1250, 123.00, 185 |\n",
       "| Manufacturing                      |  43, 102.00, 115.0, 123.0435, 151.00, 183 |\n",
       "| Media                              |  99, 107.00, 115.0, 155.0000, 183.00, 271 |\n",
       "| Non-Profit                         |  43,  43.00,  43.0,  43.0000,  43.00,  43 |\n",
       "| Oil, Gas, Energy &amp; Utilities       |  43,  89.75, 101.0, 101.0000, 118.50, 154 |\n",
       "| Real Estate                        |  97, 108.50, 120.0, 116.6667, 126.50, 133 |\n",
       "| Retail                             | 105, 121.50, 154.0, 150.1429, 183.00, 183 |\n",
       "| Telecommunications                 |  97,  99.00, 106.0, 112.1429, 124.00, 136 |\n",
       "| Transportation &amp; Logistics         | 103, 106.25, 110.5, 117.6667, 114.75, 161 |\n",
       "| Travel &amp; Tourism                   |  89, 101.50, 114.0, 128.6667, 148.50, 183 |\n",
       "\n"
      ],
      "text/plain": [
       "   Group.1                            x                                        \n",
       "1  Accounting & Legal                 106, 106.50, 107.0, 124.6667, 134.00, 161\n",
       "2  Aerospace & Defense                 43, 113.00, 123.0, 132.4783, 148.00, 271\n",
       "3  Agriculture & Forestry              92,  99.00, 106.0, 103.6667, 109.50, 113\n",
       "4  Biotech & Pharmaceuticals           43,  99.00, 106.5, 122.6212, 136.00, 271\n",
       "5  Business Services                   43, 105.00, 114.0, 129.8833, 149.50, 271\n",
       "6  Construction, Repair & Maintenance  43,  58.75,  74.5,  74.5000,  90.25, 106\n",
       "7  Consumer Services                  136, 169.75, 203.5, 203.5000, 237.25, 271\n",
       "8  Education                           92, 102.50, 113.0, 117.6667, 130.50, 148\n",
       "9  Finance                             43,  98.00, 113.0, 115.6774, 134.50, 185\n",
       "10 Government                          76, 106.00, 136.0, 134.2941, 154.00, 185\n",
       "11 Health Care                         76, 105.00, 114.0, 119.5714, 136.00, 185\n",
       "12 Information Technology              43, 103.00, 113.0, 118.8090, 134.00, 271\n",
       "13 Insurance                           43,  97.00, 106.0, 111.1250, 123.00, 185\n",
       "14 Manufacturing                       43, 102.00, 115.0, 123.0435, 151.00, 183\n",
       "15 Media                               99, 107.00, 115.0, 155.0000, 183.00, 271\n",
       "16 Non-Profit                          43,  43.00,  43.0,  43.0000,  43.00,  43\n",
       "17 Oil, Gas, Energy & Utilities        43,  89.75, 101.0, 101.0000, 118.50, 154\n",
       "18 Real Estate                         97, 108.50, 120.0, 116.6667, 126.50, 133\n",
       "19 Retail                             105, 121.50, 154.0, 150.1429, 183.00, 183\n",
       "20 Telecommunications                  97,  99.00, 106.0, 112.1429, 124.00, 136\n",
       "21 Transportation & Logistics         103, 106.25, 110.5, 117.6667, 114.75, 161\n",
       "22 Travel & Tourism                    89, 101.50, 114.0, 128.6667, 148.50, 183"
      ]
     },
     "metadata": {},
     "output_type": "display_data"
    }
   ],
   "source": [
    "aggregate(avg_salary, list(Sector), data=df, FUN=summary)"
   ]
  },
  {
   "cell_type": "code",
   "execution_count": 60,
   "metadata": {
    "vscode": {
     "languageId": "r"
    }
   },
   "outputs": [
    {
     "data": {
      "text/html": [
       "<table class=\"dataframe\">\n",
       "<caption>A data.frame: 22 × 2</caption>\n",
       "<thead>\n",
       "\t<tr><th scope=col>Sector</th><th scope=col>Freq</th></tr>\n",
       "\t<tr><th scope=col>&lt;chr&gt;</th><th scope=col>&lt;int&gt;</th></tr>\n",
       "</thead>\n",
       "<tbody>\n",
       "\t<tr><td><span style=white-space:pre-wrap>Accounting &amp; Legal                </span></td><td><span style=white-space:pre-wrap>  3</span></td></tr>\n",
       "\t<tr><td><span style=white-space:pre-wrap>Aerospace &amp; Defense               </span></td><td> 46</td></tr>\n",
       "\t<tr><td><span style=white-space:pre-wrap>Agriculture &amp; Forestry            </span></td><td><span style=white-space:pre-wrap>  3</span></td></tr>\n",
       "\t<tr><td><span style=white-space:pre-wrap>Biotech &amp; Pharmaceuticals         </span></td><td> 66</td></tr>\n",
       "\t<tr><td>Business Services                 </td><td>120</td></tr>\n",
       "\t<tr><td>Construction, Repair &amp; Maintenance</td><td><span style=white-space:pre-wrap>  2</span></td></tr>\n",
       "\t<tr><td>Consumer Services                 </td><td>  2</td></tr>\n",
       "\t<tr><td>Education                         </td><td>  3</td></tr>\n",
       "\t<tr><td>Finance                           </td><td> 31</td></tr>\n",
       "\t<tr><td>Government                        </td><td> 17</td></tr>\n",
       "\t<tr><td>Health Care                       </td><td> 21</td></tr>\n",
       "\t<tr><td>Information Technology            </td><td>178</td></tr>\n",
       "\t<tr><td>Insurance                         </td><td> 32</td></tr>\n",
       "\t<tr><td>Manufacturing                     </td><td> 23</td></tr>\n",
       "\t<tr><td>Media                             </td><td>  5</td></tr>\n",
       "\t<tr><td>Non-Profit                        </td><td>  1</td></tr>\n",
       "\t<tr><td><span style=white-space:pre-wrap>Oil, Gas, Energy &amp; Utilities      </span></td><td> 10</td></tr>\n",
       "\t<tr><td>Real Estate                       </td><td>  3</td></tr>\n",
       "\t<tr><td>Retail                            </td><td>  7</td></tr>\n",
       "\t<tr><td>Telecommunications                </td><td>  7</td></tr>\n",
       "\t<tr><td><span style=white-space:pre-wrap>Transportation &amp; Logistics        </span></td><td><span style=white-space:pre-wrap>  6</span></td></tr>\n",
       "\t<tr><td><span style=white-space:pre-wrap>Travel &amp; Tourism                  </span></td><td><span style=white-space:pre-wrap>  3</span></td></tr>\n",
       "</tbody>\n",
       "</table>\n"
      ],
      "text/latex": [
       "A data.frame: 22 × 2\n",
       "\\begin{tabular}{ll}\n",
       " Sector & Freq\\\\\n",
       " <chr> & <int>\\\\\n",
       "\\hline\n",
       "\t Accounting \\& Legal                 &   3\\\\\n",
       "\t Aerospace \\& Defense                &  46\\\\\n",
       "\t Agriculture \\& Forestry             &   3\\\\\n",
       "\t Biotech \\& Pharmaceuticals          &  66\\\\\n",
       "\t Business Services                  & 120\\\\\n",
       "\t Construction, Repair \\& Maintenance &   2\\\\\n",
       "\t Consumer Services                  &   2\\\\\n",
       "\t Education                          &   3\\\\\n",
       "\t Finance                            &  31\\\\\n",
       "\t Government                         &  17\\\\\n",
       "\t Health Care                        &  21\\\\\n",
       "\t Information Technology             & 178\\\\\n",
       "\t Insurance                          &  32\\\\\n",
       "\t Manufacturing                      &  23\\\\\n",
       "\t Media                              &   5\\\\\n",
       "\t Non-Profit                         &   1\\\\\n",
       "\t Oil, Gas, Energy \\& Utilities       &  10\\\\\n",
       "\t Real Estate                        &   3\\\\\n",
       "\t Retail                             &   7\\\\\n",
       "\t Telecommunications                 &   7\\\\\n",
       "\t Transportation \\& Logistics         &   6\\\\\n",
       "\t Travel \\& Tourism                   &   3\\\\\n",
       "\\end{tabular}\n"
      ],
      "text/markdown": [
       "\n",
       "A data.frame: 22 × 2\n",
       "\n",
       "| Sector &lt;chr&gt; | Freq &lt;int&gt; |\n",
       "|---|---|\n",
       "| Accounting &amp; Legal                 |   3 |\n",
       "| Aerospace &amp; Defense                |  46 |\n",
       "| Agriculture &amp; Forestry             |   3 |\n",
       "| Biotech &amp; Pharmaceuticals          |  66 |\n",
       "| Business Services                  | 120 |\n",
       "| Construction, Repair &amp; Maintenance |   2 |\n",
       "| Consumer Services                  |   2 |\n",
       "| Education                          |   3 |\n",
       "| Finance                            |  31 |\n",
       "| Government                         |  17 |\n",
       "| Health Care                        |  21 |\n",
       "| Information Technology             | 178 |\n",
       "| Insurance                          |  32 |\n",
       "| Manufacturing                      |  23 |\n",
       "| Media                              |   5 |\n",
       "| Non-Profit                         |   1 |\n",
       "| Oil, Gas, Energy &amp; Utilities       |  10 |\n",
       "| Real Estate                        |   3 |\n",
       "| Retail                             |   7 |\n",
       "| Telecommunications                 |   7 |\n",
       "| Transportation &amp; Logistics         |   6 |\n",
       "| Travel &amp; Tourism                   |   3 |\n",
       "\n"
      ],
      "text/plain": [
       "   Sector                             Freq\n",
       "1  Accounting & Legal                   3 \n",
       "2  Aerospace & Defense                 46 \n",
       "3  Agriculture & Forestry               3 \n",
       "4  Biotech & Pharmaceuticals           66 \n",
       "5  Business Services                  120 \n",
       "6  Construction, Repair & Maintenance   2 \n",
       "7  Consumer Services                    2 \n",
       "8  Education                            3 \n",
       "9  Finance                             31 \n",
       "10 Government                          17 \n",
       "11 Health Care                         21 \n",
       "12 Information Technology             178 \n",
       "13 Insurance                           32 \n",
       "14 Manufacturing                       23 \n",
       "15 Media                                5 \n",
       "16 Non-Profit                           1 \n",
       "17 Oil, Gas, Energy & Utilities        10 \n",
       "18 Real Estate                          3 \n",
       "19 Retail                               7 \n",
       "20 Telecommunications                   7 \n",
       "21 Transportation & Logistics           6 \n",
       "22 Travel & Tourism                     3 "
      ]
     },
     "metadata": {},
     "output_type": "display_data"
    }
   ],
   "source": [
    "sector_counts <- aggregate(df$avg_salary, by = list(df$Sector), FUN = length)\n",
    "names(sector_counts) <- c(\"Sector\", \"Freq\")\n",
    "sector_counts"
   ]
  },
  {
   "cell_type": "markdown",
   "metadata": {},
   "source": [
    "Filter the sector with more than 30 data points"
   ]
  },
  {
   "cell_type": "code",
   "execution_count": 61,
   "metadata": {
    "vscode": {
     "languageId": "r"
    }
   },
   "outputs": [
    {
     "data": {
      "text/html": [
       "<table class=\"dataframe\">\n",
       "<caption>A data.frame: 6 × 2</caption>\n",
       "<thead>\n",
       "\t<tr><th></th><th scope=col>Sector</th><th scope=col>Freq</th></tr>\n",
       "\t<tr><th></th><th scope=col>&lt;chr&gt;</th><th scope=col>&lt;int&gt;</th></tr>\n",
       "</thead>\n",
       "<tbody>\n",
       "\t<tr><th scope=row>2</th><td><span style=white-space:pre-wrap>Aerospace &amp; Defense      </span></td><td> 46</td></tr>\n",
       "\t<tr><th scope=row>4</th><td>Biotech &amp; Pharmaceuticals</td><td> 66</td></tr>\n",
       "\t<tr><th scope=row>5</th><td>Business Services        </td><td>120</td></tr>\n",
       "\t<tr><th scope=row>9</th><td>Finance                  </td><td> 31</td></tr>\n",
       "\t<tr><th scope=row>12</th><td>Information Technology   </td><td>178</td></tr>\n",
       "\t<tr><th scope=row>13</th><td>Insurance                </td><td> 32</td></tr>\n",
       "</tbody>\n",
       "</table>\n"
      ],
      "text/latex": [
       "A data.frame: 6 × 2\n",
       "\\begin{tabular}{r|ll}\n",
       "  & Sector & Freq\\\\\n",
       "  & <chr> & <int>\\\\\n",
       "\\hline\n",
       "\t2 & Aerospace \\& Defense       &  46\\\\\n",
       "\t4 & Biotech \\& Pharmaceuticals &  66\\\\\n",
       "\t5 & Business Services         & 120\\\\\n",
       "\t9 & Finance                   &  31\\\\\n",
       "\t12 & Information Technology    & 178\\\\\n",
       "\t13 & Insurance                 &  32\\\\\n",
       "\\end{tabular}\n"
      ],
      "text/markdown": [
       "\n",
       "A data.frame: 6 × 2\n",
       "\n",
       "| <!--/--> | Sector &lt;chr&gt; | Freq &lt;int&gt; |\n",
       "|---|---|---|\n",
       "| 2 | Aerospace &amp; Defense       |  46 |\n",
       "| 4 | Biotech &amp; Pharmaceuticals |  66 |\n",
       "| 5 | Business Services         | 120 |\n",
       "| 9 | Finance                   |  31 |\n",
       "| 12 | Information Technology    | 178 |\n",
       "| 13 | Insurance                 |  32 |\n",
       "\n"
      ],
      "text/plain": [
       "   Sector                    Freq\n",
       "2  Aerospace & Defense        46 \n",
       "4  Biotech & Pharmaceuticals  66 \n",
       "5  Business Services         120 \n",
       "9  Finance                    31 \n",
       "12 Information Technology    178 \n",
       "13 Insurance                  32 "
      ]
     },
     "metadata": {},
     "output_type": "display_data"
    }
   ],
   "source": [
    "# Extract the sectors with more than 30 data points\n",
    "selected_sectors <- subset(sector_counts, sector_counts$Freq > 30)\n",
    "selected_sectors"
   ]
  },
  {
   "cell_type": "code",
   "execution_count": 62,
   "metadata": {
    "vscode": {
     "languageId": "r"
    }
   },
   "outputs": [
    {
     "data": {
      "text/html": [
       "<style>\n",
       ".list-inline {list-style: none; margin:0; padding: 0}\n",
       ".list-inline>li {display: inline-block}\n",
       ".list-inline>li:not(:last-child)::after {content: \"\\00b7\"; padding: 0 .5ex}\n",
       "</style>\n",
       "<ol class=list-inline><li>'Insurance'</li><li>'Business Services'</li><li>'Information Technology'</li><li>'Biotech &amp; Pharmaceuticals'</li><li>'Finance'</li><li>'Aerospace &amp; Defense'</li></ol>\n"
      ],
      "text/latex": [
       "\\begin{enumerate*}\n",
       "\\item 'Insurance'\n",
       "\\item 'Business Services'\n",
       "\\item 'Information Technology'\n",
       "\\item 'Biotech \\& Pharmaceuticals'\n",
       "\\item 'Finance'\n",
       "\\item 'Aerospace \\& Defense'\n",
       "\\end{enumerate*}\n"
      ],
      "text/markdown": [
       "1. 'Insurance'\n",
       "2. 'Business Services'\n",
       "3. 'Information Technology'\n",
       "4. 'Biotech &amp; Pharmaceuticals'\n",
       "5. 'Finance'\n",
       "6. 'Aerospace &amp; Defense'\n",
       "\n",
       "\n"
      ],
      "text/plain": [
       "[1] \"Insurance\"                 \"Business Services\"        \n",
       "[3] \"Information Technology\"    \"Biotech & Pharmaceuticals\"\n",
       "[5] \"Finance\"                   \"Aerospace & Defense\"      "
      ]
     },
     "metadata": {},
     "output_type": "display_data"
    }
   ],
   "source": [
    "# Filter the original data frame based on selected sectors\n",
    "selected_df <- subset(df, Sector %in% selected_sectors$Sector)\n",
    "group <- unique(selected_df$Sector)\n",
    "group"
   ]
  },
  {
   "cell_type": "code",
   "execution_count": 63,
   "metadata": {
    "vscode": {
     "languageId": "r"
    }
   },
   "outputs": [
    {
     "data": {
      "text/html": [
       "<table class=\"dataframe\">\n",
       "<caption>A data.frame: 6 × 2</caption>\n",
       "<thead>\n",
       "\t<tr><th></th><th scope=col>Sector</th><th scope=col>avg_salary</th></tr>\n",
       "\t<tr><th></th><th scope=col>&lt;chr&gt;</th><th scope=col>&lt;int&gt;</th></tr>\n",
       "</thead>\n",
       "<tbody>\n",
       "\t<tr><th scope=row>1</th><td>Insurance                </td><td>154</td></tr>\n",
       "\t<tr><th scope=row>2</th><td>Business Services        </td><td>154</td></tr>\n",
       "\t<tr><th scope=row>3</th><td>Business Services        </td><td>154</td></tr>\n",
       "\t<tr><th scope=row>5</th><td>Business Services        </td><td>154</td></tr>\n",
       "\t<tr><th scope=row>6</th><td>Information Technology   </td><td>154</td></tr>\n",
       "\t<tr><th scope=row>7</th><td>Biotech &amp; Pharmaceuticals</td><td>154</td></tr>\n",
       "</tbody>\n",
       "</table>\n"
      ],
      "text/latex": [
       "A data.frame: 6 × 2\n",
       "\\begin{tabular}{r|ll}\n",
       "  & Sector & avg\\_salary\\\\\n",
       "  & <chr> & <int>\\\\\n",
       "\\hline\n",
       "\t1 & Insurance                 & 154\\\\\n",
       "\t2 & Business Services         & 154\\\\\n",
       "\t3 & Business Services         & 154\\\\\n",
       "\t5 & Business Services         & 154\\\\\n",
       "\t6 & Information Technology    & 154\\\\\n",
       "\t7 & Biotech \\& Pharmaceuticals & 154\\\\\n",
       "\\end{tabular}\n"
      ],
      "text/markdown": [
       "\n",
       "A data.frame: 6 × 2\n",
       "\n",
       "| <!--/--> | Sector &lt;chr&gt; | avg_salary &lt;int&gt; |\n",
       "|---|---|---|\n",
       "| 1 | Insurance                 | 154 |\n",
       "| 2 | Business Services         | 154 |\n",
       "| 3 | Business Services         | 154 |\n",
       "| 5 | Business Services         | 154 |\n",
       "| 6 | Information Technology    | 154 |\n",
       "| 7 | Biotech &amp; Pharmaceuticals | 154 |\n",
       "\n"
      ],
      "text/plain": [
       "  Sector                    avg_salary\n",
       "1 Insurance                 154       \n",
       "2 Business Services         154       \n",
       "3 Business Services         154       \n",
       "5 Business Services         154       \n",
       "6 Information Technology    154       \n",
       "7 Biotech & Pharmaceuticals 154       "
      ]
     },
     "metadata": {},
     "output_type": "display_data"
    }
   ],
   "source": [
    "df_new <- subset(selected_df, select=c(\"Sector\", \"avg_salary\" ))\n",
    "head(df_new)"
   ]
  },
  {
   "cell_type": "code",
   "execution_count": 81,
   "metadata": {
    "vscode": {
     "languageId": "r"
    }
   },
   "outputs": [
    {
     "data": {
      "image/png": "[encoded data removed]",
      "text/plain": [
       "Plot with title \"Average Salary vs Sector\""
      ]
     },
     "metadata": {
      "image/png": {
       "height": 420,
       "width": 420
      }
     },
     "output_type": "display_data"
    }
   ],
   "source": [
    "par(mar=c(5, 10, 3, 1))  # Adjust the margin if needed\n",
    "par(cex.axis = 0.9)\n",
    "par(las=1)\n",
    "boxplot(df_new$avg_salary~df_new$Sector, xlab=\"Average Salary\",ylab=\" \",horizontal=TRUE)\n",
    "title(main = \"Average Salary vs Sector\")"
   ]
  },
  {
   "cell_type": "markdown",
   "metadata": {},
   "source": [
    "Normality test for data point > 30 "
   ]
  },
  {
   "cell_type": "code",
   "execution_count": 65,
   "metadata": {
    "vscode": {
     "languageId": "r"
    }
   },
   "outputs": [
    {
     "data": {
      "image/png": "[encoded data removed]",
      "text/plain": [
       "Plot with title \"Aerospace & Defense\""
      ]
     },
     "metadata": {
      "image/png": {
       "height": 420,
       "width": 420
      }
     },
     "output_type": "display_data"
    }
   ],
   "source": [
    "par(mfrow=c(3,3))\n",
    "for (sector in group){\n",
    "    hist(df_new[df_new$Sector == sector, 'avg_salary' ], main=sector, xlab='Avg Salary', col='lightblue')\n",
    "}"
   ]
  },
  {
   "cell_type": "code",
   "execution_count": 66,
   "metadata": {
    "vscode": {
     "languageId": "r"
    }
   },
   "outputs": [
    {
     "data": {
      "image/png": "[encoded data removed]",
      "text/plain": [
       "Plot with title \"Aerospace & Defense\""
      ]
     },
     "metadata": {
      "image/png": {
       "height": 420,
       "width": 420
      }
     },
     "output_type": "display_data"
    }
   ],
   "source": [
    "par(mfrow=c(3,3))\n",
    "for (sector in group){\n",
    "    qqnorm(df_new[df_new$Sector == sector, 'avg_salary'], main=sector, col='#52a7ec')\n",
    "    qqline(df_new[df_new$Sector == sector, 'avg_salary'], col='#110464')\n",
    "}"
   ]
  },
  {
   "cell_type": "code",
   "execution_count": 67,
   "metadata": {
    "vscode": {
     "languageId": "r"
    }
   },
   "outputs": [
    {
     "data": {
      "text/html": [
       "<table class=\"dataframe\">\n",
       "<caption>A matrix: 3 × 6 of type chr</caption>\n",
       "<tbody>\n",
       "\t<tr><th scope=row>Sector</th><td><span style=white-space:pre-wrap>Insurance  </span></td><td>Business Services</td><td>Information Technology</td><td>Biotech &amp; Pharmaceuticals</td><td><span style=white-space:pre-wrap>Finance    </span></td><td>Aerospace &amp; Defense</td></tr>\n",
       "\t<tr><th scope=row>Size</th><td> 32        </td><td>120              </td><td>178                   </td><td> 66                      </td><td> 31        </td><td> 46                </td></tr>\n",
       "\t<tr><th scope=row>p-value</th><td>0.095147661</td><td>0.000000000      </td><td>0.000000001           </td><td>0.000000117              </td><td>0.157394326</td><td>0.000013697        </td></tr>\n",
       "</tbody>\n",
       "</table>\n"
      ],
      "text/latex": [
       "A matrix: 3 × 6 of type chr\n",
       "\\begin{tabular}{r|llllll}\n",
       "\tSector & Insurance   & Business Services & Information Technology & Biotech \\& Pharmaceuticals & Finance     & Aerospace \\& Defense\\\\\n",
       "\tSize &  32         & 120               & 178                    &  66                       &  31         &  46                \\\\\n",
       "\tp-value & 0.095147661 & 0.000000000       & 0.000000001            & 0.000000117               & 0.157394326 & 0.000013697        \\\\\n",
       "\\end{tabular}\n"
      ],
      "text/markdown": [
       "\n",
       "A matrix: 3 × 6 of type chr\n",
       "\n",
       "| Sector | Insurance   | Business Services | Information Technology | Biotech &amp; Pharmaceuticals | Finance     | Aerospace &amp; Defense |\n",
       "| Size |  32         | 120               | 178                    |  66                       |  31         |  46                 |\n",
       "| p-value | 0.095147661 | 0.000000000       | 0.000000001            | 0.000000117               | 0.157394326 | 0.000013697         |\n",
       "\n"
      ],
      "text/plain": [
       "        [,1]        [,2]              [,3]                  \n",
       "Sector  Insurance   Business Services Information Technology\n",
       "Size     32         120               178                   \n",
       "p-value 0.095147661 0.000000000       0.000000001           \n",
       "        [,4]                      [,5]        [,6]               \n",
       "Sector  Biotech & Pharmaceuticals Finance     Aerospace & Defense\n",
       "Size     66                        31          46                \n",
       "p-value 0.000000117               0.157394326 0.000013697        "
      ]
     },
     "metadata": {},
     "output_type": "display_data"
    }
   ],
   "source": [
    "pvalue <- vector()\n",
    "length <- vector()\n",
    "for (sector in group){\n",
    "    x <- df_new[df_new$Sector == sector, 'avg_salary' ]\n",
    "    pvalue <- append(pvalue, round(shapiro.test(x)[[2]],9))\n",
    "    length <- append(length,length(x))\n",
    "}\n",
    "\n",
    "normdf <- data.frame(group, length, pvalue)\n",
    "colnames(normdf) <- c('Sector', 'Size', 'p-value')\n",
    "t(normdf)"
   ]
  },
  {
   "cell_type": "code",
   "execution_count": 68,
   "metadata": {
    "vscode": {
     "languageId": "r"
    }
   },
   "outputs": [
    {
     "data": {
      "text/plain": [
       "\n",
       "\tShapiro-Wilk normality test\n",
       "\n",
       "data:  Insurance\n",
       "W = 0.94366, p-value = 0.09515\n"
      ]
     },
     "metadata": {},
     "output_type": "display_data"
    }
   ],
   "source": [
    "Insurance <- df_new[df_new$Sector == 'Insurance', 'avg_salary' ]\n",
    "shapiro.test(Insurance)"
   ]
  },
  {
   "cell_type": "code",
   "execution_count": 69,
   "metadata": {
    "vscode": {
     "languageId": "r"
    }
   },
   "outputs": [
    {
     "data": {
      "text/html": [
       "<table class=\"dataframe\">\n",
       "<caption>A data.frame: 15 × 3</caption>\n",
       "<thead>\n",
       "\t<tr><th scope=col>Sector1</th><th scope=col>Sector2</th><th scope=col>P_Value</th></tr>\n",
       "\t<tr><th scope=col>&lt;chr&gt;</th><th scope=col>&lt;chr&gt;</th><th scope=col>&lt;dbl&gt;</th></tr>\n",
       "</thead>\n",
       "<tbody>\n",
       "\t<tr><td>Insurance                </td><td>Business Services        </td><td>0.001</td></tr>\n",
       "\t<tr><td>Insurance                </td><td>Information Technology   </td><td>0.192</td></tr>\n",
       "\t<tr><td><span style=white-space:pre-wrap>Insurance                </span></td><td>Biotech &amp; Pharmaceuticals</td><td>0.007</td></tr>\n",
       "\t<tr><td>Insurance                </td><td>Finance                  </td><td>0.261</td></tr>\n",
       "\t<tr><td><span style=white-space:pre-wrap>Insurance                </span></td><td><span style=white-space:pre-wrap>Aerospace &amp; Defense      </span></td><td>0.003</td></tr>\n",
       "\t<tr><td>Business Services        </td><td>Information Technology   </td><td>0.000</td></tr>\n",
       "\t<tr><td><span style=white-space:pre-wrap>Business Services        </span></td><td>Biotech &amp; Pharmaceuticals</td><td>0.536</td></tr>\n",
       "\t<tr><td>Business Services        </td><td>Finance                  </td><td>0.046</td></tr>\n",
       "\t<tr><td><span style=white-space:pre-wrap>Business Services        </span></td><td><span style=white-space:pre-wrap>Aerospace &amp; Defense      </span></td><td>0.969</td></tr>\n",
       "\t<tr><td><span style=white-space:pre-wrap>Information Technology   </span></td><td>Biotech &amp; Pharmaceuticals</td><td>0.009</td></tr>\n",
       "\t<tr><td>Information Technology   </td><td>Finance                  </td><td>0.906</td></tr>\n",
       "\t<tr><td><span style=white-space:pre-wrap>Information Technology   </span></td><td><span style=white-space:pre-wrap>Aerospace &amp; Defense      </span></td><td>0.003</td></tr>\n",
       "\t<tr><td>Biotech &amp; Pharmaceuticals</td><td><span style=white-space:pre-wrap>Finance                  </span></td><td>0.137</td></tr>\n",
       "\t<tr><td>Biotech &amp; Pharmaceuticals</td><td><span style=white-space:pre-wrap>Aerospace &amp; Defense      </span></td><td>0.595</td></tr>\n",
       "\t<tr><td><span style=white-space:pre-wrap>Finance                  </span></td><td><span style=white-space:pre-wrap>Aerospace &amp; Defense      </span></td><td>0.068</td></tr>\n",
       "</tbody>\n",
       "</table>\n"
      ],
      "text/latex": [
       "A data.frame: 15 × 3\n",
       "\\begin{tabular}{lll}\n",
       " Sector1 & Sector2 & P\\_Value\\\\\n",
       " <chr> & <chr> & <dbl>\\\\\n",
       "\\hline\n",
       "\t Insurance                 & Business Services         & 0.001\\\\\n",
       "\t Insurance                 & Information Technology    & 0.192\\\\\n",
       "\t Insurance                 & Biotech \\& Pharmaceuticals & 0.007\\\\\n",
       "\t Insurance                 & Finance                   & 0.261\\\\\n",
       "\t Insurance                 & Aerospace \\& Defense       & 0.003\\\\\n",
       "\t Business Services         & Information Technology    & 0.000\\\\\n",
       "\t Business Services         & Biotech \\& Pharmaceuticals & 0.536\\\\\n",
       "\t Business Services         & Finance                   & 0.046\\\\\n",
       "\t Business Services         & Aerospace \\& Defense       & 0.969\\\\\n",
       "\t Information Technology    & Biotech \\& Pharmaceuticals & 0.009\\\\\n",
       "\t Information Technology    & Finance                   & 0.906\\\\\n",
       "\t Information Technology    & Aerospace \\& Defense       & 0.003\\\\\n",
       "\t Biotech \\& Pharmaceuticals & Finance                   & 0.137\\\\\n",
       "\t Biotech \\& Pharmaceuticals & Aerospace \\& Defense       & 0.595\\\\\n",
       "\t Finance                   & Aerospace \\& Defense       & 0.068\\\\\n",
       "\\end{tabular}\n"
      ],
      "text/markdown": [
       "\n",
       "A data.frame: 15 × 3\n",
       "\n",
       "| Sector1 &lt;chr&gt; | Sector2 &lt;chr&gt; | P_Value &lt;dbl&gt; |\n",
       "|---|---|---|\n",
       "| Insurance                 | Business Services         | 0.001 |\n",
       "| Insurance                 | Information Technology    | 0.192 |\n",
       "| Insurance                 | Biotech &amp; Pharmaceuticals | 0.007 |\n",
       "| Insurance                 | Finance                   | 0.261 |\n",
       "| Insurance                 | Aerospace &amp; Defense       | 0.003 |\n",
       "| Business Services         | Information Technology    | 0.000 |\n",
       "| Business Services         | Biotech &amp; Pharmaceuticals | 0.536 |\n",
       "| Business Services         | Finance                   | 0.046 |\n",
       "| Business Services         | Aerospace &amp; Defense       | 0.969 |\n",
       "| Information Technology    | Biotech &amp; Pharmaceuticals | 0.009 |\n",
       "| Information Technology    | Finance                   | 0.906 |\n",
       "| Information Technology    | Aerospace &amp; Defense       | 0.003 |\n",
       "| Biotech &amp; Pharmaceuticals | Finance                   | 0.137 |\n",
       "| Biotech &amp; Pharmaceuticals | Aerospace &amp; Defense       | 0.595 |\n",
       "| Finance                   | Aerospace &amp; Defense       | 0.068 |\n",
       "\n"
      ],
      "text/plain": [
       "   Sector1                   Sector2                   P_Value\n",
       "1  Insurance                 Business Services         0.001  \n",
       "2  Insurance                 Information Technology    0.192  \n",
       "3  Insurance                 Biotech & Pharmaceuticals 0.007  \n",
       "4  Insurance                 Finance                   0.261  \n",
       "5  Insurance                 Aerospace & Defense       0.003  \n",
       "6  Business Services         Information Technology    0.000  \n",
       "7  Business Services         Biotech & Pharmaceuticals 0.536  \n",
       "8  Business Services         Finance                   0.046  \n",
       "9  Business Services         Aerospace & Defense       0.969  \n",
       "10 Information Technology    Biotech & Pharmaceuticals 0.009  \n",
       "11 Information Technology    Finance                   0.906  \n",
       "12 Information Technology    Aerospace & Defense       0.003  \n",
       "13 Biotech & Pharmaceuticals Finance                   0.137  \n",
       "14 Biotech & Pharmaceuticals Aerospace & Defense       0.595  \n",
       "15 Finance                   Aerospace & Defense       0.068  "
      ]
     },
     "metadata": {},
     "output_type": "display_data"
    }
   ],
   "source": [
    "# Initialize lists to store the comparisons and p-values\n",
    "sector1_list <- c()\n",
    "sector2_list <- c()\n",
    "p_value_list <- c()\n",
    "\n",
    "# Perform variance test for each pair of sectors\n",
    "for (i in 1:(length(group) - 1)) {\n",
    "  for (j in (i+1):length(group)) {\n",
    "    sector1 <- df_new[df_new$Sector == group[i], \"avg_salary\"]\n",
    "    sector2 <- df_new[df_new$Sector == group[j], \"avg_salary\"]\n",
    "    \n",
    "    # Perform variance test\n",
    "    var_test_result <- var.test(sector1, sector2)\n",
    "    \n",
    "    # Store the sector comparisons and p-values\n",
    "    sector1_list <- c(sector1_list, group[i])\n",
    "    sector2_list <- c(sector2_list, group[j])\n",
    "    p_value_list <- c(p_value_list, round(var_test_result$p.value, 3))\n",
    "  }\n",
    "}\n",
    "\n",
    "# Create a data frame to store the results\n",
    "results_df <- data.frame(Sector1 = sector1_list, Sector2 = sector2_list, P_Value = p_value_list)\n",
    "\n",
    "results_df"
   ]
  },
  {
   "cell_type": "markdown",
   "metadata": {},
   "source": [
    "Since Insurance, Business Services and Information Technology has no equal variance, we left with 3 sectors Aerospace & Defense, Finance and Biotech & Pharmaceuticals which satisfy all conditions to perform anova test"
   ]
  },
  {
   "cell_type": "markdown",
   "metadata": {},
   "source": [
    "Anova Test for the sector with the 3 sectors"
   ]
  },
  {
   "cell_type": "code",
   "execution_count": 70,
   "metadata": {
    "vscode": {
     "languageId": "r"
    }
   },
   "outputs": [
    {
     "data": {
      "text/html": [
       "<table class=\"dataframe\">\n",
       "<caption>A data.frame: 6 × 2</caption>\n",
       "<thead>\n",
       "\t<tr><th></th><th scope=col>Sector</th><th scope=col>avg_salary</th></tr>\n",
       "\t<tr><th></th><th scope=col>&lt;chr&gt;</th><th scope=col>&lt;int&gt;</th></tr>\n",
       "</thead>\n",
       "<tbody>\n",
       "\t<tr><th scope=row>7</th><td>Biotech &amp; Pharmaceuticals</td><td>154</td></tr>\n",
       "\t<tr><th scope=row>26</th><td>Finance                  </td><td>154</td></tr>\n",
       "\t<tr><th scope=row>27</th><td><span style=white-space:pre-wrap>Aerospace &amp; Defense      </span></td><td>154</td></tr>\n",
       "\t<tr><th scope=row>31</th><td>Biotech &amp; Pharmaceuticals</td><td>103</td></tr>\n",
       "\t<tr><th scope=row>40</th><td>Finance                  </td><td>103</td></tr>\n",
       "\t<tr><th scope=row>43</th><td>Biotech &amp; Pharmaceuticals</td><td>103</td></tr>\n",
       "</tbody>\n",
       "</table>\n"
      ],
      "text/latex": [
       "A data.frame: 6 × 2\n",
       "\\begin{tabular}{r|ll}\n",
       "  & Sector & avg\\_salary\\\\\n",
       "  & <chr> & <int>\\\\\n",
       "\\hline\n",
       "\t7 & Biotech \\& Pharmaceuticals & 154\\\\\n",
       "\t26 & Finance                   & 154\\\\\n",
       "\t27 & Aerospace \\& Defense       & 154\\\\\n",
       "\t31 & Biotech \\& Pharmaceuticals & 103\\\\\n",
       "\t40 & Finance                   & 103\\\\\n",
       "\t43 & Biotech \\& Pharmaceuticals & 103\\\\\n",
       "\\end{tabular}\n"
      ],
      "text/markdown": [
       "\n",
       "A data.frame: 6 × 2\n",
       "\n",
       "| <!--/--> | Sector &lt;chr&gt; | avg_salary &lt;int&gt; |\n",
       "|---|---|---|\n",
       "| 7 | Biotech &amp; Pharmaceuticals | 154 |\n",
       "| 26 | Finance                   | 154 |\n",
       "| 27 | Aerospace &amp; Defense       | 154 |\n",
       "| 31 | Biotech &amp; Pharmaceuticals | 103 |\n",
       "| 40 | Finance                   | 103 |\n",
       "| 43 | Biotech &amp; Pharmaceuticals | 103 |\n",
       "\n"
      ],
      "text/plain": [
       "   Sector                    avg_salary\n",
       "7  Biotech & Pharmaceuticals 154       \n",
       "26 Finance                   154       \n",
       "27 Aerospace & Defense       154       \n",
       "31 Biotech & Pharmaceuticals 103       \n",
       "40 Finance                   103       \n",
       "43 Biotech & Pharmaceuticals 103       "
      ]
     },
     "metadata": {},
     "output_type": "display_data"
    }
   ],
   "source": [
    "# Extract rows where Sector is Biotech & Pharmaceuticals, Finance, or Aerospace & Defense\n",
    "select_sectors <- c(\"Biotech & Pharmaceuticals\", \"Finance\", \"Aerospace & Defense\")\n",
    "filtered_df <- df_new[df_new$Sector %in% select_sectors, ]\n",
    "\n",
    "# Print the first few rows of the filtered dataframe\n",
    "head(filtered_df)"
   ]
  },
  {
   "cell_type": "code",
   "execution_count": 71,
   "metadata": {
    "vscode": {
     "languageId": "r"
    }
   },
   "outputs": [
    {
     "data": {
      "text/plain": [
       "             Df Sum Sq Mean Sq F value Pr(>F)\n",
       "Sector        2   5567    2784   1.531   0.22\n",
       "Residuals   140 254546    1818               "
      ]
     },
     "metadata": {},
     "output_type": "display_data"
    }
   ],
   "source": [
    "summary(aov(avg_salary ~ Sector, data = filtered_df))"
   ]
  },
  {
   "cell_type": "markdown",
   "metadata": {},
   "source": [
    "#### p-value<0.05, reject H0 "
   ]
  },
  {
   "cell_type": "code",
   "execution_count": 72,
   "metadata": {
    "vscode": {
     "languageId": "r"
    }
   },
   "outputs": [
    {
     "data": {
      "text/plain": [
       "\n",
       "\tPairwise comparisons using t tests with pooled SD \n",
       "\n",
       "data:  filtered_df$avg_salary and filtered_df$Sector \n",
       "\n",
       "                          Aerospace & Defense Biotech & Pharmaceuticals\n",
       "Biotech & Pharmaceuticals 0.231               -                        \n",
       "Finance                   0.092               0.456                    \n",
       "\n",
       "P value adjustment method: none "
      ]
     },
     "metadata": {},
     "output_type": "display_data"
    }
   ],
   "source": [
    "pairwise.t.test(filtered_df$avg_salary, filtered_df$Sector, p.adjust.method = \"none\")"
   ]
  },
  {
   "cell_type": "markdown",
   "metadata": {},
   "source": [
    "IT vs A&D => 0.038 <br>\n",
    "I vs A&D => 0.02 <br>\n",
    "IT vs Bus => 0.019<br>\n",
    "I vs Bus => 0.018 "
   ]
  },
  {
   "cell_type": "markdown",
   "metadata": {},
   "source": [
    "From the pairwise t-test, we see that IT and insurance sector are significantly different from Aerospace & Defense and Business Services sector."
   ]
  }
 ],
 "metadata": {
  "kernelspec": {
   "display_name": "R",
   "language": "R",
   "name": "ir"
  },
  "language_info": {
   "codemirror_mode": "r",
   "file_extension": ".r",
   "mimetype": "text/x-r-source",
   "name": "R",
   "pygments_lexer": "r",
   "version": "4.3.2"
  }
 },
 "nbformat": 4,
 "nbformat_minor": 2
}

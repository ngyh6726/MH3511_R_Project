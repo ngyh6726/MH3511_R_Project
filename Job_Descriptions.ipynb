{
 "cells": [
  {
   "cell_type": "code",
   "execution_count": 18,
   "id": "030498d7-ad8a-40c3-bf87-0a70d21ed92b",
   "metadata": {
    "vscode": {
     "languageId": "r"
    }
   },
   "outputs": [],
   "source": [
    "df <- read.csv(\"sampled_job_descriptions.csv\", sep=\",\", header=TRUE, fill=TRUE)"
   ]
  },
  {
   "cell_type": "code",
   "execution_count": 19,
   "id": "bffa46a2",
   "metadata": {
    "vscode": {
     "languageId": "r"
    }
   },
   "outputs": [],
   "source": [
    "library(readr)\n",
    "library(dplyr)"
   ]
  },
  {
   "cell_type": "code",
   "execution_count": 12,
   "id": "10a9d736",
   "metadata": {
    "vscode": {
     "languageId": "r"
    }
   },
   "outputs": [
    {
     "name": "stdout",
     "output_type": "stream",
     "text": [
      "  Salary.Range minRange maxRange\n",
      "1  $12K, $128K    12000   128000\n",
      "2   $40K, $90K    40000    90000\n",
      "3  $80K, $150K    80000   150000\n"
     ]
    }
   ],
   "source": [
    "# Example data\n",
    "data <- data.frame(Salary.Range = c(\"$12K-$128K\", \"$40K-$90K\", \"$80K-$150K\"))\n",
    "\n",
    "# Function to extract numeric values\n",
    "extract_numeric <- function(x) {\n",
    "  # Extract numeric part and remove non-numeric characters\n",
    "  numeric_part <- gsub(\"\\\\D\", \"\", x)\n",
    "  # Convert to numeric (handling empty strings)\n",
    "  ifelse(numeric_part == \"\", NA, as.numeric(numeric_part))\n",
    "}\n",
    "\n",
    "# Split the \"Salary.Range\" column by \"-\"\n",
    "data <- data %>%\n",
    "  mutate(Salary.Range = strsplit(Salary.Range, \"-\")) %>%\n",
    "  # Extract minimum and maximum values\n",
    "  mutate(\n",
    "    minRange = extract_numeric(sapply(Salary.Range, `[`, 1)) * 1000,\n",
    "    maxRange = extract_numeric(sapply(Salary.Range, `[`, 2)) * 1000\n",
    "  )\n",
    "\n",
    "# Print the modified data frame\n",
    "print(data)"
   ]
  },
  {
   "cell_type": "code",
   "execution_count": 21,
   "id": "2d3e0ce7",
   "metadata": {
    "vscode": {
     "languageId": "r"
    }
   },
   "outputs": [
    {
     "name": "stdout",
     "output_type": "stream",
     "text": [
      "     Experience Qualifications Salary.Range          Country Work.Type\n",
      "1 4 to 11 Years          M.Com  $61K, $128K   Macedonia, FYR Temporary\n",
      "2 3 to 10 Years         M.Tech  $65K, $129K        Greenland    Intern\n",
      "3 0 to 15 Years         M.Tech  $56K, $114K         Kiribati Full-Time\n",
      "4 2 to 12 Years            PhD  $57K, $113K Papua New Guinea    Intern\n",
      "5  2 to 9 Years          B.Com  $57K, $110K          Georgia Temporary\n",
      "  Company.Size Job.Posting.Date Preference           Job.Title\n",
      "1        90997       2023-02-08     Female  Landscape Designer\n",
      "2       123218       2023-05-10     Female Structural Engineer\n",
      "3        62356       2023-04-11       Male  Physical Therapist\n",
      "4        61041       2023-07-13       Both           Architect\n",
      "5        84565       2023-08-10       Both      Office Manager\n",
      "                              Role   Job.Portal\n",
      "1 Sustainable Landscape Specialist ZipRecruiter\n",
      "2            Construction Engineer     FlexJobs\n",
      "3     Geriatric Physical Therapist  SimplyHired\n",
      "4    Sustainable Design Specialist Jobs2Careers\n",
      "5               Office Coordinator     Idealist\n",
      "                                                                                                                                                Benefits\n",
      "1                              {'Transportation Benefits, Professional Development, Bonuses and Incentive Programs, Profit-Sharing, Employee Discounts'}\n",
      "2                 {'Health Insurance, Retirement Plans, Flexible Work Arrangements, Employee Assistance Programs (EAP), Bonuses and Incentive Programs'}\n",
      "3   {'Casual Dress Code, Social and Recreational Activities, Employee Referral Programs, Health and Wellness Facilities, Life and Disability Insurance'}\n",
      "4 {'Life and Disability Insurance, Stock Options or Equity Grants, Employee Recognition Programs, Health Insurance, Social and Recreational Activities'}\n",
      "5                             {'Childcare Assistance, Paid Time Off (PTO), Relocation Assistance, Flexible Work Arrangements, Professional Development'}\n",
      "                                                                                                                          skills\n",
      "1 Sustainable landscape design Native plant selection Water conservation Soil health Green building practices LEED certification\n",
      "2                               Construction management Structural design AutoCAD proficiency Project management Site inspection\n",
      "3                                                                  Geriatric rehabilitation Fall prevention Elderly patient care\n",
      "4    Sustainable design principles Energy efficiency LEED certification Green building materials Environmental impact assessment\n",
      "5      Office administration Calendar management Reception duties Communication skills Record keeping Office supplies management\n",
      "                                                                                                                                                                                   Company.Profile\n",
      "1                                            {\"Sector\":\"Oil & Gas\",\"Industry\":\"Oil and Gas\",\"City\":\"London\",\"State\":\"N/A\",\"Zip\":\"N/A\",\"Website\":\"www.bp.com\",\"Ticker\":\"BP\",\"CEO\":\"Bernard Looney\"}\n",
      "2 {\"Sector\":\"Utilities\",\"Industry\":\"Utilities: Gas and Electric\",\"City\":\"King of Prussia\",\"State\":\"Pennsylvania\",\"Zip\":\"19406\",\"Website\":\"www.ugicorp.com\",\"Ticker\":\"UGI\",\"CEO\":\"Roger Perreault\"}\n",
      "3             {\"Sector\":\"Aerospace and Defense\",\"Industry\":\"Aerospace & Defense\",\"City\":\"Reston\",\"State\":\"Virginia\",\"Zip\":\"20190\",\"Website\":\"www.gd.com\",\"Ticker\":\"GD\",\"CEO\":\"Phebe N. Novakovic\"}\n",
      "4    {\"Sector\":\"Automotive\",\"Industry\":\"Automotive Retailing, Services\",\"City\":\"Medford\",\"State\":\"Oregon\",\"Zip\":\"97501\",\"Website\":\"www.lithiadriveway.com\",\"Ticker\":\"LAD\",\"CEO\":\"Bryan B. Deboer\"}\n",
      "5             {\"Sector\":\"Retail\",\"Industry\":\"Automotive Retailing, Services\",\"City\":\"Richmond\",\"State\":\"Virginia\",\"Zip\":\"23238\",\"Website\":\"www.carmax.com\",\"Ticker\":\"KMX\",\"CEO\":\"William D. Nash\"}\n",
      "  minRange maxRange\n",
      "1    61000   128000\n",
      "2    65000   129000\n",
      "3    56000   114000\n",
      "4    57000   113000\n",
      "5    57000   110000\n"
     ]
    }
   ],
   "source": [
    "# Function to extract numeric values\n",
    "extract_numeric <- function(x) {\n",
    "  # Extract numeric part and remove non-numeric characters\n",
    "  numeric_part <- gsub(\"\\\\D\", \"\", x)\n",
    "  # Convert to numeric (handling empty strings)\n",
    "  ifelse(numeric_part == \"\", NA, as.numeric(numeric_part))\n",
    "}\n",
    "\n",
    "# Split the \"Salary.Range\" column by \"-\"\n",
    "df_new <- df %>%\n",
    "  mutate(Salary.Range = strsplit(as.character(Salary.Range), \"-\")) %>%\n",
    "  # Extract minimum and maximum values\n",
    "  mutate(\n",
    "    minRange = extract_numeric(sapply(Salary.Range, `[`, 1)) * 1000,\n",
    "    maxRange = extract_numeric(sapply(Salary.Range, `[`, 2)) * 1000\n",
    "  )\n",
    "\n",
    "# Print the modified data frame\n",
    "print(head(df_new, 5))"
   ]
  },
  {
   "cell_type": "code",
   "execution_count": 22,
   "id": "19419c5b-1881-4ad3-a66d-b7b646834150",
   "metadata": {
    "vscode": {
     "languageId": "r"
    }
   },
   "outputs": [
    {
     "data": {
      "text/html": [
       "<table class=\"dataframe\">\n",
       "<caption>A data.frame: 5 × 16</caption>\n",
       "<thead>\n",
       "\t<tr><th></th><th scope=col>Experience</th><th scope=col>Qualifications</th><th scope=col>Salary.Range</th><th scope=col>Country</th><th scope=col>Work.Type</th><th scope=col>Company.Size</th><th scope=col>Job.Posting.Date</th><th scope=col>Preference</th><th scope=col>Job.Title</th><th scope=col>Role</th><th scope=col>Job.Portal</th><th scope=col>Benefits</th><th scope=col>skills</th><th scope=col>Company.Profile</th><th scope=col>minRange</th><th scope=col>maxRange</th></tr>\n",
       "\t<tr><th></th><th scope=col>&lt;chr&gt;</th><th scope=col>&lt;chr&gt;</th><th scope=col>&lt;list&gt;</th><th scope=col>&lt;chr&gt;</th><th scope=col>&lt;chr&gt;</th><th scope=col>&lt;int&gt;</th><th scope=col>&lt;chr&gt;</th><th scope=col>&lt;chr&gt;</th><th scope=col>&lt;chr&gt;</th><th scope=col>&lt;chr&gt;</th><th scope=col>&lt;chr&gt;</th><th scope=col>&lt;chr&gt;</th><th scope=col>&lt;chr&gt;</th><th scope=col>&lt;chr&gt;</th><th scope=col>&lt;dbl&gt;</th><th scope=col>&lt;dbl&gt;</th></tr>\n",
       "</thead>\n",
       "<tbody>\n",
       "\t<tr><th scope=row>1</th><td>4 to 11 Years</td><td>M.Com </td><td>$61K , $128K</td><td><span style=white-space:pre-wrap>Macedonia, FYR  </span></td><td>Temporary</td><td> 90997</td><td>2023-02-08</td><td>Female</td><td>Landscape Designer </td><td>Sustainable Landscape Specialist</td><td>ZipRecruiter</td><td><span style=white-space:pre-wrap>{'Transportation Benefits, Professional Development, Bonuses and Incentive Programs, Profit-Sharing, Employee Discounts'}                             </span></td><td>Sustainable landscape design Native plant selection Water conservation Soil health Green building practices LEED certification</td><td><span style=white-space:pre-wrap>{\"Sector\":\"Oil &amp; Gas\",\"Industry\":\"Oil and Gas\",\"City\":\"London\",\"State\":\"N/A\",\"Zip\":\"N/A\",\"Website\":\"www.bp.com\",\"Ticker\":\"BP\",\"CEO\":\"Bernard Looney\"}                                           </span></td><td>61000</td><td>128000</td></tr>\n",
       "\t<tr><th scope=row>2</th><td>3 to 10 Years</td><td>M.Tech</td><td>$65K , $129K</td><td>Greenland       </td><td>Intern   </td><td>123218</td><td>2023-05-10</td><td>Female</td><td>Structural Engineer</td><td>Construction Engineer           </td><td>FlexJobs    </td><td>{'Health Insurance, Retirement Plans, Flexible Work Arrangements, Employee Assistance Programs (EAP), Bonuses and Incentive Programs'}                </td><td>Construction management Structural design AutoCAD proficiency Project management Site inspection                              </td><td>{\"Sector\":\"Utilities\",\"Industry\":\"Utilities: Gas and Electric\",\"City\":\"King of Prussia\",\"State\":\"Pennsylvania\",\"Zip\":\"19406\",\"Website\":\"www.ugicorp.com\",\"Ticker\":\"UGI\",\"CEO\":\"Roger Perreault\"}</td><td>65000</td><td>129000</td></tr>\n",
       "\t<tr><th scope=row>3</th><td>0 to 15 Years</td><td>M.Tech</td><td>$56K , $114K</td><td><span style=white-space:pre-wrap>Kiribati        </span></td><td>Full-Time</td><td> 62356</td><td>2023-04-11</td><td><span style=white-space:pre-wrap>Male  </span></td><td>Physical Therapist </td><td><span style=white-space:pre-wrap>Geriatric Physical Therapist    </span></td><td>SimplyHired </td><td><span style=white-space:pre-wrap>{'Casual Dress Code, Social and Recreational Activities, Employee Referral Programs, Health and Wellness Facilities, Life and Disability Insurance'}  </span></td><td><span style=white-space:pre-wrap>Geriatric rehabilitation Fall prevention Elderly patient care                                                                 </span></td><td><span style=white-space:pre-wrap>{\"Sector\":\"Aerospace and Defense\",\"Industry\":\"Aerospace &amp; Defense\",\"City\":\"Reston\",\"State\":\"Virginia\",\"Zip\":\"20190\",\"Website\":\"www.gd.com\",\"Ticker\":\"GD\",\"CEO\":\"Phebe N. Novakovic\"}            </span></td><td>56000</td><td>114000</td></tr>\n",
       "\t<tr><th scope=row>4</th><td>2 to 12 Years</td><td>PhD   </td><td>$57K , $113K</td><td>Papua New Guinea</td><td>Intern   </td><td> 61041</td><td>2023-07-13</td><td>Both  </td><td>Architect          </td><td>Sustainable Design Specialist   </td><td>Jobs2Careers</td><td>{'Life and Disability Insurance, Stock Options or Equity Grants, Employee Recognition Programs, Health Insurance, Social and Recreational Activities'}</td><td>Sustainable design principles Energy efficiency LEED certification Green building materials Environmental impact assessment   </td><td>{\"Sector\":\"Automotive\",\"Industry\":\"Automotive Retailing, Services\",\"City\":\"Medford\",\"State\":\"Oregon\",\"Zip\":\"97501\",\"Website\":\"www.lithiadriveway.com\",\"Ticker\":\"LAD\",\"CEO\":\"Bryan B. Deboer\"}   </td><td>57000</td><td>113000</td></tr>\n",
       "\t<tr><th scope=row>5</th><td>2 to 9 Years </td><td>B.Com </td><td>$57K , $110K</td><td>Georgia         </td><td>Temporary</td><td> 84565</td><td>2023-08-10</td><td>Both  </td><td>Office Manager     </td><td>Office Coordinator              </td><td>Idealist    </td><td>{'Childcare Assistance, Paid Time Off (PTO), Relocation Assistance, Flexible Work Arrangements, Professional Development'}                            </td><td>Office administration Calendar management Reception duties Communication skills Record keeping Office supplies management     </td><td>{\"Sector\":\"Retail\",\"Industry\":\"Automotive Retailing, Services\",\"City\":\"Richmond\",\"State\":\"Virginia\",\"Zip\":\"23238\",\"Website\":\"www.carmax.com\",\"Ticker\":\"KMX\",\"CEO\":\"William D. Nash\"}            </td><td>57000</td><td>110000</td></tr>\n",
       "</tbody>\n",
       "</table>\n"
      ],
      "text/latex": [
       "A data.frame: 5 × 16\n",
       "\\begin{tabular}{r|llllllllllllllll}\n",
       "  & Experience & Qualifications & Salary.Range & Country & Work.Type & Company.Size & Job.Posting.Date & Preference & Job.Title & Role & Job.Portal & Benefits & skills & Company.Profile & minRange & maxRange\\\\\n",
       "  & <chr> & <chr> & <list> & <chr> & <chr> & <int> & <chr> & <chr> & <chr> & <chr> & <chr> & <chr> & <chr> & <chr> & <dbl> & <dbl>\\\\\n",
       "\\hline\n",
       "\t1 & 4 to 11 Years & M.Com  & \\$61K , \\$128K & Macedonia, FYR   & Temporary &  90997 & 2023-02-08 & Female & Landscape Designer  & Sustainable Landscape Specialist & ZipRecruiter & \\{'Transportation Benefits, Professional Development, Bonuses and Incentive Programs, Profit-Sharing, Employee Discounts'\\}                              & Sustainable landscape design Native plant selection Water conservation Soil health Green building practices LEED certification & \\{\"Sector\":\"Oil \\& Gas\",\"Industry\":\"Oil and Gas\",\"City\":\"London\",\"State\":\"N/A\",\"Zip\":\"N/A\",\"Website\":\"www.bp.com\",\"Ticker\":\"BP\",\"CEO\":\"Bernard Looney\"\\}                                            & 61000 & 128000\\\\\n",
       "\t2 & 3 to 10 Years & M.Tech & \\$65K , \\$129K & Greenland        & Intern    & 123218 & 2023-05-10 & Female & Structural Engineer & Construction Engineer            & FlexJobs     & \\{'Health Insurance, Retirement Plans, Flexible Work Arrangements, Employee Assistance Programs (EAP), Bonuses and Incentive Programs'\\}                 & Construction management Structural design AutoCAD proficiency Project management Site inspection                               & \\{\"Sector\":\"Utilities\",\"Industry\":\"Utilities: Gas and Electric\",\"City\":\"King of Prussia\",\"State\":\"Pennsylvania\",\"Zip\":\"19406\",\"Website\":\"www.ugicorp.com\",\"Ticker\":\"UGI\",\"CEO\":\"Roger Perreault\"\\} & 65000 & 129000\\\\\n",
       "\t3 & 0 to 15 Years & M.Tech & \\$56K , \\$114K & Kiribati         & Full-Time &  62356 & 2023-04-11 & Male   & Physical Therapist  & Geriatric Physical Therapist     & SimplyHired  & \\{'Casual Dress Code, Social and Recreational Activities, Employee Referral Programs, Health and Wellness Facilities, Life and Disability Insurance'\\}   & Geriatric rehabilitation Fall prevention Elderly patient care                                                                  & \\{\"Sector\":\"Aerospace and Defense\",\"Industry\":\"Aerospace \\& Defense\",\"City\":\"Reston\",\"State\":\"Virginia\",\"Zip\":\"20190\",\"Website\":\"www.gd.com\",\"Ticker\":\"GD\",\"CEO\":\"Phebe N. Novakovic\"\\}             & 56000 & 114000\\\\\n",
       "\t4 & 2 to 12 Years & PhD    & \\$57K , \\$113K & Papua New Guinea & Intern    &  61041 & 2023-07-13 & Both   & Architect           & Sustainable Design Specialist    & Jobs2Careers & \\{'Life and Disability Insurance, Stock Options or Equity Grants, Employee Recognition Programs, Health Insurance, Social and Recreational Activities'\\} & Sustainable design principles Energy efficiency LEED certification Green building materials Environmental impact assessment    & \\{\"Sector\":\"Automotive\",\"Industry\":\"Automotive Retailing, Services\",\"City\":\"Medford\",\"State\":\"Oregon\",\"Zip\":\"97501\",\"Website\":\"www.lithiadriveway.com\",\"Ticker\":\"LAD\",\"CEO\":\"Bryan B. Deboer\"\\}    & 57000 & 113000\\\\\n",
       "\t5 & 2 to 9 Years  & B.Com  & \\$57K , \\$110K & Georgia          & Temporary &  84565 & 2023-08-10 & Both   & Office Manager      & Office Coordinator               & Idealist     & \\{'Childcare Assistance, Paid Time Off (PTO), Relocation Assistance, Flexible Work Arrangements, Professional Development'\\}                             & Office administration Calendar management Reception duties Communication skills Record keeping Office supplies management      & \\{\"Sector\":\"Retail\",\"Industry\":\"Automotive Retailing, Services\",\"City\":\"Richmond\",\"State\":\"Virginia\",\"Zip\":\"23238\",\"Website\":\"www.carmax.com\",\"Ticker\":\"KMX\",\"CEO\":\"William D. Nash\"\\}             & 57000 & 110000\\\\\n",
       "\\end{tabular}\n"
      ],
      "text/markdown": [
       "\n",
       "A data.frame: 5 × 16\n",
       "\n",
       "| <!--/--> | Experience &lt;chr&gt; | Qualifications &lt;chr&gt; | Salary.Range &lt;list&gt; | Country &lt;chr&gt; | Work.Type &lt;chr&gt; | Company.Size &lt;int&gt; | Job.Posting.Date &lt;chr&gt; | Preference &lt;chr&gt; | Job.Title &lt;chr&gt; | Role &lt;chr&gt; | Job.Portal &lt;chr&gt; | Benefits &lt;chr&gt; | skills &lt;chr&gt; | Company.Profile &lt;chr&gt; | minRange &lt;dbl&gt; | maxRange &lt;dbl&gt; |\n",
       "|---|---|---|---|---|---|---|---|---|---|---|---|---|---|---|---|---|\n",
       "| 1 | 4 to 11 Years | M.Com  | $61K , $128K | Macedonia, FYR   | Temporary |  90997 | 2023-02-08 | Female | Landscape Designer  | Sustainable Landscape Specialist | ZipRecruiter | {'Transportation Benefits, Professional Development, Bonuses and Incentive Programs, Profit-Sharing, Employee Discounts'}                              | Sustainable landscape design Native plant selection Water conservation Soil health Green building practices LEED certification | {\"Sector\":\"Oil &amp; Gas\",\"Industry\":\"Oil and Gas\",\"City\":\"London\",\"State\":\"N/A\",\"Zip\":\"N/A\",\"Website\":\"www.bp.com\",\"Ticker\":\"BP\",\"CEO\":\"Bernard Looney\"}                                            | 61000 | 128000 |\n",
       "| 2 | 3 to 10 Years | M.Tech | $65K , $129K | Greenland        | Intern    | 123218 | 2023-05-10 | Female | Structural Engineer | Construction Engineer            | FlexJobs     | {'Health Insurance, Retirement Plans, Flexible Work Arrangements, Employee Assistance Programs (EAP), Bonuses and Incentive Programs'}                 | Construction management Structural design AutoCAD proficiency Project management Site inspection                               | {\"Sector\":\"Utilities\",\"Industry\":\"Utilities: Gas and Electric\",\"City\":\"King of Prussia\",\"State\":\"Pennsylvania\",\"Zip\":\"19406\",\"Website\":\"www.ugicorp.com\",\"Ticker\":\"UGI\",\"CEO\":\"Roger Perreault\"} | 65000 | 129000 |\n",
       "| 3 | 0 to 15 Years | M.Tech | $56K , $114K | Kiribati         | Full-Time |  62356 | 2023-04-11 | Male   | Physical Therapist  | Geriatric Physical Therapist     | SimplyHired  | {'Casual Dress Code, Social and Recreational Activities, Employee Referral Programs, Health and Wellness Facilities, Life and Disability Insurance'}   | Geriatric rehabilitation Fall prevention Elderly patient care                                                                  | {\"Sector\":\"Aerospace and Defense\",\"Industry\":\"Aerospace &amp; Defense\",\"City\":\"Reston\",\"State\":\"Virginia\",\"Zip\":\"20190\",\"Website\":\"www.gd.com\",\"Ticker\":\"GD\",\"CEO\":\"Phebe N. Novakovic\"}             | 56000 | 114000 |\n",
       "| 4 | 2 to 12 Years | PhD    | $57K , $113K | Papua New Guinea | Intern    |  61041 | 2023-07-13 | Both   | Architect           | Sustainable Design Specialist    | Jobs2Careers | {'Life and Disability Insurance, Stock Options or Equity Grants, Employee Recognition Programs, Health Insurance, Social and Recreational Activities'} | Sustainable design principles Energy efficiency LEED certification Green building materials Environmental impact assessment    | {\"Sector\":\"Automotive\",\"Industry\":\"Automotive Retailing, Services\",\"City\":\"Medford\",\"State\":\"Oregon\",\"Zip\":\"97501\",\"Website\":\"www.lithiadriveway.com\",\"Ticker\":\"LAD\",\"CEO\":\"Bryan B. Deboer\"}    | 57000 | 113000 |\n",
       "| 5 | 2 to 9 Years  | B.Com  | $57K , $110K | Georgia          | Temporary |  84565 | 2023-08-10 | Both   | Office Manager      | Office Coordinator               | Idealist     | {'Childcare Assistance, Paid Time Off (PTO), Relocation Assistance, Flexible Work Arrangements, Professional Development'}                             | Office administration Calendar management Reception duties Communication skills Record keeping Office supplies management      | {\"Sector\":\"Retail\",\"Industry\":\"Automotive Retailing, Services\",\"City\":\"Richmond\",\"State\":\"Virginia\",\"Zip\":\"23238\",\"Website\":\"www.carmax.com\",\"Ticker\":\"KMX\",\"CEO\":\"William D. Nash\"}             | 57000 | 110000 |\n",
       "\n"
      ],
      "text/plain": [
       "  Experience    Qualifications Salary.Range Country          Work.Type\n",
       "1 4 to 11 Years M.Com          $61K , $128K Macedonia, FYR   Temporary\n",
       "2 3 to 10 Years M.Tech         $65K , $129K Greenland        Intern   \n",
       "3 0 to 15 Years M.Tech         $56K , $114K Kiribati         Full-Time\n",
       "4 2 to 12 Years PhD            $57K , $113K Papua New Guinea Intern   \n",
       "5 2 to 9 Years  B.Com          $57K , $110K Georgia          Temporary\n",
       "  Company.Size Job.Posting.Date Preference Job.Title          \n",
       "1  90997       2023-02-08       Female     Landscape Designer \n",
       "2 123218       2023-05-10       Female     Structural Engineer\n",
       "3  62356       2023-04-11       Male       Physical Therapist \n",
       "4  61041       2023-07-13       Both       Architect          \n",
       "5  84565       2023-08-10       Both       Office Manager     \n",
       "  Role                             Job.Portal  \n",
       "1 Sustainable Landscape Specialist ZipRecruiter\n",
       "2 Construction Engineer            FlexJobs    \n",
       "3 Geriatric Physical Therapist     SimplyHired \n",
       "4 Sustainable Design Specialist    Jobs2Careers\n",
       "5 Office Coordinator               Idealist    \n",
       "  Benefits                                                                                                                                              \n",
       "1 {'Transportation Benefits, Professional Development, Bonuses and Incentive Programs, Profit-Sharing, Employee Discounts'}                             \n",
       "2 {'Health Insurance, Retirement Plans, Flexible Work Arrangements, Employee Assistance Programs (EAP), Bonuses and Incentive Programs'}                \n",
       "3 {'Casual Dress Code, Social and Recreational Activities, Employee Referral Programs, Health and Wellness Facilities, Life and Disability Insurance'}  \n",
       "4 {'Life and Disability Insurance, Stock Options or Equity Grants, Employee Recognition Programs, Health Insurance, Social and Recreational Activities'}\n",
       "5 {'Childcare Assistance, Paid Time Off (PTO), Relocation Assistance, Flexible Work Arrangements, Professional Development'}                            \n",
       "  skills                                                                                                                        \n",
       "1 Sustainable landscape design Native plant selection Water conservation Soil health Green building practices LEED certification\n",
       "2 Construction management Structural design AutoCAD proficiency Project management Site inspection                              \n",
       "3 Geriatric rehabilitation Fall prevention Elderly patient care                                                                 \n",
       "4 Sustainable design principles Energy efficiency LEED certification Green building materials Environmental impact assessment   \n",
       "5 Office administration Calendar management Reception duties Communication skills Record keeping Office supplies management     \n",
       "  Company.Profile                                                                                                                                                                                 \n",
       "1 {\"Sector\":\"Oil & Gas\",\"Industry\":\"Oil and Gas\",\"City\":\"London\",\"State\":\"N/A\",\"Zip\":\"N/A\",\"Website\":\"www.bp.com\",\"Ticker\":\"BP\",\"CEO\":\"Bernard Looney\"}                                           \n",
       "2 {\"Sector\":\"Utilities\",\"Industry\":\"Utilities: Gas and Electric\",\"City\":\"King of Prussia\",\"State\":\"Pennsylvania\",\"Zip\":\"19406\",\"Website\":\"www.ugicorp.com\",\"Ticker\":\"UGI\",\"CEO\":\"Roger Perreault\"}\n",
       "3 {\"Sector\":\"Aerospace and Defense\",\"Industry\":\"Aerospace & Defense\",\"City\":\"Reston\",\"State\":\"Virginia\",\"Zip\":\"20190\",\"Website\":\"www.gd.com\",\"Ticker\":\"GD\",\"CEO\":\"Phebe N. Novakovic\"}            \n",
       "4 {\"Sector\":\"Automotive\",\"Industry\":\"Automotive Retailing, Services\",\"City\":\"Medford\",\"State\":\"Oregon\",\"Zip\":\"97501\",\"Website\":\"www.lithiadriveway.com\",\"Ticker\":\"LAD\",\"CEO\":\"Bryan B. Deboer\"}   \n",
       "5 {\"Sector\":\"Retail\",\"Industry\":\"Automotive Retailing, Services\",\"City\":\"Richmond\",\"State\":\"Virginia\",\"Zip\":\"23238\",\"Website\":\"www.carmax.com\",\"Ticker\":\"KMX\",\"CEO\":\"William D. Nash\"}            \n",
       "  minRange maxRange\n",
       "1 61000    128000  \n",
       "2 65000    129000  \n",
       "3 56000    114000  \n",
       "4 57000    113000  \n",
       "5 57000    110000  "
      ]
     },
     "metadata": {},
     "output_type": "display_data"
    }
   ],
   "source": [
    "head(df_new, 5)"
   ]
  },
  {
   "cell_type": "code",
   "execution_count": 24,
   "id": "1887fd14",
   "metadata": {
    "vscode": {
     "languageId": "r"
    }
   },
   "outputs": [
    {
     "name": "stdout",
     "output_type": "stream",
     "text": [
      " [1] \"Experience\"       \"Qualifications\"   \"Salary.Range\"     \"Country\"         \n",
      " [5] \"Work.Type\"        \"Company.Size\"     \"Job.Posting.Date\" \"Preference\"      \n",
      " [9] \"Job.Title\"        \"Role\"             \"Job.Portal\"       \"Benefits\"        \n",
      "[13] \"skills\"           \"Company.Profile\" \n"
     ]
    }
   ],
   "source": [
    "# List column names\n",
    "column_names <- colnames(df)\n",
    "\n",
    "# Print the column names\n",
    "print(column_names)"
   ]
  },
  {
   "cell_type": "code",
   "execution_count": 25,
   "id": "23e341e2",
   "metadata": {
    "vscode": {
     "languageId": "r"
    }
   },
   "outputs": [
    {
     "name": "stdout",
     "output_type": "stream",
     "text": [
      " [1] \"Experience\"       \"Qualifications\"   \"Salary.Range\"     \"Country\"         \n",
      " [5] \"Work.Type\"        \"Company.Size\"     \"Job.Posting.Date\" \"Preference\"      \n",
      " [9] \"Job.Title\"        \"Role\"             \"Job.Portal\"       \"Benefits\"        \n",
      "[13] \"skills\"           \"Company.Profile\"  \"minRange\"         \"maxRange\"        \n"
     ]
    }
   ],
   "source": [
    "# List column names\n",
    "column_names2 <- colnames(df_new)\n",
    "\n",
    "# Print the column names\n",
    "print(column_names2)"
   ]
  },
  {
   "cell_type": "code",
   "execution_count": 26,
   "id": "72b6c664",
   "metadata": {
    "vscode": {
     "languageId": "r"
    }
   },
   "outputs": [
    {
     "name": "stdout",
     "output_type": "stream",
     "text": [
      "  minRange maxRange\n",
      "1    61000   128000\n",
      "2    65000   129000\n",
      "3    56000   114000\n",
      "4    57000   113000\n",
      "5    57000   110000\n"
     ]
    }
   ],
   "source": [
    "# Now, view the top 5 rows of the \"minRange\" and \"maxRange\" columns\n",
    "min_max <- df_new[, c(\"minRange\", \"maxRange\")]\n",
    "print(head(min_max, 5))"
   ]
  },
  {
   "cell_type": "code",
   "execution_count": 27,
   "id": "41229e37-0595-4fa9-ab53-3c53d4124410",
   "metadata": {
    "vscode": {
     "languageId": "r"
    }
   },
   "outputs": [
    {
     "data": {
      "text/html": [
       "<style>\n",
       ".list-inline {list-style: none; margin:0; padding: 0}\n",
       ".list-inline>li {display: inline-block}\n",
       ".list-inline>li:not(:last-child)::after {content: \"\\00b7\"; padding: 0 .5ex}\n",
       "</style>\n",
       "<ol class=list-inline><li>100000</li><li>14</li></ol>\n"
      ],
      "text/latex": [
       "\\begin{enumerate*}\n",
       "\\item 100000\n",
       "\\item 14\n",
       "\\end{enumerate*}\n"
      ],
      "text/markdown": [
       "1. 100000\n",
       "2. 14\n",
       "\n",
       "\n"
      ],
      "text/plain": [
       "[1] 100000     14"
      ]
     },
     "metadata": {},
     "output_type": "display_data"
    }
   ],
   "source": [
    "dim(df)"
   ]
  },
  {
   "cell_type": "code",
   "execution_count": 7,
   "id": "f68492ba-5e0b-460b-836e-119c2b89c695",
   "metadata": {
    "vscode": {
     "languageId": "r"
    }
   },
   "outputs": [
    {
     "data": {
      "image/png": "[encoded data removed]",
      "text/plain": [
       "Plot with title \"Histogram of df$Company.Size\""
      ]
     },
     "metadata": {
      "image/png": {
       "height": 420,
       "width": 420
      }
     },
     "output_type": "display_data"
    }
   ],
   "source": [
    "hist(df$Company.Size)"
   ]
  },
  {
   "cell_type": "code",
   "execution_count": 8,
   "id": "b6ab88af-2dcf-4d7d-bd1e-74ca1a5e9683",
   "metadata": {
    "vscode": {
     "languageId": "r"
    }
   },
   "outputs": [
    {
     "data": {
      "text/html": [
       "<table class=\"dataframe\">\n",
       "<caption>A data.frame: 100000 × 1</caption>\n",
       "<thead>\n",
       "\t<tr><th scope=col>Job.Posting.Date</th></tr>\n",
       "\t<tr><th scope=col>&lt;chr&gt;</th></tr>\n",
       "</thead>\n",
       "<tbody>\n",
       "\t<tr><td>2023-02-08</td></tr>\n",
       "\t<tr><td>2023-05-10</td></tr>\n",
       "\t<tr><td>2023-04-11</td></tr>\n",
       "\t<tr><td>2023-07-13</td></tr>\n",
       "\t<tr><td>2023-08-10</td></tr>\n",
       "\t<tr><td>2023-01-19</td></tr>\n",
       "\t<tr><td>2023-06-09</td></tr>\n",
       "\t<tr><td>2023-05-10</td></tr>\n",
       "\t<tr><td>2023-02-14</td></tr>\n",
       "\t<tr><td>2023-06-08</td></tr>\n",
       "\t<tr><td>2023-05-07</td></tr>\n",
       "\t<tr><td>2023-07-28</td></tr>\n",
       "\t<tr><td>2023-08-24</td></tr>\n",
       "\t<tr><td>2023-07-14</td></tr>\n",
       "\t<tr><td>2023-08-24</td></tr>\n",
       "\t<tr><td>2023-03-01</td></tr>\n",
       "\t<tr><td>2023-05-09</td></tr>\n",
       "\t<tr><td>2023-02-01</td></tr>\n",
       "\t<tr><td>2023-04-22</td></tr>\n",
       "\t<tr><td>2023-06-24</td></tr>\n",
       "\t<tr><td>2023-02-09</td></tr>\n",
       "\t<tr><td>2023-08-08</td></tr>\n",
       "\t<tr><td>2023-01-20</td></tr>\n",
       "\t<tr><td>2023-01-16</td></tr>\n",
       "\t<tr><td>2023-02-27</td></tr>\n",
       "\t<tr><td>2023-01-31</td></tr>\n",
       "\t<tr><td>2023-03-14</td></tr>\n",
       "\t<tr><td>2023-06-03</td></tr>\n",
       "\t<tr><td>2023-05-14</td></tr>\n",
       "\t<tr><td>2023-04-01</td></tr>\n",
       "\t<tr><td>⋮</td></tr>\n",
       "\t<tr><td>2023-05-05</td></tr>\n",
       "\t<tr><td>2023-09-06</td></tr>\n",
       "\t<tr><td>2023-06-23</td></tr>\n",
       "\t<tr><td>2023-08-10</td></tr>\n",
       "\t<tr><td>2023-06-15</td></tr>\n",
       "\t<tr><td>2023-05-09</td></tr>\n",
       "\t<tr><td>2023-02-15</td></tr>\n",
       "\t<tr><td>2023-02-20</td></tr>\n",
       "\t<tr><td>2023-09-07</td></tr>\n",
       "\t<tr><td>2023-09-15</td></tr>\n",
       "\t<tr><td>2023-01-01</td></tr>\n",
       "\t<tr><td>2023-05-23</td></tr>\n",
       "\t<tr><td>2023-06-12</td></tr>\n",
       "\t<tr><td>2023-02-12</td></tr>\n",
       "\t<tr><td>2023-08-08</td></tr>\n",
       "\t<tr><td>2023-02-06</td></tr>\n",
       "\t<tr><td>2023-05-14</td></tr>\n",
       "\t<tr><td>2023-04-19</td></tr>\n",
       "\t<tr><td>2023-05-04</td></tr>\n",
       "\t<tr><td>2023-07-30</td></tr>\n",
       "\t<tr><td>2023-02-18</td></tr>\n",
       "\t<tr><td>2023-02-19</td></tr>\n",
       "\t<tr><td>2023-02-26</td></tr>\n",
       "\t<tr><td>2023-06-23</td></tr>\n",
       "\t<tr><td>2023-03-28</td></tr>\n",
       "\t<tr><td>2023-06-30</td></tr>\n",
       "\t<tr><td>2023-05-03</td></tr>\n",
       "\t<tr><td>2023-01-13</td></tr>\n",
       "\t<tr><td>2023-06-27</td></tr>\n",
       "\t<tr><td>2023-01-11</td></tr>\n",
       "</tbody>\n",
       "</table>\n"
      ],
      "text/latex": [
       "A data.frame: 100000 × 1\n",
       "\\begin{tabular}{l}\n",
       " Job.Posting.Date\\\\\n",
       " <chr>\\\\\n",
       "\\hline\n",
       "\t 2023-02-08\\\\\n",
       "\t 2023-05-10\\\\\n",
       "\t 2023-04-11\\\\\n",
       "\t 2023-07-13\\\\\n",
       "\t 2023-08-10\\\\\n",
       "\t 2023-01-19\\\\\n",
       "\t 2023-06-09\\\\\n",
       "\t 2023-05-10\\\\\n",
       "\t 2023-02-14\\\\\n",
       "\t 2023-06-08\\\\\n",
       "\t 2023-05-07\\\\\n",
       "\t 2023-07-28\\\\\n",
       "\t 2023-08-24\\\\\n",
       "\t 2023-07-14\\\\\n",
       "\t 2023-08-24\\\\\n",
       "\t 2023-03-01\\\\\n",
       "\t 2023-05-09\\\\\n",
       "\t 2023-02-01\\\\\n",
       "\t 2023-04-22\\\\\n",
       "\t 2023-06-24\\\\\n",
       "\t 2023-02-09\\\\\n",
       "\t 2023-08-08\\\\\n",
       "\t 2023-01-20\\\\\n",
       "\t 2023-01-16\\\\\n",
       "\t 2023-02-27\\\\\n",
       "\t 2023-01-31\\\\\n",
       "\t 2023-03-14\\\\\n",
       "\t 2023-06-03\\\\\n",
       "\t 2023-05-14\\\\\n",
       "\t 2023-04-01\\\\\n",
       "\t ⋮\\\\\n",
       "\t 2023-05-05\\\\\n",
       "\t 2023-09-06\\\\\n",
       "\t 2023-06-23\\\\\n",
       "\t 2023-08-10\\\\\n",
       "\t 2023-06-15\\\\\n",
       "\t 2023-05-09\\\\\n",
       "\t 2023-02-15\\\\\n",
       "\t 2023-02-20\\\\\n",
       "\t 2023-09-07\\\\\n",
       "\t 2023-09-15\\\\\n",
       "\t 2023-01-01\\\\\n",
       "\t 2023-05-23\\\\\n",
       "\t 2023-06-12\\\\\n",
       "\t 2023-02-12\\\\\n",
       "\t 2023-08-08\\\\\n",
       "\t 2023-02-06\\\\\n",
       "\t 2023-05-14\\\\\n",
       "\t 2023-04-19\\\\\n",
       "\t 2023-05-04\\\\\n",
       "\t 2023-07-30\\\\\n",
       "\t 2023-02-18\\\\\n",
       "\t 2023-02-19\\\\\n",
       "\t 2023-02-26\\\\\n",
       "\t 2023-06-23\\\\\n",
       "\t 2023-03-28\\\\\n",
       "\t 2023-06-30\\\\\n",
       "\t 2023-05-03\\\\\n",
       "\t 2023-01-13\\\\\n",
       "\t 2023-06-27\\\\\n",
       "\t 2023-01-11\\\\\n",
       "\\end{tabular}\n"
      ],
      "text/markdown": [
       "\n",
       "A data.frame: 100000 × 1\n",
       "\n",
       "| Job.Posting.Date &lt;chr&gt; |\n",
       "|---|\n",
       "| 2023-02-08 |\n",
       "| 2023-05-10 |\n",
       "| 2023-04-11 |\n",
       "| 2023-07-13 |\n",
       "| 2023-08-10 |\n",
       "| 2023-01-19 |\n",
       "| 2023-06-09 |\n",
       "| 2023-05-10 |\n",
       "| 2023-02-14 |\n",
       "| 2023-06-08 |\n",
       "| 2023-05-07 |\n",
       "| 2023-07-28 |\n",
       "| 2023-08-24 |\n",
       "| 2023-07-14 |\n",
       "| 2023-08-24 |\n",
       "| 2023-03-01 |\n",
       "| 2023-05-09 |\n",
       "| 2023-02-01 |\n",
       "| 2023-04-22 |\n",
       "| 2023-06-24 |\n",
       "| 2023-02-09 |\n",
       "| 2023-08-08 |\n",
       "| 2023-01-20 |\n",
       "| 2023-01-16 |\n",
       "| 2023-02-27 |\n",
       "| 2023-01-31 |\n",
       "| 2023-03-14 |\n",
       "| 2023-06-03 |\n",
       "| 2023-05-14 |\n",
       "| 2023-04-01 |\n",
       "| ⋮ |\n",
       "| 2023-05-05 |\n",
       "| 2023-09-06 |\n",
       "| 2023-06-23 |\n",
       "| 2023-08-10 |\n",
       "| 2023-06-15 |\n",
       "| 2023-05-09 |\n",
       "| 2023-02-15 |\n",
       "| 2023-02-20 |\n",
       "| 2023-09-07 |\n",
       "| 2023-09-15 |\n",
       "| 2023-01-01 |\n",
       "| 2023-05-23 |\n",
       "| 2023-06-12 |\n",
       "| 2023-02-12 |\n",
       "| 2023-08-08 |\n",
       "| 2023-02-06 |\n",
       "| 2023-05-14 |\n",
       "| 2023-04-19 |\n",
       "| 2023-05-04 |\n",
       "| 2023-07-30 |\n",
       "| 2023-02-18 |\n",
       "| 2023-02-19 |\n",
       "| 2023-02-26 |\n",
       "| 2023-06-23 |\n",
       "| 2023-03-28 |\n",
       "| 2023-06-30 |\n",
       "| 2023-05-03 |\n",
       "| 2023-01-13 |\n",
       "| 2023-06-27 |\n",
       "| 2023-01-11 |\n",
       "\n"
      ],
      "text/plain": [
       "       Job.Posting.Date\n",
       "1      2023-02-08      \n",
       "2      2023-05-10      \n",
       "3      2023-04-11      \n",
       "4      2023-07-13      \n",
       "5      2023-08-10      \n",
       "6      2023-01-19      \n",
       "7      2023-06-09      \n",
       "8      2023-05-10      \n",
       "9      2023-02-14      \n",
       "10     2023-06-08      \n",
       "11     2023-05-07      \n",
       "12     2023-07-28      \n",
       "13     2023-08-24      \n",
       "14     2023-07-14      \n",
       "15     2023-08-24      \n",
       "16     2023-03-01      \n",
       "17     2023-05-09      \n",
       "18     2023-02-01      \n",
       "19     2023-04-22      \n",
       "20     2023-06-24      \n",
       "21     2023-02-09      \n",
       "22     2023-08-08      \n",
       "23     2023-01-20      \n",
       "24     2023-01-16      \n",
       "25     2023-02-27      \n",
       "26     2023-01-31      \n",
       "27     2023-03-14      \n",
       "28     2023-06-03      \n",
       "29     2023-05-14      \n",
       "30     2023-04-01      \n",
       "⋮      ⋮               \n",
       "99971  2023-05-05      \n",
       "99972  2023-09-06      \n",
       "99973  2023-06-23      \n",
       "99974  2023-08-10      \n",
       "99975  2023-06-15      \n",
       "99976  2023-05-09      \n",
       "99977  2023-02-15      \n",
       "99978  2023-02-20      \n",
       "99979  2023-09-07      \n",
       "99980  2023-09-15      \n",
       "99981  2023-01-01      \n",
       "99982  2023-05-23      \n",
       "99983  2023-06-12      \n",
       "99984  2023-02-12      \n",
       "99985  2023-08-08      \n",
       "99986  2023-02-06      \n",
       "99987  2023-05-14      \n",
       "99988  2023-04-19      \n",
       "99989  2023-05-04      \n",
       "99990  2023-07-30      \n",
       "99991  2023-02-18      \n",
       "99992  2023-02-19      \n",
       "99993  2023-02-26      \n",
       "99994  2023-06-23      \n",
       "99995  2023-03-28      \n",
       "99996  2023-06-30      \n",
       "99997  2023-05-03      \n",
       "99998  2023-01-13      \n",
       "99999  2023-06-27      \n",
       "100000 2023-01-11      "
      ]
     },
     "metadata": {},
     "output_type": "display_data"
    }
   ],
   "source": [
    "df['Job.Posting.Date']"
   ]
  },
  {
   "cell_type": "code",
   "execution_count": 9,
   "id": "0bdce9da-c417-4630-bae5-ee7f0fa32853",
   "metadata": {
    "vscode": {
     "languageId": "r"
    }
   },
   "outputs": [
    {
     "data": {
      "image/png": "[encoded data removed]",
      "text/plain": [
       "plot without title"
      ]
     },
     "metadata": {
      "image/png": {
       "height": 420,
       "width": 420
      }
     },
     "output_type": "display_data"
    }
   ],
   "source": [
    "barplot(table(df$Qualifications), ylab=\"Frequency\", xlab=\"Qualification\")"
   ]
  },
  {
   "cell_type": "code",
   "execution_count": 10,
   "id": "42944544-9ff5-4c7a-aa70-dde75f35ab5d",
   "metadata": {
    "vscode": {
     "languageId": "r"
    }
   },
   "outputs": [
    {
     "data": {
      "image/png": "[encoded data removed]",
      "text/plain": [
       "plot without title"
      ]
     },
     "metadata": {
      "image/png": {
       "height": 420,
       "width": 420
      }
     },
     "output_type": "display_data"
    }
   ],
   "source": [
    "barplot(table(df$Work.Type), ylab=\"Frequency\", xlab=\"Work Type\")"
   ]
  }
 ],
 "metadata": {
  "kernelspec": {
   "display_name": "R",
   "language": "R",
   "name": "ir"
  },
  "language_info": {
   "codemirror_mode": "r",
   "file_extension": ".r",
   "mimetype": "text/x-r-source",
   "name": "R",
   "pygments_lexer": "r",
   "version": "4.3.2"
  }
 },
 "nbformat": 4,
 "nbformat_minor": 5
}

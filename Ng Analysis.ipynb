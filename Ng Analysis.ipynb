{
 "cells": [
  {
   "cell_type": "markdown",
   "id": "9211edc6-3fa1-4fb3-be09-243e0c0d2b85",
   "metadata": {},
   "source": [
    "# Data Science Job Postings on Glassdoor (Cleaned Dataset)"
   ]
  },
  {
   "cell_type": "markdown",
   "id": "340dc82c-f09a-4190-9ae8-a3ffdea37b51",
   "metadata": {},
   "source": [
    "### Importing Dataset and Data Exploration"
   ]
  },
  {
   "cell_type": "code",
   "execution_count": 1,
   "id": "4d594f66-a094-44b5-a4ab-190c25ca655f",
   "metadata": {
    "vscode": {
     "languageId": "r"
    }
   },
   "outputs": [
    {
     "name": "stderr",
     "output_type": "stream",
     "text": [
      "\n",
      "Attaching package: 'dplyr'\n",
      "\n",
      "\n",
      "The following objects are masked from 'package:stats':\n",
      "\n",
      "    filter, lag\n",
      "\n",
      "\n",
      "The following objects are masked from 'package:base':\n",
      "\n",
      "    intersect, setdiff, setequal, union\n",
      "\n",
      "\n"
     ]
    }
   ],
   "source": [
    "library(dplyr)"
   ]
  },
  {
   "cell_type": "code",
   "execution_count": 2,
   "id": "13aa7273-e7b7-4c73-8c30-8c470c0d31c7",
   "metadata": {
    "vscode": {
     "languageId": "r"
    }
   },
   "outputs": [],
   "source": [
    "df <- read.csv(\"Cleaned_DS_Jobs.csv\", header=TRUE)"
   ]
  },
  {
   "cell_type": "code",
   "execution_count": 3,
   "id": "01795c75-17fc-4f05-8805-18c8e7c5676f",
   "metadata": {
    "vscode": {
     "languageId": "r"
    }
   },
   "outputs": [
    {
     "data": {
      "text/html": [
       "<table class=\"dataframe\">\n",
       "<caption>A data.frame: 660 × 20</caption>\n",
       "<thead>\n",
       "\t<tr><th scope=col>Job.Title</th><th scope=col>Rating</th><th scope=col>Size</th><th scope=col>Type.of.ownership</th><th scope=col>Sector</th><th scope=col>Revenue</th><th scope=col>min_salary</th><th scope=col>max_salary</th><th scope=col>avg_salary</th><th scope=col>job_state</th><th scope=col>company_age</th><th scope=col>python</th><th scope=col>excel</th><th scope=col>hadoop</th><th scope=col>spark</th><th scope=col>aws</th><th scope=col>tableau</th><th scope=col>big_data</th><th scope=col>job_simp</th><th scope=col>seniority</th></tr>\n",
       "\t<tr><th scope=col>&lt;chr&gt;</th><th scope=col>&lt;dbl&gt;</th><th scope=col>&lt;chr&gt;</th><th scope=col>&lt;chr&gt;</th><th scope=col>&lt;chr&gt;</th><th scope=col>&lt;chr&gt;</th><th scope=col>&lt;int&gt;</th><th scope=col>&lt;int&gt;</th><th scope=col>&lt;int&gt;</th><th scope=col>&lt;chr&gt;</th><th scope=col>&lt;int&gt;</th><th scope=col>&lt;int&gt;</th><th scope=col>&lt;int&gt;</th><th scope=col>&lt;int&gt;</th><th scope=col>&lt;int&gt;</th><th scope=col>&lt;int&gt;</th><th scope=col>&lt;int&gt;</th><th scope=col>&lt;int&gt;</th><th scope=col>&lt;chr&gt;</th><th scope=col>&lt;chr&gt;</th></tr>\n",
       "</thead>\n",
       "<tbody>\n",
       "\t<tr><td>Sr Data Scientist                             </td><td>3.1</td><td>1001 to 5000 employees </td><td>Nonprofit Organization </td><td>Insurance                   </td><td>Unknown / Non-Applicable        </td><td>137</td><td>171</td><td>154</td><td> NY</td><td> 27</td><td>0</td><td>0</td><td>0</td><td>0</td><td>1</td><td>0</td><td>0</td><td>data scientist</td><td>senior</td></tr>\n",
       "\t<tr><td>Data Scientist                                </td><td>4.2</td><td>5001 to 10000 employees</td><td>Company - Public       </td><td>Business Services           </td><td>$1 to $2 billion (USD)          </td><td>137</td><td>171</td><td>154</td><td> VA</td><td> 52</td><td>0</td><td>0</td><td>1</td><td>0</td><td>0</td><td>0</td><td>1</td><td>data scientist</td><td>na    </td></tr>\n",
       "\t<tr><td>Data Scientist                                </td><td>3.8</td><td>1001 to 5000 employees </td><td>Private Practice / Firm</td><td>Business Services           </td><td>$100 to $500 million (USD)      </td><td>137</td><td>171</td><td>154</td><td> MA</td><td> 39</td><td>1</td><td>1</td><td>0</td><td>0</td><td>1</td><td>0</td><td>0</td><td>data scientist</td><td>na    </td></tr>\n",
       "\t<tr><td>Data Scientist                                </td><td>3.5</td><td>501 to 1000 employees  </td><td>Company - Public       </td><td>Manufacturing               </td><td>$100 to $500 million (USD)      </td><td>137</td><td>171</td><td>154</td><td> MA</td><td> 20</td><td>1</td><td>1</td><td>0</td><td>0</td><td>1</td><td>0</td><td>0</td><td>data scientist</td><td>na    </td></tr>\n",
       "\t<tr><td>Data Scientist                                </td><td>2.9</td><td>51 to 200 employees    </td><td>Company - Private      </td><td>Business Services           </td><td>Unknown / Non-Applicable        </td><td>137</td><td>171</td><td>154</td><td> NY</td><td> 22</td><td>1</td><td>1</td><td>0</td><td>0</td><td>0</td><td>0</td><td>0</td><td>data scientist</td><td>na    </td></tr>\n",
       "\t<tr><td>Data Scientist                                </td><td>4.2</td><td>51 to 200 employees    </td><td>Company - Private      </td><td>Information Technology      </td><td>Unknown / Non-Applicable        </td><td>137</td><td>171</td><td>154</td><td> CA</td><td> 10</td><td>1</td><td>1</td><td>1</td><td>1</td><td>0</td><td>0</td><td>0</td><td>data scientist</td><td>na    </td></tr>\n",
       "\t<tr><td><span style=white-space:pre-wrap>Data Scientist / Machine Learning Expert      </span></td><td>3.9</td><td><span style=white-space:pre-wrap>10000+ employees       </span></td><td><span style=white-space:pre-wrap>Company - Public       </span></td><td><span style=white-space:pre-wrap>Biotech &amp; Pharmaceuticals   </span></td><td><span style=white-space:pre-wrap>$10+ billion (USD)              </span></td><td>137</td><td>171</td><td>154</td><td> MA</td><td> 24</td><td>1</td><td>0</td><td>0</td><td>0</td><td>0</td><td>0</td><td>0</td><td>data scientist</td><td><span style=white-space:pre-wrap>na    </span></td></tr>\n",
       "\t<tr><td>Data Scientist                                </td><td>3.5</td><td>1001 to 5000 employees </td><td>Company - Public       </td><td>Retail                      </td><td>$1 to $2 billion (USD)          </td><td>137</td><td>171</td><td>154</td><td> MA</td><td> 30</td><td>1</td><td>0</td><td>0</td><td>0</td><td>0</td><td>0</td><td>0</td><td>data scientist</td><td>na    </td></tr>\n",
       "\t<tr><td>Staff Data Scientist - Analytics              </td><td>4.4</td><td>5001 to 10000 employees</td><td>Company - Public       </td><td>Information Technology      </td><td>$2 to $5 billion (USD)          </td><td>137</td><td>171</td><td>154</td><td> CA</td><td> 37</td><td>0</td><td>0</td><td>0</td><td>0</td><td>0</td><td>0</td><td>0</td><td>data scientist</td><td>na    </td></tr>\n",
       "\t<tr><td>Data Scientist                                </td><td>3.6</td><td>51 to 200 employees    </td><td>Company - Private      </td><td>Information Technology      </td><td>Unknown / Non-Applicable        </td><td>137</td><td>171</td><td>154</td><td> IL</td><td>  6</td><td>1</td><td>0</td><td>0</td><td>0</td><td>0</td><td>0</td><td>0</td><td>data scientist</td><td>na    </td></tr>\n",
       "\t<tr><td>Data Scientist                                </td><td>4.5</td><td>501 to 1000 employees  </td><td>Company - Private      </td><td>Information Technology      </td><td>$100 to $500 million (USD)      </td><td>137</td><td>171</td><td>154</td><td> VA</td><td>  8</td><td>1</td><td>1</td><td>0</td><td>0</td><td>1</td><td>0</td><td>0</td><td>data scientist</td><td>na    </td></tr>\n",
       "\t<tr><td>Data Scientist                                </td><td>4.7</td><td>51 to 200 employees    </td><td>Company - Private      </td><td>Information Technology      </td><td>Unknown / Non-Applicable        </td><td>137</td><td>171</td><td>154</td><td> MO</td><td>  4</td><td>1</td><td>0</td><td>0</td><td>1</td><td>0</td><td>0</td><td>0</td><td>data scientist</td><td>na    </td></tr>\n",
       "\t<tr><td><span style=white-space:pre-wrap>Data Scientist - Statistics, Early Career     </span></td><td>3.7</td><td>1001 to 5000 employees </td><td><span style=white-space:pre-wrap>Government             </span></td><td>Oil, Gas, Energy &amp; Utilities</td><td>$500 million to $1 billion (USD)</td><td>137</td><td>171</td><td>154</td><td> WA</td><td> 55</td><td>0</td><td>1</td><td>0</td><td>0</td><td>0</td><td>0</td><td>0</td><td>data scientist</td><td><span style=white-space:pre-wrap>na    </span></td></tr>\n",
       "\t<tr><td>Data Modeler                                  </td><td>3.1</td><td>201 to 500 employees   </td><td>Company - Private      </td><td>Manufacturing               </td><td>$1 to $2 billion (USD)          </td><td>137</td><td>171</td><td>154</td><td> IL</td><td> 47</td><td>1</td><td>1</td><td>0</td><td>0</td><td>0</td><td>1</td><td>0</td><td>na            </td><td>na    </td></tr>\n",
       "\t<tr><td>Data Scientist                                </td><td>3.4</td><td>1001 to 5000 employees </td><td>Company - Private      </td><td>Business Services           </td><td>$100 to $500 million (USD)      </td><td>137</td><td>171</td><td>154</td><td> DC</td><td> 34</td><td>1</td><td>1</td><td>0</td><td>0</td><td>1</td><td>0</td><td>0</td><td>data scientist</td><td>na    </td></tr>\n",
       "\t<tr><td>Experienced Data Scientist                    </td><td>4.4</td><td>1 to 50 employees      </td><td>Company - Private      </td><td>Government                  </td><td>Unknown / Non-Applicable        </td><td>137</td><td>171</td><td>154</td><td> DC</td><td> 23</td><td>1</td><td>1</td><td>1</td><td>1</td><td>0</td><td>1</td><td>0</td><td>data scientist</td><td>na    </td></tr>\n",
       "\t<tr><td>Data Scientist                                </td><td>3.5</td><td>1001 to 5000 employees </td><td>Company - Private      </td><td>Manufacturing               </td><td>$500 million to $1 billion (USD)</td><td>137</td><td>171</td><td>154</td><td> TN</td><td> 75</td><td>1</td><td>0</td><td>1</td><td>0</td><td>0</td><td>0</td><td>0</td><td>data scientist</td><td>na    </td></tr>\n",
       "\t<tr><td>Data Analyst II                               </td><td>4.2</td><td>5001 to 10000 employees</td><td>Company - Public       </td><td>Information Technology      </td><td>$5 to $10 billion (USD)         </td><td>137</td><td>171</td><td>154</td><td> TX</td><td> 32</td><td>0</td><td>1</td><td>0</td><td>0</td><td>0</td><td>0</td><td>0</td><td>analyst       </td><td>na    </td></tr>\n",
       "\t<tr><td>Medical Lab Scientist                         </td><td>3.5</td><td>5001 to 10000 employees</td><td>Nonprofit Organization </td><td>Health Care                 </td><td>Unknown / Non-Applicable        </td><td>137</td><td>171</td><td>154</td><td> PA</td><td>  3</td><td>0</td><td>0</td><td>0</td><td>0</td><td>0</td><td>0</td><td>0</td><td>na            </td><td>na    </td></tr>\n",
       "\t<tr><td>Data Scientist                                </td><td>3.2</td><td>51 to 200 employees    </td><td>Company - Private      </td><td>Information Technology      </td><td>Unknown / Non-Applicable        </td><td>137</td><td>171</td><td>154</td><td> NY</td><td>  5</td><td>0</td><td>0</td><td>0</td><td>0</td><td>0</td><td>0</td><td>0</td><td>data scientist</td><td>na    </td></tr>\n",
       "\t<tr><td>Data Scientist/Machine Learning               </td><td>4.3</td><td>51 to 200 employees    </td><td>Company - Private      </td><td>Information Technology      </td><td>$100 to $500 million (USD)      </td><td>137</td><td>171</td><td>154</td><td> NY</td><td>  9</td><td>1</td><td>0</td><td>1</td><td>1</td><td>0</td><td>0</td><td>1</td><td>data scientist</td><td>na    </td></tr>\n",
       "\t<tr><td>Human Factors Scientist                       </td><td>3.5</td><td>1001 to 5000 employees </td><td>Company - Public       </td><td>Business Services           </td><td>$100 to $500 million (USD)      </td><td>137</td><td>171</td><td>154</td><td> AZ</td><td> 53</td><td>0</td><td>1</td><td>0</td><td>0</td><td>0</td><td>0</td><td>0</td><td>na            </td><td>na    </td></tr>\n",
       "\t<tr><td>Business Intelligence Analyst I- Data Insights</td><td>3.5</td><td>5001 to 10000 employees</td><td>Company - Private      </td><td>Insurance                   </td><td>$5 to $10 billion (USD)         </td><td>137</td><td>171</td><td>154</td><td> WI</td><td>160</td><td>0</td><td>0</td><td>0</td><td>0</td><td>0</td><td>0</td><td>0</td><td>analyst       </td><td>na    </td></tr>\n",
       "\t<tr><td>Data Scientist                                </td><td>3.4</td><td>51 to 200 employees    </td><td>Company - Private      </td><td>Business Services           </td><td>$10 to $25 million (USD)        </td><td>137</td><td>171</td><td>154</td><td> IL</td><td> 28</td><td>0</td><td>0</td><td>0</td><td>0</td><td>0</td><td>0</td><td>0</td><td>data scientist</td><td>na    </td></tr>\n",
       "\t<tr><td>Data Scientist                                </td><td>4.7</td><td>51 to 200 employees    </td><td>Company - Private      </td><td>Information Technology      </td><td>$25 to $50 million (USD)        </td><td>137</td><td>171</td><td>154</td><td> GA</td><td> 17</td><td>1</td><td>1</td><td>0</td><td>0</td><td>0</td><td>0</td><td>0</td><td>data scientist</td><td>na    </td></tr>\n",
       "\t<tr><td>Data Scientist - Risk                         </td><td>4.2</td><td>51 to 200 employees    </td><td>Company - Private      </td><td>Finance                     </td><td>$100 to $500 million (USD)      </td><td>137</td><td>171</td><td>154</td><td> FL</td><td> 24</td><td>1</td><td>1</td><td>1</td><td>1</td><td>1</td><td>1</td><td>1</td><td>data scientist</td><td>na    </td></tr>\n",
       "\t<tr><td><span style=white-space:pre-wrap>Data Scientist-Human Resources                </span></td><td>3.8</td><td>1001 to 5000 employees </td><td>Nonprofit Organization </td><td><span style=white-space:pre-wrap>Aerospace &amp; Defense         </span></td><td><span style=white-space:pre-wrap>Unknown / Non-Applicable        </span></td><td>137</td><td>171</td><td>154</td><td> MA</td><td> 69</td><td>1</td><td>0</td><td>1</td><td>1</td><td>0</td><td>0</td><td>1</td><td>data scientist</td><td><span style=white-space:pre-wrap>na    </span></td></tr>\n",
       "\t<tr><td>Data Scientist                                </td><td>4.5</td><td>51 to 200 employees    </td><td>Company - Private      </td><td>Government                  </td><td>$25 to $50 million (USD)        </td><td>137</td><td>171</td><td>154</td><td> VA</td><td> 15</td><td>1</td><td>0</td><td>0</td><td>0</td><td>0</td><td>1</td><td>0</td><td>data scientist</td><td>na    </td></tr>\n",
       "\t<tr><td>Data Scientist                                </td><td>2.8</td><td>51 to 200 employees    </td><td>Company - Private      </td><td>Information Technology      </td><td>Unknown / Non-Applicable        </td><td>137</td><td>171</td><td>154</td><td> CA</td><td>  5</td><td>0</td><td>1</td><td>0</td><td>1</td><td>0</td><td>0</td><td>1</td><td>data scientist</td><td>na    </td></tr>\n",
       "\t<tr><td>Data Scientist                                </td><td>3.8</td><td>1001 to 5000 employees </td><td>Private Practice / Firm</td><td>Business Services           </td><td>$100 to $500 million (USD)      </td><td> 75</td><td>131</td><td>103</td><td> MA</td><td> 39</td><td>1</td><td>1</td><td>0</td><td>0</td><td>1</td><td>0</td><td>0</td><td>data scientist</td><td>na    </td></tr>\n",
       "\t<tr><td>⋮</td><td>⋮</td><td>⋮</td><td>⋮</td><td>⋮</td><td>⋮</td><td>⋮</td><td>⋮</td><td>⋮</td><td>⋮</td><td>⋮</td><td>⋮</td><td>⋮</td><td>⋮</td><td>⋮</td><td>⋮</td><td>⋮</td><td>⋮</td><td>⋮</td><td>⋮</td></tr>\n",
       "\t<tr><td>Data Engineer                                                                                   </td><td>3.3</td><td>201 to 500 employees   </td><td>Company - Private     </td><td>Insurance                </td><td>$100 to $500 million (USD)      </td><td> 92</td><td>155</td><td>123</td><td> MO</td><td> 28</td><td>1</td><td>1</td><td>1</td><td>1</td><td>1</td><td>0</td><td>0</td><td>data engineer </td><td>na    </td></tr>\n",
       "\t<tr><td>Data Scientist                                                                                  </td><td>3.3</td><td>1001 to 5000 employees </td><td>Company - Private     </td><td>Insurance                </td><td>Unknown / Non-Applicable        </td><td> 92</td><td>155</td><td>123</td><td> TX</td><td> 46</td><td>1</td><td>0</td><td>0</td><td>0</td><td>0</td><td>0</td><td>0</td><td>data scientist</td><td>na    </td></tr>\n",
       "\t<tr><td><span style=white-space:pre-wrap>Data Scientist                                                                                  </span></td><td>3.5</td><td><span style=white-space:pre-wrap>10000+ employees       </span></td><td><span style=white-space:pre-wrap>Company - Public      </span></td><td><span style=white-space:pre-wrap>Aerospace &amp; Defense      </span></td><td><span style=white-space:pre-wrap>$2 to $5 billion (USD)          </span></td><td> 92</td><td>155</td><td>123</td><td> VA</td><td> 58</td><td>0</td><td>1</td><td>0</td><td>0</td><td>0</td><td>0</td><td>0</td><td>data scientist</td><td><span style=white-space:pre-wrap>na    </span></td></tr>\n",
       "\t<tr><td>AI/ML - Machine Learning Scientist, Siri Understanding                                          </td><td>4.1</td><td>10000+ employees       </td><td>Company - Public      </td><td>Information Technology   </td><td>$10+ billion (USD)              </td><td> 92</td><td>155</td><td>123</td><td> CA</td><td> 44</td><td>1</td><td>0</td><td>0</td><td>0</td><td>0</td><td>0</td><td>1</td><td>mle           </td><td>na    </td></tr>\n",
       "\t<tr><td><span style=white-space:pre-wrap>Data Scientist                                                                                  </span></td><td>3.5</td><td>5001 to 10000 employees</td><td><span style=white-space:pre-wrap>Company - Public      </span></td><td><span style=white-space:pre-wrap>Aerospace &amp; Defense      </span></td><td><span style=white-space:pre-wrap>$2 to $5 billion (USD)          </span></td><td> 92</td><td>155</td><td>123</td><td> VA</td><td> -1</td><td>1</td><td>0</td><td>1</td><td>1</td><td>0</td><td>1</td><td>0</td><td>data scientist</td><td><span style=white-space:pre-wrap>na    </span></td></tr>\n",
       "\t<tr><td>ENGINEER - COMPUTER SCIENTIST - RESEARCH COMPUTER SCIENTIST - SIGNAL PROCESSING - SAN ANTONIO OR</td><td>3.9</td><td>1001 to 5000 employees </td><td>Nonprofit Organization</td><td>Business Services        </td><td>$500 million to $1 billion (USD)</td><td> 92</td><td>155</td><td>123</td><td> OK</td><td> 73</td><td>1</td><td>1</td><td>0</td><td>0</td><td>0</td><td>0</td><td>0</td><td>na            </td><td>na    </td></tr>\n",
       "\t<tr><td>Data Scientist                                                                                  </td><td>4.7</td><td>51 to 200 employees    </td><td>Company - Private     </td><td>Business Services        </td><td>Unknown / Non-Applicable        </td><td> 92</td><td>155</td><td>123</td><td> CA</td><td> 12</td><td>1</td><td>0</td><td>0</td><td>0</td><td>0</td><td>0</td><td>0</td><td>data scientist</td><td>na    </td></tr>\n",
       "\t<tr><td>Data Science Software Engineer                                                                  </td><td>4.8</td><td>201 to 500 employees   </td><td>Company - Private     </td><td>Information Technology   </td><td>Unknown / Non-Applicable        </td><td> 92</td><td>155</td><td>123</td><td> MA</td><td>  8</td><td>1</td><td>0</td><td>0</td><td>0</td><td>0</td><td>0</td><td>0</td><td>na            </td><td>na    </td></tr>\n",
       "\t<tr><td>Scientist / Group Lead, Cancer Biology                                                          </td><td>0.0</td><td>-1                     </td><td>-1                    </td><td>-1                       </td><td>-1                              </td><td> 92</td><td>155</td><td>123</td><td> MA</td><td> -1</td><td>0</td><td>1</td><td>0</td><td>0</td><td>0</td><td>0</td><td>0</td><td>na            </td><td>senior</td></tr>\n",
       "\t<tr><td><span style=white-space:pre-wrap>AI Ops Data Scientist                                                                           </span></td><td>4.0</td><td><span style=white-space:pre-wrap>10000+ employees       </span></td><td><span style=white-space:pre-wrap>Company - Public      </span></td><td>Biotech &amp; Pharmaceuticals</td><td><span style=white-space:pre-wrap>$10+ billion (USD)              </span></td><td> 92</td><td>155</td><td>123</td><td> MD</td><td>107</td><td>1</td><td>0</td><td>1</td><td>1</td><td>1</td><td>0</td><td>0</td><td>data scientist</td><td><span style=white-space:pre-wrap>na    </span></td></tr>\n",
       "\t<tr><td>Senior Data Scientist                                                                           </td><td>3.8</td><td>51 to 200 employees    </td><td>Company - Private     </td><td>Business Services        </td><td>$10 to $25 million (USD)        </td><td>105</td><td>167</td><td>136</td><td> CO</td><td> 11</td><td>0</td><td>0</td><td>0</td><td>0</td><td>0</td><td>0</td><td>0</td><td>data scientist</td><td>senior</td></tr>\n",
       "\t<tr><td>Sr. ML/Data Scientist - AI/NLP/Chatbot                                                          </td><td>3.8</td><td>5001 to 10000 employees</td><td>Company - Public      </td><td>Telecommunications       </td><td>$2 to $5 billion (USD)          </td><td>105</td><td>167</td><td>136</td><td> CA</td><td> 24</td><td>1</td><td>1</td><td>0</td><td>1</td><td>1</td><td>0</td><td>0</td><td>data scientist</td><td>senior</td></tr>\n",
       "\t<tr><td><span style=white-space:pre-wrap>Data Scientist                                                                                  </span></td><td>2.7</td><td><span style=white-space:pre-wrap>51 to 200 employees    </span></td><td><span style=white-space:pre-wrap>Company - Public      </span></td><td><span style=white-space:pre-wrap>Aerospace &amp; Defense      </span></td><td><span style=white-space:pre-wrap>Unknown / Non-Applicable        </span></td><td>105</td><td>167</td><td>136</td><td> MD</td><td> 10</td><td>0</td><td>1</td><td>0</td><td>0</td><td>1</td><td>0</td><td>0</td><td>data scientist</td><td><span style=white-space:pre-wrap>na    </span></td></tr>\n",
       "\t<tr><td>Data Scientist                                                                                  </td><td>4.0</td><td>51 to 200 employees    </td><td>Company - Private     </td><td>Consumer Services        </td><td>$5 to $10 million (USD)         </td><td>105</td><td>167</td><td>136</td><td> DC</td><td> -1</td><td>1</td><td>0</td><td>1</td><td>1</td><td>1</td><td>1</td><td>0</td><td>data scientist</td><td>na    </td></tr>\n",
       "\t<tr><td>Data Scientist                                                                                  </td><td>0.0</td><td>-1                     </td><td>-1                    </td><td>-1                       </td><td>-1                              </td><td>105</td><td>167</td><td>136</td><td> VA</td><td> -1</td><td>0</td><td>1</td><td>0</td><td>0</td><td>1</td><td>0</td><td>0</td><td>data scientist</td><td>na    </td></tr>\n",
       "\t<tr><td>Data Scientist                                                                                  </td><td>0.0</td><td>-1                     </td><td>-1                    </td><td>-1                       </td><td>-1                              </td><td>105</td><td>167</td><td>136</td><td> IL</td><td> -1</td><td>1</td><td>1</td><td>1</td><td>1</td><td>1</td><td>1</td><td>1</td><td>data scientist</td><td>na    </td></tr>\n",
       "\t<tr><td>Data Scientist                                                                                  </td><td>3.8</td><td>51 to 200 employees    </td><td>Company - Public      </td><td>Information Technology   </td><td>$10 to $25 million (USD)        </td><td>105</td><td>167</td><td>136</td><td> DC</td><td> 10</td><td>1</td><td>1</td><td>0</td><td>1</td><td>0</td><td>0</td><td>1</td><td>data scientist</td><td>na    </td></tr>\n",
       "\t<tr><td><span style=white-space:pre-wrap>Data Scientist                                                                                  </span></td><td>3.2</td><td><span style=white-space:pre-wrap>10000+ employees       </span></td><td><span style=white-space:pre-wrap>Company - Public      </span></td><td><span style=white-space:pre-wrap>Aerospace &amp; Defense      </span></td><td><span style=white-space:pre-wrap>Unknown / Non-Applicable        </span></td><td>105</td><td>167</td><td>136</td><td> MD</td><td><span style=white-space:pre-wrap>  2</span></td><td>1</td><td>0</td><td>1</td><td>0</td><td>0</td><td>0</td><td>1</td><td>data scientist</td><td><span style=white-space:pre-wrap>na    </span></td></tr>\n",
       "\t<tr><td>Data Scientist                                                                                  </td><td>0.0</td><td>-1                     </td><td>-1                    </td><td>-1                       </td><td>-1                              </td><td>105</td><td>167</td><td>136</td><td> WA</td><td> -1</td><td>1</td><td>0</td><td>0</td><td>0</td><td>0</td><td>0</td><td>0</td><td>data scientist</td><td>na    </td></tr>\n",
       "\t<tr><td>Data Scientist                                                                                  </td><td>3.6</td><td>10000+ employees       </td><td>Company - Public      </td><td>Retail                   </td><td>Unknown / Non-Applicable        </td><td>105</td><td>167</td><td>136</td><td> PA</td><td> -1</td><td>1</td><td>1</td><td>0</td><td>0</td><td>0</td><td>1</td><td>0</td><td>data scientist</td><td>na    </td></tr>\n",
       "\t<tr><td>Data Scientist                                                                                  </td><td>4.4</td><td>51 to 200 employees    </td><td>Company - Private     </td><td>-1                       </td><td>Unknown / Non-Applicable        </td><td>105</td><td>167</td><td>136</td><td> NJ</td><td> -1</td><td>0</td><td>0</td><td>0</td><td>0</td><td>0</td><td>0</td><td>0</td><td>data scientist</td><td>na    </td></tr>\n",
       "\t<tr><td>Data Scientist                                                                                  </td><td>4.1</td><td>501 to 1000 employees  </td><td>Company - Private     </td><td>Business Services        </td><td>Unknown / Non-Applicable        </td><td>105</td><td>167</td><td>136</td><td> NC</td><td> 16</td><td>1</td><td>0</td><td>1</td><td>1</td><td>0</td><td>0</td><td>1</td><td>data scientist</td><td>na    </td></tr>\n",
       "\t<tr><td>Data Scientist                                                                                  </td><td>0.0</td><td>1 to 50 employees      </td><td>Company - Private     </td><td>-1                       </td><td>Unknown / Non-Applicable        </td><td>105</td><td>167</td><td>136</td><td> VA</td><td> -1</td><td>1</td><td>0</td><td>1</td><td>0</td><td>0</td><td>0</td><td>0</td><td>data scientist</td><td>na    </td></tr>\n",
       "\t<tr><td>Data Scientist                                                                                  </td><td>3.8</td><td>201 to 500 employees   </td><td>Company - Private     </td><td>Information Technology   </td><td>$50 to $100 million (USD)       </td><td>105</td><td>167</td><td>136</td><td> VA</td><td> 15</td><td>1</td><td>1</td><td>0</td><td>0</td><td>0</td><td>0</td><td>0</td><td>data scientist</td><td>na    </td></tr>\n",
       "\t<tr><td><span style=white-space:pre-wrap>Data Scientist                                                                                  </span></td><td>4.0</td><td>1001 to 5000 employees </td><td><span style=white-space:pre-wrap>Company - Public      </span></td><td>Biotech &amp; Pharmaceuticals</td><td><span style=white-space:pre-wrap>$100 to $500 million (USD)      </span></td><td>105</td><td>167</td><td>136</td><td> MA</td><td> 10</td><td>1</td><td>0</td><td>0</td><td>0</td><td>0</td><td>0</td><td>0</td><td>data scientist</td><td><span style=white-space:pre-wrap>na    </span></td></tr>\n",
       "\t<tr><td>Data Scientist                                                                                  </td><td>3.6</td><td>1001 to 5000 employees </td><td>Company - Private     </td><td>Business Services        </td><td>Unknown / Non-Applicable        </td><td>105</td><td>167</td><td>136</td><td> NJ</td><td> 31</td><td>1</td><td>1</td><td>1</td><td>0</td><td>0</td><td>1</td><td>1</td><td>data scientist</td><td>na    </td></tr>\n",
       "\t<tr><td>Data Scientist                                                                                  </td><td>0.0</td><td>-1                     </td><td>-1                    </td><td>-1                       </td><td>-1                              </td><td>105</td><td>167</td><td>136</td><td> CA</td><td> -1</td><td>0</td><td>0</td><td>0</td><td>0</td><td>0</td><td>0</td><td>0</td><td>data scientist</td><td>na    </td></tr>\n",
       "\t<tr><td>Data Scientist                                                                                  </td><td>0.0</td><td>-1                     </td><td>-1                    </td><td>-1                       </td><td>-1                              </td><td>105</td><td>167</td><td>136</td><td> CA</td><td> -1</td><td>1</td><td>1</td><td>1</td><td>0</td><td>0</td><td>1</td><td>0</td><td>data scientist</td><td>na    </td></tr>\n",
       "\t<tr><td>Data Scientist                                                                                  </td><td>5.0</td><td>1 to 50 employees      </td><td>Company - Private     </td><td>Business Services        </td><td>$1 to $5 million (USD)          </td><td>105</td><td>167</td><td>136</td><td> CA</td><td> -1</td><td>1</td><td>0</td><td>1</td><td>1</td><td>0</td><td>0</td><td>1</td><td>data scientist</td><td>na    </td></tr>\n",
       "\t<tr><td>Data Scientist                                                                                  </td><td>2.7</td><td>1001 to 5000 employees </td><td>Company - Public      </td><td>Business Services        </td><td>$1 to $2 billion (USD)          </td><td>105</td><td>167</td><td>136</td><td> NY</td><td> 44</td><td>1</td><td>1</td><td>0</td><td>0</td><td>0</td><td>1</td><td>0</td><td>data scientist</td><td>na    </td></tr>\n",
       "</tbody>\n",
       "</table>\n"
      ],
      "text/latex": [
       "A data.frame: 660 × 20\n",
       "\\begin{tabular}{llllllllllllllllllll}\n",
       " Job.Title & Rating & Size & Type.of.ownership & Sector & Revenue & min\\_salary & max\\_salary & avg\\_salary & job\\_state & company\\_age & python & excel & hadoop & spark & aws & tableau & big\\_data & job\\_simp & seniority\\\\\n",
       " <chr> & <dbl> & <chr> & <chr> & <chr> & <chr> & <int> & <int> & <int> & <chr> & <int> & <int> & <int> & <int> & <int> & <int> & <int> & <int> & <chr> & <chr>\\\\\n",
       "\\hline\n",
       "\t Sr Data Scientist                              & 3.1 & 1001 to 5000 employees  & Nonprofit Organization  & Insurance                    & Unknown / Non-Applicable         & 137 & 171 & 154 &  NY &  27 & 0 & 0 & 0 & 0 & 1 & 0 & 0 & data scientist & senior\\\\\n",
       "\t Data Scientist                                 & 4.2 & 5001 to 10000 employees & Company - Public        & Business Services            & \\$1 to \\$2 billion (USD)           & 137 & 171 & 154 &  VA &  52 & 0 & 0 & 1 & 0 & 0 & 0 & 1 & data scientist & na    \\\\\n",
       "\t Data Scientist                                 & 3.8 & 1001 to 5000 employees  & Private Practice / Firm & Business Services            & \\$100 to \\$500 million (USD)       & 137 & 171 & 154 &  MA &  39 & 1 & 1 & 0 & 0 & 1 & 0 & 0 & data scientist & na    \\\\\n",
       "\t Data Scientist                                 & 3.5 & 501 to 1000 employees   & Company - Public        & Manufacturing                & \\$100 to \\$500 million (USD)       & 137 & 171 & 154 &  MA &  20 & 1 & 1 & 0 & 0 & 1 & 0 & 0 & data scientist & na    \\\\\n",
       "\t Data Scientist                                 & 2.9 & 51 to 200 employees     & Company - Private       & Business Services            & Unknown / Non-Applicable         & 137 & 171 & 154 &  NY &  22 & 1 & 1 & 0 & 0 & 0 & 0 & 0 & data scientist & na    \\\\\n",
       "\t Data Scientist                                 & 4.2 & 51 to 200 employees     & Company - Private       & Information Technology       & Unknown / Non-Applicable         & 137 & 171 & 154 &  CA &  10 & 1 & 1 & 1 & 1 & 0 & 0 & 0 & data scientist & na    \\\\\n",
       "\t Data Scientist / Machine Learning Expert       & 3.9 & 10000+ employees        & Company - Public        & Biotech \\& Pharmaceuticals    & \\$10+ billion (USD)               & 137 & 171 & 154 &  MA &  24 & 1 & 0 & 0 & 0 & 0 & 0 & 0 & data scientist & na    \\\\\n",
       "\t Data Scientist                                 & 3.5 & 1001 to 5000 employees  & Company - Public        & Retail                       & \\$1 to \\$2 billion (USD)           & 137 & 171 & 154 &  MA &  30 & 1 & 0 & 0 & 0 & 0 & 0 & 0 & data scientist & na    \\\\\n",
       "\t Staff Data Scientist - Analytics               & 4.4 & 5001 to 10000 employees & Company - Public        & Information Technology       & \\$2 to \\$5 billion (USD)           & 137 & 171 & 154 &  CA &  37 & 0 & 0 & 0 & 0 & 0 & 0 & 0 & data scientist & na    \\\\\n",
       "\t Data Scientist                                 & 3.6 & 51 to 200 employees     & Company - Private       & Information Technology       & Unknown / Non-Applicable         & 137 & 171 & 154 &  IL &   6 & 1 & 0 & 0 & 0 & 0 & 0 & 0 & data scientist & na    \\\\\n",
       "\t Data Scientist                                 & 4.5 & 501 to 1000 employees   & Company - Private       & Information Technology       & \\$100 to \\$500 million (USD)       & 137 & 171 & 154 &  VA &   8 & 1 & 1 & 0 & 0 & 1 & 0 & 0 & data scientist & na    \\\\\n",
       "\t Data Scientist                                 & 4.7 & 51 to 200 employees     & Company - Private       & Information Technology       & Unknown / Non-Applicable         & 137 & 171 & 154 &  MO &   4 & 1 & 0 & 0 & 1 & 0 & 0 & 0 & data scientist & na    \\\\\n",
       "\t Data Scientist - Statistics, Early Career      & 3.7 & 1001 to 5000 employees  & Government              & Oil, Gas, Energy \\& Utilities & \\$500 million to \\$1 billion (USD) & 137 & 171 & 154 &  WA &  55 & 0 & 1 & 0 & 0 & 0 & 0 & 0 & data scientist & na    \\\\\n",
       "\t Data Modeler                                   & 3.1 & 201 to 500 employees    & Company - Private       & Manufacturing                & \\$1 to \\$2 billion (USD)           & 137 & 171 & 154 &  IL &  47 & 1 & 1 & 0 & 0 & 0 & 1 & 0 & na             & na    \\\\\n",
       "\t Data Scientist                                 & 3.4 & 1001 to 5000 employees  & Company - Private       & Business Services            & \\$100 to \\$500 million (USD)       & 137 & 171 & 154 &  DC &  34 & 1 & 1 & 0 & 0 & 1 & 0 & 0 & data scientist & na    \\\\\n",
       "\t Experienced Data Scientist                     & 4.4 & 1 to 50 employees       & Company - Private       & Government                   & Unknown / Non-Applicable         & 137 & 171 & 154 &  DC &  23 & 1 & 1 & 1 & 1 & 0 & 1 & 0 & data scientist & na    \\\\\n",
       "\t Data Scientist                                 & 3.5 & 1001 to 5000 employees  & Company - Private       & Manufacturing                & \\$500 million to \\$1 billion (USD) & 137 & 171 & 154 &  TN &  75 & 1 & 0 & 1 & 0 & 0 & 0 & 0 & data scientist & na    \\\\\n",
       "\t Data Analyst II                                & 4.2 & 5001 to 10000 employees & Company - Public        & Information Technology       & \\$5 to \\$10 billion (USD)          & 137 & 171 & 154 &  TX &  32 & 0 & 1 & 0 & 0 & 0 & 0 & 0 & analyst        & na    \\\\\n",
       "\t Medical Lab Scientist                          & 3.5 & 5001 to 10000 employees & Nonprofit Organization  & Health Care                  & Unknown / Non-Applicable         & 137 & 171 & 154 &  PA &   3 & 0 & 0 & 0 & 0 & 0 & 0 & 0 & na             & na    \\\\\n",
       "\t Data Scientist                                 & 3.2 & 51 to 200 employees     & Company - Private       & Information Technology       & Unknown / Non-Applicable         & 137 & 171 & 154 &  NY &   5 & 0 & 0 & 0 & 0 & 0 & 0 & 0 & data scientist & na    \\\\\n",
       "\t Data Scientist/Machine Learning                & 4.3 & 51 to 200 employees     & Company - Private       & Information Technology       & \\$100 to \\$500 million (USD)       & 137 & 171 & 154 &  NY &   9 & 1 & 0 & 1 & 1 & 0 & 0 & 1 & data scientist & na    \\\\\n",
       "\t Human Factors Scientist                        & 3.5 & 1001 to 5000 employees  & Company - Public        & Business Services            & \\$100 to \\$500 million (USD)       & 137 & 171 & 154 &  AZ &  53 & 0 & 1 & 0 & 0 & 0 & 0 & 0 & na             & na    \\\\\n",
       "\t Business Intelligence Analyst I- Data Insights & 3.5 & 5001 to 10000 employees & Company - Private       & Insurance                    & \\$5 to \\$10 billion (USD)          & 137 & 171 & 154 &  WI & 160 & 0 & 0 & 0 & 0 & 0 & 0 & 0 & analyst        & na    \\\\\n",
       "\t Data Scientist                                 & 3.4 & 51 to 200 employees     & Company - Private       & Business Services            & \\$10 to \\$25 million (USD)         & 137 & 171 & 154 &  IL &  28 & 0 & 0 & 0 & 0 & 0 & 0 & 0 & data scientist & na    \\\\\n",
       "\t Data Scientist                                 & 4.7 & 51 to 200 employees     & Company - Private       & Information Technology       & \\$25 to \\$50 million (USD)         & 137 & 171 & 154 &  GA &  17 & 1 & 1 & 0 & 0 & 0 & 0 & 0 & data scientist & na    \\\\\n",
       "\t Data Scientist - Risk                          & 4.2 & 51 to 200 employees     & Company - Private       & Finance                      & \\$100 to \\$500 million (USD)       & 137 & 171 & 154 &  FL &  24 & 1 & 1 & 1 & 1 & 1 & 1 & 1 & data scientist & na    \\\\\n",
       "\t Data Scientist-Human Resources                 & 3.8 & 1001 to 5000 employees  & Nonprofit Organization  & Aerospace \\& Defense          & Unknown / Non-Applicable         & 137 & 171 & 154 &  MA &  69 & 1 & 0 & 1 & 1 & 0 & 0 & 1 & data scientist & na    \\\\\n",
       "\t Data Scientist                                 & 4.5 & 51 to 200 employees     & Company - Private       & Government                   & \\$25 to \\$50 million (USD)         & 137 & 171 & 154 &  VA &  15 & 1 & 0 & 0 & 0 & 0 & 1 & 0 & data scientist & na    \\\\\n",
       "\t Data Scientist                                 & 2.8 & 51 to 200 employees     & Company - Private       & Information Technology       & Unknown / Non-Applicable         & 137 & 171 & 154 &  CA &   5 & 0 & 1 & 0 & 1 & 0 & 0 & 1 & data scientist & na    \\\\\n",
       "\t Data Scientist                                 & 3.8 & 1001 to 5000 employees  & Private Practice / Firm & Business Services            & \\$100 to \\$500 million (USD)       &  75 & 131 & 103 &  MA &  39 & 1 & 1 & 0 & 0 & 1 & 0 & 0 & data scientist & na    \\\\\n",
       "\t ⋮ & ⋮ & ⋮ & ⋮ & ⋮ & ⋮ & ⋮ & ⋮ & ⋮ & ⋮ & ⋮ & ⋮ & ⋮ & ⋮ & ⋮ & ⋮ & ⋮ & ⋮ & ⋮ & ⋮\\\\\n",
       "\t Data Engineer                                                                                    & 3.3 & 201 to 500 employees    & Company - Private      & Insurance                 & \\$100 to \\$500 million (USD)       &  92 & 155 & 123 &  MO &  28 & 1 & 1 & 1 & 1 & 1 & 0 & 0 & data engineer  & na    \\\\\n",
       "\t Data Scientist                                                                                   & 3.3 & 1001 to 5000 employees  & Company - Private      & Insurance                 & Unknown / Non-Applicable         &  92 & 155 & 123 &  TX &  46 & 1 & 0 & 0 & 0 & 0 & 0 & 0 & data scientist & na    \\\\\n",
       "\t Data Scientist                                                                                   & 3.5 & 10000+ employees        & Company - Public       & Aerospace \\& Defense       & \\$2 to \\$5 billion (USD)           &  92 & 155 & 123 &  VA &  58 & 0 & 1 & 0 & 0 & 0 & 0 & 0 & data scientist & na    \\\\\n",
       "\t AI/ML - Machine Learning Scientist, Siri Understanding                                           & 4.1 & 10000+ employees        & Company - Public       & Information Technology    & \\$10+ billion (USD)               &  92 & 155 & 123 &  CA &  44 & 1 & 0 & 0 & 0 & 0 & 0 & 1 & mle            & na    \\\\\n",
       "\t Data Scientist                                                                                   & 3.5 & 5001 to 10000 employees & Company - Public       & Aerospace \\& Defense       & \\$2 to \\$5 billion (USD)           &  92 & 155 & 123 &  VA &  -1 & 1 & 0 & 1 & 1 & 0 & 1 & 0 & data scientist & na    \\\\\n",
       "\t ENGINEER - COMPUTER SCIENTIST - RESEARCH COMPUTER SCIENTIST - SIGNAL PROCESSING - SAN ANTONIO OR & 3.9 & 1001 to 5000 employees  & Nonprofit Organization & Business Services         & \\$500 million to \\$1 billion (USD) &  92 & 155 & 123 &  OK &  73 & 1 & 1 & 0 & 0 & 0 & 0 & 0 & na             & na    \\\\\n",
       "\t Data Scientist                                                                                   & 4.7 & 51 to 200 employees     & Company - Private      & Business Services         & Unknown / Non-Applicable         &  92 & 155 & 123 &  CA &  12 & 1 & 0 & 0 & 0 & 0 & 0 & 0 & data scientist & na    \\\\\n",
       "\t Data Science Software Engineer                                                                   & 4.8 & 201 to 500 employees    & Company - Private      & Information Technology    & Unknown / Non-Applicable         &  92 & 155 & 123 &  MA &   8 & 1 & 0 & 0 & 0 & 0 & 0 & 0 & na             & na    \\\\\n",
       "\t Scientist / Group Lead, Cancer Biology                                                           & 0.0 & -1                      & -1                     & -1                        & -1                               &  92 & 155 & 123 &  MA &  -1 & 0 & 1 & 0 & 0 & 0 & 0 & 0 & na             & senior\\\\\n",
       "\t AI Ops Data Scientist                                                                            & 4.0 & 10000+ employees        & Company - Public       & Biotech \\& Pharmaceuticals & \\$10+ billion (USD)               &  92 & 155 & 123 &  MD & 107 & 1 & 0 & 1 & 1 & 1 & 0 & 0 & data scientist & na    \\\\\n",
       "\t Senior Data Scientist                                                                            & 3.8 & 51 to 200 employees     & Company - Private      & Business Services         & \\$10 to \\$25 million (USD)         & 105 & 167 & 136 &  CO &  11 & 0 & 0 & 0 & 0 & 0 & 0 & 0 & data scientist & senior\\\\\n",
       "\t Sr. ML/Data Scientist - AI/NLP/Chatbot                                                           & 3.8 & 5001 to 10000 employees & Company - Public       & Telecommunications        & \\$2 to \\$5 billion (USD)           & 105 & 167 & 136 &  CA &  24 & 1 & 1 & 0 & 1 & 1 & 0 & 0 & data scientist & senior\\\\\n",
       "\t Data Scientist                                                                                   & 2.7 & 51 to 200 employees     & Company - Public       & Aerospace \\& Defense       & Unknown / Non-Applicable         & 105 & 167 & 136 &  MD &  10 & 0 & 1 & 0 & 0 & 1 & 0 & 0 & data scientist & na    \\\\\n",
       "\t Data Scientist                                                                                   & 4.0 & 51 to 200 employees     & Company - Private      & Consumer Services         & \\$5 to \\$10 million (USD)          & 105 & 167 & 136 &  DC &  -1 & 1 & 0 & 1 & 1 & 1 & 1 & 0 & data scientist & na    \\\\\n",
       "\t Data Scientist                                                                                   & 0.0 & -1                      & -1                     & -1                        & -1                               & 105 & 167 & 136 &  VA &  -1 & 0 & 1 & 0 & 0 & 1 & 0 & 0 & data scientist & na    \\\\\n",
       "\t Data Scientist                                                                                   & 0.0 & -1                      & -1                     & -1                        & -1                               & 105 & 167 & 136 &  IL &  -1 & 1 & 1 & 1 & 1 & 1 & 1 & 1 & data scientist & na    \\\\\n",
       "\t Data Scientist                                                                                   & 3.8 & 51 to 200 employees     & Company - Public       & Information Technology    & \\$10 to \\$25 million (USD)         & 105 & 167 & 136 &  DC &  10 & 1 & 1 & 0 & 1 & 0 & 0 & 1 & data scientist & na    \\\\\n",
       "\t Data Scientist                                                                                   & 3.2 & 10000+ employees        & Company - Public       & Aerospace \\& Defense       & Unknown / Non-Applicable         & 105 & 167 & 136 &  MD &   2 & 1 & 0 & 1 & 0 & 0 & 0 & 1 & data scientist & na    \\\\\n",
       "\t Data Scientist                                                                                   & 0.0 & -1                      & -1                     & -1                        & -1                               & 105 & 167 & 136 &  WA &  -1 & 1 & 0 & 0 & 0 & 0 & 0 & 0 & data scientist & na    \\\\\n",
       "\t Data Scientist                                                                                   & 3.6 & 10000+ employees        & Company - Public       & Retail                    & Unknown / Non-Applicable         & 105 & 167 & 136 &  PA &  -1 & 1 & 1 & 0 & 0 & 0 & 1 & 0 & data scientist & na    \\\\\n",
       "\t Data Scientist                                                                                   & 4.4 & 51 to 200 employees     & Company - Private      & -1                        & Unknown / Non-Applicable         & 105 & 167 & 136 &  NJ &  -1 & 0 & 0 & 0 & 0 & 0 & 0 & 0 & data scientist & na    \\\\\n",
       "\t Data Scientist                                                                                   & 4.1 & 501 to 1000 employees   & Company - Private      & Business Services         & Unknown / Non-Applicable         & 105 & 167 & 136 &  NC &  16 & 1 & 0 & 1 & 1 & 0 & 0 & 1 & data scientist & na    \\\\\n",
       "\t Data Scientist                                                                                   & 0.0 & 1 to 50 employees       & Company - Private      & -1                        & Unknown / Non-Applicable         & 105 & 167 & 136 &  VA &  -1 & 1 & 0 & 1 & 0 & 0 & 0 & 0 & data scientist & na    \\\\\n",
       "\t Data Scientist                                                                                   & 3.8 & 201 to 500 employees    & Company - Private      & Information Technology    & \\$50 to \\$100 million (USD)        & 105 & 167 & 136 &  VA &  15 & 1 & 1 & 0 & 0 & 0 & 0 & 0 & data scientist & na    \\\\\n",
       "\t Data Scientist                                                                                   & 4.0 & 1001 to 5000 employees  & Company - Public       & Biotech \\& Pharmaceuticals & \\$100 to \\$500 million (USD)       & 105 & 167 & 136 &  MA &  10 & 1 & 0 & 0 & 0 & 0 & 0 & 0 & data scientist & na    \\\\\n",
       "\t Data Scientist                                                                                   & 3.6 & 1001 to 5000 employees  & Company - Private      & Business Services         & Unknown / Non-Applicable         & 105 & 167 & 136 &  NJ &  31 & 1 & 1 & 1 & 0 & 0 & 1 & 1 & data scientist & na    \\\\\n",
       "\t Data Scientist                                                                                   & 0.0 & -1                      & -1                     & -1                        & -1                               & 105 & 167 & 136 &  CA &  -1 & 0 & 0 & 0 & 0 & 0 & 0 & 0 & data scientist & na    \\\\\n",
       "\t Data Scientist                                                                                   & 0.0 & -1                      & -1                     & -1                        & -1                               & 105 & 167 & 136 &  CA &  -1 & 1 & 1 & 1 & 0 & 0 & 1 & 0 & data scientist & na    \\\\\n",
       "\t Data Scientist                                                                                   & 5.0 & 1 to 50 employees       & Company - Private      & Business Services         & \\$1 to \\$5 million (USD)           & 105 & 167 & 136 &  CA &  -1 & 1 & 0 & 1 & 1 & 0 & 0 & 1 & data scientist & na    \\\\\n",
       "\t Data Scientist                                                                                   & 2.7 & 1001 to 5000 employees  & Company - Public       & Business Services         & \\$1 to \\$2 billion (USD)           & 105 & 167 & 136 &  NY &  44 & 1 & 1 & 0 & 0 & 0 & 1 & 0 & data scientist & na    \\\\\n",
       "\\end{tabular}\n"
      ],
      "text/markdown": [
       "\n",
       "A data.frame: 660 × 20\n",
       "\n",
       "| Job.Title &lt;chr&gt; | Rating &lt;dbl&gt; | Size &lt;chr&gt; | Type.of.ownership &lt;chr&gt; | Sector &lt;chr&gt; | Revenue &lt;chr&gt; | min_salary &lt;int&gt; | max_salary &lt;int&gt; | avg_salary &lt;int&gt; | job_state &lt;chr&gt; | company_age &lt;int&gt; | python &lt;int&gt; | excel &lt;int&gt; | hadoop &lt;int&gt; | spark &lt;int&gt; | aws &lt;int&gt; | tableau &lt;int&gt; | big_data &lt;int&gt; | job_simp &lt;chr&gt; | seniority &lt;chr&gt; |\n",
       "|---|---|---|---|---|---|---|---|---|---|---|---|---|---|---|---|---|---|---|---|\n",
       "| Sr Data Scientist                              | 3.1 | 1001 to 5000 employees  | Nonprofit Organization  | Insurance                    | Unknown / Non-Applicable         | 137 | 171 | 154 |  NY |  27 | 0 | 0 | 0 | 0 | 1 | 0 | 0 | data scientist | senior |\n",
       "| Data Scientist                                 | 4.2 | 5001 to 10000 employees | Company - Public        | Business Services            | $1 to $2 billion (USD)           | 137 | 171 | 154 |  VA |  52 | 0 | 0 | 1 | 0 | 0 | 0 | 1 | data scientist | na     |\n",
       "| Data Scientist                                 | 3.8 | 1001 to 5000 employees  | Private Practice / Firm | Business Services            | $100 to $500 million (USD)       | 137 | 171 | 154 |  MA |  39 | 1 | 1 | 0 | 0 | 1 | 0 | 0 | data scientist | na     |\n",
       "| Data Scientist                                 | 3.5 | 501 to 1000 employees   | Company - Public        | Manufacturing                | $100 to $500 million (USD)       | 137 | 171 | 154 |  MA |  20 | 1 | 1 | 0 | 0 | 1 | 0 | 0 | data scientist | na     |\n",
       "| Data Scientist                                 | 2.9 | 51 to 200 employees     | Company - Private       | Business Services            | Unknown / Non-Applicable         | 137 | 171 | 154 |  NY |  22 | 1 | 1 | 0 | 0 | 0 | 0 | 0 | data scientist | na     |\n",
       "| Data Scientist                                 | 4.2 | 51 to 200 employees     | Company - Private       | Information Technology       | Unknown / Non-Applicable         | 137 | 171 | 154 |  CA |  10 | 1 | 1 | 1 | 1 | 0 | 0 | 0 | data scientist | na     |\n",
       "| Data Scientist / Machine Learning Expert       | 3.9 | 10000+ employees        | Company - Public        | Biotech &amp; Pharmaceuticals    | $10+ billion (USD)               | 137 | 171 | 154 |  MA |  24 | 1 | 0 | 0 | 0 | 0 | 0 | 0 | data scientist | na     |\n",
       "| Data Scientist                                 | 3.5 | 1001 to 5000 employees  | Company - Public        | Retail                       | $1 to $2 billion (USD)           | 137 | 171 | 154 |  MA |  30 | 1 | 0 | 0 | 0 | 0 | 0 | 0 | data scientist | na     |\n",
       "| Staff Data Scientist - Analytics               | 4.4 | 5001 to 10000 employees | Company - Public        | Information Technology       | $2 to $5 billion (USD)           | 137 | 171 | 154 |  CA |  37 | 0 | 0 | 0 | 0 | 0 | 0 | 0 | data scientist | na     |\n",
       "| Data Scientist                                 | 3.6 | 51 to 200 employees     | Company - Private       | Information Technology       | Unknown / Non-Applicable         | 137 | 171 | 154 |  IL |   6 | 1 | 0 | 0 | 0 | 0 | 0 | 0 | data scientist | na     |\n",
       "| Data Scientist                                 | 4.5 | 501 to 1000 employees   | Company - Private       | Information Technology       | $100 to $500 million (USD)       | 137 | 171 | 154 |  VA |   8 | 1 | 1 | 0 | 0 | 1 | 0 | 0 | data scientist | na     |\n",
       "| Data Scientist                                 | 4.7 | 51 to 200 employees     | Company - Private       | Information Technology       | Unknown / Non-Applicable         | 137 | 171 | 154 |  MO |   4 | 1 | 0 | 0 | 1 | 0 | 0 | 0 | data scientist | na     |\n",
       "| Data Scientist - Statistics, Early Career      | 3.7 | 1001 to 5000 employees  | Government              | Oil, Gas, Energy &amp; Utilities | $500 million to $1 billion (USD) | 137 | 171 | 154 |  WA |  55 | 0 | 1 | 0 | 0 | 0 | 0 | 0 | data scientist | na     |\n",
       "| Data Modeler                                   | 3.1 | 201 to 500 employees    | Company - Private       | Manufacturing                | $1 to $2 billion (USD)           | 137 | 171 | 154 |  IL |  47 | 1 | 1 | 0 | 0 | 0 | 1 | 0 | na             | na     |\n",
       "| Data Scientist                                 | 3.4 | 1001 to 5000 employees  | Company - Private       | Business Services            | $100 to $500 million (USD)       | 137 | 171 | 154 |  DC |  34 | 1 | 1 | 0 | 0 | 1 | 0 | 0 | data scientist | na     |\n",
       "| Experienced Data Scientist                     | 4.4 | 1 to 50 employees       | Company - Private       | Government                   | Unknown / Non-Applicable         | 137 | 171 | 154 |  DC |  23 | 1 | 1 | 1 | 1 | 0 | 1 | 0 | data scientist | na     |\n",
       "| Data Scientist                                 | 3.5 | 1001 to 5000 employees  | Company - Private       | Manufacturing                | $500 million to $1 billion (USD) | 137 | 171 | 154 |  TN |  75 | 1 | 0 | 1 | 0 | 0 | 0 | 0 | data scientist | na     |\n",
       "| Data Analyst II                                | 4.2 | 5001 to 10000 employees | Company - Public        | Information Technology       | $5 to $10 billion (USD)          | 137 | 171 | 154 |  TX |  32 | 0 | 1 | 0 | 0 | 0 | 0 | 0 | analyst        | na     |\n",
       "| Medical Lab Scientist                          | 3.5 | 5001 to 10000 employees | Nonprofit Organization  | Health Care                  | Unknown / Non-Applicable         | 137 | 171 | 154 |  PA |   3 | 0 | 0 | 0 | 0 | 0 | 0 | 0 | na             | na     |\n",
       "| Data Scientist                                 | 3.2 | 51 to 200 employees     | Company - Private       | Information Technology       | Unknown / Non-Applicable         | 137 | 171 | 154 |  NY |   5 | 0 | 0 | 0 | 0 | 0 | 0 | 0 | data scientist | na     |\n",
       "| Data Scientist/Machine Learning                | 4.3 | 51 to 200 employees     | Company - Private       | Information Technology       | $100 to $500 million (USD)       | 137 | 171 | 154 |  NY |   9 | 1 | 0 | 1 | 1 | 0 | 0 | 1 | data scientist | na     |\n",
       "| Human Factors Scientist                        | 3.5 | 1001 to 5000 employees  | Company - Public        | Business Services            | $100 to $500 million (USD)       | 137 | 171 | 154 |  AZ |  53 | 0 | 1 | 0 | 0 | 0 | 0 | 0 | na             | na     |\n",
       "| Business Intelligence Analyst I- Data Insights | 3.5 | 5001 to 10000 employees | Company - Private       | Insurance                    | $5 to $10 billion (USD)          | 137 | 171 | 154 |  WI | 160 | 0 | 0 | 0 | 0 | 0 | 0 | 0 | analyst        | na     |\n",
       "| Data Scientist                                 | 3.4 | 51 to 200 employees     | Company - Private       | Business Services            | $10 to $25 million (USD)         | 137 | 171 | 154 |  IL |  28 | 0 | 0 | 0 | 0 | 0 | 0 | 0 | data scientist | na     |\n",
       "| Data Scientist                                 | 4.7 | 51 to 200 employees     | Company - Private       | Information Technology       | $25 to $50 million (USD)         | 137 | 171 | 154 |  GA |  17 | 1 | 1 | 0 | 0 | 0 | 0 | 0 | data scientist | na     |\n",
       "| Data Scientist - Risk                          | 4.2 | 51 to 200 employees     | Company - Private       | Finance                      | $100 to $500 million (USD)       | 137 | 171 | 154 |  FL |  24 | 1 | 1 | 1 | 1 | 1 | 1 | 1 | data scientist | na     |\n",
       "| Data Scientist-Human Resources                 | 3.8 | 1001 to 5000 employees  | Nonprofit Organization  | Aerospace &amp; Defense          | Unknown / Non-Applicable         | 137 | 171 | 154 |  MA |  69 | 1 | 0 | 1 | 1 | 0 | 0 | 1 | data scientist | na     |\n",
       "| Data Scientist                                 | 4.5 | 51 to 200 employees     | Company - Private       | Government                   | $25 to $50 million (USD)         | 137 | 171 | 154 |  VA |  15 | 1 | 0 | 0 | 0 | 0 | 1 | 0 | data scientist | na     |\n",
       "| Data Scientist                                 | 2.8 | 51 to 200 employees     | Company - Private       | Information Technology       | Unknown / Non-Applicable         | 137 | 171 | 154 |  CA |   5 | 0 | 1 | 0 | 1 | 0 | 0 | 1 | data scientist | na     |\n",
       "| Data Scientist                                 | 3.8 | 1001 to 5000 employees  | Private Practice / Firm | Business Services            | $100 to $500 million (USD)       |  75 | 131 | 103 |  MA |  39 | 1 | 1 | 0 | 0 | 1 | 0 | 0 | data scientist | na     |\n",
       "| ⋮ | ⋮ | ⋮ | ⋮ | ⋮ | ⋮ | ⋮ | ⋮ | ⋮ | ⋮ | ⋮ | ⋮ | ⋮ | ⋮ | ⋮ | ⋮ | ⋮ | ⋮ | ⋮ | ⋮ |\n",
       "| Data Engineer                                                                                    | 3.3 | 201 to 500 employees    | Company - Private      | Insurance                 | $100 to $500 million (USD)       |  92 | 155 | 123 |  MO |  28 | 1 | 1 | 1 | 1 | 1 | 0 | 0 | data engineer  | na     |\n",
       "| Data Scientist                                                                                   | 3.3 | 1001 to 5000 employees  | Company - Private      | Insurance                 | Unknown / Non-Applicable         |  92 | 155 | 123 |  TX |  46 | 1 | 0 | 0 | 0 | 0 | 0 | 0 | data scientist | na     |\n",
       "| Data Scientist                                                                                   | 3.5 | 10000+ employees        | Company - Public       | Aerospace &amp; Defense       | $2 to $5 billion (USD)           |  92 | 155 | 123 |  VA |  58 | 0 | 1 | 0 | 0 | 0 | 0 | 0 | data scientist | na     |\n",
       "| AI/ML - Machine Learning Scientist, Siri Understanding                                           | 4.1 | 10000+ employees        | Company - Public       | Information Technology    | $10+ billion (USD)               |  92 | 155 | 123 |  CA |  44 | 1 | 0 | 0 | 0 | 0 | 0 | 1 | mle            | na     |\n",
       "| Data Scientist                                                                                   | 3.5 | 5001 to 10000 employees | Company - Public       | Aerospace &amp; Defense       | $2 to $5 billion (USD)           |  92 | 155 | 123 |  VA |  -1 | 1 | 0 | 1 | 1 | 0 | 1 | 0 | data scientist | na     |\n",
       "| ENGINEER - COMPUTER SCIENTIST - RESEARCH COMPUTER SCIENTIST - SIGNAL PROCESSING - SAN ANTONIO OR | 3.9 | 1001 to 5000 employees  | Nonprofit Organization | Business Services         | $500 million to $1 billion (USD) |  92 | 155 | 123 |  OK |  73 | 1 | 1 | 0 | 0 | 0 | 0 | 0 | na             | na     |\n",
       "| Data Scientist                                                                                   | 4.7 | 51 to 200 employees     | Company - Private      | Business Services         | Unknown / Non-Applicable         |  92 | 155 | 123 |  CA |  12 | 1 | 0 | 0 | 0 | 0 | 0 | 0 | data scientist | na     |\n",
       "| Data Science Software Engineer                                                                   | 4.8 | 201 to 500 employees    | Company - Private      | Information Technology    | Unknown / Non-Applicable         |  92 | 155 | 123 |  MA |   8 | 1 | 0 | 0 | 0 | 0 | 0 | 0 | na             | na     |\n",
       "| Scientist / Group Lead, Cancer Biology                                                           | 0.0 | -1                      | -1                     | -1                        | -1                               |  92 | 155 | 123 |  MA |  -1 | 0 | 1 | 0 | 0 | 0 | 0 | 0 | na             | senior |\n",
       "| AI Ops Data Scientist                                                                            | 4.0 | 10000+ employees        | Company - Public       | Biotech &amp; Pharmaceuticals | $10+ billion (USD)               |  92 | 155 | 123 |  MD | 107 | 1 | 0 | 1 | 1 | 1 | 0 | 0 | data scientist | na     |\n",
       "| Senior Data Scientist                                                                            | 3.8 | 51 to 200 employees     | Company - Private      | Business Services         | $10 to $25 million (USD)         | 105 | 167 | 136 |  CO |  11 | 0 | 0 | 0 | 0 | 0 | 0 | 0 | data scientist | senior |\n",
       "| Sr. ML/Data Scientist - AI/NLP/Chatbot                                                           | 3.8 | 5001 to 10000 employees | Company - Public       | Telecommunications        | $2 to $5 billion (USD)           | 105 | 167 | 136 |  CA |  24 | 1 | 1 | 0 | 1 | 1 | 0 | 0 | data scientist | senior |\n",
       "| Data Scientist                                                                                   | 2.7 | 51 to 200 employees     | Company - Public       | Aerospace &amp; Defense       | Unknown / Non-Applicable         | 105 | 167 | 136 |  MD |  10 | 0 | 1 | 0 | 0 | 1 | 0 | 0 | data scientist | na     |\n",
       "| Data Scientist                                                                                   | 4.0 | 51 to 200 employees     | Company - Private      | Consumer Services         | $5 to $10 million (USD)          | 105 | 167 | 136 |  DC |  -1 | 1 | 0 | 1 | 1 | 1 | 1 | 0 | data scientist | na     |\n",
       "| Data Scientist                                                                                   | 0.0 | -1                      | -1                     | -1                        | -1                               | 105 | 167 | 136 |  VA |  -1 | 0 | 1 | 0 | 0 | 1 | 0 | 0 | data scientist | na     |\n",
       "| Data Scientist                                                                                   | 0.0 | -1                      | -1                     | -1                        | -1                               | 105 | 167 | 136 |  IL |  -1 | 1 | 1 | 1 | 1 | 1 | 1 | 1 | data scientist | na     |\n",
       "| Data Scientist                                                                                   | 3.8 | 51 to 200 employees     | Company - Public       | Information Technology    | $10 to $25 million (USD)         | 105 | 167 | 136 |  DC |  10 | 1 | 1 | 0 | 1 | 0 | 0 | 1 | data scientist | na     |\n",
       "| Data Scientist                                                                                   | 3.2 | 10000+ employees        | Company - Public       | Aerospace &amp; Defense       | Unknown / Non-Applicable         | 105 | 167 | 136 |  MD |   2 | 1 | 0 | 1 | 0 | 0 | 0 | 1 | data scientist | na     |\n",
       "| Data Scientist                                                                                   | 0.0 | -1                      | -1                     | -1                        | -1                               | 105 | 167 | 136 |  WA |  -1 | 1 | 0 | 0 | 0 | 0 | 0 | 0 | data scientist | na     |\n",
       "| Data Scientist                                                                                   | 3.6 | 10000+ employees        | Company - Public       | Retail                    | Unknown / Non-Applicable         | 105 | 167 | 136 |  PA |  -1 | 1 | 1 | 0 | 0 | 0 | 1 | 0 | data scientist | na     |\n",
       "| Data Scientist                                                                                   | 4.4 | 51 to 200 employees     | Company - Private      | -1                        | Unknown / Non-Applicable         | 105 | 167 | 136 |  NJ |  -1 | 0 | 0 | 0 | 0 | 0 | 0 | 0 | data scientist | na     |\n",
       "| Data Scientist                                                                                   | 4.1 | 501 to 1000 employees   | Company - Private      | Business Services         | Unknown / Non-Applicable         | 105 | 167 | 136 |  NC |  16 | 1 | 0 | 1 | 1 | 0 | 0 | 1 | data scientist | na     |\n",
       "| Data Scientist                                                                                   | 0.0 | 1 to 50 employees       | Company - Private      | -1                        | Unknown / Non-Applicable         | 105 | 167 | 136 |  VA |  -1 | 1 | 0 | 1 | 0 | 0 | 0 | 0 | data scientist | na     |\n",
       "| Data Scientist                                                                                   | 3.8 | 201 to 500 employees    | Company - Private      | Information Technology    | $50 to $100 million (USD)        | 105 | 167 | 136 |  VA |  15 | 1 | 1 | 0 | 0 | 0 | 0 | 0 | data scientist | na     |\n",
       "| Data Scientist                                                                                   | 4.0 | 1001 to 5000 employees  | Company - Public       | Biotech &amp; Pharmaceuticals | $100 to $500 million (USD)       | 105 | 167 | 136 |  MA |  10 | 1 | 0 | 0 | 0 | 0 | 0 | 0 | data scientist | na     |\n",
       "| Data Scientist                                                                                   | 3.6 | 1001 to 5000 employees  | Company - Private      | Business Services         | Unknown / Non-Applicable         | 105 | 167 | 136 |  NJ |  31 | 1 | 1 | 1 | 0 | 0 | 1 | 1 | data scientist | na     |\n",
       "| Data Scientist                                                                                   | 0.0 | -1                      | -1                     | -1                        | -1                               | 105 | 167 | 136 |  CA |  -1 | 0 | 0 | 0 | 0 | 0 | 0 | 0 | data scientist | na     |\n",
       "| Data Scientist                                                                                   | 0.0 | -1                      | -1                     | -1                        | -1                               | 105 | 167 | 136 |  CA |  -1 | 1 | 1 | 1 | 0 | 0 | 1 | 0 | data scientist | na     |\n",
       "| Data Scientist                                                                                   | 5.0 | 1 to 50 employees       | Company - Private      | Business Services         | $1 to $5 million (USD)           | 105 | 167 | 136 |  CA |  -1 | 1 | 0 | 1 | 1 | 0 | 0 | 1 | data scientist | na     |\n",
       "| Data Scientist                                                                                   | 2.7 | 1001 to 5000 employees  | Company - Public       | Business Services         | $1 to $2 billion (USD)           | 105 | 167 | 136 |  NY |  44 | 1 | 1 | 0 | 0 | 0 | 1 | 0 | data scientist | na     |\n",
       "\n"
      ],
      "text/plain": [
       "    Job.Title                                                                                       \n",
       "1   Sr Data Scientist                                                                               \n",
       "2   Data Scientist                                                                                  \n",
       "3   Data Scientist                                                                                  \n",
       "4   Data Scientist                                                                                  \n",
       "5   Data Scientist                                                                                  \n",
       "6   Data Scientist                                                                                  \n",
       "7   Data Scientist / Machine Learning Expert                                                        \n",
       "8   Data Scientist                                                                                  \n",
       "9   Staff Data Scientist - Analytics                                                                \n",
       "10  Data Scientist                                                                                  \n",
       "11  Data Scientist                                                                                  \n",
       "12  Data Scientist                                                                                  \n",
       "13  Data Scientist - Statistics, Early Career                                                       \n",
       "14  Data Modeler                                                                                    \n",
       "15  Data Scientist                                                                                  \n",
       "16  Experienced Data Scientist                                                                      \n",
       "17  Data Scientist                                                                                  \n",
       "18  Data Analyst II                                                                                 \n",
       "19  Medical Lab Scientist                                                                           \n",
       "20  Data Scientist                                                                                  \n",
       "21  Data Scientist/Machine Learning                                                                 \n",
       "22  Human Factors Scientist                                                                         \n",
       "23  Business Intelligence Analyst I- Data Insights                                                  \n",
       "24  Data Scientist                                                                                  \n",
       "25  Data Scientist                                                                                  \n",
       "26  Data Scientist - Risk                                                                           \n",
       "27  Data Scientist-Human Resources                                                                  \n",
       "28  Data Scientist                                                                                  \n",
       "29  Data Scientist                                                                                  \n",
       "30  Data Scientist                                                                                  \n",
       "⋮   ⋮                                                                                               \n",
       "631 Data Engineer                                                                                   \n",
       "632 Data Scientist                                                                                  \n",
       "633 Data Scientist                                                                                  \n",
       "634 AI/ML - Machine Learning Scientist, Siri Understanding                                          \n",
       "635 Data Scientist                                                                                  \n",
       "636 ENGINEER - COMPUTER SCIENTIST - RESEARCH COMPUTER SCIENTIST - SIGNAL PROCESSING - SAN ANTONIO OR\n",
       "637 Data Scientist                                                                                  \n",
       "638 Data Science Software Engineer                                                                  \n",
       "639 Scientist / Group Lead, Cancer Biology                                                          \n",
       "640 AI Ops Data Scientist                                                                           \n",
       "641 Senior Data Scientist                                                                           \n",
       "642 Sr. ML/Data Scientist - AI/NLP/Chatbot                                                          \n",
       "643 Data Scientist                                                                                  \n",
       "644 Data Scientist                                                                                  \n",
       "645 Data Scientist                                                                                  \n",
       "646 Data Scientist                                                                                  \n",
       "647 Data Scientist                                                                                  \n",
       "648 Data Scientist                                                                                  \n",
       "649 Data Scientist                                                                                  \n",
       "650 Data Scientist                                                                                  \n",
       "651 Data Scientist                                                                                  \n",
       "652 Data Scientist                                                                                  \n",
       "653 Data Scientist                                                                                  \n",
       "654 Data Scientist                                                                                  \n",
       "655 Data Scientist                                                                                  \n",
       "656 Data Scientist                                                                                  \n",
       "657 Data Scientist                                                                                  \n",
       "658 Data Scientist                                                                                  \n",
       "659 Data Scientist                                                                                  \n",
       "660 Data Scientist                                                                                  \n",
       "    Rating Size                    Type.of.ownership      \n",
       "1   3.1    1001 to 5000 employees  Nonprofit Organization \n",
       "2   4.2    5001 to 10000 employees Company - Public       \n",
       "3   3.8    1001 to 5000 employees  Private Practice / Firm\n",
       "4   3.5    501 to 1000 employees   Company - Public       \n",
       "5   2.9    51 to 200 employees     Company - Private      \n",
       "6   4.2    51 to 200 employees     Company - Private      \n",
       "7   3.9    10000+ employees        Company - Public       \n",
       "8   3.5    1001 to 5000 employees  Company - Public       \n",
       "9   4.4    5001 to 10000 employees Company - Public       \n",
       "10  3.6    51 to 200 employees     Company - Private      \n",
       "11  4.5    501 to 1000 employees   Company - Private      \n",
       "12  4.7    51 to 200 employees     Company - Private      \n",
       "13  3.7    1001 to 5000 employees  Government             \n",
       "14  3.1    201 to 500 employees    Company - Private      \n",
       "15  3.4    1001 to 5000 employees  Company - Private      \n",
       "16  4.4    1 to 50 employees       Company - Private      \n",
       "17  3.5    1001 to 5000 employees  Company - Private      \n",
       "18  4.2    5001 to 10000 employees Company - Public       \n",
       "19  3.5    5001 to 10000 employees Nonprofit Organization \n",
       "20  3.2    51 to 200 employees     Company - Private      \n",
       "21  4.3    51 to 200 employees     Company - Private      \n",
       "22  3.5    1001 to 5000 employees  Company - Public       \n",
       "23  3.5    5001 to 10000 employees Company - Private      \n",
       "24  3.4    51 to 200 employees     Company - Private      \n",
       "25  4.7    51 to 200 employees     Company - Private      \n",
       "26  4.2    51 to 200 employees     Company - Private      \n",
       "27  3.8    1001 to 5000 employees  Nonprofit Organization \n",
       "28  4.5    51 to 200 employees     Company - Private      \n",
       "29  2.8    51 to 200 employees     Company - Private      \n",
       "30  3.8    1001 to 5000 employees  Private Practice / Firm\n",
       "⋮   ⋮      ⋮                       ⋮                      \n",
       "631 3.3    201 to 500 employees    Company - Private      \n",
       "632 3.3    1001 to 5000 employees  Company - Private      \n",
       "633 3.5    10000+ employees        Company - Public       \n",
       "634 4.1    10000+ employees        Company - Public       \n",
       "635 3.5    5001 to 10000 employees Company - Public       \n",
       "636 3.9    1001 to 5000 employees  Nonprofit Organization \n",
       "637 4.7    51 to 200 employees     Company - Private      \n",
       "638 4.8    201 to 500 employees    Company - Private      \n",
       "639 0.0    -1                      -1                     \n",
       "640 4.0    10000+ employees        Company - Public       \n",
       "641 3.8    51 to 200 employees     Company - Private      \n",
       "642 3.8    5001 to 10000 employees Company - Public       \n",
       "643 2.7    51 to 200 employees     Company - Public       \n",
       "644 4.0    51 to 200 employees     Company - Private      \n",
       "645 0.0    -1                      -1                     \n",
       "646 0.0    -1                      -1                     \n",
       "647 3.8    51 to 200 employees     Company - Public       \n",
       "648 3.2    10000+ employees        Company - Public       \n",
       "649 0.0    -1                      -1                     \n",
       "650 3.6    10000+ employees        Company - Public       \n",
       "651 4.4    51 to 200 employees     Company - Private      \n",
       "652 4.1    501 to 1000 employees   Company - Private      \n",
       "653 0.0    1 to 50 employees       Company - Private      \n",
       "654 3.8    201 to 500 employees    Company - Private      \n",
       "655 4.0    1001 to 5000 employees  Company - Public       \n",
       "656 3.6    1001 to 5000 employees  Company - Private      \n",
       "657 0.0    -1                      -1                     \n",
       "658 0.0    -1                      -1                     \n",
       "659 5.0    1 to 50 employees       Company - Private      \n",
       "660 2.7    1001 to 5000 employees  Company - Public       \n",
       "    Sector                       Revenue                          min_salary\n",
       "1   Insurance                    Unknown / Non-Applicable         137       \n",
       "2   Business Services            $1 to $2 billion (USD)           137       \n",
       "3   Business Services            $100 to $500 million (USD)       137       \n",
       "4   Manufacturing                $100 to $500 million (USD)       137       \n",
       "5   Business Services            Unknown / Non-Applicable         137       \n",
       "6   Information Technology       Unknown / Non-Applicable         137       \n",
       "7   Biotech & Pharmaceuticals    $10+ billion (USD)               137       \n",
       "8   Retail                       $1 to $2 billion (USD)           137       \n",
       "9   Information Technology       $2 to $5 billion (USD)           137       \n",
       "10  Information Technology       Unknown / Non-Applicable         137       \n",
       "11  Information Technology       $100 to $500 million (USD)       137       \n",
       "12  Information Technology       Unknown / Non-Applicable         137       \n",
       "13  Oil, Gas, Energy & Utilities $500 million to $1 billion (USD) 137       \n",
       "14  Manufacturing                $1 to $2 billion (USD)           137       \n",
       "15  Business Services            $100 to $500 million (USD)       137       \n",
       "16  Government                   Unknown / Non-Applicable         137       \n",
       "17  Manufacturing                $500 million to $1 billion (USD) 137       \n",
       "18  Information Technology       $5 to $10 billion (USD)          137       \n",
       "19  Health Care                  Unknown / Non-Applicable         137       \n",
       "20  Information Technology       Unknown / Non-Applicable         137       \n",
       "21  Information Technology       $100 to $500 million (USD)       137       \n",
       "22  Business Services            $100 to $500 million (USD)       137       \n",
       "23  Insurance                    $5 to $10 billion (USD)          137       \n",
       "24  Business Services            $10 to $25 million (USD)         137       \n",
       "25  Information Technology       $25 to $50 million (USD)         137       \n",
       "26  Finance                      $100 to $500 million (USD)       137       \n",
       "27  Aerospace & Defense          Unknown / Non-Applicable         137       \n",
       "28  Government                   $25 to $50 million (USD)         137       \n",
       "29  Information Technology       Unknown / Non-Applicable         137       \n",
       "30  Business Services            $100 to $500 million (USD)        75       \n",
       "⋮   ⋮                            ⋮                                ⋮         \n",
       "631 Insurance                    $100 to $500 million (USD)        92       \n",
       "632 Insurance                    Unknown / Non-Applicable          92       \n",
       "633 Aerospace & Defense          $2 to $5 billion (USD)            92       \n",
       "634 Information Technology       $10+ billion (USD)                92       \n",
       "635 Aerospace & Defense          $2 to $5 billion (USD)            92       \n",
       "636 Business Services            $500 million to $1 billion (USD)  92       \n",
       "637 Business Services            Unknown / Non-Applicable          92       \n",
       "638 Information Technology       Unknown / Non-Applicable          92       \n",
       "639 -1                           -1                                92       \n",
       "640 Biotech & Pharmaceuticals    $10+ billion (USD)                92       \n",
       "641 Business Services            $10 to $25 million (USD)         105       \n",
       "642 Telecommunications           $2 to $5 billion (USD)           105       \n",
       "643 Aerospace & Defense          Unknown / Non-Applicable         105       \n",
       "644 Consumer Services            $5 to $10 million (USD)          105       \n",
       "645 -1                           -1                               105       \n",
       "646 -1                           -1                               105       \n",
       "647 Information Technology       $10 to $25 million (USD)         105       \n",
       "648 Aerospace & Defense          Unknown / Non-Applicable         105       \n",
       "649 -1                           -1                               105       \n",
       "650 Retail                       Unknown / Non-Applicable         105       \n",
       "651 -1                           Unknown / Non-Applicable         105       \n",
       "652 Business Services            Unknown / Non-Applicable         105       \n",
       "653 -1                           Unknown / Non-Applicable         105       \n",
       "654 Information Technology       $50 to $100 million (USD)        105       \n",
       "655 Biotech & Pharmaceuticals    $100 to $500 million (USD)       105       \n",
       "656 Business Services            Unknown / Non-Applicable         105       \n",
       "657 -1                           -1                               105       \n",
       "658 -1                           -1                               105       \n",
       "659 Business Services            $1 to $5 million (USD)           105       \n",
       "660 Business Services            $1 to $2 billion (USD)           105       \n",
       "    max_salary avg_salary job_state company_age python excel hadoop spark aws\n",
       "1   171        154         NY        27         0      0     0      0     1  \n",
       "2   171        154         VA        52         0      0     1      0     0  \n",
       "3   171        154         MA        39         1      1     0      0     1  \n",
       "4   171        154         MA        20         1      1     0      0     1  \n",
       "5   171        154         NY        22         1      1     0      0     0  \n",
       "6   171        154         CA        10         1      1     1      1     0  \n",
       "7   171        154         MA        24         1      0     0      0     0  \n",
       "8   171        154         MA        30         1      0     0      0     0  \n",
       "9   171        154         CA        37         0      0     0      0     0  \n",
       "10  171        154         IL         6         1      0     0      0     0  \n",
       "11  171        154         VA         8         1      1     0      0     1  \n",
       "12  171        154         MO         4         1      0     0      1     0  \n",
       "13  171        154         WA        55         0      1     0      0     0  \n",
       "14  171        154         IL        47         1      1     0      0     0  \n",
       "15  171        154         DC        34         1      1     0      0     1  \n",
       "16  171        154         DC        23         1      1     1      1     0  \n",
       "17  171        154         TN        75         1      0     1      0     0  \n",
       "18  171        154         TX        32         0      1     0      0     0  \n",
       "19  171        154         PA         3         0      0     0      0     0  \n",
       "20  171        154         NY         5         0      0     0      0     0  \n",
       "21  171        154         NY         9         1      0     1      1     0  \n",
       "22  171        154         AZ        53         0      1     0      0     0  \n",
       "23  171        154         WI       160         0      0     0      0     0  \n",
       "24  171        154         IL        28         0      0     0      0     0  \n",
       "25  171        154         GA        17         1      1     0      0     0  \n",
       "26  171        154         FL        24         1      1     1      1     1  \n",
       "27  171        154         MA        69         1      0     1      1     0  \n",
       "28  171        154         VA        15         1      0     0      0     0  \n",
       "29  171        154         CA         5         0      1     0      1     0  \n",
       "30  131        103         MA        39         1      1     0      0     1  \n",
       "⋮   ⋮          ⋮          ⋮         ⋮           ⋮      ⋮     ⋮      ⋮     ⋮  \n",
       "631 155        123         MO        28         1      1     1      1     1  \n",
       "632 155        123         TX        46         1      0     0      0     0  \n",
       "633 155        123         VA        58         0      1     0      0     0  \n",
       "634 155        123         CA        44         1      0     0      0     0  \n",
       "635 155        123         VA        -1         1      0     1      1     0  \n",
       "636 155        123         OK        73         1      1     0      0     0  \n",
       "637 155        123         CA        12         1      0     0      0     0  \n",
       "638 155        123         MA         8         1      0     0      0     0  \n",
       "639 155        123         MA        -1         0      1     0      0     0  \n",
       "640 155        123         MD       107         1      0     1      1     1  \n",
       "641 167        136         CO        11         0      0     0      0     0  \n",
       "642 167        136         CA        24         1      1     0      1     1  \n",
       "643 167        136         MD        10         0      1     0      0     1  \n",
       "644 167        136         DC        -1         1      0     1      1     1  \n",
       "645 167        136         VA        -1         0      1     0      0     1  \n",
       "646 167        136         IL        -1         1      1     1      1     1  \n",
       "647 167        136         DC        10         1      1     0      1     0  \n",
       "648 167        136         MD         2         1      0     1      0     0  \n",
       "649 167        136         WA        -1         1      0     0      0     0  \n",
       "650 167        136         PA        -1         1      1     0      0     0  \n",
       "651 167        136         NJ        -1         0      0     0      0     0  \n",
       "652 167        136         NC        16         1      0     1      1     0  \n",
       "653 167        136         VA        -1         1      0     1      0     0  \n",
       "654 167        136         VA        15         1      1     0      0     0  \n",
       "655 167        136         MA        10         1      0     0      0     0  \n",
       "656 167        136         NJ        31         1      1     1      0     0  \n",
       "657 167        136         CA        -1         0      0     0      0     0  \n",
       "658 167        136         CA        -1         1      1     1      0     0  \n",
       "659 167        136         CA        -1         1      0     1      1     0  \n",
       "660 167        136         NY        44         1      1     0      0     0  \n",
       "    tableau big_data job_simp       seniority\n",
       "1   0       0        data scientist senior   \n",
       "2   0       1        data scientist na       \n",
       "3   0       0        data scientist na       \n",
       "4   0       0        data scientist na       \n",
       "5   0       0        data scientist na       \n",
       "6   0       0        data scientist na       \n",
       "7   0       0        data scientist na       \n",
       "8   0       0        data scientist na       \n",
       "9   0       0        data scientist na       \n",
       "10  0       0        data scientist na       \n",
       "11  0       0        data scientist na       \n",
       "12  0       0        data scientist na       \n",
       "13  0       0        data scientist na       \n",
       "14  1       0        na             na       \n",
       "15  0       0        data scientist na       \n",
       "16  1       0        data scientist na       \n",
       "17  0       0        data scientist na       \n",
       "18  0       0        analyst        na       \n",
       "19  0       0        na             na       \n",
       "20  0       0        data scientist na       \n",
       "21  0       1        data scientist na       \n",
       "22  0       0        na             na       \n",
       "23  0       0        analyst        na       \n",
       "24  0       0        data scientist na       \n",
       "25  0       0        data scientist na       \n",
       "26  1       1        data scientist na       \n",
       "27  0       1        data scientist na       \n",
       "28  1       0        data scientist na       \n",
       "29  0       1        data scientist na       \n",
       "30  0       0        data scientist na       \n",
       "⋮   ⋮       ⋮        ⋮              ⋮        \n",
       "631 0       0        data engineer  na       \n",
       "632 0       0        data scientist na       \n",
       "633 0       0        data scientist na       \n",
       "634 0       1        mle            na       \n",
       "635 1       0        data scientist na       \n",
       "636 0       0        na             na       \n",
       "637 0       0        data scientist na       \n",
       "638 0       0        na             na       \n",
       "639 0       0        na             senior   \n",
       "640 0       0        data scientist na       \n",
       "641 0       0        data scientist senior   \n",
       "642 0       0        data scientist senior   \n",
       "643 0       0        data scientist na       \n",
       "644 1       0        data scientist na       \n",
       "645 0       0        data scientist na       \n",
       "646 1       1        data scientist na       \n",
       "647 0       1        data scientist na       \n",
       "648 0       1        data scientist na       \n",
       "649 0       0        data scientist na       \n",
       "650 1       0        data scientist na       \n",
       "651 0       0        data scientist na       \n",
       "652 0       1        data scientist na       \n",
       "653 0       0        data scientist na       \n",
       "654 0       0        data scientist na       \n",
       "655 0       0        data scientist na       \n",
       "656 1       1        data scientist na       \n",
       "657 0       0        data scientist na       \n",
       "658 1       0        data scientist na       \n",
       "659 0       1        data scientist na       \n",
       "660 1       0        data scientist na       "
      ]
     },
     "metadata": {},
     "output_type": "display_data"
    }
   ],
   "source": [
    "df <- df %>% select(-c(\"Salary.Estimate\", \"Job.Description\", \"Company.Name\", \"Industry\", \"Location\", \"Headquarters\", \"same_state\"))\n",
    "\n",
    "df\n"
   ]
  },
  {
   "cell_type": "code",
   "execution_count": 4,
   "id": "eb21dec3",
   "metadata": {
    "vscode": {
     "languageId": "r"
    }
   },
   "outputs": [
    {
     "data": {
      "text/html": [
       "<table class=\"dataframe\">\n",
       "<caption>A data.frame: 1 × 20</caption>\n",
       "<thead>\n",
       "\t<tr><th></th><th scope=col>Job.Title</th><th scope=col>Rating</th><th scope=col>Size</th><th scope=col>Type.of.ownership</th><th scope=col>Sector</th><th scope=col>Revenue</th><th scope=col>min_salary</th><th scope=col>max_salary</th><th scope=col>avg_salary</th><th scope=col>job_state</th><th scope=col>company_age</th><th scope=col>python</th><th scope=col>excel</th><th scope=col>hadoop</th><th scope=col>spark</th><th scope=col>aws</th><th scope=col>tableau</th><th scope=col>big_data</th><th scope=col>job_simp</th><th scope=col>seniority</th></tr>\n",
       "\t<tr><th></th><th scope=col>&lt;chr&gt;</th><th scope=col>&lt;dbl&gt;</th><th scope=col>&lt;chr&gt;</th><th scope=col>&lt;chr&gt;</th><th scope=col>&lt;chr&gt;</th><th scope=col>&lt;chr&gt;</th><th scope=col>&lt;int&gt;</th><th scope=col>&lt;int&gt;</th><th scope=col>&lt;int&gt;</th><th scope=col>&lt;chr&gt;</th><th scope=col>&lt;int&gt;</th><th scope=col>&lt;int&gt;</th><th scope=col>&lt;int&gt;</th><th scope=col>&lt;int&gt;</th><th scope=col>&lt;int&gt;</th><th scope=col>&lt;int&gt;</th><th scope=col>&lt;int&gt;</th><th scope=col>&lt;int&gt;</th><th scope=col>&lt;chr&gt;</th><th scope=col>&lt;chr&gt;</th></tr>\n",
       "</thead>\n",
       "<tbody>\n",
       "\t<tr><th scope=row>1</th><td>Sr Data Scientist</td><td>3.1</td><td>1001 to 5000 employees</td><td>Nonprofit Organization</td><td>Insurance</td><td>Unknown / Non-Applicable</td><td>137</td><td>171</td><td>154</td><td> NY</td><td>27</td><td>0</td><td>0</td><td>0</td><td>0</td><td>1</td><td>0</td><td>0</td><td>data scientist</td><td>senior</td></tr>\n",
       "</tbody>\n",
       "</table>\n"
      ],
      "text/latex": [
       "A data.frame: 1 × 20\n",
       "\\begin{tabular}{r|llllllllllllllllllll}\n",
       "  & Job.Title & Rating & Size & Type.of.ownership & Sector & Revenue & min\\_salary & max\\_salary & avg\\_salary & job\\_state & company\\_age & python & excel & hadoop & spark & aws & tableau & big\\_data & job\\_simp & seniority\\\\\n",
       "  & <chr> & <dbl> & <chr> & <chr> & <chr> & <chr> & <int> & <int> & <int> & <chr> & <int> & <int> & <int> & <int> & <int> & <int> & <int> & <int> & <chr> & <chr>\\\\\n",
       "\\hline\n",
       "\t1 & Sr Data Scientist & 3.1 & 1001 to 5000 employees & Nonprofit Organization & Insurance & Unknown / Non-Applicable & 137 & 171 & 154 &  NY & 27 & 0 & 0 & 0 & 0 & 1 & 0 & 0 & data scientist & senior\\\\\n",
       "\\end{tabular}\n"
      ],
      "text/markdown": [
       "\n",
       "A data.frame: 1 × 20\n",
       "\n",
       "| <!--/--> | Job.Title &lt;chr&gt; | Rating &lt;dbl&gt; | Size &lt;chr&gt; | Type.of.ownership &lt;chr&gt; | Sector &lt;chr&gt; | Revenue &lt;chr&gt; | min_salary &lt;int&gt; | max_salary &lt;int&gt; | avg_salary &lt;int&gt; | job_state &lt;chr&gt; | company_age &lt;int&gt; | python &lt;int&gt; | excel &lt;int&gt; | hadoop &lt;int&gt; | spark &lt;int&gt; | aws &lt;int&gt; | tableau &lt;int&gt; | big_data &lt;int&gt; | job_simp &lt;chr&gt; | seniority &lt;chr&gt; |\n",
       "|---|---|---|---|---|---|---|---|---|---|---|---|---|---|---|---|---|---|---|---|---|\n",
       "| 1 | Sr Data Scientist | 3.1 | 1001 to 5000 employees | Nonprofit Organization | Insurance | Unknown / Non-Applicable | 137 | 171 | 154 |  NY | 27 | 0 | 0 | 0 | 0 | 1 | 0 | 0 | data scientist | senior |\n",
       "\n"
      ],
      "text/plain": [
       "  Job.Title         Rating Size                   Type.of.ownership     \n",
       "1 Sr Data Scientist 3.1    1001 to 5000 employees Nonprofit Organization\n",
       "  Sector    Revenue                  min_salary max_salary avg_salary job_state\n",
       "1 Insurance Unknown / Non-Applicable 137        171        154         NY      \n",
       "  company_age python excel hadoop spark aws tableau big_data job_simp      \n",
       "1 27          0      0     0      0     1   0       0        data scientist\n",
       "  seniority\n",
       "1 senior   "
      ]
     },
     "metadata": {},
     "output_type": "display_data"
    }
   ],
   "source": [
    "df <- df[df$Rating != 0.0, ]\n",
    "\n",
    "head(df, 1)"
   ]
  },
  {
   "cell_type": "code",
   "execution_count": 5,
   "id": "aa7a6763-869e-4844-8505-aa9a3430dc40",
   "metadata": {
    "vscode": {
     "languageId": "r"
    }
   },
   "outputs": [
    {
     "data": {
      "text/html": [
       "<style>\n",
       ".list-inline {list-style: none; margin:0; padding: 0}\n",
       ".list-inline>li {display: inline-block}\n",
       ".list-inline>li:not(:last-child)::after {content: \"\\00b7\"; padding: 0 .5ex}\n",
       "</style>\n",
       "<ol class=list-inline><li>610</li><li>20</li></ol>\n"
      ],
      "text/latex": [
       "\\begin{enumerate*}\n",
       "\\item 610\n",
       "\\item 20\n",
       "\\end{enumerate*}\n"
      ],
      "text/markdown": [
       "1. 610\n",
       "2. 20\n",
       "\n",
       "\n"
      ],
      "text/plain": [
       "[1] 610  20"
      ]
     },
     "metadata": {},
     "output_type": "display_data"
    }
   ],
   "source": [
    "dim(df)"
   ]
  },
  {
   "cell_type": "code",
   "execution_count": 6,
   "id": "cccf51ae-40da-4434-8526-e557409268d2",
   "metadata": {
    "vscode": {
     "languageId": "r"
    }
   },
   "outputs": [
    {
     "data": {
      "text/plain": [
       "  Job.Title             Rating          Size           Type.of.ownership \n",
       " Length:610         Min.   :2.000   Length:610         Length:610        \n",
       " Class :character   1st Qu.:3.500   Class :character   Class :character  \n",
       " Mode  :character   Median :3.800   Mode  :character   Mode  :character  \n",
       "                    Mean   :3.881                                        \n",
       "                    3rd Qu.:4.400                                        \n",
       "                    Max.   :5.000                                        \n",
       "    Sector            Revenue            min_salary       max_salary   \n",
       " Length:610         Length:610         Min.   : 31.00   Min.   : 56.0  \n",
       " Class :character   Class :character   1st Qu.: 79.00   1st Qu.:119.0  \n",
       " Mode  :character   Mode  :character   Median : 91.00   Median :132.0  \n",
       "                                       Mean   : 98.59   Mean   :147.2  \n",
       "                                       3rd Qu.:122.00   3rd Qu.:165.0  \n",
       "                                       Max.   :212.00   Max.   :331.0  \n",
       "   avg_salary     job_state          company_age         python      \n",
       " Min.   : 43.0   Length:610         Min.   : -1.00   Min.   :0.0000  \n",
       " 1st Qu.:103.0   Class :character   1st Qu.:  8.00   1st Qu.:0.0000  \n",
       " Median :114.0   Mode  :character   Median : 19.00   Median :1.0000  \n",
       " Mean   :122.7                      Mean   : 32.23   Mean   :0.7393  \n",
       " 3rd Qu.:136.0                      3rd Qu.: 39.00   3rd Qu.:1.0000  \n",
       " Max.   :271.0                      Max.   :239.00   Max.   :1.0000  \n",
       "     excel           hadoop           spark             aws        \n",
       " Min.   :0.000   Min.   :0.0000   Min.   :0.0000   Min.   :0.0000  \n",
       " 1st Qu.:0.000   1st Qu.:0.0000   1st Qu.:0.0000   1st Qu.:0.0000  \n",
       " Median :0.000   Median :0.0000   Median :0.0000   Median :0.0000  \n",
       " Mean   :0.441   Mean   :0.2197   Mean   :0.2738   Mean   :0.2475  \n",
       " 3rd Qu.:1.000   3rd Qu.:0.0000   3rd Qu.:1.0000   3rd Qu.:0.0000  \n",
       " Max.   :1.000   Max.   :1.0000   Max.   :1.0000   Max.   :1.0000  \n",
       "    tableau          big_data        job_simp          seniority        \n",
       " Min.   :0.0000   Min.   :0.0000   Length:610         Length:610        \n",
       " 1st Qu.:0.0000   1st Qu.:0.0000   Class :character   Class :character  \n",
       " Median :0.0000   Median :0.0000   Mode  :character   Mode  :character  \n",
       " Mean   :0.1885   Mean   :0.2115                                        \n",
       " 3rd Qu.:0.0000   3rd Qu.:0.0000                                        \n",
       " Max.   :1.0000   Max.   :1.0000                                        "
      ]
     },
     "metadata": {},
     "output_type": "display_data"
    }
   ],
   "source": [
    "summary(df)"
   ]
  },
  {
   "cell_type": "code",
   "execution_count": 7,
   "id": "10347468",
   "metadata": {
    "vscode": {
     "languageId": "r"
    }
   },
   "outputs": [
    {
     "data": {
      "image/png": "[encoded data removed]",
      "text/plain": [
       "Plot with title \"Salary Distribution\""
      ]
     },
     "metadata": {
      "image/png": {
       "height": 420,
       "width": 420
      }
     },
     "output_type": "display_data"
    }
   ],
   "source": [
    "hist(df$avg_salary, breaks=20, main=\"Salary Distribution\", xlab=\"Average Salary\", col=\"blue\")"
   ]
  },
  {
   "cell_type": "code",
   "execution_count": 8,
   "id": "7976c450",
   "metadata": {
    "vscode": {
     "languageId": "r"
    }
   },
   "outputs": [
    {
     "data": {
      "image/png": "[encoded data removed]",
      "text/plain": [
       "Plot with title \"Log-transformed Average Salary Distribution\""
      ]
     },
     "metadata": {
      "image/png": {
       "height": 420,
       "width": 420
      }
     },
     "output_type": "display_data"
    }
   ],
   "source": [
    "df$ln_avg_salary <- log(df$avg_salary)\n",
    "hist(df$ln_avg_salary, breaks=20, main=\"Log-transformed Average Salary Distribution\", xlab=\"Ln(Average Salary)\", col=\"blue\")"
   ]
  },
  {
   "cell_type": "code",
   "execution_count": 9,
   "id": "e794a1fa",
   "metadata": {
    "vscode": {
     "languageId": "r"
    }
   },
   "outputs": [
    {
     "name": "stdout",
     "output_type": "stream",
     "text": [
      "'data.frame':\t610 obs. of  21 variables:\n",
      " $ Job.Title        : chr  \"Sr Data Scientist\" \"Data Scientist\" \"Data Scientist\" \"Data Scientist\" ...\n",
      " $ Rating           : num  3.1 4.2 3.8 3.5 2.9 4.2 3.9 3.5 4.4 3.6 ...\n",
      " $ Size             : chr  \"1001 to 5000 employees\" \"5001 to 10000 employees\" \"1001 to 5000 employees\" \"501 to 1000 employees\" ...\n",
      " $ Type.of.ownership: chr  \"Nonprofit Organization\" \"Company - Public\" \"Private Practice / Firm\" \"Company - Public\" ...\n",
      " $ Sector           : chr  \"Insurance\" \"Business Services\" \"Business Services\" \"Manufacturing\" ...\n",
      " $ Revenue          : chr  \"Unknown / Non-Applicable\" \"$1 to $2 billion (USD)\" \"$100 to $500 million (USD)\" \"$100 to $500 million (USD)\" ...\n",
      " $ min_salary       : int  137 137 137 137 137 137 137 137 137 137 ...\n",
      " $ max_salary       : int  171 171 171 171 171 171 171 171 171 171 ...\n",
      " $ avg_salary       : int  154 154 154 154 154 154 154 154 154 154 ...\n",
      " $ job_state        : chr  \" NY\" \" VA\" \" MA\" \" MA\" ...\n",
      " $ company_age      : int  27 52 39 20 22 10 24 30 37 6 ...\n",
      " $ python           : int  0 0 1 1 1 1 1 1 0 1 ...\n",
      " $ excel            : int  0 0 1 1 1 1 0 0 0 0 ...\n",
      " $ hadoop           : int  0 1 0 0 0 1 0 0 0 0 ...\n",
      " $ spark            : int  0 0 0 0 0 1 0 0 0 0 ...\n",
      " $ aws              : int  1 0 1 1 0 0 0 0 0 0 ...\n",
      " $ tableau          : int  0 0 0 0 0 0 0 0 0 0 ...\n",
      " $ big_data         : int  0 1 0 0 0 0 0 0 0 0 ...\n",
      " $ job_simp         : chr  \"data scientist\" \"data scientist\" \"data scientist\" \"data scientist\" ...\n",
      " $ seniority        : chr  \"senior\" \"na\" \"na\" \"na\" ...\n",
      " $ ln_avg_salary    : num  5.04 5.04 5.04 5.04 5.04 ...\n"
     ]
    }
   ],
   "source": [
    "str(df)\n"
   ]
  },
  {
   "cell_type": "markdown",
   "id": "81d9fdce",
   "metadata": {},
   "source": [
    "# Transforming Size to avg_employees"
   ]
  },
  {
   "cell_type": "code",
   "execution_count": 10,
   "id": "ce1ef797",
   "metadata": {
    "vscode": {
     "languageId": "r"
    }
   },
   "outputs": [
    {
     "name": "stderr",
     "output_type": "stream",
     "text": [
      "Warning message in eval(expr, envir, enclos):\n",
      "\"NAs introduced by coercion\"\n",
      "Warning message in eval(expr, envir, enclos):\n",
      "\"NAs introduced by coercion\"\n"
     ]
    }
   ],
   "source": [
    "# Extract minimum and maximum employee numbers\n",
    "df$min_employees <- as.numeric(gsub(\" .*\", \"\", df$Size))\n",
    "df$max_employees <- as.numeric(gsub(\".*to \", \"\", gsub(\" employees\", \"\", df$Size)))\n",
    "\n",
    "# Replace NA values which might occur due to parsing inconsistencies or special cases like \"Unknown\"\n",
    "df$min_employees[is.na(df$min_employees)] <- 0\n",
    "df$max_employees[is.na(df$max_employees)] <- 0\n",
    "\n",
    "df$avg_employees <- (df$min_employees + df$max_employees) / 2"
   ]
  },
  {
   "cell_type": "code",
   "execution_count": 11,
   "id": "adb8df9f",
   "metadata": {
    "vscode": {
     "languageId": "r"
    }
   },
   "outputs": [
    {
     "data": {
      "text/html": [
       "<table class=\"dataframe\">\n",
       "<caption>A data.frame: 1 × 24</caption>\n",
       "<thead>\n",
       "\t<tr><th></th><th scope=col>Job.Title</th><th scope=col>Rating</th><th scope=col>Size</th><th scope=col>Type.of.ownership</th><th scope=col>Sector</th><th scope=col>Revenue</th><th scope=col>min_salary</th><th scope=col>max_salary</th><th scope=col>avg_salary</th><th scope=col>job_state</th><th scope=col>⋯</th><th scope=col>spark</th><th scope=col>aws</th><th scope=col>tableau</th><th scope=col>big_data</th><th scope=col>job_simp</th><th scope=col>seniority</th><th scope=col>ln_avg_salary</th><th scope=col>min_employees</th><th scope=col>max_employees</th><th scope=col>avg_employees</th></tr>\n",
       "\t<tr><th></th><th scope=col>&lt;chr&gt;</th><th scope=col>&lt;dbl&gt;</th><th scope=col>&lt;chr&gt;</th><th scope=col>&lt;chr&gt;</th><th scope=col>&lt;chr&gt;</th><th scope=col>&lt;chr&gt;</th><th scope=col>&lt;int&gt;</th><th scope=col>&lt;int&gt;</th><th scope=col>&lt;int&gt;</th><th scope=col>&lt;chr&gt;</th><th scope=col>⋯</th><th scope=col>&lt;int&gt;</th><th scope=col>&lt;int&gt;</th><th scope=col>&lt;int&gt;</th><th scope=col>&lt;int&gt;</th><th scope=col>&lt;chr&gt;</th><th scope=col>&lt;chr&gt;</th><th scope=col>&lt;dbl&gt;</th><th scope=col>&lt;dbl&gt;</th><th scope=col>&lt;dbl&gt;</th><th scope=col>&lt;dbl&gt;</th></tr>\n",
       "</thead>\n",
       "<tbody>\n",
       "\t<tr><th scope=row>1</th><td>Sr Data Scientist</td><td>3.1</td><td>1001 to 5000 employees</td><td>Nonprofit Organization</td><td>Insurance</td><td>Unknown / Non-Applicable</td><td>137</td><td>171</td><td>154</td><td> NY</td><td>⋯</td><td>0</td><td>1</td><td>0</td><td>0</td><td>data scientist</td><td>senior</td><td>5.036953</td><td>1001</td><td>5000</td><td>3000.5</td></tr>\n",
       "</tbody>\n",
       "</table>\n"
      ],
      "text/latex": [
       "A data.frame: 1 × 24\n",
       "\\begin{tabular}{r|lllllllllllllllllllll}\n",
       "  & Job.Title & Rating & Size & Type.of.ownership & Sector & Revenue & min\\_salary & max\\_salary & avg\\_salary & job\\_state & ⋯ & spark & aws & tableau & big\\_data & job\\_simp & seniority & ln\\_avg\\_salary & min\\_employees & max\\_employees & avg\\_employees\\\\\n",
       "  & <chr> & <dbl> & <chr> & <chr> & <chr> & <chr> & <int> & <int> & <int> & <chr> & ⋯ & <int> & <int> & <int> & <int> & <chr> & <chr> & <dbl> & <dbl> & <dbl> & <dbl>\\\\\n",
       "\\hline\n",
       "\t1 & Sr Data Scientist & 3.1 & 1001 to 5000 employees & Nonprofit Organization & Insurance & Unknown / Non-Applicable & 137 & 171 & 154 &  NY & ⋯ & 0 & 1 & 0 & 0 & data scientist & senior & 5.036953 & 1001 & 5000 & 3000.5\\\\\n",
       "\\end{tabular}\n"
      ],
      "text/markdown": [
       "\n",
       "A data.frame: 1 × 24\n",
       "\n",
       "| <!--/--> | Job.Title &lt;chr&gt; | Rating &lt;dbl&gt; | Size &lt;chr&gt; | Type.of.ownership &lt;chr&gt; | Sector &lt;chr&gt; | Revenue &lt;chr&gt; | min_salary &lt;int&gt; | max_salary &lt;int&gt; | avg_salary &lt;int&gt; | job_state &lt;chr&gt; | ⋯ ⋯ | spark &lt;int&gt; | aws &lt;int&gt; | tableau &lt;int&gt; | big_data &lt;int&gt; | job_simp &lt;chr&gt; | seniority &lt;chr&gt; | ln_avg_salary &lt;dbl&gt; | min_employees &lt;dbl&gt; | max_employees &lt;dbl&gt; | avg_employees &lt;dbl&gt; |\n",
       "|---|---|---|---|---|---|---|---|---|---|---|---|---|---|---|---|---|---|---|---|---|---|\n",
       "| 1 | Sr Data Scientist | 3.1 | 1001 to 5000 employees | Nonprofit Organization | Insurance | Unknown / Non-Applicable | 137 | 171 | 154 |  NY | ⋯ | 0 | 1 | 0 | 0 | data scientist | senior | 5.036953 | 1001 | 5000 | 3000.5 |\n",
       "\n"
      ],
      "text/plain": [
       "  Job.Title         Rating Size                   Type.of.ownership     \n",
       "1 Sr Data Scientist 3.1    1001 to 5000 employees Nonprofit Organization\n",
       "  Sector    Revenue                  min_salary max_salary avg_salary job_state\n",
       "1 Insurance Unknown / Non-Applicable 137        171        154         NY      \n",
       "  ⋯ spark aws tableau big_data job_simp       seniority ln_avg_salary\n",
       "1 ⋯ 0     1   0       0        data scientist senior    5.036953     \n",
       "  min_employees max_employees avg_employees\n",
       "1 1001          5000          3000.5       "
      ]
     },
     "metadata": {},
     "output_type": "display_data"
    }
   ],
   "source": [
    "df$avg_employees[df$avg_employees == 0] <- 10000\n",
    "\n",
    "head(df, 1)"
   ]
  },
  {
   "cell_type": "markdown",
   "id": "bf830657",
   "metadata": {},
   "source": [
    "# One Hot Encoding"
   ]
  },
  {
   "cell_type": "code",
   "execution_count": 12,
   "id": "eae06d1c",
   "metadata": {
    "vscode": {
     "languageId": "r"
    }
   },
   "outputs": [
    {
     "data": {
      "text/html": [
       "<style>\n",
       ".list-inline {list-style: none; margin:0; padding: 0}\n",
       ".list-inline>li {display: inline-block}\n",
       ".list-inline>li:not(:last-child)::after {content: \"\\00b7\"; padding: 0 .5ex}\n",
       "</style>\n",
       "<ol class=list-inline><li>'Nonprofit Organization'</li><li>'Company - Public'</li><li>'Private Practice / Firm'</li><li>'Company - Private'</li><li>'Government'</li><li>'Subsidiary or Business Segment'</li><li>'Other Organization'</li><li>'Unknown'</li><li>'Hospital'</li><li>'Self-employed'</li><li>'College / University'</li><li>'Contract'</li></ol>\n"
      ],
      "text/latex": [
       "\\begin{enumerate*}\n",
       "\\item 'Nonprofit Organization'\n",
       "\\item 'Company - Public'\n",
       "\\item 'Private Practice / Firm'\n",
       "\\item 'Company - Private'\n",
       "\\item 'Government'\n",
       "\\item 'Subsidiary or Business Segment'\n",
       "\\item 'Other Organization'\n",
       "\\item 'Unknown'\n",
       "\\item 'Hospital'\n",
       "\\item 'Self-employed'\n",
       "\\item 'College / University'\n",
       "\\item 'Contract'\n",
       "\\end{enumerate*}\n"
      ],
      "text/markdown": [
       "1. 'Nonprofit Organization'\n",
       "2. 'Company - Public'\n",
       "3. 'Private Practice / Firm'\n",
       "4. 'Company - Private'\n",
       "5. 'Government'\n",
       "6. 'Subsidiary or Business Segment'\n",
       "7. 'Other Organization'\n",
       "8. 'Unknown'\n",
       "9. 'Hospital'\n",
       "10. 'Self-employed'\n",
       "11. 'College / University'\n",
       "12. 'Contract'\n",
       "\n",
       "\n"
      ],
      "text/plain": [
       " [1] \"Nonprofit Organization\"         \"Company - Public\"              \n",
       " [3] \"Private Practice / Firm\"        \"Company - Private\"             \n",
       " [5] \"Government\"                     \"Subsidiary or Business Segment\"\n",
       " [7] \"Other Organization\"             \"Unknown\"                       \n",
       " [9] \"Hospital\"                       \"Self-employed\"                 \n",
       "[11] \"College / University\"           \"Contract\"                      "
      ]
     },
     "metadata": {},
     "output_type": "display_data"
    },
    {
     "data": {
      "text/html": [
       "<style>\n",
       ".list-inline {list-style: none; margin:0; padding: 0}\n",
       ".list-inline>li {display: inline-block}\n",
       ".list-inline>li:not(:last-child)::after {content: \"\\00b7\"; padding: 0 .5ex}\n",
       "</style>\n",
       "<ol class=list-inline><li>'Unknown / Non-Applicable'</li><li>'$1 to $2 billion (USD)'</li><li>'$100 to $500 million (USD)'</li><li>'$10+ billion (USD)'</li><li>'$2 to $5 billion (USD)'</li><li>'$500 million to $1 billion (USD)'</li><li>'$5 to $10 billion (USD)'</li><li>'$10 to $25 million (USD)'</li><li>'$25 to $50 million (USD)'</li><li>'$50 to $100 million (USD)'</li><li>'$1 to $5 million (USD)'</li><li>'$5 to $10 million (USD)'</li><li>'Less than $1 million (USD)'</li></ol>\n"
      ],
      "text/latex": [
       "\\begin{enumerate*}\n",
       "\\item 'Unknown / Non-Applicable'\n",
       "\\item '\\$1 to \\$2 billion (USD)'\n",
       "\\item '\\$100 to \\$500 million (USD)'\n",
       "\\item '\\$10+ billion (USD)'\n",
       "\\item '\\$2 to \\$5 billion (USD)'\n",
       "\\item '\\$500 million to \\$1 billion (USD)'\n",
       "\\item '\\$5 to \\$10 billion (USD)'\n",
       "\\item '\\$10 to \\$25 million (USD)'\n",
       "\\item '\\$25 to \\$50 million (USD)'\n",
       "\\item '\\$50 to \\$100 million (USD)'\n",
       "\\item '\\$1 to \\$5 million (USD)'\n",
       "\\item '\\$5 to \\$10 million (USD)'\n",
       "\\item 'Less than \\$1 million (USD)'\n",
       "\\end{enumerate*}\n"
      ],
      "text/markdown": [
       "1. 'Unknown / Non-Applicable'\n",
       "2. '$1 to $2 billion (USD)'\n",
       "3. '$100 to $500 million (USD)'\n",
       "4. '$10+ billion (USD)'\n",
       "5. '$2 to $5 billion (USD)'\n",
       "6. '$500 million to $1 billion (USD)'\n",
       "7. '$5 to $10 billion (USD)'\n",
       "8. '$10 to $25 million (USD)'\n",
       "9. '$25 to $50 million (USD)'\n",
       "10. '$50 to $100 million (USD)'\n",
       "11. '$1 to $5 million (USD)'\n",
       "12. '$5 to $10 million (USD)'\n",
       "13. 'Less than $1 million (USD)'\n",
       "\n",
       "\n"
      ],
      "text/plain": [
       " [1] \"Unknown / Non-Applicable\"         \"$1 to $2 billion (USD)\"          \n",
       " [3] \"$100 to $500 million (USD)\"       \"$10+ billion (USD)\"              \n",
       " [5] \"$2 to $5 billion (USD)\"           \"$500 million to $1 billion (USD)\"\n",
       " [7] \"$5 to $10 billion (USD)\"          \"$10 to $25 million (USD)\"        \n",
       " [9] \"$25 to $50 million (USD)\"         \"$50 to $100 million (USD)\"       \n",
       "[11] \"$1 to $5 million (USD)\"           \"$5 to $10 million (USD)\"         \n",
       "[13] \"Less than $1 million (USD)\"      "
      ]
     },
     "metadata": {},
     "output_type": "display_data"
    }
   ],
   "source": [
    "unique(df$Type.of.ownership)\n",
    "unique(df$Revenue)"
   ]
  },
  {
   "cell_type": "code",
   "execution_count": 13,
   "id": "cc45f4df",
   "metadata": {
    "vscode": {
     "languageId": "r"
    }
   },
   "outputs": [],
   "source": [
    "columns_to_encode <- c(\"Type.of.ownership\", \"Sector\", \"Revenue\", \"job_state\", \"job_simp\", \"seniority\")\n",
    "\n",
    "\n",
    "for (col in columns_to_encode) {\n",
    "  new_col_name <- paste0(col, \"_encoded\") # Creating a new column name for the encoded version\n",
    "  df[[new_col_name]] <- as.integer(factor(df[[col]])) # Assigning encoded values to the new column\n",
    "}\n",
    "\n",
    "# # One-hot encode the 'Type.of.ownership' column as an example\n",
    "# df <- cbind(df, model.matrix(~ Type.of.ownership - 1, data = df))\n",
    "# df <- cbind(df, model.matrix(~ Sector - 1, data = df))\n",
    "# df <- cbind(df, model.matrix(~ Revenue - 1, data = df))\n",
    "# df <- cbind(df, model.matrix(~ job_state - 1, data = df))\n",
    "# df <- cbind(df, model.matrix(~ job_simp - 1, data = df))\n",
    "# df <- cbind(df, model.matrix(~ seniority - 1, data = df))"
   ]
  },
  {
   "cell_type": "markdown",
   "id": "fe5cf7b5",
   "metadata": {},
   "source": [
    "# Choosing Numeric Values"
   ]
  },
  {
   "cell_type": "code",
   "execution_count": 14,
   "id": "2e3ccc0f",
   "metadata": {
    "vscode": {
     "languageId": "r"
    }
   },
   "outputs": [
    {
     "data": {
      "text/html": [
       "<table class=\"dataframe\">\n",
       "<caption>A data.frame: 6 × 12</caption>\n",
       "<thead>\n",
       "\t<tr><th></th><th scope=col>Rating</th><th scope=col>avg_salary</th><th scope=col>company_age</th><th scope=col>ln_avg_salary</th><th scope=col>avg_employees</th><th scope=col>Type.of.ownership_encoded</th><th scope=col>Sector_encoded</th><th scope=col>Revenue_encoded</th><th scope=col>job_state_encoded</th><th scope=col>job_simp_encoded</th><th scope=col>seniority_encoded</th><th scope=col>skills_decimal</th></tr>\n",
       "\t<tr><th></th><th scope=col>&lt;dbl&gt;</th><th scope=col>&lt;int&gt;</th><th scope=col>&lt;int&gt;</th><th scope=col>&lt;dbl&gt;</th><th scope=col>&lt;dbl&gt;</th><th scope=col>&lt;int&gt;</th><th scope=col>&lt;int&gt;</th><th scope=col>&lt;int&gt;</th><th scope=col>&lt;int&gt;</th><th scope=col>&lt;int&gt;</th><th scope=col>&lt;int&gt;</th><th scope=col>&lt;dbl&gt;</th></tr>\n",
       "</thead>\n",
       "<tbody>\n",
       "\t<tr><th scope=row>1</th><td>3.1</td><td>154</td><td>27</td><td>5.036953</td><td>3000.5</td><td>7</td><td>14</td><td>13</td><td>25</td><td>3</td><td>3</td><td>0.1428571</td></tr>\n",
       "\t<tr><th scope=row>2</th><td>4.2</td><td>154</td><td>52</td><td>5.036953</td><td>7500.5</td><td>3</td><td> 6</td><td> 1</td><td>35</td><td>3</td><td>2</td><td>0.2857143</td></tr>\n",
       "\t<tr><th scope=row>3</th><td>3.8</td><td>154</td><td>39</td><td>5.036953</td><td>3000.5</td><td>9</td><td> 6</td><td> 5</td><td>15</td><td>3</td><td>2</td><td>0.4285714</td></tr>\n",
       "\t<tr><th scope=row>4</th><td>3.5</td><td>154</td><td>20</td><td>5.036953</td><td> 750.5</td><td>3</td><td>15</td><td> 5</td><td>15</td><td>3</td><td>2</td><td>0.4285714</td></tr>\n",
       "\t<tr><th scope=row>5</th><td>2.9</td><td>154</td><td>22</td><td>5.036953</td><td> 125.5</td><td>2</td><td> 6</td><td>13</td><td>25</td><td>3</td><td>2</td><td>0.2857143</td></tr>\n",
       "\t<tr><th scope=row>6</th><td>4.2</td><td>154</td><td>10</td><td>5.036953</td><td> 125.5</td><td>2</td><td>13</td><td>13</td><td> 3</td><td>3</td><td>2</td><td>0.5714286</td></tr>\n",
       "</tbody>\n",
       "</table>\n"
      ],
      "text/latex": [
       "A data.frame: 6 × 12\n",
       "\\begin{tabular}{r|llllllllllll}\n",
       "  & Rating & avg\\_salary & company\\_age & ln\\_avg\\_salary & avg\\_employees & Type.of.ownership\\_encoded & Sector\\_encoded & Revenue\\_encoded & job\\_state\\_encoded & job\\_simp\\_encoded & seniority\\_encoded & skills\\_decimal\\\\\n",
       "  & <dbl> & <int> & <int> & <dbl> & <dbl> & <int> & <int> & <int> & <int> & <int> & <int> & <dbl>\\\\\n",
       "\\hline\n",
       "\t1 & 3.1 & 154 & 27 & 5.036953 & 3000.5 & 7 & 14 & 13 & 25 & 3 & 3 & 0.1428571\\\\\n",
       "\t2 & 4.2 & 154 & 52 & 5.036953 & 7500.5 & 3 &  6 &  1 & 35 & 3 & 2 & 0.2857143\\\\\n",
       "\t3 & 3.8 & 154 & 39 & 5.036953 & 3000.5 & 9 &  6 &  5 & 15 & 3 & 2 & 0.4285714\\\\\n",
       "\t4 & 3.5 & 154 & 20 & 5.036953 &  750.5 & 3 & 15 &  5 & 15 & 3 & 2 & 0.4285714\\\\\n",
       "\t5 & 2.9 & 154 & 22 & 5.036953 &  125.5 & 2 &  6 & 13 & 25 & 3 & 2 & 0.2857143\\\\\n",
       "\t6 & 4.2 & 154 & 10 & 5.036953 &  125.5 & 2 & 13 & 13 &  3 & 3 & 2 & 0.5714286\\\\\n",
       "\\end{tabular}\n"
      ],
      "text/markdown": [
       "\n",
       "A data.frame: 6 × 12\n",
       "\n",
       "| <!--/--> | Rating &lt;dbl&gt; | avg_salary &lt;int&gt; | company_age &lt;int&gt; | ln_avg_salary &lt;dbl&gt; | avg_employees &lt;dbl&gt; | Type.of.ownership_encoded &lt;int&gt; | Sector_encoded &lt;int&gt; | Revenue_encoded &lt;int&gt; | job_state_encoded &lt;int&gt; | job_simp_encoded &lt;int&gt; | seniority_encoded &lt;int&gt; | skills_decimal &lt;dbl&gt; |\n",
       "|---|---|---|---|---|---|---|---|---|---|---|---|---|\n",
       "| 1 | 3.1 | 154 | 27 | 5.036953 | 3000.5 | 7 | 14 | 13 | 25 | 3 | 3 | 0.1428571 |\n",
       "| 2 | 4.2 | 154 | 52 | 5.036953 | 7500.5 | 3 |  6 |  1 | 35 | 3 | 2 | 0.2857143 |\n",
       "| 3 | 3.8 | 154 | 39 | 5.036953 | 3000.5 | 9 |  6 |  5 | 15 | 3 | 2 | 0.4285714 |\n",
       "| 4 | 3.5 | 154 | 20 | 5.036953 |  750.5 | 3 | 15 |  5 | 15 | 3 | 2 | 0.4285714 |\n",
       "| 5 | 2.9 | 154 | 22 | 5.036953 |  125.5 | 2 |  6 | 13 | 25 | 3 | 2 | 0.2857143 |\n",
       "| 6 | 4.2 | 154 | 10 | 5.036953 |  125.5 | 2 | 13 | 13 |  3 | 3 | 2 | 0.5714286 |\n",
       "\n"
      ],
      "text/plain": [
       "  Rating avg_salary company_age ln_avg_salary avg_employees\n",
       "1 3.1    154        27          5.036953      3000.5       \n",
       "2 4.2    154        52          5.036953      7500.5       \n",
       "3 3.8    154        39          5.036953      3000.5       \n",
       "4 3.5    154        20          5.036953       750.5       \n",
       "5 2.9    154        22          5.036953       125.5       \n",
       "6 4.2    154        10          5.036953       125.5       \n",
       "  Type.of.ownership_encoded Sector_encoded Revenue_encoded job_state_encoded\n",
       "1 7                         14             13              25               \n",
       "2 3                          6              1              35               \n",
       "3 9                          6              5              15               \n",
       "4 3                         15              5              15               \n",
       "5 2                          6             13              25               \n",
       "6 2                         13             13               3               \n",
       "  job_simp_encoded seniority_encoded skills_decimal\n",
       "1 3                3                 0.1428571     \n",
       "2 3                2                 0.2857143     \n",
       "3 3                2                 0.4285714     \n",
       "4 3                2                 0.4285714     \n",
       "5 3                2                 0.2857143     \n",
       "6 3                2                 0.5714286     "
      ]
     },
     "metadata": {},
     "output_type": "display_data"
    }
   ],
   "source": [
    "numeric_df <- df[sapply(df, is.numeric)]\n",
    "\n",
    "# Specify the skill columns\n",
    "skill_columns <- c(\"python\", \"excel\", \"hadoop\", \"spark\", \"aws\", \"tableau\", \"big_data\")\n",
    "\n",
    "# Calculate the sum of skills for each row\n",
    "numeric_df$skills_sum <- rowSums(numeric_df[, skill_columns])\n",
    "\n",
    "# Calculate the decimal of skills for each row (number of skills possessed / total number of skills)\n",
    "total_skills <- length(skill_columns)\n",
    "numeric_df$skills_decimal <- numeric_df$skills_sum / total_skills\n",
    "\n",
    "numeric_df <- numeric_df %>% \n",
    "  select(-python, -excel, -hadoop, -spark, -aws, -tableau, -big_data, -min_salary, -max_salary, -skills_sum,-min_employees, -max_employees)\n",
    "\n",
    "# View the modified dataframe\n",
    "head(numeric_df)"
   ]
  },
  {
   "cell_type": "code",
   "execution_count": 18,
   "id": "851e2ee6",
   "metadata": {
    "vscode": {
     "languageId": "r"
    }
   },
   "outputs": [
    {
     "name": "stderr",
     "output_type": "stream",
     "text": [
      "Warning message:\n",
      "\"package 'reshape2' was built under R version 4.3.3\"\n"
     ]
    },
    {
     "data": {
      "image/png": "[encoded data removed]",
      "text/plain": [
       "plot without title"
      ]
     },
     "metadata": {
      "image/png": {
       "height": 420,
       "width": 420
      }
     },
     "output_type": "display_data"
    }
   ],
   "source": [
    "library(ggplot2)\n",
    "library(reshape2)\n",
    "\n",
    "cor_matrix <- cor(numeric_df, use = \"pairwise.complete.obs\")\n",
    "cor_long <- melt(cor_matrix)\n",
    "\n",
    "ggplot(data = cor_long, aes(x = Var1, y = Var2, fill = value)) +\n",
    "  geom_tile() + # This creates the heatmap tiles\n",
    "  geom_text(aes(label = sprintf(\"%.2f\", value)), color = \"black\", size = 3) + # Adds labels\n",
    "  scale_fill_gradient2(low = \"blue\", high = \"red\", mid = \"white\", midpoint = 0, limit = c(-1, 1), space = \"Lab\", name = \"Correlation\") +\n",
    "  theme_minimal() + \n",
    "  theme(axis.text.x = element_text(angle = 45, vjust = 1, hjust = 1),\n",
    "        axis.title = element_blank()) # Improve appearance"
   ]
  },
  {
   "cell_type": "markdown",
   "id": "5660b7af",
   "metadata": {},
   "source": [
    "# Modelling using XGBoost"
   ]
  },
  {
   "cell_type": "code",
   "execution_count": 19,
   "id": "084bbbfa",
   "metadata": {
    "vscode": {
     "languageId": "r"
    }
   },
   "outputs": [
    {
     "name": "stderr",
     "output_type": "stream",
     "text": [
      "Installing package into 'C:/Users/lebro/AppData/Local/R/win-library/4.3'\n",
      "(as 'lib' is unspecified)\n",
      "\n"
     ]
    },
    {
     "name": "stdout",
     "output_type": "stream",
     "text": [
      "package 'xgboost' successfully unpacked and MD5 sums checked\n",
      "\n",
      "The downloaded binary packages are in\n",
      "\tC:\\Users\\lebro\\AppData\\Local\\Temp\\RtmpSkaEIw\\downloaded_packages\n"
     ]
    },
    {
     "name": "stderr",
     "output_type": "stream",
     "text": [
      "Warning message:\n",
      "\"package 'xgboost' was built under R version 4.3.3\"\n",
      "\n",
      "Attaching package: 'xgboost'\n",
      "\n",
      "\n",
      "The following object is masked from 'package:dplyr':\n",
      "\n",
      "    slice\n",
      "\n",
      "\n"
     ]
    },
    {
     "name": "stdout",
     "output_type": "stream",
     "text": [
      "[1]\ttrain-rmse:115.289286\ttest-rmse:119.623213 \n",
      "Multiple eval metrics are present. Will use test_rmse for early stopping.\n",
      "Will train until test_rmse hasn't improved in 10 rounds.\n",
      "\n",
      "[11]\ttrain-rmse:45.046990\ttest-rmse:48.223800 \n",
      "[21]\ttrain-rmse:19.060295\ttest-rmse:21.244522 \n",
      "[31]\ttrain-rmse:10.531716\ttest-rmse:13.052346 \n",
      "[41]\ttrain-rmse:6.437939\ttest-rmse:9.123074 \n",
      "[51]\ttrain-rmse:5.187156\ttest-rmse:8.570250 \n",
      "[61]\ttrain-rmse:3.883109\ttest-rmse:7.582594 \n",
      "[71]\ttrain-rmse:2.356881\ttest-rmse:5.871046 \n",
      "[81]\ttrain-rmse:1.853574\ttest-rmse:5.384391 \n",
      "[91]\ttrain-rmse:1.634382\ttest-rmse:5.211107 \n",
      "[100]\ttrain-rmse:1.422963\ttest-rmse:4.996173 \n",
      "RMSE on test set: 4.996173 \n"
     ]
    }
   ],
   "source": [
    "install.packages(\"xgboost\")\n",
    "library(xgboost)\n",
    "\n",
    "# Splitting the data into training and testing sets\n",
    "set.seed(123)  # For reproducibility\n",
    "train_indices <- sample(1:nrow(numeric_df), size = floor(0.8 * nrow(numeric_df)))\n",
    "\n",
    "train_data <- numeric_df[train_indices, ]\n",
    "test_data <- numeric_df[-train_indices, ]\n",
    "\n",
    "# Creating DMatrix objects\n",
    "dtrain <- xgb.DMatrix(data = as.matrix(train_data[,-which(names(train_data) == \"avg_salary\")]), label = train_data$avg_salary)\n",
    "dtest <- xgb.DMatrix(data = as.matrix(test_data[,-which(names(test_data) == \"avg_salary\")]), label = test_data$avg_salary)\n",
    "\n",
    "params <- list(\n",
    "  booster = \"gbtree\",\n",
    "  objective = \"reg:squarederror\",\n",
    "  eta = 0.1,\n",
    "  max_depth = 6,\n",
    "  min_child_weight = 1,\n",
    "  subsample = 0.5,\n",
    "  colsample_bytree = 0.5\n",
    ")\n",
    "\n",
    "nrounds <- 100  # Number of boosting rounds\n",
    "\n",
    "xgb_model <- xgb.train(\n",
    "  params = params,\n",
    "  data = dtrain,\n",
    "  nrounds = nrounds,\n",
    "  watchlist = list(train = dtrain, test = dtest),\n",
    "  print_every_n = 10,\n",
    "  early_stopping_rounds = 10,\n",
    "  maximize = FALSE\n",
    ")\n",
    "\n",
    "# Making predictions\n",
    "preds <- predict(xgb_model, dtest)\n",
    "\n",
    "# Evaluating the model with RMSE\n",
    "true_values <- test_data$avg_salary\n",
    "rmse <- sqrt(mean((preds - true_values)^2))\n",
    "cat(\"RMSE on test set:\", rmse, \"\\n\")"
   ]
  },
  {
   "cell_type": "markdown",
   "id": "981b34ec",
   "metadata": {},
   "source": [
    "Now, we will try to make sense of the model using SHAP"
   ]
  },
  {
   "cell_type": "code",
   "execution_count": 21,
   "id": "db217d11",
   "metadata": {
    "vscode": {
     "languageId": "r"
    }
   },
   "outputs": [
    {
     "name": "stderr",
     "output_type": "stream",
     "text": [
      "Warning message:\n",
      "\"package 'DALEX' is in use and will not be installed\"\n"
     ]
    },
    {
     "name": "stdout",
     "output_type": "stream",
     "text": [
      "Preparation of a new explainer is initiated\n",
      "  -> model label       :  xgb.Booster  ( \u001b[33m default \u001b[39m )\n",
      "  -> data              :  488  rows  11  cols \n",
      "  -> target variable   :  488  values \n",
      "  -> predict function  :  yhat.default will be used ( \u001b[33m default \u001b[39m )\n",
      "  -> predicted values  :  No value for predict function target column. ( \u001b[33m default \u001b[39m )\n",
      "  -> model_info        :  package Model of class: xgb.Booster package unrecognized , ver. Unknown , task regression ( \u001b[33m default \u001b[39m ) \n",
      "  -> predicted values  :  numerical, min =  41.47111 , mean =  121.9481 , max =  272.6325  \n",
      "  -> residual function :  difference between y and yhat ( \u001b[33m default \u001b[39m )\n",
      "  -> residuals         :  numerical, min =  -7.837631 , mean =  0.004741239 , max =  6.363953  \n",
      " \u001b[32m A new explainer has been created! \u001b[39m \n"
     ]
    },
    {
     "data": {
      "image/png": "[encoded data removed]",
      "text/plain": [
       "plot without title"
      ]
     },
     "metadata": {
      "image/png": {
       "height": 420,
       "width": 420
      }
     },
     "output_type": "display_data"
    }
   ],
   "source": [
    "install.packages(\"DALEX\")\n",
    "library(DALEX)\n",
    "\n",
    "# Compute SHAP values (this might take some time for large datasets or complex models)\n",
    "shap_values <- predict(xgb_model, dtest, predcontrib = TRUE)\n",
    "\n",
    "# Wrap your model in an explainer\n",
    "explainer <- DALEX::explain(model = xgb_model, \n",
    "                            data = as.matrix(train_data[,-which(names(train_data) == \"avg_salary\")]), \n",
    "                            y = train_data$avg_salary)\n",
    "\n",
    "# Use the variable_dropout() function to assess feature importance\n",
    "vi <- model_parts(explainer, type = \"difference\")\n",
    "\n",
    "# Plotting feature importance\n",
    "plot(vi)\n"
   ]
  }
 ],
 "metadata": {
  "kernelspec": {
   "display_name": "R",
   "language": "R",
   "name": "ir"
  },
  "language_info": {
   "codemirror_mode": "r",
   "file_extension": ".r",
   "mimetype": "text/x-r-source",
   "name": "R",
   "pygments_lexer": "r",
   "version": "4.3.2"
  }
 },
 "nbformat": 4,
 "nbformat_minor": 5
}
